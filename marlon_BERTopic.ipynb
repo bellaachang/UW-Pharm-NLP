{
  "nbformat": 4,
  "nbformat_minor": 0,
  "metadata": {
    "colab": {
      "provenance": []
    },
    "kernelspec": {
      "name": "python3",
      "display_name": "Python 3"
    },
    "accelerator": "GPU",
    "gpuClass": "standard",
    "widgets": {
      "application/vnd.jupyter.widget-state+json": {
        "ae74d9c5e8b3485e9fd747761b8b1723": {
          "model_module": "@jupyter-widgets/controls",
          "model_name": "HBoxModel",
          "model_module_version": "1.5.0",
          "state": {
            "_dom_classes": [],
            "_model_module": "@jupyter-widgets/controls",
            "_model_module_version": "1.5.0",
            "_model_name": "HBoxModel",
            "_view_count": null,
            "_view_module": "@jupyter-widgets/controls",
            "_view_module_version": "1.5.0",
            "_view_name": "HBoxView",
            "box_style": "",
            "children": [
              "IPY_MODEL_80f10b7a8b764dc4a7b1aa58e729adf0",
              "IPY_MODEL_3018a98517ab4a2bad8b471f6f608a03",
              "IPY_MODEL_6bc23a2cb4e6406fab4fca2f4dd44b70"
            ],
            "layout": "IPY_MODEL_0ada235bdc0a4de4b007b2232674cff6"
          }
        },
        "80f10b7a8b764dc4a7b1aa58e729adf0": {
          "model_module": "@jupyter-widgets/controls",
          "model_name": "HTMLModel",
          "model_module_version": "1.5.0",
          "state": {
            "_dom_classes": [],
            "_model_module": "@jupyter-widgets/controls",
            "_model_module_version": "1.5.0",
            "_model_name": "HTMLModel",
            "_view_count": null,
            "_view_module": "@jupyter-widgets/controls",
            "_view_module_version": "1.5.0",
            "_view_name": "HTMLView",
            "description": "",
            "description_tooltip": null,
            "layout": "IPY_MODEL_b0e539d5d5624997ba013694ad3f1492",
            "placeholder": "​",
            "style": "IPY_MODEL_86bb909d3e6b4a80a532c9133a0db6d8",
            "value": "Batches: 100%"
          }
        },
        "3018a98517ab4a2bad8b471f6f608a03": {
          "model_module": "@jupyter-widgets/controls",
          "model_name": "FloatProgressModel",
          "model_module_version": "1.5.0",
          "state": {
            "_dom_classes": [],
            "_model_module": "@jupyter-widgets/controls",
            "_model_module_version": "1.5.0",
            "_model_name": "FloatProgressModel",
            "_view_count": null,
            "_view_module": "@jupyter-widgets/controls",
            "_view_module_version": "1.5.0",
            "_view_name": "ProgressView",
            "bar_style": "success",
            "description": "",
            "description_tooltip": null,
            "layout": "IPY_MODEL_0b3601e4a45745409131d0c02659af45",
            "max": 4,
            "min": 0,
            "orientation": "horizontal",
            "style": "IPY_MODEL_354c51f6da814dfe806c0b71468f0774",
            "value": 4
          }
        },
        "6bc23a2cb4e6406fab4fca2f4dd44b70": {
          "model_module": "@jupyter-widgets/controls",
          "model_name": "HTMLModel",
          "model_module_version": "1.5.0",
          "state": {
            "_dom_classes": [],
            "_model_module": "@jupyter-widgets/controls",
            "_model_module_version": "1.5.0",
            "_model_name": "HTMLModel",
            "_view_count": null,
            "_view_module": "@jupyter-widgets/controls",
            "_view_module_version": "1.5.0",
            "_view_name": "HTMLView",
            "description": "",
            "description_tooltip": null,
            "layout": "IPY_MODEL_61258b9885f34f75b66147826509a839",
            "placeholder": "​",
            "style": "IPY_MODEL_ab1e3c0cd1364be6a5541bbd06edc20a",
            "value": " 4/4 [00:00&lt;00:00, 16.38it/s]"
          }
        },
        "0ada235bdc0a4de4b007b2232674cff6": {
          "model_module": "@jupyter-widgets/base",
          "model_name": "LayoutModel",
          "model_module_version": "1.2.0",
          "state": {
            "_model_module": "@jupyter-widgets/base",
            "_model_module_version": "1.2.0",
            "_model_name": "LayoutModel",
            "_view_count": null,
            "_view_module": "@jupyter-widgets/base",
            "_view_module_version": "1.2.0",
            "_view_name": "LayoutView",
            "align_content": null,
            "align_items": null,
            "align_self": null,
            "border": null,
            "bottom": null,
            "display": null,
            "flex": null,
            "flex_flow": null,
            "grid_area": null,
            "grid_auto_columns": null,
            "grid_auto_flow": null,
            "grid_auto_rows": null,
            "grid_column": null,
            "grid_gap": null,
            "grid_row": null,
            "grid_template_areas": null,
            "grid_template_columns": null,
            "grid_template_rows": null,
            "height": null,
            "justify_content": null,
            "justify_items": null,
            "left": null,
            "margin": null,
            "max_height": null,
            "max_width": null,
            "min_height": null,
            "min_width": null,
            "object_fit": null,
            "object_position": null,
            "order": null,
            "overflow": null,
            "overflow_x": null,
            "overflow_y": null,
            "padding": null,
            "right": null,
            "top": null,
            "visibility": null,
            "width": null
          }
        },
        "b0e539d5d5624997ba013694ad3f1492": {
          "model_module": "@jupyter-widgets/base",
          "model_name": "LayoutModel",
          "model_module_version": "1.2.0",
          "state": {
            "_model_module": "@jupyter-widgets/base",
            "_model_module_version": "1.2.0",
            "_model_name": "LayoutModel",
            "_view_count": null,
            "_view_module": "@jupyter-widgets/base",
            "_view_module_version": "1.2.0",
            "_view_name": "LayoutView",
            "align_content": null,
            "align_items": null,
            "align_self": null,
            "border": null,
            "bottom": null,
            "display": null,
            "flex": null,
            "flex_flow": null,
            "grid_area": null,
            "grid_auto_columns": null,
            "grid_auto_flow": null,
            "grid_auto_rows": null,
            "grid_column": null,
            "grid_gap": null,
            "grid_row": null,
            "grid_template_areas": null,
            "grid_template_columns": null,
            "grid_template_rows": null,
            "height": null,
            "justify_content": null,
            "justify_items": null,
            "left": null,
            "margin": null,
            "max_height": null,
            "max_width": null,
            "min_height": null,
            "min_width": null,
            "object_fit": null,
            "object_position": null,
            "order": null,
            "overflow": null,
            "overflow_x": null,
            "overflow_y": null,
            "padding": null,
            "right": null,
            "top": null,
            "visibility": null,
            "width": null
          }
        },
        "86bb909d3e6b4a80a532c9133a0db6d8": {
          "model_module": "@jupyter-widgets/controls",
          "model_name": "DescriptionStyleModel",
          "model_module_version": "1.5.0",
          "state": {
            "_model_module": "@jupyter-widgets/controls",
            "_model_module_version": "1.5.0",
            "_model_name": "DescriptionStyleModel",
            "_view_count": null,
            "_view_module": "@jupyter-widgets/base",
            "_view_module_version": "1.2.0",
            "_view_name": "StyleView",
            "description_width": ""
          }
        },
        "0b3601e4a45745409131d0c02659af45": {
          "model_module": "@jupyter-widgets/base",
          "model_name": "LayoutModel",
          "model_module_version": "1.2.0",
          "state": {
            "_model_module": "@jupyter-widgets/base",
            "_model_module_version": "1.2.0",
            "_model_name": "LayoutModel",
            "_view_count": null,
            "_view_module": "@jupyter-widgets/base",
            "_view_module_version": "1.2.0",
            "_view_name": "LayoutView",
            "align_content": null,
            "align_items": null,
            "align_self": null,
            "border": null,
            "bottom": null,
            "display": null,
            "flex": null,
            "flex_flow": null,
            "grid_area": null,
            "grid_auto_columns": null,
            "grid_auto_flow": null,
            "grid_auto_rows": null,
            "grid_column": null,
            "grid_gap": null,
            "grid_row": null,
            "grid_template_areas": null,
            "grid_template_columns": null,
            "grid_template_rows": null,
            "height": null,
            "justify_content": null,
            "justify_items": null,
            "left": null,
            "margin": null,
            "max_height": null,
            "max_width": null,
            "min_height": null,
            "min_width": null,
            "object_fit": null,
            "object_position": null,
            "order": null,
            "overflow": null,
            "overflow_x": null,
            "overflow_y": null,
            "padding": null,
            "right": null,
            "top": null,
            "visibility": null,
            "width": null
          }
        },
        "354c51f6da814dfe806c0b71468f0774": {
          "model_module": "@jupyter-widgets/controls",
          "model_name": "ProgressStyleModel",
          "model_module_version": "1.5.0",
          "state": {
            "_model_module": "@jupyter-widgets/controls",
            "_model_module_version": "1.5.0",
            "_model_name": "ProgressStyleModel",
            "_view_count": null,
            "_view_module": "@jupyter-widgets/base",
            "_view_module_version": "1.2.0",
            "_view_name": "StyleView",
            "bar_color": null,
            "description_width": ""
          }
        },
        "61258b9885f34f75b66147826509a839": {
          "model_module": "@jupyter-widgets/base",
          "model_name": "LayoutModel",
          "model_module_version": "1.2.0",
          "state": {
            "_model_module": "@jupyter-widgets/base",
            "_model_module_version": "1.2.0",
            "_model_name": "LayoutModel",
            "_view_count": null,
            "_view_module": "@jupyter-widgets/base",
            "_view_module_version": "1.2.0",
            "_view_name": "LayoutView",
            "align_content": null,
            "align_items": null,
            "align_self": null,
            "border": null,
            "bottom": null,
            "display": null,
            "flex": null,
            "flex_flow": null,
            "grid_area": null,
            "grid_auto_columns": null,
            "grid_auto_flow": null,
            "grid_auto_rows": null,
            "grid_column": null,
            "grid_gap": null,
            "grid_row": null,
            "grid_template_areas": null,
            "grid_template_columns": null,
            "grid_template_rows": null,
            "height": null,
            "justify_content": null,
            "justify_items": null,
            "left": null,
            "margin": null,
            "max_height": null,
            "max_width": null,
            "min_height": null,
            "min_width": null,
            "object_fit": null,
            "object_position": null,
            "order": null,
            "overflow": null,
            "overflow_x": null,
            "overflow_y": null,
            "padding": null,
            "right": null,
            "top": null,
            "visibility": null,
            "width": null
          }
        },
        "ab1e3c0cd1364be6a5541bbd06edc20a": {
          "model_module": "@jupyter-widgets/controls",
          "model_name": "DescriptionStyleModel",
          "model_module_version": "1.5.0",
          "state": {
            "_model_module": "@jupyter-widgets/controls",
            "_model_module_version": "1.5.0",
            "_model_name": "DescriptionStyleModel",
            "_view_count": null,
            "_view_module": "@jupyter-widgets/base",
            "_view_module_version": "1.2.0",
            "_view_name": "StyleView",
            "description_width": ""
          }
        }
      }
    }
  },
  "cells": [
    {
      "cell_type": "markdown",
      "metadata": {
        "id": "130PIKarkY1_"
      },
      "source": [
        "# Enabling the GPU\n",
        "\n",
        "First, you'll need to enable GPUs for the notebook:\n",
        "\n",
        "- Navigate to Edit→Notebook Settings\n",
        "- select GPU from the Hardware Accelerator drop-down\n",
        "\n",
        "[Reference](https://colab.research.google.com/notebooks/gpu.ipynb)"
      ]
    },
    {
      "cell_type": "markdown",
      "metadata": {
        "id": "lj2MUI9Mkdxu"
      },
      "source": [
        "# **Installing BERTopic**\n",
        "\n",
        "Only run this if using google Colab. We start by installing BERTopic from PyPi:"
      ]
    },
    {
      "cell_type": "code",
      "metadata": {
        "id": "SNa-KtKDRnus"
      },
      "source": [
        "%%capture\n",
        "!pip install bertopic"
      ],
      "execution_count": 1,
      "outputs": []
    },
    {
      "cell_type": "markdown",
      "metadata": {
        "id": "0ehO3emgk96g"
      },
      "source": [
        "## Restart the Notebook\n",
        "After installing BERTopic, some packages that were already loaded were updated and in order to correctly use them, we should now restart the notebook.\n",
        "\n",
        "From the Menu:\n",
        "\n",
        "Runtime → Restart Runtime"
      ]
    },
    {
      "cell_type": "code",
      "source": [
        "from bertopic import BERTopic\n",
        "import pandas as pd\n",
        "import numpy as np\n",
        "\n",
        "import nltk\n",
        "nltk.download('stopwords')\n",
        "nltk.download('punkt')\n",
        "from nltk.corpus import stopwords\n",
        "from nltk.tokenize import word_tokenize\n",
        "import re\n",
        "from sklearn.feature_extraction.text import TfidfVectorizer\n",
        "from sklearn.feature_extraction.text import CountVectorizer\n",
        "\n",
        "import gensim\n",
        "import gensim.corpora as corpora\n",
        "from gensim.utils import simple_preprocess\n",
        "\n",
        "import spacy"
      ],
      "metadata": {
        "colab": {
          "base_uri": "https://localhost:8080/"
        },
        "id": "xiBragiooK8D",
        "outputId": "8605278d-b389-43d0-efb1-cad29764ddb6"
      },
      "execution_count": 2,
      "outputs": [
        {
          "output_type": "stream",
          "name": "stderr",
          "text": [
            "[nltk_data] Downloading package stopwords to /root/nltk_data...\n",
            "[nltk_data]   Unzipping corpora/stopwords.zip.\n",
            "[nltk_data] Downloading package punkt to /root/nltk_data...\n",
            "[nltk_data]   Unzipping tokenizers/punkt.zip.\n"
          ]
        }
      ]
    },
    {
      "cell_type": "markdown",
      "metadata": {
        "id": "Y3VGFZ1USMTu"
      },
      "source": [
        "# Data\n",
        "For this example, we use the popular 20 Newsgroups dataset which contains roughly 18000 newsgroups posts"
      ]
    },
    {
      "cell_type": "code",
      "source": [
        "from google.colab import drive\n",
        "drive.mount('/content/drive')"
      ],
      "metadata": {
        "colab": {
          "base_uri": "https://localhost:8080/",
          "height": 339
        },
        "id": "6vGsY0l_kkt0",
        "outputId": "7e1d3a6b-90e3-4a27-a01b-9cecb6de600d"
      },
      "execution_count": 3,
      "outputs": [
        {
          "output_type": "error",
          "ename": "MessageError",
          "evalue": "Error: credential propagation was unsuccessful",
          "traceback": [
            "\u001b[0;31m---------------------------------------------------------------------------\u001b[0m",
            "\u001b[0;31mMessageError\u001b[0m                              Traceback (most recent call last)",
            "\u001b[0;32m<ipython-input-3-d5df0069828e>\u001b[0m in \u001b[0;36m<cell line: 2>\u001b[0;34m()\u001b[0m\n\u001b[1;32m      1\u001b[0m \u001b[0;32mfrom\u001b[0m \u001b[0mgoogle\u001b[0m\u001b[0;34m.\u001b[0m\u001b[0mcolab\u001b[0m \u001b[0;32mimport\u001b[0m \u001b[0mdrive\u001b[0m\u001b[0;34m\u001b[0m\u001b[0;34m\u001b[0m\u001b[0m\n\u001b[0;32m----> 2\u001b[0;31m \u001b[0mdrive\u001b[0m\u001b[0;34m.\u001b[0m\u001b[0mmount\u001b[0m\u001b[0;34m(\u001b[0m\u001b[0;34m'/content/drive'\u001b[0m\u001b[0;34m)\u001b[0m\u001b[0;34m\u001b[0m\u001b[0;34m\u001b[0m\u001b[0m\n\u001b[0m",
            "\u001b[0;32m/usr/local/lib/python3.10/dist-packages/google/colab/drive.py\u001b[0m in \u001b[0;36mmount\u001b[0;34m(mountpoint, force_remount, timeout_ms, readonly)\u001b[0m\n\u001b[1;32m     98\u001b[0m \u001b[0;32mdef\u001b[0m \u001b[0mmount\u001b[0m\u001b[0;34m(\u001b[0m\u001b[0mmountpoint\u001b[0m\u001b[0;34m,\u001b[0m \u001b[0mforce_remount\u001b[0m\u001b[0;34m=\u001b[0m\u001b[0;32mFalse\u001b[0m\u001b[0;34m,\u001b[0m \u001b[0mtimeout_ms\u001b[0m\u001b[0;34m=\u001b[0m\u001b[0;36m120000\u001b[0m\u001b[0;34m,\u001b[0m \u001b[0mreadonly\u001b[0m\u001b[0;34m=\u001b[0m\u001b[0;32mFalse\u001b[0m\u001b[0;34m)\u001b[0m\u001b[0;34m:\u001b[0m\u001b[0;34m\u001b[0m\u001b[0;34m\u001b[0m\u001b[0m\n\u001b[1;32m     99\u001b[0m   \u001b[0;34m\"\"\"Mount your Google Drive at the specified mountpoint path.\"\"\"\u001b[0m\u001b[0;34m\u001b[0m\u001b[0;34m\u001b[0m\u001b[0m\n\u001b[0;32m--> 100\u001b[0;31m   return _mount(\n\u001b[0m\u001b[1;32m    101\u001b[0m       \u001b[0mmountpoint\u001b[0m\u001b[0;34m,\u001b[0m\u001b[0;34m\u001b[0m\u001b[0;34m\u001b[0m\u001b[0m\n\u001b[1;32m    102\u001b[0m       \u001b[0mforce_remount\u001b[0m\u001b[0;34m=\u001b[0m\u001b[0mforce_remount\u001b[0m\u001b[0;34m,\u001b[0m\u001b[0;34m\u001b[0m\u001b[0;34m\u001b[0m\u001b[0m\n",
            "\u001b[0;32m/usr/local/lib/python3.10/dist-packages/google/colab/drive.py\u001b[0m in \u001b[0;36m_mount\u001b[0;34m(mountpoint, force_remount, timeout_ms, ephemeral, readonly)\u001b[0m\n\u001b[1;32m    127\u001b[0m   )\n\u001b[1;32m    128\u001b[0m   \u001b[0;32mif\u001b[0m \u001b[0mephemeral\u001b[0m\u001b[0;34m:\u001b[0m\u001b[0;34m\u001b[0m\u001b[0;34m\u001b[0m\u001b[0m\n\u001b[0;32m--> 129\u001b[0;31m     _message.blocking_request(\n\u001b[0m\u001b[1;32m    130\u001b[0m         \u001b[0;34m'request_auth'\u001b[0m\u001b[0;34m,\u001b[0m \u001b[0mrequest\u001b[0m\u001b[0;34m=\u001b[0m\u001b[0;34m{\u001b[0m\u001b[0;34m'authType'\u001b[0m\u001b[0;34m:\u001b[0m \u001b[0;34m'dfs_ephemeral'\u001b[0m\u001b[0;34m}\u001b[0m\u001b[0;34m,\u001b[0m \u001b[0mtimeout_sec\u001b[0m\u001b[0;34m=\u001b[0m\u001b[0;32mNone\u001b[0m\u001b[0;34m\u001b[0m\u001b[0;34m\u001b[0m\u001b[0m\n\u001b[1;32m    131\u001b[0m     )\n",
            "\u001b[0;32m/usr/local/lib/python3.10/dist-packages/google/colab/_message.py\u001b[0m in \u001b[0;36mblocking_request\u001b[0;34m(request_type, request, timeout_sec, parent)\u001b[0m\n\u001b[1;32m    174\u001b[0m       \u001b[0mrequest_type\u001b[0m\u001b[0;34m,\u001b[0m \u001b[0mrequest\u001b[0m\u001b[0;34m,\u001b[0m \u001b[0mparent\u001b[0m\u001b[0;34m=\u001b[0m\u001b[0mparent\u001b[0m\u001b[0;34m,\u001b[0m \u001b[0mexpect_reply\u001b[0m\u001b[0;34m=\u001b[0m\u001b[0;32mTrue\u001b[0m\u001b[0;34m\u001b[0m\u001b[0;34m\u001b[0m\u001b[0m\n\u001b[1;32m    175\u001b[0m   )\n\u001b[0;32m--> 176\u001b[0;31m   \u001b[0;32mreturn\u001b[0m \u001b[0mread_reply_from_input\u001b[0m\u001b[0;34m(\u001b[0m\u001b[0mrequest_id\u001b[0m\u001b[0;34m,\u001b[0m \u001b[0mtimeout_sec\u001b[0m\u001b[0;34m)\u001b[0m\u001b[0;34m\u001b[0m\u001b[0;34m\u001b[0m\u001b[0m\n\u001b[0m",
            "\u001b[0;32m/usr/local/lib/python3.10/dist-packages/google/colab/_message.py\u001b[0m in \u001b[0;36mread_reply_from_input\u001b[0;34m(message_id, timeout_sec)\u001b[0m\n\u001b[1;32m    101\u001b[0m     ):\n\u001b[1;32m    102\u001b[0m       \u001b[0;32mif\u001b[0m \u001b[0;34m'error'\u001b[0m \u001b[0;32min\u001b[0m \u001b[0mreply\u001b[0m\u001b[0;34m:\u001b[0m\u001b[0;34m\u001b[0m\u001b[0;34m\u001b[0m\u001b[0m\n\u001b[0;32m--> 103\u001b[0;31m         \u001b[0;32mraise\u001b[0m \u001b[0mMessageError\u001b[0m\u001b[0;34m(\u001b[0m\u001b[0mreply\u001b[0m\u001b[0;34m[\u001b[0m\u001b[0;34m'error'\u001b[0m\u001b[0;34m]\u001b[0m\u001b[0;34m)\u001b[0m\u001b[0;34m\u001b[0m\u001b[0;34m\u001b[0m\u001b[0m\n\u001b[0m\u001b[1;32m    104\u001b[0m       \u001b[0;32mreturn\u001b[0m \u001b[0mreply\u001b[0m\u001b[0;34m.\u001b[0m\u001b[0mget\u001b[0m\u001b[0;34m(\u001b[0m\u001b[0;34m'data'\u001b[0m\u001b[0;34m,\u001b[0m \u001b[0;32mNone\u001b[0m\u001b[0;34m)\u001b[0m\u001b[0;34m\u001b[0m\u001b[0;34m\u001b[0m\u001b[0m\n\u001b[1;32m    105\u001b[0m \u001b[0;34m\u001b[0m\u001b[0m\n",
            "\u001b[0;31mMessageError\u001b[0m: Error: credential propagation was unsuccessful"
          ]
        }
      ]
    },
    {
      "cell_type": "code",
      "metadata": {
        "id": "JJij3WP6SEQD"
      },
      "source": [
        "#from sklearn.datasets import fetch_20newsgroups\n",
        "#docs = fetch_20newsgroups(subset='all',  remove=('headers', 'footers', 'quotes'))['data']\n",
        "\n",
        "df = pd.read_csv(\"drive/MyDrive/UW Pharm/Data/choiceboard_data.csv\")\n",
        "#data = data.dropna()\n",
        "#print('There are ' + str(data.shape[0]) + ' rows.')\n",
        "#data.head()\n"
      ],
      "execution_count": 12,
      "outputs": []
    },
    {
      "cell_type": "code",
      "source": [
        "df_cpd = df[[\"CPD_Q1\", \"CPD_Q3\"]]\n",
        "df_cpd.head()"
      ],
      "metadata": {
        "colab": {
          "base_uri": "https://localhost:8080/",
          "height": 206
        },
        "id": "nbWr8yPfqomU",
        "outputId": "5e773673-c17e-4052-ba71-aeb1c5673192"
      },
      "execution_count": 13,
      "outputs": [
        {
          "output_type": "execute_result",
          "data": {
            "text/plain": [
              "                                              CPD_Q1  \\\n",
              "0  The class time devoted to health and wellness ...   \n",
              "1  The class time devoted to health and wellness ...   \n",
              "2  The class time has reminded me on the importan...   \n",
              "3  The class time that was devoted to health and ...   \n",
              "4  I have learnt to listen to people without inte...   \n",
              "\n",
              "                                              CPD_Q3  \n",
              "0  I believe self-care to be really important in ...  \n",
              "1  The time spent on my choice of self-care allow...  \n",
              "2  The time spent on my choice of self care affec...  \n",
              "3  It made me more relaxed and less stressed abou...  \n",
              "4  This has been a lifeline because I always felt...  "
            ],
            "text/html": [
              "\n",
              "  <div id=\"df-07195fa4-e95f-4357-a6f0-36d1584fb1bb\" class=\"colab-df-container\">\n",
              "    <div>\n",
              "<style scoped>\n",
              "    .dataframe tbody tr th:only-of-type {\n",
              "        vertical-align: middle;\n",
              "    }\n",
              "\n",
              "    .dataframe tbody tr th {\n",
              "        vertical-align: top;\n",
              "    }\n",
              "\n",
              "    .dataframe thead th {\n",
              "        text-align: right;\n",
              "    }\n",
              "</style>\n",
              "<table border=\"1\" class=\"dataframe\">\n",
              "  <thead>\n",
              "    <tr style=\"text-align: right;\">\n",
              "      <th></th>\n",
              "      <th>CPD_Q1</th>\n",
              "      <th>CPD_Q3</th>\n",
              "    </tr>\n",
              "  </thead>\n",
              "  <tbody>\n",
              "    <tr>\n",
              "      <th>0</th>\n",
              "      <td>The class time devoted to health and wellness ...</td>\n",
              "      <td>I believe self-care to be really important in ...</td>\n",
              "    </tr>\n",
              "    <tr>\n",
              "      <th>1</th>\n",
              "      <td>The class time devoted to health and wellness ...</td>\n",
              "      <td>The time spent on my choice of self-care allow...</td>\n",
              "    </tr>\n",
              "    <tr>\n",
              "      <th>2</th>\n",
              "      <td>The class time has reminded me on the importan...</td>\n",
              "      <td>The time spent on my choice of self care affec...</td>\n",
              "    </tr>\n",
              "    <tr>\n",
              "      <th>3</th>\n",
              "      <td>The class time that was devoted to health and ...</td>\n",
              "      <td>It made me more relaxed and less stressed abou...</td>\n",
              "    </tr>\n",
              "    <tr>\n",
              "      <th>4</th>\n",
              "      <td>I have learnt to listen to people without inte...</td>\n",
              "      <td>This has been a lifeline because I always felt...</td>\n",
              "    </tr>\n",
              "  </tbody>\n",
              "</table>\n",
              "</div>\n",
              "    <div class=\"colab-df-buttons\">\n",
              "\n",
              "  <div class=\"colab-df-container\">\n",
              "    <button class=\"colab-df-convert\" onclick=\"convertToInteractive('df-07195fa4-e95f-4357-a6f0-36d1584fb1bb')\"\n",
              "            title=\"Convert this dataframe to an interactive table.\"\n",
              "            style=\"display:none;\">\n",
              "\n",
              "  <svg xmlns=\"http://www.w3.org/2000/svg\" height=\"24px\" viewBox=\"0 -960 960 960\">\n",
              "    <path d=\"M120-120v-720h720v720H120Zm60-500h600v-160H180v160Zm220 220h160v-160H400v160Zm0 220h160v-160H400v160ZM180-400h160v-160H180v160Zm440 0h160v-160H620v160ZM180-180h160v-160H180v160Zm440 0h160v-160H620v160Z\"/>\n",
              "  </svg>\n",
              "    </button>\n",
              "\n",
              "  <style>\n",
              "    .colab-df-container {\n",
              "      display:flex;\n",
              "      gap: 12px;\n",
              "    }\n",
              "\n",
              "    .colab-df-convert {\n",
              "      background-color: #E8F0FE;\n",
              "      border: none;\n",
              "      border-radius: 50%;\n",
              "      cursor: pointer;\n",
              "      display: none;\n",
              "      fill: #1967D2;\n",
              "      height: 32px;\n",
              "      padding: 0 0 0 0;\n",
              "      width: 32px;\n",
              "    }\n",
              "\n",
              "    .colab-df-convert:hover {\n",
              "      background-color: #E2EBFA;\n",
              "      box-shadow: 0px 1px 2px rgba(60, 64, 67, 0.3), 0px 1px 3px 1px rgba(60, 64, 67, 0.15);\n",
              "      fill: #174EA6;\n",
              "    }\n",
              "\n",
              "    .colab-df-buttons div {\n",
              "      margin-bottom: 4px;\n",
              "    }\n",
              "\n",
              "    [theme=dark] .colab-df-convert {\n",
              "      background-color: #3B4455;\n",
              "      fill: #D2E3FC;\n",
              "    }\n",
              "\n",
              "    [theme=dark] .colab-df-convert:hover {\n",
              "      background-color: #434B5C;\n",
              "      box-shadow: 0px 1px 3px 1px rgba(0, 0, 0, 0.15);\n",
              "      filter: drop-shadow(0px 1px 2px rgba(0, 0, 0, 0.3));\n",
              "      fill: #FFFFFF;\n",
              "    }\n",
              "  </style>\n",
              "\n",
              "    <script>\n",
              "      const buttonEl =\n",
              "        document.querySelector('#df-07195fa4-e95f-4357-a6f0-36d1584fb1bb button.colab-df-convert');\n",
              "      buttonEl.style.display =\n",
              "        google.colab.kernel.accessAllowed ? 'block' : 'none';\n",
              "\n",
              "      async function convertToInteractive(key) {\n",
              "        const element = document.querySelector('#df-07195fa4-e95f-4357-a6f0-36d1584fb1bb');\n",
              "        const dataTable =\n",
              "          await google.colab.kernel.invokeFunction('convertToInteractive',\n",
              "                                                    [key], {});\n",
              "        if (!dataTable) return;\n",
              "\n",
              "        const docLinkHtml = 'Like what you see? Visit the ' +\n",
              "          '<a target=\"_blank\" href=https://colab.research.google.com/notebooks/data_table.ipynb>data table notebook</a>'\n",
              "          + ' to learn more about interactive tables.';\n",
              "        element.innerHTML = '';\n",
              "        dataTable['output_type'] = 'display_data';\n",
              "        await google.colab.output.renderOutput(dataTable, element);\n",
              "        const docLink = document.createElement('div');\n",
              "        docLink.innerHTML = docLinkHtml;\n",
              "        element.appendChild(docLink);\n",
              "      }\n",
              "    </script>\n",
              "  </div>\n",
              "\n",
              "\n",
              "<div id=\"df-e1a817f2-89f5-47fa-b2af-2d096776608e\">\n",
              "  <button class=\"colab-df-quickchart\" onclick=\"quickchart('df-e1a817f2-89f5-47fa-b2af-2d096776608e')\"\n",
              "            title=\"Suggest charts\"\n",
              "            style=\"display:none;\">\n",
              "\n",
              "<svg xmlns=\"http://www.w3.org/2000/svg\" height=\"24px\"viewBox=\"0 0 24 24\"\n",
              "     width=\"24px\">\n",
              "    <g>\n",
              "        <path d=\"M19 3H5c-1.1 0-2 .9-2 2v14c0 1.1.9 2 2 2h14c1.1 0 2-.9 2-2V5c0-1.1-.9-2-2-2zM9 17H7v-7h2v7zm4 0h-2V7h2v10zm4 0h-2v-4h2v4z\"/>\n",
              "    </g>\n",
              "</svg>\n",
              "  </button>\n",
              "\n",
              "<style>\n",
              "  .colab-df-quickchart {\n",
              "      --bg-color: #E8F0FE;\n",
              "      --fill-color: #1967D2;\n",
              "      --hover-bg-color: #E2EBFA;\n",
              "      --hover-fill-color: #174EA6;\n",
              "      --disabled-fill-color: #AAA;\n",
              "      --disabled-bg-color: #DDD;\n",
              "  }\n",
              "\n",
              "  [theme=dark] .colab-df-quickchart {\n",
              "      --bg-color: #3B4455;\n",
              "      --fill-color: #D2E3FC;\n",
              "      --hover-bg-color: #434B5C;\n",
              "      --hover-fill-color: #FFFFFF;\n",
              "      --disabled-bg-color: #3B4455;\n",
              "      --disabled-fill-color: #666;\n",
              "  }\n",
              "\n",
              "  .colab-df-quickchart {\n",
              "    background-color: var(--bg-color);\n",
              "    border: none;\n",
              "    border-radius: 50%;\n",
              "    cursor: pointer;\n",
              "    display: none;\n",
              "    fill: var(--fill-color);\n",
              "    height: 32px;\n",
              "    padding: 0;\n",
              "    width: 32px;\n",
              "  }\n",
              "\n",
              "  .colab-df-quickchart:hover {\n",
              "    background-color: var(--hover-bg-color);\n",
              "    box-shadow: 0 1px 2px rgba(60, 64, 67, 0.3), 0 1px 3px 1px rgba(60, 64, 67, 0.15);\n",
              "    fill: var(--button-hover-fill-color);\n",
              "  }\n",
              "\n",
              "  .colab-df-quickchart-complete:disabled,\n",
              "  .colab-df-quickchart-complete:disabled:hover {\n",
              "    background-color: var(--disabled-bg-color);\n",
              "    fill: var(--disabled-fill-color);\n",
              "    box-shadow: none;\n",
              "  }\n",
              "\n",
              "  .colab-df-spinner {\n",
              "    border: 2px solid var(--fill-color);\n",
              "    border-color: transparent;\n",
              "    border-bottom-color: var(--fill-color);\n",
              "    animation:\n",
              "      spin 1s steps(1) infinite;\n",
              "  }\n",
              "\n",
              "  @keyframes spin {\n",
              "    0% {\n",
              "      border-color: transparent;\n",
              "      border-bottom-color: var(--fill-color);\n",
              "      border-left-color: var(--fill-color);\n",
              "    }\n",
              "    20% {\n",
              "      border-color: transparent;\n",
              "      border-left-color: var(--fill-color);\n",
              "      border-top-color: var(--fill-color);\n",
              "    }\n",
              "    30% {\n",
              "      border-color: transparent;\n",
              "      border-left-color: var(--fill-color);\n",
              "      border-top-color: var(--fill-color);\n",
              "      border-right-color: var(--fill-color);\n",
              "    }\n",
              "    40% {\n",
              "      border-color: transparent;\n",
              "      border-right-color: var(--fill-color);\n",
              "      border-top-color: var(--fill-color);\n",
              "    }\n",
              "    60% {\n",
              "      border-color: transparent;\n",
              "      border-right-color: var(--fill-color);\n",
              "    }\n",
              "    80% {\n",
              "      border-color: transparent;\n",
              "      border-right-color: var(--fill-color);\n",
              "      border-bottom-color: var(--fill-color);\n",
              "    }\n",
              "    90% {\n",
              "      border-color: transparent;\n",
              "      border-bottom-color: var(--fill-color);\n",
              "    }\n",
              "  }\n",
              "</style>\n",
              "\n",
              "  <script>\n",
              "    async function quickchart(key) {\n",
              "      const quickchartButtonEl =\n",
              "        document.querySelector('#' + key + ' button');\n",
              "      quickchartButtonEl.disabled = true;  // To prevent multiple clicks.\n",
              "      quickchartButtonEl.classList.add('colab-df-spinner');\n",
              "      try {\n",
              "        const charts = await google.colab.kernel.invokeFunction(\n",
              "            'suggestCharts', [key], {});\n",
              "      } catch (error) {\n",
              "        console.error('Error during call to suggestCharts:', error);\n",
              "      }\n",
              "      quickchartButtonEl.classList.remove('colab-df-spinner');\n",
              "      quickchartButtonEl.classList.add('colab-df-quickchart-complete');\n",
              "    }\n",
              "    (() => {\n",
              "      let quickchartButtonEl =\n",
              "        document.querySelector('#df-e1a817f2-89f5-47fa-b2af-2d096776608e button');\n",
              "      quickchartButtonEl.style.display =\n",
              "        google.colab.kernel.accessAllowed ? 'block' : 'none';\n",
              "    })();\n",
              "  </script>\n",
              "</div>\n",
              "    </div>\n",
              "  </div>\n"
            ]
          },
          "metadata": {},
          "execution_count": 13
        }
      ]
    },
    {
      "cell_type": "code",
      "source": [
        "corpus_1 = df_cpd[\"CPD_Q1\"].dropna()\n",
        "corpus_1 = corpus_1.astype(str).tolist()\n",
        "#corpus_1\n",
        "\n",
        "corpus_3 = df_cpd[\"CPD_Q3\"].dropna()\n",
        "corpus_3 = corpus_3.astype(str).tolist()\n",
        "#corpus_3"
      ],
      "metadata": {
        "id": "KP0bnfgPrI6y"
      },
      "execution_count": 46,
      "outputs": []
    },
    {
      "cell_type": "markdown",
      "metadata": {
        "id": "SBcNmZJzSTY8"
      },
      "source": [
        "# **Topic Modeling**\n",
        "\n",
        "In this example, we will go through the main components of BERTopic and the steps necessary to create a strong topic model.\n",
        "\n",
        "\n"
      ]
    },
    {
      "cell_type": "markdown",
      "metadata": {
        "id": "QI6vwelqnTL-"
      },
      "source": [
        "## Training\n",
        "\n",
        "We start by instantiating BERTopic. We set language to `english` since our documents are in the English language. If you would like to use a multi-lingual model, please use `language=\"multilingual\"` instead.\n",
        "\n",
        "We will also calculate the topic probabilities. However, this can slow down BERTopic significantly at large amounts of data (>100_000 documents). It is advised to turn this off if you want to speed up the model.\n"
      ]
    },
    {
      "cell_type": "code",
      "metadata": {
        "id": "TfhfzqkoSJ1I",
        "colab": {
          "base_uri": "https://localhost:8080/",
          "height": 188,
          "referenced_widgets": [
            "ae74d9c5e8b3485e9fd747761b8b1723",
            "80f10b7a8b764dc4a7b1aa58e729adf0",
            "3018a98517ab4a2bad8b471f6f608a03",
            "6bc23a2cb4e6406fab4fca2f4dd44b70",
            "0ada235bdc0a4de4b007b2232674cff6",
            "b0e539d5d5624997ba013694ad3f1492",
            "86bb909d3e6b4a80a532c9133a0db6d8",
            "0b3601e4a45745409131d0c02659af45",
            "354c51f6da814dfe806c0b71468f0774",
            "61258b9885f34f75b66147826509a839",
            "ab1e3c0cd1364be6a5541bbd06edc20a"
          ]
        },
        "outputId": "d03168cd-a92a-4ad7-bf0c-2bc060f010ea"
      },
      "source": [
        "vectorizer_model = CountVectorizer(ngram_range=(1, 3), stop_words=\"english\")\n",
        "topic_model = BERTopic(language=\"english\",\n",
        "                       calculate_probabilities=True,\n",
        "                       verbose=True,\n",
        "                       min_topic_size=3,\n",
        "                       n_gram_range = (1, 2),\n",
        "                       vectorizer_model=vectorizer_model)\n",
        "topics, probs = topic_model.fit_transform(corpus_3)"
      ],
      "execution_count": 84,
      "outputs": [
        {
          "output_type": "stream",
          "name": "stderr",
          "text": [
            "2024-02-09 03:00:36,234 - BERTopic - Embedding - Transforming documents to embeddings.\n"
          ]
        },
        {
          "output_type": "display_data",
          "data": {
            "text/plain": [
              "Batches:   0%|          | 0/4 [00:00<?, ?it/s]"
            ],
            "application/vnd.jupyter.widget-view+json": {
              "version_major": 2,
              "version_minor": 0,
              "model_id": "ae74d9c5e8b3485e9fd747761b8b1723"
            }
          },
          "metadata": {}
        },
        {
          "output_type": "stream",
          "name": "stderr",
          "text": [
            "2024-02-09 03:00:38,956 - BERTopic - Embedding - Completed ✓\n",
            "2024-02-09 03:00:38,958 - BERTopic - Dimensionality - Fitting the dimensionality reduction algorithm\n",
            "2024-02-09 03:00:41,577 - BERTopic - Dimensionality - Completed ✓\n",
            "2024-02-09 03:00:41,578 - BERTopic - Cluster - Start clustering the reduced embeddings\n",
            "2024-02-09 03:00:41,591 - BERTopic - Cluster - Completed ✓\n",
            "2024-02-09 03:00:41,595 - BERTopic - Representation - Extracting topics from clusters using representation models.\n",
            "2024-02-09 03:00:41,625 - BERTopic - Representation - Completed ✓\n"
          ]
        }
      ]
    },
    {
      "cell_type": "markdown",
      "metadata": {
        "id": "tJs94tXDo4f6"
      },
      "source": [
        "**NOTE**: Use `language=\"multilingual\"` to select a model that support 50+ languages."
      ]
    },
    {
      "cell_type": "markdown",
      "metadata": {
        "id": "A5O3KpHTnVpz"
      },
      "source": [
        "## Extracting Topics\n",
        "After fitting our model, we can start by looking at the results. Typically, we look at the most frequent topics first as they best represent the collection of documents."
      ]
    },
    {
      "cell_type": "code",
      "metadata": {
        "colab": {
          "base_uri": "https://localhost:8080/",
          "height": 206
        },
        "id": "ScBUgXn06IK6",
        "outputId": "88f849ca-3f28-4e28-9183-14b4912ef4ae"
      },
      "source": [
        "freq = topic_model.get_topic_info(); freq.head(5)"
      ],
      "execution_count": 85,
      "outputs": [
        {
          "output_type": "execute_result",
          "data": {
            "text/plain": [
              "   Topic  Count                                              Name  \\\n",
              "0     -1     23                        -1_week_feel_time_selfcare   \n",
              "1      0     26                          0_school_gave_think_like   \n",
              "2      1     12                      1_selfcare_time_having_spend   \n",
              "3      2     12              2_time_time spent_spent_spent choice   \n",
              "4      3     10  3_affected_choose_affected positively_positively   \n",
              "\n",
              "                                      Representation  \\\n",
              "0  [week, feel, time, selfcare, new, mind, like, ...   \n",
              "1  [school, gave, think, like, break, stressed, h...   \n",
              "2  [selfcare, time, having, spend, think, time sp...   \n",
              "3  [time, time spent, spent, spent choice, selfca...   \n",
              "4  [affected, choose, affected positively, positi...   \n",
              "\n",
              "                                 Representative_Docs  \n",
              "0  [I really appreciate it. I hope we can keep th...  \n",
              "1  [It really affected me in a positive way becau...  \n",
              "2  [I think the time I spend on my choice of self...  \n",
              "3  [The time spent on my choice of self-care affe...  \n",
              "4  [It affected me in a positive way once I had d...  "
            ],
            "text/html": [
              "\n",
              "  <div id=\"df-a9536f86-a124-4691-86ca-39b1196247bb\" class=\"colab-df-container\">\n",
              "    <div>\n",
              "<style scoped>\n",
              "    .dataframe tbody tr th:only-of-type {\n",
              "        vertical-align: middle;\n",
              "    }\n",
              "\n",
              "    .dataframe tbody tr th {\n",
              "        vertical-align: top;\n",
              "    }\n",
              "\n",
              "    .dataframe thead th {\n",
              "        text-align: right;\n",
              "    }\n",
              "</style>\n",
              "<table border=\"1\" class=\"dataframe\">\n",
              "  <thead>\n",
              "    <tr style=\"text-align: right;\">\n",
              "      <th></th>\n",
              "      <th>Topic</th>\n",
              "      <th>Count</th>\n",
              "      <th>Name</th>\n",
              "      <th>Representation</th>\n",
              "      <th>Representative_Docs</th>\n",
              "    </tr>\n",
              "  </thead>\n",
              "  <tbody>\n",
              "    <tr>\n",
              "      <th>0</th>\n",
              "      <td>-1</td>\n",
              "      <td>23</td>\n",
              "      <td>-1_week_feel_time_selfcare</td>\n",
              "      <td>[week, feel, time, selfcare, new, mind, like, ...</td>\n",
              "      <td>[I really appreciate it. I hope we can keep th...</td>\n",
              "    </tr>\n",
              "    <tr>\n",
              "      <th>1</th>\n",
              "      <td>0</td>\n",
              "      <td>26</td>\n",
              "      <td>0_school_gave_think_like</td>\n",
              "      <td>[school, gave, think, like, break, stressed, h...</td>\n",
              "      <td>[It really affected me in a positive way becau...</td>\n",
              "    </tr>\n",
              "    <tr>\n",
              "      <th>2</th>\n",
              "      <td>1</td>\n",
              "      <td>12</td>\n",
              "      <td>1_selfcare_time_having_spend</td>\n",
              "      <td>[selfcare, time, having, spend, think, time sp...</td>\n",
              "      <td>[I think the time I spend on my choice of self...</td>\n",
              "    </tr>\n",
              "    <tr>\n",
              "      <th>3</th>\n",
              "      <td>2</td>\n",
              "      <td>12</td>\n",
              "      <td>2_time_time spent_spent_spent choice</td>\n",
              "      <td>[time, time spent, spent, spent choice, selfca...</td>\n",
              "      <td>[The time spent on my choice of self-care affe...</td>\n",
              "    </tr>\n",
              "    <tr>\n",
              "      <th>4</th>\n",
              "      <td>3</td>\n",
              "      <td>10</td>\n",
              "      <td>3_affected_choose_affected positively_positively</td>\n",
              "      <td>[affected, choose, affected positively, positi...</td>\n",
              "      <td>[It affected me in a positive way once I had d...</td>\n",
              "    </tr>\n",
              "  </tbody>\n",
              "</table>\n",
              "</div>\n",
              "    <div class=\"colab-df-buttons\">\n",
              "\n",
              "  <div class=\"colab-df-container\">\n",
              "    <button class=\"colab-df-convert\" onclick=\"convertToInteractive('df-a9536f86-a124-4691-86ca-39b1196247bb')\"\n",
              "            title=\"Convert this dataframe to an interactive table.\"\n",
              "            style=\"display:none;\">\n",
              "\n",
              "  <svg xmlns=\"http://www.w3.org/2000/svg\" height=\"24px\" viewBox=\"0 -960 960 960\">\n",
              "    <path d=\"M120-120v-720h720v720H120Zm60-500h600v-160H180v160Zm220 220h160v-160H400v160Zm0 220h160v-160H400v160ZM180-400h160v-160H180v160Zm440 0h160v-160H620v160ZM180-180h160v-160H180v160Zm440 0h160v-160H620v160Z\"/>\n",
              "  </svg>\n",
              "    </button>\n",
              "\n",
              "  <style>\n",
              "    .colab-df-container {\n",
              "      display:flex;\n",
              "      gap: 12px;\n",
              "    }\n",
              "\n",
              "    .colab-df-convert {\n",
              "      background-color: #E8F0FE;\n",
              "      border: none;\n",
              "      border-radius: 50%;\n",
              "      cursor: pointer;\n",
              "      display: none;\n",
              "      fill: #1967D2;\n",
              "      height: 32px;\n",
              "      padding: 0 0 0 0;\n",
              "      width: 32px;\n",
              "    }\n",
              "\n",
              "    .colab-df-convert:hover {\n",
              "      background-color: #E2EBFA;\n",
              "      box-shadow: 0px 1px 2px rgba(60, 64, 67, 0.3), 0px 1px 3px 1px rgba(60, 64, 67, 0.15);\n",
              "      fill: #174EA6;\n",
              "    }\n",
              "\n",
              "    .colab-df-buttons div {\n",
              "      margin-bottom: 4px;\n",
              "    }\n",
              "\n",
              "    [theme=dark] .colab-df-convert {\n",
              "      background-color: #3B4455;\n",
              "      fill: #D2E3FC;\n",
              "    }\n",
              "\n",
              "    [theme=dark] .colab-df-convert:hover {\n",
              "      background-color: #434B5C;\n",
              "      box-shadow: 0px 1px 3px 1px rgba(0, 0, 0, 0.15);\n",
              "      filter: drop-shadow(0px 1px 2px rgba(0, 0, 0, 0.3));\n",
              "      fill: #FFFFFF;\n",
              "    }\n",
              "  </style>\n",
              "\n",
              "    <script>\n",
              "      const buttonEl =\n",
              "        document.querySelector('#df-a9536f86-a124-4691-86ca-39b1196247bb button.colab-df-convert');\n",
              "      buttonEl.style.display =\n",
              "        google.colab.kernel.accessAllowed ? 'block' : 'none';\n",
              "\n",
              "      async function convertToInteractive(key) {\n",
              "        const element = document.querySelector('#df-a9536f86-a124-4691-86ca-39b1196247bb');\n",
              "        const dataTable =\n",
              "          await google.colab.kernel.invokeFunction('convertToInteractive',\n",
              "                                                    [key], {});\n",
              "        if (!dataTable) return;\n",
              "\n",
              "        const docLinkHtml = 'Like what you see? Visit the ' +\n",
              "          '<a target=\"_blank\" href=https://colab.research.google.com/notebooks/data_table.ipynb>data table notebook</a>'\n",
              "          + ' to learn more about interactive tables.';\n",
              "        element.innerHTML = '';\n",
              "        dataTable['output_type'] = 'display_data';\n",
              "        await google.colab.output.renderOutput(dataTable, element);\n",
              "        const docLink = document.createElement('div');\n",
              "        docLink.innerHTML = docLinkHtml;\n",
              "        element.appendChild(docLink);\n",
              "      }\n",
              "    </script>\n",
              "  </div>\n",
              "\n",
              "\n",
              "<div id=\"df-9adffe57-08ec-44a1-9814-eded7f0be827\">\n",
              "  <button class=\"colab-df-quickchart\" onclick=\"quickchart('df-9adffe57-08ec-44a1-9814-eded7f0be827')\"\n",
              "            title=\"Suggest charts\"\n",
              "            style=\"display:none;\">\n",
              "\n",
              "<svg xmlns=\"http://www.w3.org/2000/svg\" height=\"24px\"viewBox=\"0 0 24 24\"\n",
              "     width=\"24px\">\n",
              "    <g>\n",
              "        <path d=\"M19 3H5c-1.1 0-2 .9-2 2v14c0 1.1.9 2 2 2h14c1.1 0 2-.9 2-2V5c0-1.1-.9-2-2-2zM9 17H7v-7h2v7zm4 0h-2V7h2v10zm4 0h-2v-4h2v4z\"/>\n",
              "    </g>\n",
              "</svg>\n",
              "  </button>\n",
              "\n",
              "<style>\n",
              "  .colab-df-quickchart {\n",
              "      --bg-color: #E8F0FE;\n",
              "      --fill-color: #1967D2;\n",
              "      --hover-bg-color: #E2EBFA;\n",
              "      --hover-fill-color: #174EA6;\n",
              "      --disabled-fill-color: #AAA;\n",
              "      --disabled-bg-color: #DDD;\n",
              "  }\n",
              "\n",
              "  [theme=dark] .colab-df-quickchart {\n",
              "      --bg-color: #3B4455;\n",
              "      --fill-color: #D2E3FC;\n",
              "      --hover-bg-color: #434B5C;\n",
              "      --hover-fill-color: #FFFFFF;\n",
              "      --disabled-bg-color: #3B4455;\n",
              "      --disabled-fill-color: #666;\n",
              "  }\n",
              "\n",
              "  .colab-df-quickchart {\n",
              "    background-color: var(--bg-color);\n",
              "    border: none;\n",
              "    border-radius: 50%;\n",
              "    cursor: pointer;\n",
              "    display: none;\n",
              "    fill: var(--fill-color);\n",
              "    height: 32px;\n",
              "    padding: 0;\n",
              "    width: 32px;\n",
              "  }\n",
              "\n",
              "  .colab-df-quickchart:hover {\n",
              "    background-color: var(--hover-bg-color);\n",
              "    box-shadow: 0 1px 2px rgba(60, 64, 67, 0.3), 0 1px 3px 1px rgba(60, 64, 67, 0.15);\n",
              "    fill: var(--button-hover-fill-color);\n",
              "  }\n",
              "\n",
              "  .colab-df-quickchart-complete:disabled,\n",
              "  .colab-df-quickchart-complete:disabled:hover {\n",
              "    background-color: var(--disabled-bg-color);\n",
              "    fill: var(--disabled-fill-color);\n",
              "    box-shadow: none;\n",
              "  }\n",
              "\n",
              "  .colab-df-spinner {\n",
              "    border: 2px solid var(--fill-color);\n",
              "    border-color: transparent;\n",
              "    border-bottom-color: var(--fill-color);\n",
              "    animation:\n",
              "      spin 1s steps(1) infinite;\n",
              "  }\n",
              "\n",
              "  @keyframes spin {\n",
              "    0% {\n",
              "      border-color: transparent;\n",
              "      border-bottom-color: var(--fill-color);\n",
              "      border-left-color: var(--fill-color);\n",
              "    }\n",
              "    20% {\n",
              "      border-color: transparent;\n",
              "      border-left-color: var(--fill-color);\n",
              "      border-top-color: var(--fill-color);\n",
              "    }\n",
              "    30% {\n",
              "      border-color: transparent;\n",
              "      border-left-color: var(--fill-color);\n",
              "      border-top-color: var(--fill-color);\n",
              "      border-right-color: var(--fill-color);\n",
              "    }\n",
              "    40% {\n",
              "      border-color: transparent;\n",
              "      border-right-color: var(--fill-color);\n",
              "      border-top-color: var(--fill-color);\n",
              "    }\n",
              "    60% {\n",
              "      border-color: transparent;\n",
              "      border-right-color: var(--fill-color);\n",
              "    }\n",
              "    80% {\n",
              "      border-color: transparent;\n",
              "      border-right-color: var(--fill-color);\n",
              "      border-bottom-color: var(--fill-color);\n",
              "    }\n",
              "    90% {\n",
              "      border-color: transparent;\n",
              "      border-bottom-color: var(--fill-color);\n",
              "    }\n",
              "  }\n",
              "</style>\n",
              "\n",
              "  <script>\n",
              "    async function quickchart(key) {\n",
              "      const quickchartButtonEl =\n",
              "        document.querySelector('#' + key + ' button');\n",
              "      quickchartButtonEl.disabled = true;  // To prevent multiple clicks.\n",
              "      quickchartButtonEl.classList.add('colab-df-spinner');\n",
              "      try {\n",
              "        const charts = await google.colab.kernel.invokeFunction(\n",
              "            'suggestCharts', [key], {});\n",
              "      } catch (error) {\n",
              "        console.error('Error during call to suggestCharts:', error);\n",
              "      }\n",
              "      quickchartButtonEl.classList.remove('colab-df-spinner');\n",
              "      quickchartButtonEl.classList.add('colab-df-quickchart-complete');\n",
              "    }\n",
              "    (() => {\n",
              "      let quickchartButtonEl =\n",
              "        document.querySelector('#df-9adffe57-08ec-44a1-9814-eded7f0be827 button');\n",
              "      quickchartButtonEl.style.display =\n",
              "        google.colab.kernel.accessAllowed ? 'block' : 'none';\n",
              "    })();\n",
              "  </script>\n",
              "</div>\n",
              "    </div>\n",
              "  </div>\n"
            ]
          },
          "metadata": {},
          "execution_count": 85
        }
      ]
    },
    {
      "cell_type": "code",
      "source": [
        "freq.shape"
      ],
      "metadata": {
        "colab": {
          "base_uri": "https://localhost:8080/"
        },
        "id": "vwicV8j0u52P",
        "outputId": "b2552583-497b-40f0-c9a6-5881925ef003"
      },
      "execution_count": 86,
      "outputs": [
        {
          "output_type": "execute_result",
          "data": {
            "text/plain": [
              "(9, 5)"
            ]
          },
          "metadata": {},
          "execution_count": 86
        }
      ]
    },
    {
      "cell_type": "markdown",
      "metadata": {
        "id": "-BtOgifV7Q-H"
      },
      "source": [
        "-1 refers to all outliers and should typically be ignored. Next, let's take a look at a frequent topic that were generated:"
      ]
    },
    {
      "cell_type": "code",
      "metadata": {
        "colab": {
          "base_uri": "https://localhost:8080/"
        },
        "id": "IVpvT4bA6KiN",
        "outputId": "8cc7698d-e3ca-4f1e-8d80-76f226349f9e"
      },
      "source": [
        "topic_model.get_topic(0)  # Select the most frequent topic"
      ],
      "execution_count": 87,
      "outputs": [
        {
          "output_type": "execute_result",
          "data": {
            "text/plain": [
              "[('school', 0.05138712314118654),\n",
              " ('gave', 0.0436427185540145),\n",
              " ('think', 0.04193409339474967),\n",
              " ('like', 0.038814360451566436),\n",
              " ('break', 0.03871500374486665),\n",
              " ('stressed', 0.03636893212834542),\n",
              " ('helped', 0.03590260683884969),\n",
              " ('relax', 0.03538529611962231),\n",
              " ('felt', 0.031626261554456435),\n",
              " ('breath', 0.028037321510227503)]"
            ]
          },
          "metadata": {},
          "execution_count": 87
        }
      ]
    },
    {
      "cell_type": "markdown",
      "metadata": {
        "id": "ixc-X2JzodrZ"
      },
      "source": [
        "**NOTE**: BERTopic is stocastich which mmeans that the topics might differ across runs. This is mostly due to the stocastisch nature of UMAP."
      ]
    },
    {
      "cell_type": "code",
      "source": [
        "### Attributes"
      ],
      "metadata": {
        "id": "FX_Ngb3PpRFG"
      },
      "execution_count": null,
      "outputs": []
    },
    {
      "cell_type": "markdown",
      "source": [
        "## Attributes\n",
        "\n",
        "There are a number of attributes that you can access after having trained your BERTopic model:\n",
        "\n",
        "\n",
        "| Attribute | Description |\n",
        "|------------------------|---------------------------------------------------------------------------------------------|\n",
        "| topics_               | The topics that are generated for each document after training or updating the topic model. |\n",
        "| probabilities_ | The probabilities that are generated for each document if HDBSCAN is used. |\n",
        "| topic_sizes_           | The size of each topic                                                                      |\n",
        "| topic_mapper_          | A class for tracking topics and their mappings anytime they are merged/reduced.             |\n",
        "| topic_representations_ | The top *n* terms per topic and their respective c-TF-IDF values.                             |\n",
        "| c_tf_idf_              | The topic-term matrix as calculated through c-TF-IDF.                                       |\n",
        "| topic_labels_          | The default labels for each topic.                                                          |\n",
        "| custom_labels_         | Custom labels for each topic as generated through `.set_topic_labels`.                                                               |\n",
        "| topic_embeddings_      | The embeddings for each topic if `embedding_model` was used.                                                              |\n",
        "| representative_docs_   | The representative documents for each topic if HDBSCAN is used.                                                |\n",
        "\n",
        "For example, to access the predicted topics for the first 10 documents, we simply run the following:"
      ],
      "metadata": {
        "id": "j91cP3xBpWDM"
      }
    },
    {
      "cell_type": "code",
      "source": [
        "topic_model.topics_[:10]"
      ],
      "metadata": {
        "id": "uCMHaWVMpbo3",
        "colab": {
          "base_uri": "https://localhost:8080/"
        },
        "outputId": "f8be7c86-cce1-406e-b904-6194157326f2"
      },
      "execution_count": 75,
      "outputs": [
        {
          "output_type": "execute_result",
          "data": {
            "text/plain": [
              "[3, -1, -1, 1, 6, 4, 0, 5, 3, 0]"
            ]
          },
          "metadata": {},
          "execution_count": 75
        }
      ]
    },
    {
      "cell_type": "markdown",
      "metadata": {
        "id": "UbT2Bd9gqaJ3"
      },
      "source": [
        "# **Visualization**\n",
        "There are several visualization options available in BERTopic, namely the visualization of topics, probabilities and topics over time. Topic modeling is, to a certain extent, quite subjective. Visualizations help understand the topics that were created."
      ]
    },
    {
      "cell_type": "markdown",
      "metadata": {
        "id": "M8c8LenB8Zyl"
      },
      "source": [
        "## Visualize Topics\n",
        "After having trained our `BERTopic` model, we can iteratively go through perhaps a hundred topic to get a good\n",
        "understanding of the topics that were extract. However, that takes quite some time and lacks a global representation.\n",
        "Instead, we can visualize the topics that were generated in a way very similar to\n",
        "[LDAvis](https://github.com/cpsievert/LDAvis):"
      ]
    },
    {
      "cell_type": "code",
      "metadata": {
        "colab": {
          "base_uri": "https://localhost:8080/",
          "height": 667
        },
        "id": "S9qDqEHddgKq",
        "outputId": "419a3df0-e590-42a0-d54c-1740150ca2fa"
      },
      "source": [
        "topic_model.visualize_topics()"
      ],
      "execution_count": 88,
      "outputs": [
        {
          "output_type": "display_data",
          "data": {
            "text/html": [
              "<html>\n",
              "<head><meta charset=\"utf-8\" /></head>\n",
              "<body>\n",
              "    <div>            <script src=\"https://cdnjs.cloudflare.com/ajax/libs/mathjax/2.7.5/MathJax.js?config=TeX-AMS-MML_SVG\"></script><script type=\"text/javascript\">if (window.MathJax && window.MathJax.Hub && window.MathJax.Hub.Config) {window.MathJax.Hub.Config({SVG: {font: \"STIX-Web\"}});}</script>                <script type=\"text/javascript\">window.PlotlyConfig = {MathJaxConfig: 'local'};</script>\n",
              "        <script charset=\"utf-8\" src=\"https://cdn.plot.ly/plotly-2.24.1.min.js\"></script>                <div id=\"868f5de8-23c6-49c8-93b1-ad779c373e00\" class=\"plotly-graph-div\" style=\"height:650px; width:650px;\"></div>            <script type=\"text/javascript\">                                    window.PLOTLYENV=window.PLOTLYENV || {};                                    if (document.getElementById(\"868f5de8-23c6-49c8-93b1-ad779c373e00\")) {                    Plotly.newPlot(                        \"868f5de8-23c6-49c8-93b1-ad779c373e00\",                        [{\"customdata\":[[0,\"school | gave | think | like | break\",26],[1,\"selfcare | time | having | spend | think\",12],[2,\"time | time spent | spent | spent choice | selfcare\",12],[3,\"affected | choose | affected positively | positively | needed\",10],[4,\"selfcare | studying | time | helped | selfcare activities\",9],[5,\"time | relax | studying | use | study\",6],[6,\"better | time | felt better | different | school\",3],[7,\"dont | balance | week | busy | feel\",3]],\"hovertemplate\":\"\\u003cb\\u003eTopic %{customdata[0]}\\u003c\\u002fb\\u003e\\u003cbr\\u003e%{customdata[1]}\\u003cbr\\u003eSize: %{customdata[2]}\",\"legendgroup\":\"\",\"marker\":{\"color\":\"#B0BEC5\",\"size\":[26,12,12,10,9,6,3,3],\"sizemode\":\"area\",\"sizeref\":0.01625,\"symbol\":\"circle\",\"line\":{\"color\":\"DarkSlateGrey\",\"width\":2}},\"mode\":\"markers\",\"name\":\"\",\"orientation\":\"v\",\"showlegend\":false,\"x\":[12.739712715148926,18.49192237854004,12.770303726196289,12.523113250732422,18.296083450317383,12.506420135498047,13.274103164672852,17.846277236938477],\"xaxis\":\"x\",\"y\":[15.100272178649902,14.084515571594238,13.43148422241211,14.311931610107422,13.419904708862305,15.531060218811035,13.499567031860352,14.12635326385498],\"yaxis\":\"y\",\"type\":\"scatter\"}],                        {\"template\":{\"data\":{\"barpolar\":[{\"marker\":{\"line\":{\"color\":\"white\",\"width\":0.5},\"pattern\":{\"fillmode\":\"overlay\",\"size\":10,\"solidity\":0.2}},\"type\":\"barpolar\"}],\"bar\":[{\"error_x\":{\"color\":\"rgb(36,36,36)\"},\"error_y\":{\"color\":\"rgb(36,36,36)\"},\"marker\":{\"line\":{\"color\":\"white\",\"width\":0.5},\"pattern\":{\"fillmode\":\"overlay\",\"size\":10,\"solidity\":0.2}},\"type\":\"bar\"}],\"carpet\":[{\"aaxis\":{\"endlinecolor\":\"rgb(36,36,36)\",\"gridcolor\":\"white\",\"linecolor\":\"white\",\"minorgridcolor\":\"white\",\"startlinecolor\":\"rgb(36,36,36)\"},\"baxis\":{\"endlinecolor\":\"rgb(36,36,36)\",\"gridcolor\":\"white\",\"linecolor\":\"white\",\"minorgridcolor\":\"white\",\"startlinecolor\":\"rgb(36,36,36)\"},\"type\":\"carpet\"}],\"choropleth\":[{\"colorbar\":{\"outlinewidth\":1,\"tickcolor\":\"rgb(36,36,36)\",\"ticks\":\"outside\"},\"type\":\"choropleth\"}],\"contourcarpet\":[{\"colorbar\":{\"outlinewidth\":1,\"tickcolor\":\"rgb(36,36,36)\",\"ticks\":\"outside\"},\"type\":\"contourcarpet\"}],\"contour\":[{\"colorbar\":{\"outlinewidth\":1,\"tickcolor\":\"rgb(36,36,36)\",\"ticks\":\"outside\"},\"colorscale\":[[0.0,\"#440154\"],[0.1111111111111111,\"#482878\"],[0.2222222222222222,\"#3e4989\"],[0.3333333333333333,\"#31688e\"],[0.4444444444444444,\"#26828e\"],[0.5555555555555556,\"#1f9e89\"],[0.6666666666666666,\"#35b779\"],[0.7777777777777778,\"#6ece58\"],[0.8888888888888888,\"#b5de2b\"],[1.0,\"#fde725\"]],\"type\":\"contour\"}],\"heatmapgl\":[{\"colorbar\":{\"outlinewidth\":1,\"tickcolor\":\"rgb(36,36,36)\",\"ticks\":\"outside\"},\"colorscale\":[[0.0,\"#440154\"],[0.1111111111111111,\"#482878\"],[0.2222222222222222,\"#3e4989\"],[0.3333333333333333,\"#31688e\"],[0.4444444444444444,\"#26828e\"],[0.5555555555555556,\"#1f9e89\"],[0.6666666666666666,\"#35b779\"],[0.7777777777777778,\"#6ece58\"],[0.8888888888888888,\"#b5de2b\"],[1.0,\"#fde725\"]],\"type\":\"heatmapgl\"}],\"heatmap\":[{\"colorbar\":{\"outlinewidth\":1,\"tickcolor\":\"rgb(36,36,36)\",\"ticks\":\"outside\"},\"colorscale\":[[0.0,\"#440154\"],[0.1111111111111111,\"#482878\"],[0.2222222222222222,\"#3e4989\"],[0.3333333333333333,\"#31688e\"],[0.4444444444444444,\"#26828e\"],[0.5555555555555556,\"#1f9e89\"],[0.6666666666666666,\"#35b779\"],[0.7777777777777778,\"#6ece58\"],[0.8888888888888888,\"#b5de2b\"],[1.0,\"#fde725\"]],\"type\":\"heatmap\"}],\"histogram2dcontour\":[{\"colorbar\":{\"outlinewidth\":1,\"tickcolor\":\"rgb(36,36,36)\",\"ticks\":\"outside\"},\"colorscale\":[[0.0,\"#440154\"],[0.1111111111111111,\"#482878\"],[0.2222222222222222,\"#3e4989\"],[0.3333333333333333,\"#31688e\"],[0.4444444444444444,\"#26828e\"],[0.5555555555555556,\"#1f9e89\"],[0.6666666666666666,\"#35b779\"],[0.7777777777777778,\"#6ece58\"],[0.8888888888888888,\"#b5de2b\"],[1.0,\"#fde725\"]],\"type\":\"histogram2dcontour\"}],\"histogram2d\":[{\"colorbar\":{\"outlinewidth\":1,\"tickcolor\":\"rgb(36,36,36)\",\"ticks\":\"outside\"},\"colorscale\":[[0.0,\"#440154\"],[0.1111111111111111,\"#482878\"],[0.2222222222222222,\"#3e4989\"],[0.3333333333333333,\"#31688e\"],[0.4444444444444444,\"#26828e\"],[0.5555555555555556,\"#1f9e89\"],[0.6666666666666666,\"#35b779\"],[0.7777777777777778,\"#6ece58\"],[0.8888888888888888,\"#b5de2b\"],[1.0,\"#fde725\"]],\"type\":\"histogram2d\"}],\"histogram\":[{\"marker\":{\"line\":{\"color\":\"white\",\"width\":0.6}},\"type\":\"histogram\"}],\"mesh3d\":[{\"colorbar\":{\"outlinewidth\":1,\"tickcolor\":\"rgb(36,36,36)\",\"ticks\":\"outside\"},\"type\":\"mesh3d\"}],\"parcoords\":[{\"line\":{\"colorbar\":{\"outlinewidth\":1,\"tickcolor\":\"rgb(36,36,36)\",\"ticks\":\"outside\"}},\"type\":\"parcoords\"}],\"pie\":[{\"automargin\":true,\"type\":\"pie\"}],\"scatter3d\":[{\"line\":{\"colorbar\":{\"outlinewidth\":1,\"tickcolor\":\"rgb(36,36,36)\",\"ticks\":\"outside\"}},\"marker\":{\"colorbar\":{\"outlinewidth\":1,\"tickcolor\":\"rgb(36,36,36)\",\"ticks\":\"outside\"}},\"type\":\"scatter3d\"}],\"scattercarpet\":[{\"marker\":{\"colorbar\":{\"outlinewidth\":1,\"tickcolor\":\"rgb(36,36,36)\",\"ticks\":\"outside\"}},\"type\":\"scattercarpet\"}],\"scattergeo\":[{\"marker\":{\"colorbar\":{\"outlinewidth\":1,\"tickcolor\":\"rgb(36,36,36)\",\"ticks\":\"outside\"}},\"type\":\"scattergeo\"}],\"scattergl\":[{\"marker\":{\"colorbar\":{\"outlinewidth\":1,\"tickcolor\":\"rgb(36,36,36)\",\"ticks\":\"outside\"}},\"type\":\"scattergl\"}],\"scattermapbox\":[{\"marker\":{\"colorbar\":{\"outlinewidth\":1,\"tickcolor\":\"rgb(36,36,36)\",\"ticks\":\"outside\"}},\"type\":\"scattermapbox\"}],\"scatterpolargl\":[{\"marker\":{\"colorbar\":{\"outlinewidth\":1,\"tickcolor\":\"rgb(36,36,36)\",\"ticks\":\"outside\"}},\"type\":\"scatterpolargl\"}],\"scatterpolar\":[{\"marker\":{\"colorbar\":{\"outlinewidth\":1,\"tickcolor\":\"rgb(36,36,36)\",\"ticks\":\"outside\"}},\"type\":\"scatterpolar\"}],\"scatter\":[{\"fillpattern\":{\"fillmode\":\"overlay\",\"size\":10,\"solidity\":0.2},\"type\":\"scatter\"}],\"scatterternary\":[{\"marker\":{\"colorbar\":{\"outlinewidth\":1,\"tickcolor\":\"rgb(36,36,36)\",\"ticks\":\"outside\"}},\"type\":\"scatterternary\"}],\"surface\":[{\"colorbar\":{\"outlinewidth\":1,\"tickcolor\":\"rgb(36,36,36)\",\"ticks\":\"outside\"},\"colorscale\":[[0.0,\"#440154\"],[0.1111111111111111,\"#482878\"],[0.2222222222222222,\"#3e4989\"],[0.3333333333333333,\"#31688e\"],[0.4444444444444444,\"#26828e\"],[0.5555555555555556,\"#1f9e89\"],[0.6666666666666666,\"#35b779\"],[0.7777777777777778,\"#6ece58\"],[0.8888888888888888,\"#b5de2b\"],[1.0,\"#fde725\"]],\"type\":\"surface\"}],\"table\":[{\"cells\":{\"fill\":{\"color\":\"rgb(237,237,237)\"},\"line\":{\"color\":\"white\"}},\"header\":{\"fill\":{\"color\":\"rgb(217,217,217)\"},\"line\":{\"color\":\"white\"}},\"type\":\"table\"}]},\"layout\":{\"annotationdefaults\":{\"arrowhead\":0,\"arrowwidth\":1},\"autotypenumbers\":\"strict\",\"coloraxis\":{\"colorbar\":{\"outlinewidth\":1,\"tickcolor\":\"rgb(36,36,36)\",\"ticks\":\"outside\"}},\"colorscale\":{\"diverging\":[[0.0,\"rgb(103,0,31)\"],[0.1,\"rgb(178,24,43)\"],[0.2,\"rgb(214,96,77)\"],[0.3,\"rgb(244,165,130)\"],[0.4,\"rgb(253,219,199)\"],[0.5,\"rgb(247,247,247)\"],[0.6,\"rgb(209,229,240)\"],[0.7,\"rgb(146,197,222)\"],[0.8,\"rgb(67,147,195)\"],[0.9,\"rgb(33,102,172)\"],[1.0,\"rgb(5,48,97)\"]],\"sequential\":[[0.0,\"#440154\"],[0.1111111111111111,\"#482878\"],[0.2222222222222222,\"#3e4989\"],[0.3333333333333333,\"#31688e\"],[0.4444444444444444,\"#26828e\"],[0.5555555555555556,\"#1f9e89\"],[0.6666666666666666,\"#35b779\"],[0.7777777777777778,\"#6ece58\"],[0.8888888888888888,\"#b5de2b\"],[1.0,\"#fde725\"]],\"sequentialminus\":[[0.0,\"#440154\"],[0.1111111111111111,\"#482878\"],[0.2222222222222222,\"#3e4989\"],[0.3333333333333333,\"#31688e\"],[0.4444444444444444,\"#26828e\"],[0.5555555555555556,\"#1f9e89\"],[0.6666666666666666,\"#35b779\"],[0.7777777777777778,\"#6ece58\"],[0.8888888888888888,\"#b5de2b\"],[1.0,\"#fde725\"]]},\"colorway\":[\"#1F77B4\",\"#FF7F0E\",\"#2CA02C\",\"#D62728\",\"#9467BD\",\"#8C564B\",\"#E377C2\",\"#7F7F7F\",\"#BCBD22\",\"#17BECF\"],\"font\":{\"color\":\"rgb(36,36,36)\"},\"geo\":{\"bgcolor\":\"white\",\"lakecolor\":\"white\",\"landcolor\":\"white\",\"showlakes\":true,\"showland\":true,\"subunitcolor\":\"white\"},\"hoverlabel\":{\"align\":\"left\"},\"hovermode\":\"closest\",\"mapbox\":{\"style\":\"light\"},\"paper_bgcolor\":\"white\",\"plot_bgcolor\":\"white\",\"polar\":{\"angularaxis\":{\"gridcolor\":\"rgb(232,232,232)\",\"linecolor\":\"rgb(36,36,36)\",\"showgrid\":false,\"showline\":true,\"ticks\":\"outside\"},\"bgcolor\":\"white\",\"radialaxis\":{\"gridcolor\":\"rgb(232,232,232)\",\"linecolor\":\"rgb(36,36,36)\",\"showgrid\":false,\"showline\":true,\"ticks\":\"outside\"}},\"scene\":{\"xaxis\":{\"backgroundcolor\":\"white\",\"gridcolor\":\"rgb(232,232,232)\",\"gridwidth\":2,\"linecolor\":\"rgb(36,36,36)\",\"showbackground\":true,\"showgrid\":false,\"showline\":true,\"ticks\":\"outside\",\"zeroline\":false,\"zerolinecolor\":\"rgb(36,36,36)\"},\"yaxis\":{\"backgroundcolor\":\"white\",\"gridcolor\":\"rgb(232,232,232)\",\"gridwidth\":2,\"linecolor\":\"rgb(36,36,36)\",\"showbackground\":true,\"showgrid\":false,\"showline\":true,\"ticks\":\"outside\",\"zeroline\":false,\"zerolinecolor\":\"rgb(36,36,36)\"},\"zaxis\":{\"backgroundcolor\":\"white\",\"gridcolor\":\"rgb(232,232,232)\",\"gridwidth\":2,\"linecolor\":\"rgb(36,36,36)\",\"showbackground\":true,\"showgrid\":false,\"showline\":true,\"ticks\":\"outside\",\"zeroline\":false,\"zerolinecolor\":\"rgb(36,36,36)\"}},\"shapedefaults\":{\"fillcolor\":\"black\",\"line\":{\"width\":0},\"opacity\":0.3},\"ternary\":{\"aaxis\":{\"gridcolor\":\"rgb(232,232,232)\",\"linecolor\":\"rgb(36,36,36)\",\"showgrid\":false,\"showline\":true,\"ticks\":\"outside\"},\"baxis\":{\"gridcolor\":\"rgb(232,232,232)\",\"linecolor\":\"rgb(36,36,36)\",\"showgrid\":false,\"showline\":true,\"ticks\":\"outside\"},\"bgcolor\":\"white\",\"caxis\":{\"gridcolor\":\"rgb(232,232,232)\",\"linecolor\":\"rgb(36,36,36)\",\"showgrid\":false,\"showline\":true,\"ticks\":\"outside\"}},\"title\":{\"x\":0.05},\"xaxis\":{\"automargin\":true,\"gridcolor\":\"rgb(232,232,232)\",\"linecolor\":\"rgb(36,36,36)\",\"showgrid\":false,\"showline\":true,\"ticks\":\"outside\",\"title\":{\"standoff\":15},\"zeroline\":false,\"zerolinecolor\":\"rgb(36,36,36)\"},\"yaxis\":{\"automargin\":true,\"gridcolor\":\"rgb(232,232,232)\",\"linecolor\":\"rgb(36,36,36)\",\"showgrid\":false,\"showline\":true,\"ticks\":\"outside\",\"title\":{\"standoff\":15},\"zeroline\":false,\"zerolinecolor\":\"rgb(36,36,36)\"}}},\"xaxis\":{\"anchor\":\"y\",\"domain\":[0.0,1.0],\"title\":{\"text\":\"\"},\"visible\":false,\"range\":[10.63045711517334,21.265710735321044]},\"yaxis\":{\"anchor\":\"x\",\"domain\":[0.0,1.0],\"title\":{\"text\":\"\"},\"visible\":false,\"range\":[11.406919002532959,17.86071925163269]},\"legend\":{\"tracegroupgap\":0,\"itemsizing\":\"constant\"},\"margin\":{\"t\":60},\"title\":{\"font\":{\"size\":22,\"color\":\"Black\"},\"text\":\"\\u003cb\\u003eIntertopic Distance Map\\u003c\\u002fb\\u003e\",\"y\":0.95,\"x\":0.5,\"xanchor\":\"center\",\"yanchor\":\"top\"},\"hoverlabel\":{\"font\":{\"size\":16,\"family\":\"Rockwell\"},\"bgcolor\":\"white\"},\"width\":650,\"height\":650,\"sliders\":[{\"active\":0,\"pad\":{\"t\":50},\"steps\":[{\"args\":[{\"marker.color\":[[\"red\",\"#B0BEC5\",\"#B0BEC5\",\"#B0BEC5\",\"#B0BEC5\",\"#B0BEC5\",\"#B0BEC5\",\"#B0BEC5\"]]}],\"label\":\"Topic 0\",\"method\":\"update\"},{\"args\":[{\"marker.color\":[[\"#B0BEC5\",\"red\",\"#B0BEC5\",\"#B0BEC5\",\"#B0BEC5\",\"#B0BEC5\",\"#B0BEC5\",\"#B0BEC5\"]]}],\"label\":\"Topic 1\",\"method\":\"update\"},{\"args\":[{\"marker.color\":[[\"#B0BEC5\",\"#B0BEC5\",\"red\",\"#B0BEC5\",\"#B0BEC5\",\"#B0BEC5\",\"#B0BEC5\",\"#B0BEC5\"]]}],\"label\":\"Topic 2\",\"method\":\"update\"},{\"args\":[{\"marker.color\":[[\"#B0BEC5\",\"#B0BEC5\",\"#B0BEC5\",\"red\",\"#B0BEC5\",\"#B0BEC5\",\"#B0BEC5\",\"#B0BEC5\"]]}],\"label\":\"Topic 3\",\"method\":\"update\"},{\"args\":[{\"marker.color\":[[\"#B0BEC5\",\"#B0BEC5\",\"#B0BEC5\",\"#B0BEC5\",\"red\",\"#B0BEC5\",\"#B0BEC5\",\"#B0BEC5\"]]}],\"label\":\"Topic 4\",\"method\":\"update\"},{\"args\":[{\"marker.color\":[[\"#B0BEC5\",\"#B0BEC5\",\"#B0BEC5\",\"#B0BEC5\",\"#B0BEC5\",\"red\",\"#B0BEC5\",\"#B0BEC5\"]]}],\"label\":\"Topic 5\",\"method\":\"update\"},{\"args\":[{\"marker.color\":[[\"#B0BEC5\",\"#B0BEC5\",\"#B0BEC5\",\"#B0BEC5\",\"#B0BEC5\",\"#B0BEC5\",\"red\",\"#B0BEC5\"]]}],\"label\":\"Topic 6\",\"method\":\"update\"},{\"args\":[{\"marker.color\":[[\"#B0BEC5\",\"#B0BEC5\",\"#B0BEC5\",\"#B0BEC5\",\"#B0BEC5\",\"#B0BEC5\",\"#B0BEC5\",\"red\"]]}],\"label\":\"Topic 7\",\"method\":\"update\"}]}],\"shapes\":[{\"line\":{\"color\":\"#CFD8DC\",\"width\":2},\"type\":\"line\",\"x0\":15.948083925247191,\"x1\":15.948083925247191,\"y0\":11.406919002532959,\"y1\":17.86071925163269},{\"line\":{\"color\":\"#9E9E9E\",\"width\":2},\"type\":\"line\",\"x0\":10.63045711517334,\"x1\":21.265710735321044,\"y0\":14.633819127082825,\"y1\":14.633819127082825}],\"annotations\":[{\"showarrow\":false,\"text\":\"D1\",\"x\":10.63045711517334,\"y\":14.633819127082825,\"yshift\":10},{\"showarrow\":false,\"text\":\"D2\",\"x\":15.948083925247191,\"xshift\":10,\"y\":17.86071925163269}]},                        {\"responsive\": true}                    ).then(function(){\n",
              "                            \n",
              "var gd = document.getElementById('868f5de8-23c6-49c8-93b1-ad779c373e00');\n",
              "var x = new MutationObserver(function (mutations, observer) {{\n",
              "        var display = window.getComputedStyle(gd).display;\n",
              "        if (!display || display === 'none') {{\n",
              "            console.log([gd, 'removed!']);\n",
              "            Plotly.purge(gd);\n",
              "            observer.disconnect();\n",
              "        }}\n",
              "}});\n",
              "\n",
              "// Listen for the removal of the full notebook cells\n",
              "var notebookContainer = gd.closest('#notebook-container');\n",
              "if (notebookContainer) {{\n",
              "    x.observe(notebookContainer, {childList: true});\n",
              "}}\n",
              "\n",
              "// Listen for the clearing of the current output cell\n",
              "var outputEl = gd.closest('.output');\n",
              "if (outputEl) {{\n",
              "    x.observe(outputEl, {childList: true});\n",
              "}}\n",
              "\n",
              "                        })                };                            </script>        </div>\n",
              "</body>\n",
              "</html>"
            ]
          },
          "metadata": {}
        }
      ]
    },
    {
      "cell_type": "markdown",
      "metadata": {
        "id": "ITB7bf6q8nWQ"
      },
      "source": [
        "## Visualize Topic Probabilities\n",
        "\n",
        "The variable `probabilities` that is returned from `transform()` or `fit_transform()` can\n",
        "be used to understand how confident BERTopic is that certain topics can be found in a document.\n",
        "\n",
        "To visualize the distributions, we simply call:"
      ]
    },
    {
      "cell_type": "code",
      "metadata": {
        "colab": {
          "base_uri": "https://localhost:8080/",
          "height": 617
        },
        "id": "ypfI1-KHdmcX",
        "outputId": "018885de-32d6-4b73-941f-7974d19fe17a"
      },
      "source": [
        "topic_model.visualize_distribution(probs[104], min_probability=0.015)"
      ],
      "execution_count": 77,
      "outputs": [
        {
          "output_type": "display_data",
          "data": {
            "text/html": [
              "<html>\n",
              "<head><meta charset=\"utf-8\" /></head>\n",
              "<body>\n",
              "    <div>            <script src=\"https://cdnjs.cloudflare.com/ajax/libs/mathjax/2.7.5/MathJax.js?config=TeX-AMS-MML_SVG\"></script><script type=\"text/javascript\">if (window.MathJax && window.MathJax.Hub && window.MathJax.Hub.Config) {window.MathJax.Hub.Config({SVG: {font: \"STIX-Web\"}});}</script>                <script type=\"text/javascript\">window.PlotlyConfig = {MathJaxConfig: 'local'};</script>\n",
              "        <script charset=\"utf-8\" src=\"https://cdn.plot.ly/plotly-2.24.1.min.js\"></script>                <div id=\"a0084df9-bd94-4539-88e4-7ef9249807bd\" class=\"plotly-graph-div\" style=\"height:600px; width:800px;\"></div>            <script type=\"text/javascript\">                                    window.PLOTLYENV=window.PLOTLYENV || {};                                    if (document.getElementById(\"a0084df9-bd94-4539-88e4-7ef9249807bd\")) {                    Plotly.newPlot(                        \"a0084df9-bd94-4539-88e4-7ef9249807bd\",                        [{\"marker\":{\"color\":\"#C8D2D7\",\"line\":{\"color\":\"#6E8484\",\"width\":1}},\"orientation\":\"h\",\"x\":[0.2055114779504556,0.0486300675643579,0.04324840892493738,0.10118919357812056,0.03892321155588799,0.07169997422575813,0.13836527323689252,0.07586243578848154],\"y\":[\"\\u003cb\\u003eTopic 0\\u003c\\u002fb\\u003e: mentor_team_mentor team_...\",\"\\u003cb\\u003eTopic 1\\u003c\\u002fb\\u003e: health_mental health_tim...\",\"\\u003cb\\u003eTopic 2\\u003c\\u002fb\\u003e: time_feel_class time_cla...\",\"\\u003cb\\u003eTopic 3\\u003c\\u002fb\\u003e: class_play_time_team_cla...\",\"\\u003cb\\u003eTopic 4\\u003c\\u002fb\\u003e: time_helped_aside_aside ...\",\"\\u003cb\\u003eTopic 5\\u003c\\u002fb\\u003e: care_selfcare_selfcompas...\",\"\\u003cb\\u003eTopic 6\\u003c\\u002fb\\u003e: learnt_deeper connection...\",\"\\u003cb\\u003eTopic 7\\u003c\\u002fb\\u003e: discussed_topic_helped_d...\"],\"type\":\"bar\"}],                        {\"template\":{\"data\":{\"barpolar\":[{\"marker\":{\"line\":{\"color\":\"white\",\"width\":0.5},\"pattern\":{\"fillmode\":\"overlay\",\"size\":10,\"solidity\":0.2}},\"type\":\"barpolar\"}],\"bar\":[{\"error_x\":{\"color\":\"rgb(36,36,36)\"},\"error_y\":{\"color\":\"rgb(36,36,36)\"},\"marker\":{\"line\":{\"color\":\"white\",\"width\":0.5},\"pattern\":{\"fillmode\":\"overlay\",\"size\":10,\"solidity\":0.2}},\"type\":\"bar\"}],\"carpet\":[{\"aaxis\":{\"endlinecolor\":\"rgb(36,36,36)\",\"gridcolor\":\"white\",\"linecolor\":\"white\",\"minorgridcolor\":\"white\",\"startlinecolor\":\"rgb(36,36,36)\"},\"baxis\":{\"endlinecolor\":\"rgb(36,36,36)\",\"gridcolor\":\"white\",\"linecolor\":\"white\",\"minorgridcolor\":\"white\",\"startlinecolor\":\"rgb(36,36,36)\"},\"type\":\"carpet\"}],\"choropleth\":[{\"colorbar\":{\"outlinewidth\":1,\"tickcolor\":\"rgb(36,36,36)\",\"ticks\":\"outside\"},\"type\":\"choropleth\"}],\"contourcarpet\":[{\"colorbar\":{\"outlinewidth\":1,\"tickcolor\":\"rgb(36,36,36)\",\"ticks\":\"outside\"},\"type\":\"contourcarpet\"}],\"contour\":[{\"colorbar\":{\"outlinewidth\":1,\"tickcolor\":\"rgb(36,36,36)\",\"ticks\":\"outside\"},\"colorscale\":[[0.0,\"#440154\"],[0.1111111111111111,\"#482878\"],[0.2222222222222222,\"#3e4989\"],[0.3333333333333333,\"#31688e\"],[0.4444444444444444,\"#26828e\"],[0.5555555555555556,\"#1f9e89\"],[0.6666666666666666,\"#35b779\"],[0.7777777777777778,\"#6ece58\"],[0.8888888888888888,\"#b5de2b\"],[1.0,\"#fde725\"]],\"type\":\"contour\"}],\"heatmapgl\":[{\"colorbar\":{\"outlinewidth\":1,\"tickcolor\":\"rgb(36,36,36)\",\"ticks\":\"outside\"},\"colorscale\":[[0.0,\"#440154\"],[0.1111111111111111,\"#482878\"],[0.2222222222222222,\"#3e4989\"],[0.3333333333333333,\"#31688e\"],[0.4444444444444444,\"#26828e\"],[0.5555555555555556,\"#1f9e89\"],[0.6666666666666666,\"#35b779\"],[0.7777777777777778,\"#6ece58\"],[0.8888888888888888,\"#b5de2b\"],[1.0,\"#fde725\"]],\"type\":\"heatmapgl\"}],\"heatmap\":[{\"colorbar\":{\"outlinewidth\":1,\"tickcolor\":\"rgb(36,36,36)\",\"ticks\":\"outside\"},\"colorscale\":[[0.0,\"#440154\"],[0.1111111111111111,\"#482878\"],[0.2222222222222222,\"#3e4989\"],[0.3333333333333333,\"#31688e\"],[0.4444444444444444,\"#26828e\"],[0.5555555555555556,\"#1f9e89\"],[0.6666666666666666,\"#35b779\"],[0.7777777777777778,\"#6ece58\"],[0.8888888888888888,\"#b5de2b\"],[1.0,\"#fde725\"]],\"type\":\"heatmap\"}],\"histogram2dcontour\":[{\"colorbar\":{\"outlinewidth\":1,\"tickcolor\":\"rgb(36,36,36)\",\"ticks\":\"outside\"},\"colorscale\":[[0.0,\"#440154\"],[0.1111111111111111,\"#482878\"],[0.2222222222222222,\"#3e4989\"],[0.3333333333333333,\"#31688e\"],[0.4444444444444444,\"#26828e\"],[0.5555555555555556,\"#1f9e89\"],[0.6666666666666666,\"#35b779\"],[0.7777777777777778,\"#6ece58\"],[0.8888888888888888,\"#b5de2b\"],[1.0,\"#fde725\"]],\"type\":\"histogram2dcontour\"}],\"histogram2d\":[{\"colorbar\":{\"outlinewidth\":1,\"tickcolor\":\"rgb(36,36,36)\",\"ticks\":\"outside\"},\"colorscale\":[[0.0,\"#440154\"],[0.1111111111111111,\"#482878\"],[0.2222222222222222,\"#3e4989\"],[0.3333333333333333,\"#31688e\"],[0.4444444444444444,\"#26828e\"],[0.5555555555555556,\"#1f9e89\"],[0.6666666666666666,\"#35b779\"],[0.7777777777777778,\"#6ece58\"],[0.8888888888888888,\"#b5de2b\"],[1.0,\"#fde725\"]],\"type\":\"histogram2d\"}],\"histogram\":[{\"marker\":{\"line\":{\"color\":\"white\",\"width\":0.6}},\"type\":\"histogram\"}],\"mesh3d\":[{\"colorbar\":{\"outlinewidth\":1,\"tickcolor\":\"rgb(36,36,36)\",\"ticks\":\"outside\"},\"type\":\"mesh3d\"}],\"parcoords\":[{\"line\":{\"colorbar\":{\"outlinewidth\":1,\"tickcolor\":\"rgb(36,36,36)\",\"ticks\":\"outside\"}},\"type\":\"parcoords\"}],\"pie\":[{\"automargin\":true,\"type\":\"pie\"}],\"scatter3d\":[{\"line\":{\"colorbar\":{\"outlinewidth\":1,\"tickcolor\":\"rgb(36,36,36)\",\"ticks\":\"outside\"}},\"marker\":{\"colorbar\":{\"outlinewidth\":1,\"tickcolor\":\"rgb(36,36,36)\",\"ticks\":\"outside\"}},\"type\":\"scatter3d\"}],\"scattercarpet\":[{\"marker\":{\"colorbar\":{\"outlinewidth\":1,\"tickcolor\":\"rgb(36,36,36)\",\"ticks\":\"outside\"}},\"type\":\"scattercarpet\"}],\"scattergeo\":[{\"marker\":{\"colorbar\":{\"outlinewidth\":1,\"tickcolor\":\"rgb(36,36,36)\",\"ticks\":\"outside\"}},\"type\":\"scattergeo\"}],\"scattergl\":[{\"marker\":{\"colorbar\":{\"outlinewidth\":1,\"tickcolor\":\"rgb(36,36,36)\",\"ticks\":\"outside\"}},\"type\":\"scattergl\"}],\"scattermapbox\":[{\"marker\":{\"colorbar\":{\"outlinewidth\":1,\"tickcolor\":\"rgb(36,36,36)\",\"ticks\":\"outside\"}},\"type\":\"scattermapbox\"}],\"scatterpolargl\":[{\"marker\":{\"colorbar\":{\"outlinewidth\":1,\"tickcolor\":\"rgb(36,36,36)\",\"ticks\":\"outside\"}},\"type\":\"scatterpolargl\"}],\"scatterpolar\":[{\"marker\":{\"colorbar\":{\"outlinewidth\":1,\"tickcolor\":\"rgb(36,36,36)\",\"ticks\":\"outside\"}},\"type\":\"scatterpolar\"}],\"scatter\":[{\"fillpattern\":{\"fillmode\":\"overlay\",\"size\":10,\"solidity\":0.2},\"type\":\"scatter\"}],\"scatterternary\":[{\"marker\":{\"colorbar\":{\"outlinewidth\":1,\"tickcolor\":\"rgb(36,36,36)\",\"ticks\":\"outside\"}},\"type\":\"scatterternary\"}],\"surface\":[{\"colorbar\":{\"outlinewidth\":1,\"tickcolor\":\"rgb(36,36,36)\",\"ticks\":\"outside\"},\"colorscale\":[[0.0,\"#440154\"],[0.1111111111111111,\"#482878\"],[0.2222222222222222,\"#3e4989\"],[0.3333333333333333,\"#31688e\"],[0.4444444444444444,\"#26828e\"],[0.5555555555555556,\"#1f9e89\"],[0.6666666666666666,\"#35b779\"],[0.7777777777777778,\"#6ece58\"],[0.8888888888888888,\"#b5de2b\"],[1.0,\"#fde725\"]],\"type\":\"surface\"}],\"table\":[{\"cells\":{\"fill\":{\"color\":\"rgb(237,237,237)\"},\"line\":{\"color\":\"white\"}},\"header\":{\"fill\":{\"color\":\"rgb(217,217,217)\"},\"line\":{\"color\":\"white\"}},\"type\":\"table\"}]},\"layout\":{\"annotationdefaults\":{\"arrowhead\":0,\"arrowwidth\":1},\"autotypenumbers\":\"strict\",\"coloraxis\":{\"colorbar\":{\"outlinewidth\":1,\"tickcolor\":\"rgb(36,36,36)\",\"ticks\":\"outside\"}},\"colorscale\":{\"diverging\":[[0.0,\"rgb(103,0,31)\"],[0.1,\"rgb(178,24,43)\"],[0.2,\"rgb(214,96,77)\"],[0.3,\"rgb(244,165,130)\"],[0.4,\"rgb(253,219,199)\"],[0.5,\"rgb(247,247,247)\"],[0.6,\"rgb(209,229,240)\"],[0.7,\"rgb(146,197,222)\"],[0.8,\"rgb(67,147,195)\"],[0.9,\"rgb(33,102,172)\"],[1.0,\"rgb(5,48,97)\"]],\"sequential\":[[0.0,\"#440154\"],[0.1111111111111111,\"#482878\"],[0.2222222222222222,\"#3e4989\"],[0.3333333333333333,\"#31688e\"],[0.4444444444444444,\"#26828e\"],[0.5555555555555556,\"#1f9e89\"],[0.6666666666666666,\"#35b779\"],[0.7777777777777778,\"#6ece58\"],[0.8888888888888888,\"#b5de2b\"],[1.0,\"#fde725\"]],\"sequentialminus\":[[0.0,\"#440154\"],[0.1111111111111111,\"#482878\"],[0.2222222222222222,\"#3e4989\"],[0.3333333333333333,\"#31688e\"],[0.4444444444444444,\"#26828e\"],[0.5555555555555556,\"#1f9e89\"],[0.6666666666666666,\"#35b779\"],[0.7777777777777778,\"#6ece58\"],[0.8888888888888888,\"#b5de2b\"],[1.0,\"#fde725\"]]},\"colorway\":[\"#1F77B4\",\"#FF7F0E\",\"#2CA02C\",\"#D62728\",\"#9467BD\",\"#8C564B\",\"#E377C2\",\"#7F7F7F\",\"#BCBD22\",\"#17BECF\"],\"font\":{\"color\":\"rgb(36,36,36)\"},\"geo\":{\"bgcolor\":\"white\",\"lakecolor\":\"white\",\"landcolor\":\"white\",\"showlakes\":true,\"showland\":true,\"subunitcolor\":\"white\"},\"hoverlabel\":{\"align\":\"left\"},\"hovermode\":\"closest\",\"mapbox\":{\"style\":\"light\"},\"paper_bgcolor\":\"white\",\"plot_bgcolor\":\"white\",\"polar\":{\"angularaxis\":{\"gridcolor\":\"rgb(232,232,232)\",\"linecolor\":\"rgb(36,36,36)\",\"showgrid\":false,\"showline\":true,\"ticks\":\"outside\"},\"bgcolor\":\"white\",\"radialaxis\":{\"gridcolor\":\"rgb(232,232,232)\",\"linecolor\":\"rgb(36,36,36)\",\"showgrid\":false,\"showline\":true,\"ticks\":\"outside\"}},\"scene\":{\"xaxis\":{\"backgroundcolor\":\"white\",\"gridcolor\":\"rgb(232,232,232)\",\"gridwidth\":2,\"linecolor\":\"rgb(36,36,36)\",\"showbackground\":true,\"showgrid\":false,\"showline\":true,\"ticks\":\"outside\",\"zeroline\":false,\"zerolinecolor\":\"rgb(36,36,36)\"},\"yaxis\":{\"backgroundcolor\":\"white\",\"gridcolor\":\"rgb(232,232,232)\",\"gridwidth\":2,\"linecolor\":\"rgb(36,36,36)\",\"showbackground\":true,\"showgrid\":false,\"showline\":true,\"ticks\":\"outside\",\"zeroline\":false,\"zerolinecolor\":\"rgb(36,36,36)\"},\"zaxis\":{\"backgroundcolor\":\"white\",\"gridcolor\":\"rgb(232,232,232)\",\"gridwidth\":2,\"linecolor\":\"rgb(36,36,36)\",\"showbackground\":true,\"showgrid\":false,\"showline\":true,\"ticks\":\"outside\",\"zeroline\":false,\"zerolinecolor\":\"rgb(36,36,36)\"}},\"shapedefaults\":{\"fillcolor\":\"black\",\"line\":{\"width\":0},\"opacity\":0.3},\"ternary\":{\"aaxis\":{\"gridcolor\":\"rgb(232,232,232)\",\"linecolor\":\"rgb(36,36,36)\",\"showgrid\":false,\"showline\":true,\"ticks\":\"outside\"},\"baxis\":{\"gridcolor\":\"rgb(232,232,232)\",\"linecolor\":\"rgb(36,36,36)\",\"showgrid\":false,\"showline\":true,\"ticks\":\"outside\"},\"bgcolor\":\"white\",\"caxis\":{\"gridcolor\":\"rgb(232,232,232)\",\"linecolor\":\"rgb(36,36,36)\",\"showgrid\":false,\"showline\":true,\"ticks\":\"outside\"}},\"title\":{\"x\":0.05},\"xaxis\":{\"automargin\":true,\"gridcolor\":\"rgb(232,232,232)\",\"linecolor\":\"rgb(36,36,36)\",\"showgrid\":false,\"showline\":true,\"ticks\":\"outside\",\"title\":{\"standoff\":15},\"zeroline\":false,\"zerolinecolor\":\"rgb(36,36,36)\"},\"yaxis\":{\"automargin\":true,\"gridcolor\":\"rgb(232,232,232)\",\"linecolor\":\"rgb(36,36,36)\",\"showgrid\":false,\"showline\":true,\"ticks\":\"outside\",\"title\":{\"standoff\":15},\"zeroline\":false,\"zerolinecolor\":\"rgb(36,36,36)\"}}},\"title\":{\"font\":{\"size\":22,\"color\":\"Black\"},\"text\":\"\\u003cb\\u003eTopic Probability Distribution\\u003c\\u002fb\\u003e\",\"y\":0.95,\"x\":0.5,\"xanchor\":\"center\",\"yanchor\":\"top\"},\"hoverlabel\":{\"font\":{\"size\":16,\"family\":\"Rockwell\"},\"bgcolor\":\"white\"},\"xaxis\":{\"title\":{\"text\":\"Probability\"}},\"width\":800,\"height\":600},                        {\"responsive\": true}                    ).then(function(){\n",
              "                            \n",
              "var gd = document.getElementById('a0084df9-bd94-4539-88e4-7ef9249807bd');\n",
              "var x = new MutationObserver(function (mutations, observer) {{\n",
              "        var display = window.getComputedStyle(gd).display;\n",
              "        if (!display || display === 'none') {{\n",
              "            console.log([gd, 'removed!']);\n",
              "            Plotly.purge(gd);\n",
              "            observer.disconnect();\n",
              "        }}\n",
              "}});\n",
              "\n",
              "// Listen for the removal of the full notebook cells\n",
              "var notebookContainer = gd.closest('#notebook-container');\n",
              "if (notebookContainer) {{\n",
              "    x.observe(notebookContainer, {childList: true});\n",
              "}}\n",
              "\n",
              "// Listen for the clearing of the current output cell\n",
              "var outputEl = gd.closest('.output');\n",
              "if (outputEl) {{\n",
              "    x.observe(outputEl, {childList: true});\n",
              "}}\n",
              "\n",
              "                        })                };                            </script>        </div>\n",
              "</body>\n",
              "</html>"
            ]
          },
          "metadata": {}
        }
      ]
    },
    {
      "cell_type": "markdown",
      "metadata": {
        "id": "QHRTeSpl5JYB"
      },
      "source": [
        "## Visualize Topic Hierarchy\n",
        "\n",
        "The topics that were created can be hierarchically reduced. In order to understand the potential hierarchical structure of the topics, we can use scipy.cluster.hierarchy to create clusters and visualize how they relate to one another. This might help selecting an appropriate nr_topics when reducing the number of topics that you have created."
      ]
    },
    {
      "cell_type": "code",
      "metadata": {
        "colab": {
          "base_uri": "https://localhost:8080/",
          "height": 292
        },
        "id": "ltmLFRR56a4X",
        "outputId": "c1983ca4-8bb0-4c88-dc74-2c398683f5c5"
      },
      "source": [
        "topic_model.visualize_hierarchy(top_n_topics=5)"
      ],
      "execution_count": 78,
      "outputs": [
        {
          "output_type": "display_data",
          "data": {
            "text/html": [
              "<html>\n",
              "<head><meta charset=\"utf-8\" /></head>\n",
              "<body>\n",
              "    <div>            <script src=\"https://cdnjs.cloudflare.com/ajax/libs/mathjax/2.7.5/MathJax.js?config=TeX-AMS-MML_SVG\"></script><script type=\"text/javascript\">if (window.MathJax && window.MathJax.Hub && window.MathJax.Hub.Config) {window.MathJax.Hub.Config({SVG: {font: \"STIX-Web\"}});}</script>                <script type=\"text/javascript\">window.PlotlyConfig = {MathJaxConfig: 'local'};</script>\n",
              "        <script charset=\"utf-8\" src=\"https://cdn.plot.ly/plotly-2.24.1.min.js\"></script>                <div id=\"a308b1ea-21f2-437a-b803-22dc3f96faf6\" class=\"plotly-graph-div\" style=\"height:275px; width:1000px;\"></div>            <script type=\"text/javascript\">                                    window.PLOTLYENV=window.PLOTLYENV || {};                                    if (document.getElementById(\"a308b1ea-21f2-437a-b803-22dc3f96faf6\")) {                    Plotly.newPlot(                        \"a308b1ea-21f2-437a-b803-22dc3f96faf6\",                        [{\"hoverinfo\":\"text\",\"marker\":{\"color\":\"rgb(61,153,112)\"},\"mode\":\"lines\",\"x\":[0.0,0.7252000239128031,0.7252000239128031,0.0],\"xaxis\":\"x\",\"y\":[-5.0,-5.0,-15.0,-15.0],\"yaxis\":\"y\",\"type\":\"scatter\"},{\"hoverinfo\":\"text\",\"marker\":{\"color\":\"rgb(61,153,112)\"},\"mode\":\"lines\",\"x\":[0.0,0.6563941573666152,0.6563941573666152,0.0],\"xaxis\":\"x\",\"y\":[-25.0,-25.0,-35.0,-35.0],\"yaxis\":\"y\",\"type\":\"scatter\"},{\"hoverinfo\":\"text\",\"marker\":{\"color\":\"rgb(61,153,112)\"},\"mode\":\"lines\",\"x\":[0.6563941573666152,0.7666725302283449,0.7666725302283449,0.0],\"xaxis\":\"x\",\"y\":[-30.0,-30.0,-45.0,-45.0],\"yaxis\":\"y\",\"type\":\"scatter\"},{\"hoverinfo\":\"text\",\"marker\":{\"color\":\"rgb(61,153,112)\"},\"mode\":\"lines\",\"x\":[0.7252000239128031,0.8702463100711266,0.8702463100711266,0.7666725302283449],\"xaxis\":\"x\",\"y\":[-10.0,-10.0,-37.5,-37.5],\"yaxis\":\"y\",\"type\":\"scatter\"}],                        {\"autosize\":false,\"height\":275,\"hovermode\":\"closest\",\"showlegend\":false,\"width\":1000,\"xaxis\":{\"mirror\":\"allticks\",\"rangemode\":\"tozero\",\"showgrid\":false,\"showline\":true,\"showticklabels\":true,\"ticks\":\"outside\",\"type\":\"linear\",\"zeroline\":false},\"yaxis\":{\"mirror\":\"allticks\",\"rangemode\":\"tozero\",\"showgrid\":false,\"showline\":true,\"showticklabels\":true,\"tickmode\":\"array\",\"ticks\":\"outside\",\"ticktext\":[\"3_class_play_time\",\"0_mentor_team_mentor team\",\"2_time_feel_class time\",\"1_health_mental health_time\",\"4_time_helped_aside\"],\"tickvals\":[-5.0,-15.0,-25.0,-35.0,-45.0],\"type\":\"linear\",\"zeroline\":false,\"range\":[-50.0,0.0]},\"template\":{\"data\":{\"barpolar\":[{\"marker\":{\"line\":{\"color\":\"white\",\"width\":0.5},\"pattern\":{\"fillmode\":\"overlay\",\"size\":10,\"solidity\":0.2}},\"type\":\"barpolar\"}],\"bar\":[{\"error_x\":{\"color\":\"#2a3f5f\"},\"error_y\":{\"color\":\"#2a3f5f\"},\"marker\":{\"line\":{\"color\":\"white\",\"width\":0.5},\"pattern\":{\"fillmode\":\"overlay\",\"size\":10,\"solidity\":0.2}},\"type\":\"bar\"}],\"carpet\":[{\"aaxis\":{\"endlinecolor\":\"#2a3f5f\",\"gridcolor\":\"#C8D4E3\",\"linecolor\":\"#C8D4E3\",\"minorgridcolor\":\"#C8D4E3\",\"startlinecolor\":\"#2a3f5f\"},\"baxis\":{\"endlinecolor\":\"#2a3f5f\",\"gridcolor\":\"#C8D4E3\",\"linecolor\":\"#C8D4E3\",\"minorgridcolor\":\"#C8D4E3\",\"startlinecolor\":\"#2a3f5f\"},\"type\":\"carpet\"}],\"choropleth\":[{\"colorbar\":{\"outlinewidth\":0,\"ticks\":\"\"},\"type\":\"choropleth\"}],\"contourcarpet\":[{\"colorbar\":{\"outlinewidth\":0,\"ticks\":\"\"},\"type\":\"contourcarpet\"}],\"contour\":[{\"colorbar\":{\"outlinewidth\":0,\"ticks\":\"\"},\"colorscale\":[[0.0,\"#0d0887\"],[0.1111111111111111,\"#46039f\"],[0.2222222222222222,\"#7201a8\"],[0.3333333333333333,\"#9c179e\"],[0.4444444444444444,\"#bd3786\"],[0.5555555555555556,\"#d8576b\"],[0.6666666666666666,\"#ed7953\"],[0.7777777777777778,\"#fb9f3a\"],[0.8888888888888888,\"#fdca26\"],[1.0,\"#f0f921\"]],\"type\":\"contour\"}],\"heatmapgl\":[{\"colorbar\":{\"outlinewidth\":0,\"ticks\":\"\"},\"colorscale\":[[0.0,\"#0d0887\"],[0.1111111111111111,\"#46039f\"],[0.2222222222222222,\"#7201a8\"],[0.3333333333333333,\"#9c179e\"],[0.4444444444444444,\"#bd3786\"],[0.5555555555555556,\"#d8576b\"],[0.6666666666666666,\"#ed7953\"],[0.7777777777777778,\"#fb9f3a\"],[0.8888888888888888,\"#fdca26\"],[1.0,\"#f0f921\"]],\"type\":\"heatmapgl\"}],\"heatmap\":[{\"colorbar\":{\"outlinewidth\":0,\"ticks\":\"\"},\"colorscale\":[[0.0,\"#0d0887\"],[0.1111111111111111,\"#46039f\"],[0.2222222222222222,\"#7201a8\"],[0.3333333333333333,\"#9c179e\"],[0.4444444444444444,\"#bd3786\"],[0.5555555555555556,\"#d8576b\"],[0.6666666666666666,\"#ed7953\"],[0.7777777777777778,\"#fb9f3a\"],[0.8888888888888888,\"#fdca26\"],[1.0,\"#f0f921\"]],\"type\":\"heatmap\"}],\"histogram2dcontour\":[{\"colorbar\":{\"outlinewidth\":0,\"ticks\":\"\"},\"colorscale\":[[0.0,\"#0d0887\"],[0.1111111111111111,\"#46039f\"],[0.2222222222222222,\"#7201a8\"],[0.3333333333333333,\"#9c179e\"],[0.4444444444444444,\"#bd3786\"],[0.5555555555555556,\"#d8576b\"],[0.6666666666666666,\"#ed7953\"],[0.7777777777777778,\"#fb9f3a\"],[0.8888888888888888,\"#fdca26\"],[1.0,\"#f0f921\"]],\"type\":\"histogram2dcontour\"}],\"histogram2d\":[{\"colorbar\":{\"outlinewidth\":0,\"ticks\":\"\"},\"colorscale\":[[0.0,\"#0d0887\"],[0.1111111111111111,\"#46039f\"],[0.2222222222222222,\"#7201a8\"],[0.3333333333333333,\"#9c179e\"],[0.4444444444444444,\"#bd3786\"],[0.5555555555555556,\"#d8576b\"],[0.6666666666666666,\"#ed7953\"],[0.7777777777777778,\"#fb9f3a\"],[0.8888888888888888,\"#fdca26\"],[1.0,\"#f0f921\"]],\"type\":\"histogram2d\"}],\"histogram\":[{\"marker\":{\"pattern\":{\"fillmode\":\"overlay\",\"size\":10,\"solidity\":0.2}},\"type\":\"histogram\"}],\"mesh3d\":[{\"colorbar\":{\"outlinewidth\":0,\"ticks\":\"\"},\"type\":\"mesh3d\"}],\"parcoords\":[{\"line\":{\"colorbar\":{\"outlinewidth\":0,\"ticks\":\"\"}},\"type\":\"parcoords\"}],\"pie\":[{\"automargin\":true,\"type\":\"pie\"}],\"scatter3d\":[{\"line\":{\"colorbar\":{\"outlinewidth\":0,\"ticks\":\"\"}},\"marker\":{\"colorbar\":{\"outlinewidth\":0,\"ticks\":\"\"}},\"type\":\"scatter3d\"}],\"scattercarpet\":[{\"marker\":{\"colorbar\":{\"outlinewidth\":0,\"ticks\":\"\"}},\"type\":\"scattercarpet\"}],\"scattergeo\":[{\"marker\":{\"colorbar\":{\"outlinewidth\":0,\"ticks\":\"\"}},\"type\":\"scattergeo\"}],\"scattergl\":[{\"marker\":{\"colorbar\":{\"outlinewidth\":0,\"ticks\":\"\"}},\"type\":\"scattergl\"}],\"scattermapbox\":[{\"marker\":{\"colorbar\":{\"outlinewidth\":0,\"ticks\":\"\"}},\"type\":\"scattermapbox\"}],\"scatterpolargl\":[{\"marker\":{\"colorbar\":{\"outlinewidth\":0,\"ticks\":\"\"}},\"type\":\"scatterpolargl\"}],\"scatterpolar\":[{\"marker\":{\"colorbar\":{\"outlinewidth\":0,\"ticks\":\"\"}},\"type\":\"scatterpolar\"}],\"scatter\":[{\"fillpattern\":{\"fillmode\":\"overlay\",\"size\":10,\"solidity\":0.2},\"type\":\"scatter\"}],\"scatterternary\":[{\"marker\":{\"colorbar\":{\"outlinewidth\":0,\"ticks\":\"\"}},\"type\":\"scatterternary\"}],\"surface\":[{\"colorbar\":{\"outlinewidth\":0,\"ticks\":\"\"},\"colorscale\":[[0.0,\"#0d0887\"],[0.1111111111111111,\"#46039f\"],[0.2222222222222222,\"#7201a8\"],[0.3333333333333333,\"#9c179e\"],[0.4444444444444444,\"#bd3786\"],[0.5555555555555556,\"#d8576b\"],[0.6666666666666666,\"#ed7953\"],[0.7777777777777778,\"#fb9f3a\"],[0.8888888888888888,\"#fdca26\"],[1.0,\"#f0f921\"]],\"type\":\"surface\"}],\"table\":[{\"cells\":{\"fill\":{\"color\":\"#EBF0F8\"},\"line\":{\"color\":\"white\"}},\"header\":{\"fill\":{\"color\":\"#C8D4E3\"},\"line\":{\"color\":\"white\"}},\"type\":\"table\"}]},\"layout\":{\"annotationdefaults\":{\"arrowcolor\":\"#2a3f5f\",\"arrowhead\":0,\"arrowwidth\":1},\"autotypenumbers\":\"strict\",\"coloraxis\":{\"colorbar\":{\"outlinewidth\":0,\"ticks\":\"\"}},\"colorscale\":{\"diverging\":[[0,\"#8e0152\"],[0.1,\"#c51b7d\"],[0.2,\"#de77ae\"],[0.3,\"#f1b6da\"],[0.4,\"#fde0ef\"],[0.5,\"#f7f7f7\"],[0.6,\"#e6f5d0\"],[0.7,\"#b8e186\"],[0.8,\"#7fbc41\"],[0.9,\"#4d9221\"],[1,\"#276419\"]],\"sequential\":[[0.0,\"#0d0887\"],[0.1111111111111111,\"#46039f\"],[0.2222222222222222,\"#7201a8\"],[0.3333333333333333,\"#9c179e\"],[0.4444444444444444,\"#bd3786\"],[0.5555555555555556,\"#d8576b\"],[0.6666666666666666,\"#ed7953\"],[0.7777777777777778,\"#fb9f3a\"],[0.8888888888888888,\"#fdca26\"],[1.0,\"#f0f921\"]],\"sequentialminus\":[[0.0,\"#0d0887\"],[0.1111111111111111,\"#46039f\"],[0.2222222222222222,\"#7201a8\"],[0.3333333333333333,\"#9c179e\"],[0.4444444444444444,\"#bd3786\"],[0.5555555555555556,\"#d8576b\"],[0.6666666666666666,\"#ed7953\"],[0.7777777777777778,\"#fb9f3a\"],[0.8888888888888888,\"#fdca26\"],[1.0,\"#f0f921\"]]},\"colorway\":[\"#636efa\",\"#EF553B\",\"#00cc96\",\"#ab63fa\",\"#FFA15A\",\"#19d3f3\",\"#FF6692\",\"#B6E880\",\"#FF97FF\",\"#FECB52\"],\"font\":{\"color\":\"#2a3f5f\"},\"geo\":{\"bgcolor\":\"white\",\"lakecolor\":\"white\",\"landcolor\":\"white\",\"showlakes\":true,\"showland\":true,\"subunitcolor\":\"#C8D4E3\"},\"hoverlabel\":{\"align\":\"left\"},\"hovermode\":\"closest\",\"mapbox\":{\"style\":\"light\"},\"paper_bgcolor\":\"white\",\"plot_bgcolor\":\"white\",\"polar\":{\"angularaxis\":{\"gridcolor\":\"#EBF0F8\",\"linecolor\":\"#EBF0F8\",\"ticks\":\"\"},\"bgcolor\":\"white\",\"radialaxis\":{\"gridcolor\":\"#EBF0F8\",\"linecolor\":\"#EBF0F8\",\"ticks\":\"\"}},\"scene\":{\"xaxis\":{\"backgroundcolor\":\"white\",\"gridcolor\":\"#DFE8F3\",\"gridwidth\":2,\"linecolor\":\"#EBF0F8\",\"showbackground\":true,\"ticks\":\"\",\"zerolinecolor\":\"#EBF0F8\"},\"yaxis\":{\"backgroundcolor\":\"white\",\"gridcolor\":\"#DFE8F3\",\"gridwidth\":2,\"linecolor\":\"#EBF0F8\",\"showbackground\":true,\"ticks\":\"\",\"zerolinecolor\":\"#EBF0F8\"},\"zaxis\":{\"backgroundcolor\":\"white\",\"gridcolor\":\"#DFE8F3\",\"gridwidth\":2,\"linecolor\":\"#EBF0F8\",\"showbackground\":true,\"ticks\":\"\",\"zerolinecolor\":\"#EBF0F8\"}},\"shapedefaults\":{\"line\":{\"color\":\"#2a3f5f\"}},\"ternary\":{\"aaxis\":{\"gridcolor\":\"#DFE8F3\",\"linecolor\":\"#A2B1C6\",\"ticks\":\"\"},\"baxis\":{\"gridcolor\":\"#DFE8F3\",\"linecolor\":\"#A2B1C6\",\"ticks\":\"\"},\"bgcolor\":\"white\",\"caxis\":{\"gridcolor\":\"#DFE8F3\",\"linecolor\":\"#A2B1C6\",\"ticks\":\"\"}},\"title\":{\"x\":0.05},\"xaxis\":{\"automargin\":true,\"gridcolor\":\"#EBF0F8\",\"linecolor\":\"#EBF0F8\",\"ticks\":\"\",\"title\":{\"standoff\":15},\"zerolinecolor\":\"#EBF0F8\",\"zerolinewidth\":2},\"yaxis\":{\"automargin\":true,\"gridcolor\":\"#EBF0F8\",\"linecolor\":\"#EBF0F8\",\"ticks\":\"\",\"title\":{\"standoff\":15},\"zerolinecolor\":\"#EBF0F8\",\"zerolinewidth\":2}}},\"title\":{\"font\":{\"size\":22,\"color\":\"Black\"},\"text\":\"\\u003cb\\u003eHierarchical Clustering\\u003c\\u002fb\\u003e\",\"x\":0.5,\"xanchor\":\"center\",\"yanchor\":\"top\"},\"hoverlabel\":{\"font\":{\"size\":16,\"family\":\"Rockwell\"},\"bgcolor\":\"white\"},\"plot_bgcolor\":\"#ECEFF1\"},                        {\"responsive\": true}                    ).then(function(){\n",
              "                            \n",
              "var gd = document.getElementById('a308b1ea-21f2-437a-b803-22dc3f96faf6');\n",
              "var x = new MutationObserver(function (mutations, observer) {{\n",
              "        var display = window.getComputedStyle(gd).display;\n",
              "        if (!display || display === 'none') {{\n",
              "            console.log([gd, 'removed!']);\n",
              "            Plotly.purge(gd);\n",
              "            observer.disconnect();\n",
              "        }}\n",
              "}});\n",
              "\n",
              "// Listen for the removal of the full notebook cells\n",
              "var notebookContainer = gd.closest('#notebook-container');\n",
              "if (notebookContainer) {{\n",
              "    x.observe(notebookContainer, {childList: true});\n",
              "}}\n",
              "\n",
              "// Listen for the clearing of the current output cell\n",
              "var outputEl = gd.closest('.output');\n",
              "if (outputEl) {{\n",
              "    x.observe(outputEl, {childList: true});\n",
              "}}\n",
              "\n",
              "                        })                };                            </script>        </div>\n",
              "</body>\n",
              "</html>"
            ]
          },
          "metadata": {}
        }
      ]
    },
    {
      "cell_type": "markdown",
      "metadata": {
        "id": "4spXl2_C6flq"
      },
      "source": [
        "## Visualize Terms\n",
        "\n",
        "We can visualize the selected terms for a few topics by creating bar charts out of the c-TF-IDF scores for each topic representation. Insights can be gained from the relative c-TF-IDF scores between and within topics. Moreover, you can easily compare topic representations to each other."
      ]
    },
    {
      "cell_type": "code",
      "metadata": {
        "colab": {
          "base_uri": "https://localhost:8080/",
          "height": 517
        },
        "id": "zpm9LsKW6mi5",
        "outputId": "044d1201-c6d8-4471-dc68-d644042fa032"
      },
      "source": [
        "topic_model.visualize_barchart(top_n_topics=9)"
      ],
      "execution_count": 80,
      "outputs": [
        {
          "output_type": "display_data",
          "data": {
            "text/html": [
              "<html>\n",
              "<head><meta charset=\"utf-8\" /></head>\n",
              "<body>\n",
              "    <div>            <script src=\"https://cdnjs.cloudflare.com/ajax/libs/mathjax/2.7.5/MathJax.js?config=TeX-AMS-MML_SVG\"></script><script type=\"text/javascript\">if (window.MathJax && window.MathJax.Hub && window.MathJax.Hub.Config) {window.MathJax.Hub.Config({SVG: {font: \"STIX-Web\"}});}</script>                <script type=\"text/javascript\">window.PlotlyConfig = {MathJaxConfig: 'local'};</script>\n",
              "        <script charset=\"utf-8\" src=\"https://cdn.plot.ly/plotly-2.24.1.min.js\"></script>                <div id=\"8893ede0-8270-4bb3-a98a-1c9c280df415\" class=\"plotly-graph-div\" style=\"height:500px; width:1000px;\"></div>            <script type=\"text/javascript\">                                    window.PLOTLYENV=window.PLOTLYENV || {};                                    if (document.getElementById(\"8893ede0-8270-4bb3-a98a-1c9c280df415\")) {                    Plotly.newPlot(                        \"8893ede0-8270-4bb3-a98a-1c9c280df415\",                        [{\"marker\":{\"color\":\"#D55E00\"},\"orientation\":\"h\",\"x\":[0.029929032075306342,0.03282089329277767,0.0385605122198396,0.04199802526301395,0.044900558097017804],\"y\":[\"team discussions  \",\"discussions  \",\"mentor team  \",\"team  \",\"mentor  \"],\"type\":\"bar\",\"xaxis\":\"x\",\"yaxis\":\"y\"},{\"marker\":{\"color\":\"#0072B2\"},\"orientation\":\"h\",\"x\":[0.04561323050927267,0.060258717763003594,0.06036618709677451,0.06136305626301292,0.07016697931865105],\"y\":[\"wellness  \",\"mental  \",\"time  \",\"mental health  \",\"health  \"],\"type\":\"bar\",\"xaxis\":\"x2\",\"yaxis\":\"y2\"},{\"marker\":{\"color\":\"#CC79A7\"},\"orientation\":\"h\",\"x\":[0.03421898321728268,0.04307750967820806,0.04524015810035336,0.04624346726625788,0.07765944772398521],\"y\":[\"studying  \",\"class  \",\"class time  \",\"feel  \",\"time  \"],\"type\":\"bar\",\"xaxis\":\"x3\",\"yaxis\":\"y3\"},{\"marker\":{\"color\":\"#E69F00\"},\"orientation\":\"h\",\"x\":[0.025154909282669766,0.02644913804731795,0.04626538308790962,0.04815720860713494,0.04990085567685552],\"y\":[\"class time  \",\"team  \",\"time  \",\"play  \",\"class  \"],\"type\":\"bar\",\"xaxis\":\"x4\",\"yaxis\":\"y4\"},{\"marker\":{\"color\":\"#56B4E9\"},\"orientation\":\"h\",\"x\":[0.05025469033562208,0.05364990833495788,0.06028279338303561,0.061308716926558614,0.08445882364152954],\"y\":[\"focus  \",\"aside time  \",\"aside  \",\"helped  \",\"time  \"],\"type\":\"bar\",\"xaxis\":\"x5\",\"yaxis\":\"y5\"},{\"marker\":{\"color\":\"#009E73\"},\"orientation\":\"h\",\"x\":[0.0458010090626364,0.04655251029812921,0.052045104761452445,0.06475567603912824,0.07056255563252523],\"y\":[\"aware  \",\"allowed  \",\"selfcompassion  \",\"selfcare  \",\"care  \"],\"type\":\"bar\",\"xaxis\":\"x6\",\"yaxis\":\"y6\"},{\"marker\":{\"color\":\"#F0E442\"},\"orientation\":\"h\",\"x\":[0.06507616329765857,0.10224265659437015,0.11618149648768678,0.11618149648768678,0.11618149648768678],\"y\":[\"urge relating  \",\"deeper  \",\"connections  \",\"deeper connections  \",\"learnt  \"],\"type\":\"bar\",\"xaxis\":\"x7\",\"yaxis\":\"y7\"},{\"marker\":{\"color\":\"#D55E00\"},\"orientation\":\"h\",\"x\":[0.056492131466221625,0.059512700098134086,0.06235138218041165,0.07824468130803394,0.07824468130803394],\"y\":[\"think  \",\"different  \",\"helped  \",\"topic  \",\"discussed  \"],\"type\":\"bar\",\"xaxis\":\"x8\",\"yaxis\":\"y8\"}],                        {\"template\":{\"data\":{\"barpolar\":[{\"marker\":{\"line\":{\"color\":\"white\",\"width\":0.5},\"pattern\":{\"fillmode\":\"overlay\",\"size\":10,\"solidity\":0.2}},\"type\":\"barpolar\"}],\"bar\":[{\"error_x\":{\"color\":\"#2a3f5f\"},\"error_y\":{\"color\":\"#2a3f5f\"},\"marker\":{\"line\":{\"color\":\"white\",\"width\":0.5},\"pattern\":{\"fillmode\":\"overlay\",\"size\":10,\"solidity\":0.2}},\"type\":\"bar\"}],\"carpet\":[{\"aaxis\":{\"endlinecolor\":\"#2a3f5f\",\"gridcolor\":\"#C8D4E3\",\"linecolor\":\"#C8D4E3\",\"minorgridcolor\":\"#C8D4E3\",\"startlinecolor\":\"#2a3f5f\"},\"baxis\":{\"endlinecolor\":\"#2a3f5f\",\"gridcolor\":\"#C8D4E3\",\"linecolor\":\"#C8D4E3\",\"minorgridcolor\":\"#C8D4E3\",\"startlinecolor\":\"#2a3f5f\"},\"type\":\"carpet\"}],\"choropleth\":[{\"colorbar\":{\"outlinewidth\":0,\"ticks\":\"\"},\"type\":\"choropleth\"}],\"contourcarpet\":[{\"colorbar\":{\"outlinewidth\":0,\"ticks\":\"\"},\"type\":\"contourcarpet\"}],\"contour\":[{\"colorbar\":{\"outlinewidth\":0,\"ticks\":\"\"},\"colorscale\":[[0.0,\"#0d0887\"],[0.1111111111111111,\"#46039f\"],[0.2222222222222222,\"#7201a8\"],[0.3333333333333333,\"#9c179e\"],[0.4444444444444444,\"#bd3786\"],[0.5555555555555556,\"#d8576b\"],[0.6666666666666666,\"#ed7953\"],[0.7777777777777778,\"#fb9f3a\"],[0.8888888888888888,\"#fdca26\"],[1.0,\"#f0f921\"]],\"type\":\"contour\"}],\"heatmapgl\":[{\"colorbar\":{\"outlinewidth\":0,\"ticks\":\"\"},\"colorscale\":[[0.0,\"#0d0887\"],[0.1111111111111111,\"#46039f\"],[0.2222222222222222,\"#7201a8\"],[0.3333333333333333,\"#9c179e\"],[0.4444444444444444,\"#bd3786\"],[0.5555555555555556,\"#d8576b\"],[0.6666666666666666,\"#ed7953\"],[0.7777777777777778,\"#fb9f3a\"],[0.8888888888888888,\"#fdca26\"],[1.0,\"#f0f921\"]],\"type\":\"heatmapgl\"}],\"heatmap\":[{\"colorbar\":{\"outlinewidth\":0,\"ticks\":\"\"},\"colorscale\":[[0.0,\"#0d0887\"],[0.1111111111111111,\"#46039f\"],[0.2222222222222222,\"#7201a8\"],[0.3333333333333333,\"#9c179e\"],[0.4444444444444444,\"#bd3786\"],[0.5555555555555556,\"#d8576b\"],[0.6666666666666666,\"#ed7953\"],[0.7777777777777778,\"#fb9f3a\"],[0.8888888888888888,\"#fdca26\"],[1.0,\"#f0f921\"]],\"type\":\"heatmap\"}],\"histogram2dcontour\":[{\"colorbar\":{\"outlinewidth\":0,\"ticks\":\"\"},\"colorscale\":[[0.0,\"#0d0887\"],[0.1111111111111111,\"#46039f\"],[0.2222222222222222,\"#7201a8\"],[0.3333333333333333,\"#9c179e\"],[0.4444444444444444,\"#bd3786\"],[0.5555555555555556,\"#d8576b\"],[0.6666666666666666,\"#ed7953\"],[0.7777777777777778,\"#fb9f3a\"],[0.8888888888888888,\"#fdca26\"],[1.0,\"#f0f921\"]],\"type\":\"histogram2dcontour\"}],\"histogram2d\":[{\"colorbar\":{\"outlinewidth\":0,\"ticks\":\"\"},\"colorscale\":[[0.0,\"#0d0887\"],[0.1111111111111111,\"#46039f\"],[0.2222222222222222,\"#7201a8\"],[0.3333333333333333,\"#9c179e\"],[0.4444444444444444,\"#bd3786\"],[0.5555555555555556,\"#d8576b\"],[0.6666666666666666,\"#ed7953\"],[0.7777777777777778,\"#fb9f3a\"],[0.8888888888888888,\"#fdca26\"],[1.0,\"#f0f921\"]],\"type\":\"histogram2d\"}],\"histogram\":[{\"marker\":{\"pattern\":{\"fillmode\":\"overlay\",\"size\":10,\"solidity\":0.2}},\"type\":\"histogram\"}],\"mesh3d\":[{\"colorbar\":{\"outlinewidth\":0,\"ticks\":\"\"},\"type\":\"mesh3d\"}],\"parcoords\":[{\"line\":{\"colorbar\":{\"outlinewidth\":0,\"ticks\":\"\"}},\"type\":\"parcoords\"}],\"pie\":[{\"automargin\":true,\"type\":\"pie\"}],\"scatter3d\":[{\"line\":{\"colorbar\":{\"outlinewidth\":0,\"ticks\":\"\"}},\"marker\":{\"colorbar\":{\"outlinewidth\":0,\"ticks\":\"\"}},\"type\":\"scatter3d\"}],\"scattercarpet\":[{\"marker\":{\"colorbar\":{\"outlinewidth\":0,\"ticks\":\"\"}},\"type\":\"scattercarpet\"}],\"scattergeo\":[{\"marker\":{\"colorbar\":{\"outlinewidth\":0,\"ticks\":\"\"}},\"type\":\"scattergeo\"}],\"scattergl\":[{\"marker\":{\"colorbar\":{\"outlinewidth\":0,\"ticks\":\"\"}},\"type\":\"scattergl\"}],\"scattermapbox\":[{\"marker\":{\"colorbar\":{\"outlinewidth\":0,\"ticks\":\"\"}},\"type\":\"scattermapbox\"}],\"scatterpolargl\":[{\"marker\":{\"colorbar\":{\"outlinewidth\":0,\"ticks\":\"\"}},\"type\":\"scatterpolargl\"}],\"scatterpolar\":[{\"marker\":{\"colorbar\":{\"outlinewidth\":0,\"ticks\":\"\"}},\"type\":\"scatterpolar\"}],\"scatter\":[{\"fillpattern\":{\"fillmode\":\"overlay\",\"size\":10,\"solidity\":0.2},\"type\":\"scatter\"}],\"scatterternary\":[{\"marker\":{\"colorbar\":{\"outlinewidth\":0,\"ticks\":\"\"}},\"type\":\"scatterternary\"}],\"surface\":[{\"colorbar\":{\"outlinewidth\":0,\"ticks\":\"\"},\"colorscale\":[[0.0,\"#0d0887\"],[0.1111111111111111,\"#46039f\"],[0.2222222222222222,\"#7201a8\"],[0.3333333333333333,\"#9c179e\"],[0.4444444444444444,\"#bd3786\"],[0.5555555555555556,\"#d8576b\"],[0.6666666666666666,\"#ed7953\"],[0.7777777777777778,\"#fb9f3a\"],[0.8888888888888888,\"#fdca26\"],[1.0,\"#f0f921\"]],\"type\":\"surface\"}],\"table\":[{\"cells\":{\"fill\":{\"color\":\"#EBF0F8\"},\"line\":{\"color\":\"white\"}},\"header\":{\"fill\":{\"color\":\"#C8D4E3\"},\"line\":{\"color\":\"white\"}},\"type\":\"table\"}]},\"layout\":{\"annotationdefaults\":{\"arrowcolor\":\"#2a3f5f\",\"arrowhead\":0,\"arrowwidth\":1},\"autotypenumbers\":\"strict\",\"coloraxis\":{\"colorbar\":{\"outlinewidth\":0,\"ticks\":\"\"}},\"colorscale\":{\"diverging\":[[0,\"#8e0152\"],[0.1,\"#c51b7d\"],[0.2,\"#de77ae\"],[0.3,\"#f1b6da\"],[0.4,\"#fde0ef\"],[0.5,\"#f7f7f7\"],[0.6,\"#e6f5d0\"],[0.7,\"#b8e186\"],[0.8,\"#7fbc41\"],[0.9,\"#4d9221\"],[1,\"#276419\"]],\"sequential\":[[0.0,\"#0d0887\"],[0.1111111111111111,\"#46039f\"],[0.2222222222222222,\"#7201a8\"],[0.3333333333333333,\"#9c179e\"],[0.4444444444444444,\"#bd3786\"],[0.5555555555555556,\"#d8576b\"],[0.6666666666666666,\"#ed7953\"],[0.7777777777777778,\"#fb9f3a\"],[0.8888888888888888,\"#fdca26\"],[1.0,\"#f0f921\"]],\"sequentialminus\":[[0.0,\"#0d0887\"],[0.1111111111111111,\"#46039f\"],[0.2222222222222222,\"#7201a8\"],[0.3333333333333333,\"#9c179e\"],[0.4444444444444444,\"#bd3786\"],[0.5555555555555556,\"#d8576b\"],[0.6666666666666666,\"#ed7953\"],[0.7777777777777778,\"#fb9f3a\"],[0.8888888888888888,\"#fdca26\"],[1.0,\"#f0f921\"]]},\"colorway\":[\"#636efa\",\"#EF553B\",\"#00cc96\",\"#ab63fa\",\"#FFA15A\",\"#19d3f3\",\"#FF6692\",\"#B6E880\",\"#FF97FF\",\"#FECB52\"],\"font\":{\"color\":\"#2a3f5f\"},\"geo\":{\"bgcolor\":\"white\",\"lakecolor\":\"white\",\"landcolor\":\"white\",\"showlakes\":true,\"showland\":true,\"subunitcolor\":\"#C8D4E3\"},\"hoverlabel\":{\"align\":\"left\"},\"hovermode\":\"closest\",\"mapbox\":{\"style\":\"light\"},\"paper_bgcolor\":\"white\",\"plot_bgcolor\":\"white\",\"polar\":{\"angularaxis\":{\"gridcolor\":\"#EBF0F8\",\"linecolor\":\"#EBF0F8\",\"ticks\":\"\"},\"bgcolor\":\"white\",\"radialaxis\":{\"gridcolor\":\"#EBF0F8\",\"linecolor\":\"#EBF0F8\",\"ticks\":\"\"}},\"scene\":{\"xaxis\":{\"backgroundcolor\":\"white\",\"gridcolor\":\"#DFE8F3\",\"gridwidth\":2,\"linecolor\":\"#EBF0F8\",\"showbackground\":true,\"ticks\":\"\",\"zerolinecolor\":\"#EBF0F8\"},\"yaxis\":{\"backgroundcolor\":\"white\",\"gridcolor\":\"#DFE8F3\",\"gridwidth\":2,\"linecolor\":\"#EBF0F8\",\"showbackground\":true,\"ticks\":\"\",\"zerolinecolor\":\"#EBF0F8\"},\"zaxis\":{\"backgroundcolor\":\"white\",\"gridcolor\":\"#DFE8F3\",\"gridwidth\":2,\"linecolor\":\"#EBF0F8\",\"showbackground\":true,\"ticks\":\"\",\"zerolinecolor\":\"#EBF0F8\"}},\"shapedefaults\":{\"line\":{\"color\":\"#2a3f5f\"}},\"ternary\":{\"aaxis\":{\"gridcolor\":\"#DFE8F3\",\"linecolor\":\"#A2B1C6\",\"ticks\":\"\"},\"baxis\":{\"gridcolor\":\"#DFE8F3\",\"linecolor\":\"#A2B1C6\",\"ticks\":\"\"},\"bgcolor\":\"white\",\"caxis\":{\"gridcolor\":\"#DFE8F3\",\"linecolor\":\"#A2B1C6\",\"ticks\":\"\"}},\"title\":{\"x\":0.05},\"xaxis\":{\"automargin\":true,\"gridcolor\":\"#EBF0F8\",\"linecolor\":\"#EBF0F8\",\"ticks\":\"\",\"title\":{\"standoff\":15},\"zerolinecolor\":\"#EBF0F8\",\"zerolinewidth\":2},\"yaxis\":{\"automargin\":true,\"gridcolor\":\"#EBF0F8\",\"linecolor\":\"#EBF0F8\",\"ticks\":\"\",\"title\":{\"standoff\":15},\"zerolinecolor\":\"#EBF0F8\",\"zerolinewidth\":2}}},\"xaxis\":{\"anchor\":\"y\",\"domain\":[0.0,0.175],\"showgrid\":true},\"yaxis\":{\"anchor\":\"x\",\"domain\":[0.6000000000000001,1.0],\"showgrid\":true},\"xaxis2\":{\"anchor\":\"y2\",\"domain\":[0.275,0.45],\"showgrid\":true},\"yaxis2\":{\"anchor\":\"x2\",\"domain\":[0.6000000000000001,1.0],\"showgrid\":true},\"xaxis3\":{\"anchor\":\"y3\",\"domain\":[0.55,0.7250000000000001],\"showgrid\":true},\"yaxis3\":{\"anchor\":\"x3\",\"domain\":[0.6000000000000001,1.0],\"showgrid\":true},\"xaxis4\":{\"anchor\":\"y4\",\"domain\":[0.825,1.0],\"showgrid\":true},\"yaxis4\":{\"anchor\":\"x4\",\"domain\":[0.6000000000000001,1.0],\"showgrid\":true},\"xaxis5\":{\"anchor\":\"y5\",\"domain\":[0.0,0.175],\"showgrid\":true},\"yaxis5\":{\"anchor\":\"x5\",\"domain\":[0.0,0.4],\"showgrid\":true},\"xaxis6\":{\"anchor\":\"y6\",\"domain\":[0.275,0.45],\"showgrid\":true},\"yaxis6\":{\"anchor\":\"x6\",\"domain\":[0.0,0.4],\"showgrid\":true},\"xaxis7\":{\"anchor\":\"y7\",\"domain\":[0.55,0.7250000000000001],\"showgrid\":true},\"yaxis7\":{\"anchor\":\"x7\",\"domain\":[0.0,0.4],\"showgrid\":true},\"xaxis8\":{\"anchor\":\"y8\",\"domain\":[0.825,1.0],\"showgrid\":true},\"yaxis8\":{\"anchor\":\"x8\",\"domain\":[0.0,0.4],\"showgrid\":true},\"annotations\":[{\"font\":{\"size\":16},\"showarrow\":false,\"text\":\"Topic 0\",\"x\":0.0875,\"xanchor\":\"center\",\"xref\":\"paper\",\"y\":1.0,\"yanchor\":\"bottom\",\"yref\":\"paper\"},{\"font\":{\"size\":16},\"showarrow\":false,\"text\":\"Topic 1\",\"x\":0.36250000000000004,\"xanchor\":\"center\",\"xref\":\"paper\",\"y\":1.0,\"yanchor\":\"bottom\",\"yref\":\"paper\"},{\"font\":{\"size\":16},\"showarrow\":false,\"text\":\"Topic 2\",\"x\":0.6375000000000001,\"xanchor\":\"center\",\"xref\":\"paper\",\"y\":1.0,\"yanchor\":\"bottom\",\"yref\":\"paper\"},{\"font\":{\"size\":16},\"showarrow\":false,\"text\":\"Topic 3\",\"x\":0.9125,\"xanchor\":\"center\",\"xref\":\"paper\",\"y\":1.0,\"yanchor\":\"bottom\",\"yref\":\"paper\"},{\"font\":{\"size\":16},\"showarrow\":false,\"text\":\"Topic 4\",\"x\":0.0875,\"xanchor\":\"center\",\"xref\":\"paper\",\"y\":0.4,\"yanchor\":\"bottom\",\"yref\":\"paper\"},{\"font\":{\"size\":16},\"showarrow\":false,\"text\":\"Topic 5\",\"x\":0.36250000000000004,\"xanchor\":\"center\",\"xref\":\"paper\",\"y\":0.4,\"yanchor\":\"bottom\",\"yref\":\"paper\"},{\"font\":{\"size\":16},\"showarrow\":false,\"text\":\"Topic 6\",\"x\":0.6375000000000001,\"xanchor\":\"center\",\"xref\":\"paper\",\"y\":0.4,\"yanchor\":\"bottom\",\"yref\":\"paper\"},{\"font\":{\"size\":16},\"showarrow\":false,\"text\":\"Topic 7\",\"x\":0.9125,\"xanchor\":\"center\",\"xref\":\"paper\",\"y\":0.4,\"yanchor\":\"bottom\",\"yref\":\"paper\"}],\"title\":{\"font\":{\"size\":22,\"color\":\"Black\"},\"text\":\"Topic Word Scores\",\"x\":0.5,\"xanchor\":\"center\",\"yanchor\":\"top\"},\"hoverlabel\":{\"font\":{\"size\":16,\"family\":\"Rockwell\"},\"bgcolor\":\"white\"},\"showlegend\":false,\"width\":1000,\"height\":500},                        {\"responsive\": true}                    ).then(function(){\n",
              "                            \n",
              "var gd = document.getElementById('8893ede0-8270-4bb3-a98a-1c9c280df415');\n",
              "var x = new MutationObserver(function (mutations, observer) {{\n",
              "        var display = window.getComputedStyle(gd).display;\n",
              "        if (!display || display === 'none') {{\n",
              "            console.log([gd, 'removed!']);\n",
              "            Plotly.purge(gd);\n",
              "            observer.disconnect();\n",
              "        }}\n",
              "}});\n",
              "\n",
              "// Listen for the removal of the full notebook cells\n",
              "var notebookContainer = gd.closest('#notebook-container');\n",
              "if (notebookContainer) {{\n",
              "    x.observe(notebookContainer, {childList: true});\n",
              "}}\n",
              "\n",
              "// Listen for the clearing of the current output cell\n",
              "var outputEl = gd.closest('.output');\n",
              "if (outputEl) {{\n",
              "    x.observe(outputEl, {childList: true});\n",
              "}}\n",
              "\n",
              "                        })                };                            </script>        </div>\n",
              "</body>\n",
              "</html>"
            ]
          },
          "metadata": {}
        }
      ]
    },
    {
      "cell_type": "markdown",
      "metadata": {
        "id": "QCPdi6_z6sbT"
      },
      "source": [
        "## Visualize Topic Similarity\n",
        "Having generated topic embeddings, through both c-TF-IDF and embeddings, we can create a similarity matrix by simply applying cosine similarities through those topic embeddings. The result will be a matrix indicating how similar certain topics are to each other."
      ]
    },
    {
      "cell_type": "code",
      "metadata": {
        "colab": {
          "base_uri": "https://localhost:8080/",
          "height": 1000
        },
        "id": "edzNhZuZ6wTr",
        "outputId": "feffc966-2021-4f0d-f0df-05e003e56217"
      },
      "source": [
        "topic_model.visualize_heatmap(n_clusters=7, width=1000, height=1000)"
      ],
      "execution_count": 82,
      "outputs": [
        {
          "output_type": "display_data",
          "data": {
            "text/html": [
              "<html>\n",
              "<head><meta charset=\"utf-8\" /></head>\n",
              "<body>\n",
              "    <div>            <script src=\"https://cdnjs.cloudflare.com/ajax/libs/mathjax/2.7.5/MathJax.js?config=TeX-AMS-MML_SVG\"></script><script type=\"text/javascript\">if (window.MathJax && window.MathJax.Hub && window.MathJax.Hub.Config) {window.MathJax.Hub.Config({SVG: {font: \"STIX-Web\"}});}</script>                <script type=\"text/javascript\">window.PlotlyConfig = {MathJaxConfig: 'local'};</script>\n",
              "        <script charset=\"utf-8\" src=\"https://cdn.plot.ly/plotly-2.24.1.min.js\"></script>                <div id=\"930dadfc-3ad9-4195-8afb-fd4b6b50a443\" class=\"plotly-graph-div\" style=\"height:1000px; width:1000px;\"></div>            <script type=\"text/javascript\">                                    window.PLOTLYENV=window.PLOTLYENV || {};                                    if (document.getElementById(\"930dadfc-3ad9-4195-8afb-fd4b6b50a443\")) {                    Plotly.newPlot(                        \"930dadfc-3ad9-4195-8afb-fd4b6b50a443\",                        [{\"coloraxis\":\"coloraxis\",\"name\":\"0\",\"x\":[\"0_mentor_team_mentor team\",\"1_health_mental health_time\",\"2_time_feel_class time\",\"3_class_play_time\",\"4_time_helped_aside\",\"5_care_selfcare_selfcompass...\",\"6_learnt_deeper connections...\",\"7_discussed_topic_helped\"],\"y\":[\"0_mentor_team_mentor team\",\"1_health_mental health_time\",\"2_time_feel_class time\",\"3_class_play_time\",\"4_time_helped_aside\",\"5_care_selfcare_selfcompass...\",\"6_learnt_deeper connections...\",\"7_discussed_topic_helped\"],\"z\":[[1.0000004768371582,0.6451023817062378,0.5288408994674683,0.7734522819519043,0.5705686211585999,0.6057082414627075,0.6068971157073975,0.6107059717178345],[0.6451023817062378,1.0000001192092896,0.8620724081993103,0.8178239464759827,0.7841172814369202,0.7832083106040955,0.45951446890830994,0.6743400692939758],[0.5288408994674683,0.8620724081993103,1.0000001192092896,0.7860110402107239,0.779577374458313,0.6958340406417847,0.4212404787540436,0.628787100315094],[0.7734522819519043,0.8178239464759827,0.7860110402107239,1.0000001192092896,0.6305245757102966,0.6600143313407898,0.536769449710846,0.662846028804779],[0.5705686211585999,0.7841172814369202,0.779577374458313,0.6305245757102966,0.9999997019767761,0.7143380045890808,0.5524752736091614,0.5929948091506958],[0.6057082414627075,0.7832083106040955,0.6958340406417847,0.6600143313407898,0.7143380045890808,1.0,0.6048572063446045,0.5165746212005615],[0.6068971157073975,0.45951446890830994,0.4212404787540436,0.536769449710846,0.5524752736091614,0.6048572063446045,1.0000001192092896,0.48952528834342957],[0.6107059717178345,0.6743400692939758,0.628787100315094,0.662846028804779,0.5929948091506958,0.5165746212005615,0.48952528834342957,1.0000001192092896]],\"type\":\"heatmap\",\"xaxis\":\"x\",\"yaxis\":\"y\",\"hovertemplate\":\"x: %{x}\\u003cbr\\u003ey: %{y}\\u003cbr\\u003eSimilarity Score: %{z}\\u003cextra\\u003e\\u003c\\u002fextra\\u003e\"}],                        {\"template\":{\"data\":{\"histogram2dcontour\":[{\"type\":\"histogram2dcontour\",\"colorbar\":{\"outlinewidth\":0,\"ticks\":\"\"},\"colorscale\":[[0.0,\"#0d0887\"],[0.1111111111111111,\"#46039f\"],[0.2222222222222222,\"#7201a8\"],[0.3333333333333333,\"#9c179e\"],[0.4444444444444444,\"#bd3786\"],[0.5555555555555556,\"#d8576b\"],[0.6666666666666666,\"#ed7953\"],[0.7777777777777778,\"#fb9f3a\"],[0.8888888888888888,\"#fdca26\"],[1.0,\"#f0f921\"]]}],\"choropleth\":[{\"type\":\"choropleth\",\"colorbar\":{\"outlinewidth\":0,\"ticks\":\"\"}}],\"histogram2d\":[{\"type\":\"histogram2d\",\"colorbar\":{\"outlinewidth\":0,\"ticks\":\"\"},\"colorscale\":[[0.0,\"#0d0887\"],[0.1111111111111111,\"#46039f\"],[0.2222222222222222,\"#7201a8\"],[0.3333333333333333,\"#9c179e\"],[0.4444444444444444,\"#bd3786\"],[0.5555555555555556,\"#d8576b\"],[0.6666666666666666,\"#ed7953\"],[0.7777777777777778,\"#fb9f3a\"],[0.8888888888888888,\"#fdca26\"],[1.0,\"#f0f921\"]]}],\"heatmap\":[{\"type\":\"heatmap\",\"colorbar\":{\"outlinewidth\":0,\"ticks\":\"\"},\"colorscale\":[[0.0,\"#0d0887\"],[0.1111111111111111,\"#46039f\"],[0.2222222222222222,\"#7201a8\"],[0.3333333333333333,\"#9c179e\"],[0.4444444444444444,\"#bd3786\"],[0.5555555555555556,\"#d8576b\"],[0.6666666666666666,\"#ed7953\"],[0.7777777777777778,\"#fb9f3a\"],[0.8888888888888888,\"#fdca26\"],[1.0,\"#f0f921\"]]}],\"heatmapgl\":[{\"type\":\"heatmapgl\",\"colorbar\":{\"outlinewidth\":0,\"ticks\":\"\"},\"colorscale\":[[0.0,\"#0d0887\"],[0.1111111111111111,\"#46039f\"],[0.2222222222222222,\"#7201a8\"],[0.3333333333333333,\"#9c179e\"],[0.4444444444444444,\"#bd3786\"],[0.5555555555555556,\"#d8576b\"],[0.6666666666666666,\"#ed7953\"],[0.7777777777777778,\"#fb9f3a\"],[0.8888888888888888,\"#fdca26\"],[1.0,\"#f0f921\"]]}],\"contourcarpet\":[{\"type\":\"contourcarpet\",\"colorbar\":{\"outlinewidth\":0,\"ticks\":\"\"}}],\"contour\":[{\"type\":\"contour\",\"colorbar\":{\"outlinewidth\":0,\"ticks\":\"\"},\"colorscale\":[[0.0,\"#0d0887\"],[0.1111111111111111,\"#46039f\"],[0.2222222222222222,\"#7201a8\"],[0.3333333333333333,\"#9c179e\"],[0.4444444444444444,\"#bd3786\"],[0.5555555555555556,\"#d8576b\"],[0.6666666666666666,\"#ed7953\"],[0.7777777777777778,\"#fb9f3a\"],[0.8888888888888888,\"#fdca26\"],[1.0,\"#f0f921\"]]}],\"surface\":[{\"type\":\"surface\",\"colorbar\":{\"outlinewidth\":0,\"ticks\":\"\"},\"colorscale\":[[0.0,\"#0d0887\"],[0.1111111111111111,\"#46039f\"],[0.2222222222222222,\"#7201a8\"],[0.3333333333333333,\"#9c179e\"],[0.4444444444444444,\"#bd3786\"],[0.5555555555555556,\"#d8576b\"],[0.6666666666666666,\"#ed7953\"],[0.7777777777777778,\"#fb9f3a\"],[0.8888888888888888,\"#fdca26\"],[1.0,\"#f0f921\"]]}],\"mesh3d\":[{\"type\":\"mesh3d\",\"colorbar\":{\"outlinewidth\":0,\"ticks\":\"\"}}],\"scatter\":[{\"fillpattern\":{\"fillmode\":\"overlay\",\"size\":10,\"solidity\":0.2},\"type\":\"scatter\"}],\"parcoords\":[{\"type\":\"parcoords\",\"line\":{\"colorbar\":{\"outlinewidth\":0,\"ticks\":\"\"}}}],\"scatterpolargl\":[{\"type\":\"scatterpolargl\",\"marker\":{\"colorbar\":{\"outlinewidth\":0,\"ticks\":\"\"}}}],\"bar\":[{\"error_x\":{\"color\":\"#2a3f5f\"},\"error_y\":{\"color\":\"#2a3f5f\"},\"marker\":{\"line\":{\"color\":\"#E5ECF6\",\"width\":0.5},\"pattern\":{\"fillmode\":\"overlay\",\"size\":10,\"solidity\":0.2}},\"type\":\"bar\"}],\"scattergeo\":[{\"type\":\"scattergeo\",\"marker\":{\"colorbar\":{\"outlinewidth\":0,\"ticks\":\"\"}}}],\"scatterpolar\":[{\"type\":\"scatterpolar\",\"marker\":{\"colorbar\":{\"outlinewidth\":0,\"ticks\":\"\"}}}],\"histogram\":[{\"marker\":{\"pattern\":{\"fillmode\":\"overlay\",\"size\":10,\"solidity\":0.2}},\"type\":\"histogram\"}],\"scattergl\":[{\"type\":\"scattergl\",\"marker\":{\"colorbar\":{\"outlinewidth\":0,\"ticks\":\"\"}}}],\"scatter3d\":[{\"type\":\"scatter3d\",\"line\":{\"colorbar\":{\"outlinewidth\":0,\"ticks\":\"\"}},\"marker\":{\"colorbar\":{\"outlinewidth\":0,\"ticks\":\"\"}}}],\"scattermapbox\":[{\"type\":\"scattermapbox\",\"marker\":{\"colorbar\":{\"outlinewidth\":0,\"ticks\":\"\"}}}],\"scatterternary\":[{\"type\":\"scatterternary\",\"marker\":{\"colorbar\":{\"outlinewidth\":0,\"ticks\":\"\"}}}],\"scattercarpet\":[{\"type\":\"scattercarpet\",\"marker\":{\"colorbar\":{\"outlinewidth\":0,\"ticks\":\"\"}}}],\"carpet\":[{\"aaxis\":{\"endlinecolor\":\"#2a3f5f\",\"gridcolor\":\"white\",\"linecolor\":\"white\",\"minorgridcolor\":\"white\",\"startlinecolor\":\"#2a3f5f\"},\"baxis\":{\"endlinecolor\":\"#2a3f5f\",\"gridcolor\":\"white\",\"linecolor\":\"white\",\"minorgridcolor\":\"white\",\"startlinecolor\":\"#2a3f5f\"},\"type\":\"carpet\"}],\"table\":[{\"cells\":{\"fill\":{\"color\":\"#EBF0F8\"},\"line\":{\"color\":\"white\"}},\"header\":{\"fill\":{\"color\":\"#C8D4E3\"},\"line\":{\"color\":\"white\"}},\"type\":\"table\"}],\"barpolar\":[{\"marker\":{\"line\":{\"color\":\"#E5ECF6\",\"width\":0.5},\"pattern\":{\"fillmode\":\"overlay\",\"size\":10,\"solidity\":0.2}},\"type\":\"barpolar\"}],\"pie\":[{\"automargin\":true,\"type\":\"pie\"}]},\"layout\":{\"autotypenumbers\":\"strict\",\"colorway\":[\"#636efa\",\"#EF553B\",\"#00cc96\",\"#ab63fa\",\"#FFA15A\",\"#19d3f3\",\"#FF6692\",\"#B6E880\",\"#FF97FF\",\"#FECB52\"],\"font\":{\"color\":\"#2a3f5f\"},\"hovermode\":\"closest\",\"hoverlabel\":{\"align\":\"left\"},\"paper_bgcolor\":\"white\",\"plot_bgcolor\":\"#E5ECF6\",\"polar\":{\"bgcolor\":\"#E5ECF6\",\"angularaxis\":{\"gridcolor\":\"white\",\"linecolor\":\"white\",\"ticks\":\"\"},\"radialaxis\":{\"gridcolor\":\"white\",\"linecolor\":\"white\",\"ticks\":\"\"}},\"ternary\":{\"bgcolor\":\"#E5ECF6\",\"aaxis\":{\"gridcolor\":\"white\",\"linecolor\":\"white\",\"ticks\":\"\"},\"baxis\":{\"gridcolor\":\"white\",\"linecolor\":\"white\",\"ticks\":\"\"},\"caxis\":{\"gridcolor\":\"white\",\"linecolor\":\"white\",\"ticks\":\"\"}},\"coloraxis\":{\"colorbar\":{\"outlinewidth\":0,\"ticks\":\"\"}},\"colorscale\":{\"sequential\":[[0.0,\"#0d0887\"],[0.1111111111111111,\"#46039f\"],[0.2222222222222222,\"#7201a8\"],[0.3333333333333333,\"#9c179e\"],[0.4444444444444444,\"#bd3786\"],[0.5555555555555556,\"#d8576b\"],[0.6666666666666666,\"#ed7953\"],[0.7777777777777778,\"#fb9f3a\"],[0.8888888888888888,\"#fdca26\"],[1.0,\"#f0f921\"]],\"sequentialminus\":[[0.0,\"#0d0887\"],[0.1111111111111111,\"#46039f\"],[0.2222222222222222,\"#7201a8\"],[0.3333333333333333,\"#9c179e\"],[0.4444444444444444,\"#bd3786\"],[0.5555555555555556,\"#d8576b\"],[0.6666666666666666,\"#ed7953\"],[0.7777777777777778,\"#fb9f3a\"],[0.8888888888888888,\"#fdca26\"],[1.0,\"#f0f921\"]],\"diverging\":[[0,\"#8e0152\"],[0.1,\"#c51b7d\"],[0.2,\"#de77ae\"],[0.3,\"#f1b6da\"],[0.4,\"#fde0ef\"],[0.5,\"#f7f7f7\"],[0.6,\"#e6f5d0\"],[0.7,\"#b8e186\"],[0.8,\"#7fbc41\"],[0.9,\"#4d9221\"],[1,\"#276419\"]]},\"xaxis\":{\"gridcolor\":\"white\",\"linecolor\":\"white\",\"ticks\":\"\",\"title\":{\"standoff\":15},\"zerolinecolor\":\"white\",\"automargin\":true,\"zerolinewidth\":2},\"yaxis\":{\"gridcolor\":\"white\",\"linecolor\":\"white\",\"ticks\":\"\",\"title\":{\"standoff\":15},\"zerolinecolor\":\"white\",\"automargin\":true,\"zerolinewidth\":2},\"scene\":{\"xaxis\":{\"backgroundcolor\":\"#E5ECF6\",\"gridcolor\":\"white\",\"linecolor\":\"white\",\"showbackground\":true,\"ticks\":\"\",\"zerolinecolor\":\"white\",\"gridwidth\":2},\"yaxis\":{\"backgroundcolor\":\"#E5ECF6\",\"gridcolor\":\"white\",\"linecolor\":\"white\",\"showbackground\":true,\"ticks\":\"\",\"zerolinecolor\":\"white\",\"gridwidth\":2},\"zaxis\":{\"backgroundcolor\":\"#E5ECF6\",\"gridcolor\":\"white\",\"linecolor\":\"white\",\"showbackground\":true,\"ticks\":\"\",\"zerolinecolor\":\"white\",\"gridwidth\":2}},\"shapedefaults\":{\"line\":{\"color\":\"#2a3f5f\"}},\"annotationdefaults\":{\"arrowcolor\":\"#2a3f5f\",\"arrowhead\":0,\"arrowwidth\":1},\"geo\":{\"bgcolor\":\"white\",\"landcolor\":\"#E5ECF6\",\"subunitcolor\":\"white\",\"showland\":true,\"showlakes\":true,\"lakecolor\":\"white\"},\"title\":{\"x\":0.05},\"mapbox\":{\"style\":\"light\"}}},\"xaxis\":{\"anchor\":\"y\",\"domain\":[0.0,1.0],\"scaleanchor\":\"y\",\"constrain\":\"domain\"},\"yaxis\":{\"anchor\":\"x\",\"domain\":[0.0,1.0],\"autorange\":\"reversed\",\"constrain\":\"domain\"},\"coloraxis\":{\"colorbar\":{\"title\":{\"text\":\"Similarity Score\"}},\"colorscale\":[[0.0,\"rgb(247,252,240)\"],[0.125,\"rgb(224,243,219)\"],[0.25,\"rgb(204,235,197)\"],[0.375,\"rgb(168,221,181)\"],[0.5,\"rgb(123,204,196)\"],[0.625,\"rgb(78,179,211)\"],[0.75,\"rgb(43,140,190)\"],[0.875,\"rgb(8,104,172)\"],[1.0,\"rgb(8,64,129)\"]]},\"margin\":{\"t\":60},\"title\":{\"font\":{\"size\":22,\"color\":\"Black\"},\"text\":\"\\u003cb\\u003eSimilarity Matrix\\u003c\\u002fb\\u003e\",\"y\":0.95,\"x\":0.55,\"xanchor\":\"center\",\"yanchor\":\"top\"},\"hoverlabel\":{\"font\":{\"size\":16,\"family\":\"Rockwell\"},\"bgcolor\":\"white\"},\"width\":1000,\"height\":1000,\"showlegend\":true,\"legend\":{\"title\":{\"text\":\"Trend\"}}},                        {\"responsive\": true}                    ).then(function(){\n",
              "                            \n",
              "var gd = document.getElementById('930dadfc-3ad9-4195-8afb-fd4b6b50a443');\n",
              "var x = new MutationObserver(function (mutations, observer) {{\n",
              "        var display = window.getComputedStyle(gd).display;\n",
              "        if (!display || display === 'none') {{\n",
              "            console.log([gd, 'removed!']);\n",
              "            Plotly.purge(gd);\n",
              "            observer.disconnect();\n",
              "        }}\n",
              "}});\n",
              "\n",
              "// Listen for the removal of the full notebook cells\n",
              "var notebookContainer = gd.closest('#notebook-container');\n",
              "if (notebookContainer) {{\n",
              "    x.observe(notebookContainer, {childList: true});\n",
              "}}\n",
              "\n",
              "// Listen for the clearing of the current output cell\n",
              "var outputEl = gd.closest('.output');\n",
              "if (outputEl) {{\n",
              "    x.observe(outputEl, {childList: true});\n",
              "}}\n",
              "\n",
              "                        })                };                            </script>        </div>\n",
              "</body>\n",
              "</html>"
            ]
          },
          "metadata": {}
        }
      ]
    },
    {
      "cell_type": "markdown",
      "metadata": {
        "id": "_ak_CLR164mx"
      },
      "source": [
        "## Visualize Term Score Decline\n",
        "Topics are represented by a number of words starting with the best representative word. Each word is represented by a c-TF-IDF score. The higher the score, the more representative a word to the topic is. Since the topic words are sorted by their c-TF-IDF score, the scores slowly decline with each word that is added. At some point adding words to the topic representation only marginally increases the total c-TF-IDF score and would not be beneficial for its representation.\n",
        "\n",
        "To visualize this effect, we can plot the c-TF-IDF scores for each topic by the term rank of each word. In other words, the position of the words (term rank), where the words with the highest c-TF-IDF score will have a rank of 1, will be put on the x-axis. Whereas the y-axis will be populated by the c-TF-IDF scores. The result is a visualization that shows you the decline of c-TF-IDF score when adding words to the topic representation. It allows you, using the elbow method, the select the best number of words in a topic.\n"
      ]
    },
    {
      "cell_type": "code",
      "metadata": {
        "colab": {
          "base_uri": "https://localhost:8080/",
          "height": 517
        },
        "id": "7gT3Korh6-MX",
        "outputId": "ca55e7f1-709d-4e4a-cacf-ef208c132cf8"
      },
      "source": [
        "topic_model.visualize_term_rank()"
      ],
      "execution_count": 83,
      "outputs": [
        {
          "output_type": "display_data",
          "data": {
            "text/html": [
              "<html>\n",
              "<head><meta charset=\"utf-8\" /></head>\n",
              "<body>\n",
              "    <div>            <script src=\"https://cdnjs.cloudflare.com/ajax/libs/mathjax/2.7.5/MathJax.js?config=TeX-AMS-MML_SVG\"></script><script type=\"text/javascript\">if (window.MathJax && window.MathJax.Hub && window.MathJax.Hub.Config) {window.MathJax.Hub.Config({SVG: {font: \"STIX-Web\"}});}</script>                <script type=\"text/javascript\">window.PlotlyConfig = {MathJaxConfig: 'local'};</script>\n",
              "        <script charset=\"utf-8\" src=\"https://cdn.plot.ly/plotly-2.24.1.min.js\"></script>                <div id=\"d1874dea-2013-48ce-a836-0b5d7616b01b\" class=\"plotly-graph-div\" style=\"height:500px; width:800px;\"></div>            <script type=\"text/javascript\">                                    window.PLOTLYENV=window.PLOTLYENV || {};                                    if (document.getElementById(\"d1874dea-2013-48ce-a836-0b5d7616b01b\")) {                    Plotly.newPlot(                        \"d1874dea-2013-48ce-a836-0b5d7616b01b\",                        [{\"hovertext\":\"\\u003cb\\u003eTopic -1\\u003c\\u002fb\\u003e:class_time_wellness_health_really_\",\"line\":{\"color\":\"black\",\"width\":1.5},\"mode\":\"lines+lines\",\"name\":\"\",\"opacity\":0.1,\"x\":[1,2,3,4,5,6,7,8,9,10],\"y\":[0.040865447337063196,0.03495641153531312,0.024648427834763887,0.023592648103123125,0.020463615049163907,0.020128804300537175,0.019197676451658013,0.018540619168418353,0.018393018062233417,0.018375717393858546],\"type\":\"scatter\"},{\"hovertext\":\"\\u003cb\\u003eTopic 0\\u003c\\u002fb\\u003e:mentor_team_mentor team_discussions\",\"line\":{\"color\":\"black\",\"width\":1.5},\"mode\":\"lines+lines\",\"name\":\"\",\"opacity\":0.1,\"x\":[1,2,3,4,5,6,7,8,9,10],\"y\":[0.044900558097017804,0.04199802526301395,0.0385605122198396,0.03282089329277767,0.029929032075306342,0.024979463689805324,0.02463521998348631,0.024016243375883747,0.022268570327629085,0.022219765286110336],\"type\":\"scatter\"},{\"hovertext\":\"\\u003cb\\u003eTopic 1\\u003c\\u002fb\\u003e:health_mental health_time_mental_we\",\"line\":{\"color\":\"black\",\"width\":1.5},\"mode\":\"lines+lines\",\"name\":\"\",\"opacity\":0.1,\"x\":[1,2,3,4,5,6,7,8,9,10],\"y\":[0.07016697931865105,0.06136305626301292,0.06036618709677451,0.060258717763003594,0.04561323050927267,0.04376219277595935,0.041524275179029936,0.0405126911515507,0.030316309640649623,0.030316309640649623],\"type\":\"scatter\"},{\"hovertext\":\"\\u003cb\\u003eTopic 2\\u003c\\u002fb\\u003e:time_feel_class time_class_studying\",\"line\":{\"color\":\"black\",\"width\":1.5},\"mode\":\"lines+lines\",\"name\":\"\",\"opacity\":0.1,\"x\":[1,2,3,4,5,6,7,8,9,10],\"y\":[0.07765944772398521,0.04624346726625788,0.04524015810035336,0.04307750967820806,0.03421898321728268,0.030199845734828708,0.029014681728140715,0.025690815147921046,0.0235766135167172,0.022801601662642997],\"type\":\"scatter\"},{\"hovertext\":\"\\u003cb\\u003eTopic 3\\u003c\\u002fb\\u003e:class_play_time_team_class time_hel\",\"line\":{\"color\":\"black\",\"width\":1.5},\"mode\":\"lines+lines\",\"name\":\"\",\"opacity\":0.1,\"x\":[1,2,3,4,5,6,7,8,9,10],\"y\":[0.04990085567685552,0.04815720860713494,0.04626538308790962,0.02644913804731795,0.025154909282669766,0.024796598537688057,0.024490568842980773,0.023795534771860645,0.020942706922924284,0.020638803688772116],\"type\":\"scatter\"},{\"hovertext\":\"\\u003cb\\u003eTopic 4\\u003c\\u002fb\\u003e:time_helped_aside_aside time_focus_\",\"line\":{\"color\":\"black\",\"width\":1.5},\"mode\":\"lines+lines\",\"name\":\"\",\"opacity\":0.1,\"x\":[1,2,3,4,5,6,7,8,9,10],\"y\":[0.08445882364152954,0.061308716926558614,0.06028279338303561,0.05364990833495788,0.05025469033562208,0.04417703631015405,0.041025755582277015,0.03846812091063876,0.03846812091063876,0.03846812091063876],\"type\":\"scatter\"},{\"hovertext\":\"\\u003cb\\u003eTopic 5\\u003c\\u002fb\\u003e:care_selfcare_selfcompassion_allowe\",\"line\":{\"color\":\"black\",\"width\":1.5},\"mode\":\"lines+lines\",\"name\":\"\",\"opacity\":0.1,\"x\":[1,2,3,4,5,6,7,8,9,10],\"y\":[0.07056255563252523,0.06475567603912824,0.052045104761452445,0.04655251029812921,0.0458010090626364,0.040779536700288804,0.040779536700288804,0.0380892734069643,0.0375944304305712,0.0375944304305712],\"type\":\"scatter\"},{\"hovertext\":\"\\u003cb\\u003eTopic 6\\u003c\\u002fb\\u003e:learnt_deeper connections_connectio\",\"line\":{\"color\":\"black\",\"width\":1.5},\"mode\":\"lines+lines\",\"name\":\"\",\"opacity\":0.1,\"x\":[1,2,3,4,5,6,7,8,9,10],\"y\":[0.11618149648768678,0.11618149648768678,0.11618149648768678,0.10224265659437015,0.06507616329765857,0.06507616329765857,0.06507616329765857,0.06507616329765857,0.06507616329765857,0.06507616329765857],\"type\":\"scatter\"},{\"hovertext\":\"\\u003cb\\u003eTopic 7\\u003c\\u002fb\\u003e:discussed_topic_helped_different_th\",\"line\":{\"color\":\"black\",\"width\":1.5},\"mode\":\"lines+lines\",\"name\":\"\",\"opacity\":0.1,\"x\":[1,2,3,4,5,6,7,8,9,10],\"y\":[0.07824468130803394,0.07824468130803394,0.06235138218041165,0.059512700098134086,0.056492131466221625,0.053013861481526266,0.04446947002495288,0.04382680385352516,0.04382680385352516,0.04382680385352516],\"type\":\"scatter\"}],                        {\"template\":{\"data\":{\"barpolar\":[{\"marker\":{\"line\":{\"color\":\"white\",\"width\":0.5},\"pattern\":{\"fillmode\":\"overlay\",\"size\":10,\"solidity\":0.2}},\"type\":\"barpolar\"}],\"bar\":[{\"error_x\":{\"color\":\"#2a3f5f\"},\"error_y\":{\"color\":\"#2a3f5f\"},\"marker\":{\"line\":{\"color\":\"white\",\"width\":0.5},\"pattern\":{\"fillmode\":\"overlay\",\"size\":10,\"solidity\":0.2}},\"type\":\"bar\"}],\"carpet\":[{\"aaxis\":{\"endlinecolor\":\"#2a3f5f\",\"gridcolor\":\"#C8D4E3\",\"linecolor\":\"#C8D4E3\",\"minorgridcolor\":\"#C8D4E3\",\"startlinecolor\":\"#2a3f5f\"},\"baxis\":{\"endlinecolor\":\"#2a3f5f\",\"gridcolor\":\"#C8D4E3\",\"linecolor\":\"#C8D4E3\",\"minorgridcolor\":\"#C8D4E3\",\"startlinecolor\":\"#2a3f5f\"},\"type\":\"carpet\"}],\"choropleth\":[{\"colorbar\":{\"outlinewidth\":0,\"ticks\":\"\"},\"type\":\"choropleth\"}],\"contourcarpet\":[{\"colorbar\":{\"outlinewidth\":0,\"ticks\":\"\"},\"type\":\"contourcarpet\"}],\"contour\":[{\"colorbar\":{\"outlinewidth\":0,\"ticks\":\"\"},\"colorscale\":[[0.0,\"#0d0887\"],[0.1111111111111111,\"#46039f\"],[0.2222222222222222,\"#7201a8\"],[0.3333333333333333,\"#9c179e\"],[0.4444444444444444,\"#bd3786\"],[0.5555555555555556,\"#d8576b\"],[0.6666666666666666,\"#ed7953\"],[0.7777777777777778,\"#fb9f3a\"],[0.8888888888888888,\"#fdca26\"],[1.0,\"#f0f921\"]],\"type\":\"contour\"}],\"heatmapgl\":[{\"colorbar\":{\"outlinewidth\":0,\"ticks\":\"\"},\"colorscale\":[[0.0,\"#0d0887\"],[0.1111111111111111,\"#46039f\"],[0.2222222222222222,\"#7201a8\"],[0.3333333333333333,\"#9c179e\"],[0.4444444444444444,\"#bd3786\"],[0.5555555555555556,\"#d8576b\"],[0.6666666666666666,\"#ed7953\"],[0.7777777777777778,\"#fb9f3a\"],[0.8888888888888888,\"#fdca26\"],[1.0,\"#f0f921\"]],\"type\":\"heatmapgl\"}],\"heatmap\":[{\"colorbar\":{\"outlinewidth\":0,\"ticks\":\"\"},\"colorscale\":[[0.0,\"#0d0887\"],[0.1111111111111111,\"#46039f\"],[0.2222222222222222,\"#7201a8\"],[0.3333333333333333,\"#9c179e\"],[0.4444444444444444,\"#bd3786\"],[0.5555555555555556,\"#d8576b\"],[0.6666666666666666,\"#ed7953\"],[0.7777777777777778,\"#fb9f3a\"],[0.8888888888888888,\"#fdca26\"],[1.0,\"#f0f921\"]],\"type\":\"heatmap\"}],\"histogram2dcontour\":[{\"colorbar\":{\"outlinewidth\":0,\"ticks\":\"\"},\"colorscale\":[[0.0,\"#0d0887\"],[0.1111111111111111,\"#46039f\"],[0.2222222222222222,\"#7201a8\"],[0.3333333333333333,\"#9c179e\"],[0.4444444444444444,\"#bd3786\"],[0.5555555555555556,\"#d8576b\"],[0.6666666666666666,\"#ed7953\"],[0.7777777777777778,\"#fb9f3a\"],[0.8888888888888888,\"#fdca26\"],[1.0,\"#f0f921\"]],\"type\":\"histogram2dcontour\"}],\"histogram2d\":[{\"colorbar\":{\"outlinewidth\":0,\"ticks\":\"\"},\"colorscale\":[[0.0,\"#0d0887\"],[0.1111111111111111,\"#46039f\"],[0.2222222222222222,\"#7201a8\"],[0.3333333333333333,\"#9c179e\"],[0.4444444444444444,\"#bd3786\"],[0.5555555555555556,\"#d8576b\"],[0.6666666666666666,\"#ed7953\"],[0.7777777777777778,\"#fb9f3a\"],[0.8888888888888888,\"#fdca26\"],[1.0,\"#f0f921\"]],\"type\":\"histogram2d\"}],\"histogram\":[{\"marker\":{\"pattern\":{\"fillmode\":\"overlay\",\"size\":10,\"solidity\":0.2}},\"type\":\"histogram\"}],\"mesh3d\":[{\"colorbar\":{\"outlinewidth\":0,\"ticks\":\"\"},\"type\":\"mesh3d\"}],\"parcoords\":[{\"line\":{\"colorbar\":{\"outlinewidth\":0,\"ticks\":\"\"}},\"type\":\"parcoords\"}],\"pie\":[{\"automargin\":true,\"type\":\"pie\"}],\"scatter3d\":[{\"line\":{\"colorbar\":{\"outlinewidth\":0,\"ticks\":\"\"}},\"marker\":{\"colorbar\":{\"outlinewidth\":0,\"ticks\":\"\"}},\"type\":\"scatter3d\"}],\"scattercarpet\":[{\"marker\":{\"colorbar\":{\"outlinewidth\":0,\"ticks\":\"\"}},\"type\":\"scattercarpet\"}],\"scattergeo\":[{\"marker\":{\"colorbar\":{\"outlinewidth\":0,\"ticks\":\"\"}},\"type\":\"scattergeo\"}],\"scattergl\":[{\"marker\":{\"colorbar\":{\"outlinewidth\":0,\"ticks\":\"\"}},\"type\":\"scattergl\"}],\"scattermapbox\":[{\"marker\":{\"colorbar\":{\"outlinewidth\":0,\"ticks\":\"\"}},\"type\":\"scattermapbox\"}],\"scatterpolargl\":[{\"marker\":{\"colorbar\":{\"outlinewidth\":0,\"ticks\":\"\"}},\"type\":\"scatterpolargl\"}],\"scatterpolar\":[{\"marker\":{\"colorbar\":{\"outlinewidth\":0,\"ticks\":\"\"}},\"type\":\"scatterpolar\"}],\"scatter\":[{\"fillpattern\":{\"fillmode\":\"overlay\",\"size\":10,\"solidity\":0.2},\"type\":\"scatter\"}],\"scatterternary\":[{\"marker\":{\"colorbar\":{\"outlinewidth\":0,\"ticks\":\"\"}},\"type\":\"scatterternary\"}],\"surface\":[{\"colorbar\":{\"outlinewidth\":0,\"ticks\":\"\"},\"colorscale\":[[0.0,\"#0d0887\"],[0.1111111111111111,\"#46039f\"],[0.2222222222222222,\"#7201a8\"],[0.3333333333333333,\"#9c179e\"],[0.4444444444444444,\"#bd3786\"],[0.5555555555555556,\"#d8576b\"],[0.6666666666666666,\"#ed7953\"],[0.7777777777777778,\"#fb9f3a\"],[0.8888888888888888,\"#fdca26\"],[1.0,\"#f0f921\"]],\"type\":\"surface\"}],\"table\":[{\"cells\":{\"fill\":{\"color\":\"#EBF0F8\"},\"line\":{\"color\":\"white\"}},\"header\":{\"fill\":{\"color\":\"#C8D4E3\"},\"line\":{\"color\":\"white\"}},\"type\":\"table\"}]},\"layout\":{\"annotationdefaults\":{\"arrowcolor\":\"#2a3f5f\",\"arrowhead\":0,\"arrowwidth\":1},\"autotypenumbers\":\"strict\",\"coloraxis\":{\"colorbar\":{\"outlinewidth\":0,\"ticks\":\"\"}},\"colorscale\":{\"diverging\":[[0,\"#8e0152\"],[0.1,\"#c51b7d\"],[0.2,\"#de77ae\"],[0.3,\"#f1b6da\"],[0.4,\"#fde0ef\"],[0.5,\"#f7f7f7\"],[0.6,\"#e6f5d0\"],[0.7,\"#b8e186\"],[0.8,\"#7fbc41\"],[0.9,\"#4d9221\"],[1,\"#276419\"]],\"sequential\":[[0.0,\"#0d0887\"],[0.1111111111111111,\"#46039f\"],[0.2222222222222222,\"#7201a8\"],[0.3333333333333333,\"#9c179e\"],[0.4444444444444444,\"#bd3786\"],[0.5555555555555556,\"#d8576b\"],[0.6666666666666666,\"#ed7953\"],[0.7777777777777778,\"#fb9f3a\"],[0.8888888888888888,\"#fdca26\"],[1.0,\"#f0f921\"]],\"sequentialminus\":[[0.0,\"#0d0887\"],[0.1111111111111111,\"#46039f\"],[0.2222222222222222,\"#7201a8\"],[0.3333333333333333,\"#9c179e\"],[0.4444444444444444,\"#bd3786\"],[0.5555555555555556,\"#d8576b\"],[0.6666666666666666,\"#ed7953\"],[0.7777777777777778,\"#fb9f3a\"],[0.8888888888888888,\"#fdca26\"],[1.0,\"#f0f921\"]]},\"colorway\":[\"#636efa\",\"#EF553B\",\"#00cc96\",\"#ab63fa\",\"#FFA15A\",\"#19d3f3\",\"#FF6692\",\"#B6E880\",\"#FF97FF\",\"#FECB52\"],\"font\":{\"color\":\"#2a3f5f\"},\"geo\":{\"bgcolor\":\"white\",\"lakecolor\":\"white\",\"landcolor\":\"white\",\"showlakes\":true,\"showland\":true,\"subunitcolor\":\"#C8D4E3\"},\"hoverlabel\":{\"align\":\"left\"},\"hovermode\":\"closest\",\"mapbox\":{\"style\":\"light\"},\"paper_bgcolor\":\"white\",\"plot_bgcolor\":\"white\",\"polar\":{\"angularaxis\":{\"gridcolor\":\"#EBF0F8\",\"linecolor\":\"#EBF0F8\",\"ticks\":\"\"},\"bgcolor\":\"white\",\"radialaxis\":{\"gridcolor\":\"#EBF0F8\",\"linecolor\":\"#EBF0F8\",\"ticks\":\"\"}},\"scene\":{\"xaxis\":{\"backgroundcolor\":\"white\",\"gridcolor\":\"#DFE8F3\",\"gridwidth\":2,\"linecolor\":\"#EBF0F8\",\"showbackground\":true,\"ticks\":\"\",\"zerolinecolor\":\"#EBF0F8\"},\"yaxis\":{\"backgroundcolor\":\"white\",\"gridcolor\":\"#DFE8F3\",\"gridwidth\":2,\"linecolor\":\"#EBF0F8\",\"showbackground\":true,\"ticks\":\"\",\"zerolinecolor\":\"#EBF0F8\"},\"zaxis\":{\"backgroundcolor\":\"white\",\"gridcolor\":\"#DFE8F3\",\"gridwidth\":2,\"linecolor\":\"#EBF0F8\",\"showbackground\":true,\"ticks\":\"\",\"zerolinecolor\":\"#EBF0F8\"}},\"shapedefaults\":{\"line\":{\"color\":\"#2a3f5f\"}},\"ternary\":{\"aaxis\":{\"gridcolor\":\"#DFE8F3\",\"linecolor\":\"#A2B1C6\",\"ticks\":\"\"},\"baxis\":{\"gridcolor\":\"#DFE8F3\",\"linecolor\":\"#A2B1C6\",\"ticks\":\"\"},\"bgcolor\":\"white\",\"caxis\":{\"gridcolor\":\"#DFE8F3\",\"linecolor\":\"#A2B1C6\",\"ticks\":\"\"}},\"title\":{\"x\":0.05},\"xaxis\":{\"automargin\":true,\"gridcolor\":\"#EBF0F8\",\"linecolor\":\"#EBF0F8\",\"ticks\":\"\",\"title\":{\"standoff\":15},\"zerolinecolor\":\"#EBF0F8\",\"zerolinewidth\":2},\"yaxis\":{\"automargin\":true,\"gridcolor\":\"#EBF0F8\",\"linecolor\":\"#EBF0F8\",\"ticks\":\"\",\"title\":{\"standoff\":15},\"zerolinecolor\":\"#EBF0F8\",\"zerolinewidth\":2}}},\"xaxis\":{\"range\":[0,10],\"tick0\":1,\"dtick\":2,\"title\":{\"text\":\"Term Rank\"}},\"title\":{\"font\":{\"size\":22,\"color\":\"Black\"},\"text\":\"\\u003cb\\u003eTerm score decline per Topic\\u003c\\u002fb\\u003e\",\"y\":0.9,\"x\":0.5,\"xanchor\":\"center\",\"yanchor\":\"top\"},\"hoverlabel\":{\"font\":{\"size\":16,\"family\":\"Rockwell\"},\"bgcolor\":\"white\"},\"showlegend\":false,\"width\":800,\"height\":500,\"yaxis\":{\"title\":{\"text\":\"c-TF-IDF score\"}}},                        {\"responsive\": true}                    ).then(function(){\n",
              "                            \n",
              "var gd = document.getElementById('d1874dea-2013-48ce-a836-0b5d7616b01b');\n",
              "var x = new MutationObserver(function (mutations, observer) {{\n",
              "        var display = window.getComputedStyle(gd).display;\n",
              "        if (!display || display === 'none') {{\n",
              "            console.log([gd, 'removed!']);\n",
              "            Plotly.purge(gd);\n",
              "            observer.disconnect();\n",
              "        }}\n",
              "}});\n",
              "\n",
              "// Listen for the removal of the full notebook cells\n",
              "var notebookContainer = gd.closest('#notebook-container');\n",
              "if (notebookContainer) {{\n",
              "    x.observe(notebookContainer, {childList: true});\n",
              "}}\n",
              "\n",
              "// Listen for the clearing of the current output cell\n",
              "var outputEl = gd.closest('.output');\n",
              "if (outputEl) {{\n",
              "    x.observe(outputEl, {childList: true});\n",
              "}}\n",
              "\n",
              "                        })                };                            </script>        </div>\n",
              "</body>\n",
              "</html>"
            ]
          },
          "metadata": {}
        }
      ]
    },
    {
      "cell_type": "markdown",
      "metadata": {
        "id": "D48ienfZrfP0"
      },
      "source": [
        "# **Topic Representation**\n",
        "After having created the topic model, you might not be satisfied with some of the parameters you have chosen. Fortunately, BERTopic allows you to update the topics after they have been created.\n",
        "\n",
        "This allows for fine-tuning the model to your specifications and wishes."
      ]
    },
    {
      "cell_type": "markdown",
      "metadata": {
        "id": "c4m3UMsw-Zxk"
      },
      "source": [
        "## Update Topics\n",
        "When you have trained a model and viewed the topics and the words that represent them,\n",
        "you might not be satisfied with the representation. Perhaps you forgot to remove\n",
        "stopwords or you want to try out a different `n_gram_range`. We can use the function `update_topics` to update\n",
        "the topic representation with new parameters for `c-TF-IDF`:\n"
      ]
    },
    {
      "cell_type": "code",
      "metadata": {
        "id": "KWm7B-FJ-iYW"
      },
      "source": [
        "topic_model.update_topics(docs, n_gram_range=(1, 2))"
      ],
      "execution_count": null,
      "outputs": []
    },
    {
      "cell_type": "code",
      "metadata": {
        "colab": {
          "base_uri": "https://localhost:8080/"
        },
        "id": "wf31gQavdtfG",
        "outputId": "b2cf3d47-f665-44fe-bbe0-c927e4d73363"
      },
      "source": [
        "topic_model.get_topic(0)   # We select topic that we viewed before"
      ],
      "execution_count": null,
      "outputs": [
        {
          "output_type": "execute_result",
          "data": {
            "text/plain": [
              "[('space', 0.011119596146117955),\n",
              " ('nasa', 0.0047697533973351915),\n",
              " ('shuttle', 0.0044533985251824495),\n",
              " ('orbit', 0.004129278694477752),\n",
              " ('spacecraft', 0.004011023125258004),\n",
              " ('satellite', 0.003783732360211832),\n",
              " ('moon', 0.003639954930862572),\n",
              " ('lunar', 0.0034753177228921146),\n",
              " ('the moon', 0.002821040122532999),\n",
              " ('mars', 0.0028033947303940923)]"
            ]
          },
          "metadata": {
            "tags": []
          },
          "execution_count": 10
        }
      ]
    },
    {
      "cell_type": "markdown",
      "metadata": {
        "id": "9antKpdC91A-"
      },
      "source": [
        "## Topic Reduction\n",
        "We can also reduce the number of topics after having trained a BERTopic model. The advantage of doing so,\n",
        "is that you can decide the number of topics after knowing how many are actually created. It is difficult to\n",
        "predict before training your model how many topics that are in your documents and how many will be extracted.\n",
        "Instead, we can decide afterwards how many topics seems realistic:\n",
        "\n",
        "\n",
        "\n"
      ]
    },
    {
      "cell_type": "code",
      "metadata": {
        "id": "5m4Nd7Us-Peg",
        "colab": {
          "base_uri": "https://localhost:8080/"
        },
        "outputId": "2d442d39-5bc5-4e7f-c155-6e6c664f6714"
      },
      "source": [
        "topic_model.reduce_topics(docs, nr_topics=60)"
      ],
      "execution_count": null,
      "outputs": [
        {
          "output_type": "stream",
          "name": "stderr",
          "text": [
            "2021-10-17 06:05:02,666 - BERTopic - Reduced number of topics from 220 to 61\n"
          ]
        }
      ]
    },
    {
      "cell_type": "code",
      "source": [
        "# Access the newly updated topics with:\n",
        "print(topic_model.topics_)"
      ],
      "metadata": {
        "colab": {
          "base_uri": "https://localhost:8080/"
        },
        "id": "jVAYd7pXJ1_T",
        "outputId": "433d5607-cf1d-421d-9bee-070363f13abb"
      },
      "execution_count": null,
      "outputs": [
        {
          "output_type": "stream",
          "name": "stdout",
          "text": [
            "[0, 32, -1, -1, -1, -1, -1, 0, 0, -1, -1, -1, -1, -1, -1, 14, -1, -1, -1, 4, 6, -1, -1, 4, 0, -1, -1, -1, -1, 20, -1, 48, 5, 0, 25, 11, 24, -1, 4, -1, -1, 23, 51, -1, 0, -1, -1, 7, 1, 5, -1, -1, 48, 1, -1, 4, -1, -1, -1, -1, 0, -1, -1, -1, -1, -1, 0, -1, -1, -1, -1, 19, 35, -1, -1, -1, 0, 37, -1, 0, 54, 6, 58, 51, 30, -1, -1, 19, -1, -1, 0, 2, 45, 32, -1, -1, 21, -1, -1, -1, -1, -1, -1, 3, 2, 0, -1, -1, -1, -1, 11, -1, -1, 15, 14, -1, -1, -1, 0, 5, 5, -1, -1, -1, 9, -1, -1, 2, -1, -1, -1, -1, -1, 0, 55, 2, 21, 1, -1, -1, -1, 11, 31, -1, -1, -1, 11, 10, 0, 7, 4, 4, 55, -1, -1, -1, -1, 3, 8, 16, -1, 2, -1, -1, -1, -1, -1, -1, -1, 25, 24, -1, 28, -1, -1, -1, 0, -1, 4, 0, 6, 0, -1, -1, -1, 2, -1, 31, -1, -1, 5, -1, 2, 13, -1, -1, 14, -1, -1, 10, -1, -1, -1, -1, -1, -1, 18, -1, 53, 13, 4, 44, -1, 5, 4, -1, -1, -1, -1, 2, 0, 34, -1, 6, 1, -1, 1, 4, -1, 0, -1, -1, -1, 40, 0, -1, -1, 0, 0, -1, -1, -1, 25, 39, -1, 7, 2, 6, -1, 29, -1, -1, 40, -1, 23, -1, -1, -1, -1, -1, -1, -1, -1, -1, 32, 21, 32, -1, -1, 32, -1, -1, 2, -1, -1, -1, 14, -1, -1, -1, -1, -1, -1, 0, -1, 2, 3, -1, 24, -1, 32, -1, 22, 15, -1, -1, 7, 2, -1, 1, -1, -1, -1, 19, 54, -1, 24, -1, -1, -1, -1, -1, 13, -1, -1, -1, -1, -1, 2, 20, -1, -1, -1, 10, -1, -1, 49, 0, -1, 4, 42, -1, -1, 0, 24, 18, -1, -1, -1, -1, 10, -1, -1, -1, -1, -1, -1, 3, -1, -1, -1, -1, 56, -1, 3, -1, 0, -1, -1, 11, -1, -1, 31, -1, -1, 0, -1, -1, -1, -1, -1, 0, -1, -1, -1, 0, -1, -1, -1, -1, 1, 18, 15, -1, -1, 0, 0, 44, -1, -1, 49, -1, 6, 0, 0, -1, 58, -1, -1, 33, -1, -1, 0, -1, -1, -1, 29, 11, -1, -1, 0, 28, -1, -1, -1, -1, -1, 9, 0, -1, -1, -1, -1, -1, 9, -1, 11, 0, -1, 4, 2, 3, 0, -1, -1, -1, -1, -1, -1, -1, 12, -1, -1, -1, -1, 25, 1, -1, -1, -1, 6, 47, 31, -1, -1, -1, -1, -1, 0, 30, 0, -1, 5, 7, -1, -1, 24, -1, -1, 5, 35, -1, -1, -1, 0, 20, 46, -1, -1, 13, -1, -1, -1, -1, -1, -1, 0, -1, -1, -1, -1, -1, -1, 30, -1, 8, -1, -1, 0, -1, -1, -1, 23, 10, 4, -1, 16, 28, 1, -1, -1, -1, 45, 0, 0, 18, 7, -1, -1, -1, -1, 14, 8, -1, -1, 0, -1, 0, -1, 0, 49, -1, -1, -1, -1, 2, -1, 47, 2, -1, -1, -1, 18, 30, -1, 3, -1, -1, 2, -1, -1, -1, 14, 4, 0, -1, 0, 12, -1, 4, -1, 14, -1, 0, -1, -1, -1, -1, 15, -1, -1, 5, -1, -1, -1, -1, 0, -1, 3, 12, -1, 7, 4, 29, -1, -1, 3, -1, 0, -1, 26, -1, 3, 0, -1, -1, -1, 2, 0, 1, -1, -1, -1, -1, -1, 42, 28, 1, 7, -1, 1, -1, -1, 46, -1, -1, 1, -1, -1, 5, -1, 23, -1, -1, -1, -1, 19, -1, 15, 0, 0, 22, -1, -1, 7, 13, -1, -1, 20, -1, 7, 26, -1, -1, -1, -1, -1, 21, -1, 0, -1, -1, -1, 5, 19, -1, 58, 8, -1, 15, -1, -1, -1, 0, -1, -1, 0, -1, -1, 24, 0, 17, 29, -1, 1, -1, -1, -1, -1, 25, -1, 16, -1, -1, 12, -1, -1, -1, -1, 36, -1, 2, -1, 8, 35, 5, -1, 17, -1, -1, 48, 0, 5, -1, 40, 42, -1, 0, 3, -1, 0, 16, 54, 6, 1, 22, -1, -1, -1, 5, -1, 39, 3, -1, -1, 5, -1, -1, -1, 18, -1, 14, -1, -1, -1, 2, 14, 26, 0, 0, -1, -1, 0, 14, 0, 4, 12, 0, -1, 5, 44, -1, -1, -1, 31, 17, -1, -1, 25, 0, 2, 19, 47, 0, 10, -1, -1, -1, 32, -1, -1, 21, 7, 4, 1, 0, 0, 32, -1, 34, -1, -1, 58, -1, 8, -1, 8, -1, -1, 24, 0, -1, 0, -1, 5, -1, 48, 37, -1, 1, 51, -1, -1, 12, -1, 4, 37, 1, -1, -1, 39, 20, 2, 0, 55, 53, -1, 44, -1, 6, 0, 13, -1, -1, -1, 0, -1, 10, 0, 59, -1, 32, 2, -1, -1, -1, 1, -1, -1, -1, -1, 43, 24, 2, -1, -1, -1, 8, 35, 1, -1, -1, -1, -1, 49, 15, 0, -1, 14, -1, 0, -1, -1, 11, 57, -1, 7, 25, -1, -1, 22, 27, -1, -1, 5, -1, -1, -1, 0, 44, -1, -1, 10, -1, 2, -1, -1, -1, 3, -1, -1, -1, -1, -1, -1, -1, -1, 1, 0, -1, -1, 0, 2, -1, -1, -1, -1, 59, -1, 59, 25, -1, 21, -1, 38, -1, -1, -1, -1, -1, 37, -1, -1, -1, 41, -1, -1, -1, 1, -1, 0, 0, -1, -1, 16, -1, 0, 4, 0, -1, 17, 15, -1, 20, 7, -1, -1, -1, 57, -1, -1, 40, -1, -1, 1, -1, -1, -1, -1, 0, 9, -1, -1, 0, 15, -1, 13, 0, -1, -1, 41, -1, 0, -1, 18, -1, 0, -1, 9, 4, 0, 7, 37, 0, 2, -1, -1, -1, -1, -1, -1, -1, 0, -1, 32, 17, -1, -1, -1, -1, -1, -1, -1, 0, -1, 1, -1, 4, 3, 23, -1, 9, 20, 20, -1, 4, -1, 0, -1, -1, 3, 12, 0, 20, -1, 0, -1, 6, -1, -1, -1, -1, -1, 0, -1, -1, -1, -1, 7, 36, -1, 29, 25, 34, 41, 11, 26, 54, -1, -1, -1, -1, 55, 0, 3, 7, -1, -1, -1, -1, 27, 1, -1, 29, 1, 0, 54, -1, 0, 3, -1, -1, -1, -1, -1, -1, -1, -1, -1, -1, 11, 16, -1, -1, 2, 2, 39, -1, -1, -1, -1, -1, -1, -1, 1, 0, 9, -1, -1, -1, 4, -1, 24, 0, 16, 18, -1, -1, -1, -1, -1, -1, 2, -1, -1, -1, 0, -1, 22, 4, 0, -1, 17, -1, 16, -1, 1, 2, -1, 13, 11, 3, -1, 31, -1, 40, 16, -1, 0, 7, -1, 4, 2, -1, -1, 47, 50, -1, -1, -1, -1, 4, -1, 22, 0, -1, -1, 3, -1, -1, -1, -1, -1, 1, 22, -1, -1, -1, 5, -1, 33, -1, -1, -1, 0, -1, 0, -1, 17, 6, -1, -1, -1, -1, 34, 0, 0, 0, -1, 6, -1, 7, -1, -1, -1, 16, -1, 0, 0, -1, 2, -1, -1, 35, 1, 39, -1, 19, -1, -1, 0, -1, -1, -1, -1, 0, 5, 0, -1, -1, -1, -1, -1, -1, 4, -1, -1, 1, -1, -1, 16, -1, -1, 21, 5, -1, 14, 15, -1, 31, -1, 16, -1, 0, 56, -1, 8, 29, 37, -1, 0, 56, -1, -1, -1, 21, 17, 39, -1, 5, -1, -1, -1, -1, -1, -1, -1, -1, -1, -1, 4, 12, -1, 13, -1, 38, 0, 0, -1, -1, -1, 5, -1, 59, -1, 14, 40, -1, 0, -1, -1, -1, 0, 6, -1, -1, 6, -1, -1, -1, 51, 0, 34, 1, -1, 2, -1, -1, 0, -1, 36, -1, 13, -1, 34, 45, -1, 19, 3, -1, 2, -1, 0, -1, 6, -1, 46, -1, -1, -1, 2, 25, -1, -1, -1, -1, -1, 15, 1, -1, 7, -1, 6, 10, 9, -1, -1, -1, 59, 11, 1, 50, -1, 2, 11, 22, -1, 24, 3, 41, 20, -1, -1, -1, 22, 7, 3, -1, -1, 33, 2, -1, -1, -1, -1, -1, -1, -1, -1, 41, -1, 31, -1, -1, 33, 4, 42, 0, -1, -1, -1, -1, -1, -1, 3, 1, -1, -1, 0, -1, -1, -1, 0, -1, 46, 37, -1, 21, 14, -1, -1, 0, -1, 32, 2, 5, -1, 35, 0, 7, -1, 17, -1, 3, -1, -1, -1, -1, 3, 4, -1, 0, -1, 0, 32, 9, -1, -1, 1, -1, -1, -1, -1, 43, -1, -1, -1, 0, 2, 49, -1, 11, 1, 0, 2, 0, -1, -1, 11, 0, -1, -1, 3, -1, 20, 22, 1, 24, -1, 0, 40, 2, -1, -1, -1, 1, -1, 4, -1, -1, -1, -1, -1, 0, 30, 45, 56, -1, -1, 0, -1, 6, -1, -1, -1, -1, -1, 19, -1, -1, -1, 0, 5, -1, 27, 3, -1, -1, -1, -1, -1, 17, 23, -1, 28, -1, 36, 58, -1, -1, -1, 1, 3, -1, 4, -1, 55, 31, 7, 26, 34, 0, 1, -1, 7, 4, -1, -1, 0, 39, 25, -1, -1, 52, -1, -1, -1, 2, -1, -1, 58, 0, -1, 8, -1, -1, 12, -1, 21, -1, -1, -1, 3, -1, -1, 36, -1, -1, 17, -1, -1, -1, 16, -1, 46, -1, -1, 10, -1, 35, -1, 15, 6, -1, 0, -1, -1, -1, 6, -1, 40, 8, 15, 52, -1, -1, -1, 33, 15, 27, -1, -1, -1, -1, -1, -1, -1, -1, -1, -1, 43, -1, -1, -1, 20, 4, 3, -1, -1, -1, 51, -1, -1, -1, -1, -1, 0, -1, -1, -1, 0, 1, -1, -1, -1, -1, 0, -1, 0, -1, 35, -1, -1, 8, -1, 15, 40, 26, 32, 2, -1, -1, -1, -1, 6, -1, 0, 1, -1, -1, -1, -1, 6, -1, 1, -1, -1, 9, 11, -1, 0, 17, -1, 10, -1, 0, -1, -1, 3, -1, -1, 0, -1, -1, 0, -1, -1, -1, -1, -1, 5, 17, -1, -1, 1, -1, -1, 1, 43, 0, -1, 4, 0, 0, 10, 3, 22, 0, -1, -1, -1, -1, 5, -1, 21, 10, 3, -1, -1, -1, 1, 30, -1, 8, 2, -1, -1, -1, -1, 0, 24, 18, 1, -1, 4, 31, -1, -1, 52, -1, 0, 5, -1, 57, -1, -1, -1, -1, -1, -1, 31, -1, 0, 0, -1, 2, 44, -1, 8, -1, 0, 0, -1, -1, -1, -1, -1, 4, 4, 10, -1, 0, 3, 12, -1, 42, 10, 0, -1, 26, 49, 19, -1, 0, -1, -1, 7, -1, -1, 58, 53, -1, 26, -1, 5, -1, -1, -1, -1, -1, -1, 8, 31, 0, -1, 36, -1, -1, 7, -1, -1, -1, 1, 26, 2, -1, 29, -1, 8, -1, 15, -1, -1, 25, 3, -1, -1, 9, -1, 13, 51, -1, -1, -1, -1, 1, -1, -1, -1, -1, 1, -1, -1, 4, 6, 34, 9, -1, -1, -1, 20, -1, -1, 1, 0, -1, 0, -1, 3, 1, 3, -1, -1, -1, 2, 1, -1, 0, 8, 0, -1, 51, -1, 6, -1, 27, 51, -1, 0, -1, -1, -1, -1, -1, -1, -1, 31, 25, -1, 8, -1, 20, 15, -1, 1, 0, 12, 4, 0, 0, -1, -1, 3, -1, -1, 1, -1, 2, -1, -1, -1, 20, -1, 48, 34, -1, -1, -1, -1, -1, 11, 0, -1, 25, -1, 1, -1, -1, 10, -1, -1, 0, -1, -1, -1, -1, -1, 1, 2, 0, 43, -1, 59, 13, 0, 55, -1, 1, -1, -1, 0, 4, -1, -1, -1, -1, 13, 0, -1, -1, 8, -1, 9, -1, 1, -1, 20, 52, -1, 5, -1, -1, 7, 49, -1, 0, -1, -1, 29, -1, 40, 1, 50, -1, 55, -1, -1, -1, 2, 39, -1, -1, -1, -1, -1, 0, -1, -1, 0, -1, -1, 4, -1, 7, 1, 58, -1, -1, 14, -1, 38, 15, -1, -1, 21, 5, 0, -1, -1, -1, -1, -1, 37, 44, 12, 2, 0, -1, -1, -1, 2, -1, -1, -1, 0, -1, 0, 0, 2, -1, 0, -1, -1, 3, 3, -1, -1, 6, 0, -1, -1, 8, 0, 19, 0, 2, -1, -1, 14, 23, -1, 42, 47, 0, -1, -1, -1, -1, 59, 0, 14, 1, 48, 4, -1, -1, 0, 0, -1, -1, -1, 0, 43, 12, -1, -1, 1, -1, -1, -1, -1, -1, 40, -1, 9, -1, -1, 15, -1, 0, 4, 8, 7, -1, -1, 2, -1, -1, 28, -1, -1, 2, -1, 26, 18, 57, -1, -1, 15, -1, 3, -1, -1, 17, -1, -1, 42, -1, -1, 32, -1, -1, -1, -1, -1, -1, 17, -1, 29, -1, -1, 47, 0, -1, -1, -1, -1, 5, -1, -1, -1, 0, -1, 41, -1, 20, -1, 0, -1, 8, 2, 3, 7, -1, -1, 54, 11, 21, 1, 0, -1, -1, 2, -1, 4, -1, -1, -1, -1, -1, -1, -1, -1, -1, 18, -1, 51, 30, 1, -1, -1, -1, 3, 14, 23, 40, -1, 0, 2, -1, -1, 33, 2, -1, -1, -1, -1, -1, -1, -1, 0, 0, -1, 23, -1, 0, 1, -1, -1, 12, -1, -1, -1, 50, -1, -1, 0, -1, 5, 36, -1, 12, 5, 57, 4, -1, 43, -1, -1, 56, -1, 3, -1, 21, 0, -1, 24, 2, -1, 0, 10, -1, 30, 54, -1, -1, 0, -1, -1, -1, 33, 20, -1, -1, -1, 37, -1, 9, -1, -1, 6, 13, -1, 0, -1, -1, 32, 0, 0, -1, -1, -1, 0, 28, 3, -1, 3, 4, 2, 0, 5, -1, -1, -1, 29, -1, -1, 0, 1, -1, -1, 15, -1, -1, 0, 2, 3, 9, -1, -1, -1, -1, -1, -1, -1, 4, -1, 8, -1, -1, 1, 34, -1, 3, 34, -1, 30, -1, 0, -1, -1, -1, -1, 2, -1, 2, 24, -1, -1, 0, 5, 0, -1, -1, -1, 8, -1, 51, -1, 15, -1, -1, -1, -1, 3, -1, -1, -1, -1, 0, 0, -1, 17, -1, -1, 9, 8, -1, -1, -1, -1, 42, -1, 0, -1, -1, -1, -1, -1, -1, -1, -1, -1, -1, 14, -1, -1, -1, -1, -1, -1, -1, 1, 31, -1, -1, -1, 0, -1, -1, 19, 2, 1, -1, 4, -1, -1, -1, -1, -1, -1, -1, 1, 1, 22, 55, 10, 3, -1, -1, -1, -1, -1, 2, -1, 0, -1, -1, -1, -1, 2, 11, 0, -1, 0, -1, 19, -1, 32, 30, 0, -1, -1, 0, -1, 9, 1, 56, 3, 3, 9, -1, -1, 14, 3, -1, 7, 0, 0, -1, -1, 2, -1, -1, -1, 1, 11, 2, 3, 3, 6, -1, 2, 0, -1, 34, -1, 10, -1, 6, -1, -1, 22, -1, -1, 0, 0, -1, -1, 4, 0, 0, -1, 0, -1, -1, -1, 0, 31, 1, -1, -1, -1, 0, -1, -1, 0, 12, -1, 0, -1, 0, 8, 2, 23, -1, -1, -1, 35, 0, -1, -1, -1, -1, -1, 46, 30, -1, -1, -1, -1, 6, -1, -1, -1, -1, -1, -1, -1, -1, -1, -1, -1, -1, -1, -1, 48, 0, -1, -1, -1, -1, 1, 7, -1, 31, -1, 1, -1, 48, 43, -1, -1, -1, 52, 2, -1, 1, -1, -1, 49, -1, -1, -1, -1, 13, -1, 0, 27, 0, -1, 1, 1, -1, 2, 34, 8, 36, -1, -1, 0, 20, -1, -1, 39, -1, 14, -1, 8, 0, -1, 1, -1, 14, -1, -1, 13, -1, -1, 4, -1, -1, -1, -1, 0, -1, 4, 43, 3, 23, 17, -1, -1, -1, -1, -1, -1, -1, -1, -1, 9, -1, -1, -1, -1, 9, 0, -1, -1, 28, -1, 16, 6, -1, 0, -1, 11, -1, 0, 0, 2, -1, -1, -1, -1, -1, 6, 0, -1, 0, 3, -1, 5, -1, 0, 21, -1, 1, -1, -1, 3, -1, -1, 29, -1, 2, -1, 31, 1, 0, -1, -1, 11, 19, -1, 0, 1, 50, -1, 10, 36, 1, -1, -1, -1, 1, -1, 41, -1, -1, 0, 0, -1, 3, 0, 59, 58, 4, 0, -1, -1, -1, 9, -1, -1, -1, -1, -1, 37, 6, -1, 9, -1, -1, 45, -1, 1, 14, 0, 0, -1, 25, -1, 6, 1, -1, -1, 0, -1, -1, 3, 3, 1, 3, -1, 37, 0, 19, -1, 12, -1, 11, -1, 51, -1, -1, 1, -1, 0, -1, 30, -1, 3, -1, -1, 0, -1, 28, -1, 31, 30, -1, -1, -1, 57, -1, 0, -1, -1, -1, -1, -1, 16, 32, 1, -1, 0, 0, -1, 37, -1, -1, -1, 4, -1, 36, 31, -1, 58, -1, -1, 48, 1, 50, -1, 7, -1, 20, -1, -1, 27, 10, 2, 0, -1, -1, -1, 1, -1, 44, -1, 13, -1, 28, -1, -1, -1, 1, 9, -1, -1, 11, 3, 15, -1, -1, 22, -1, -1, -1, 47, -1, 4, -1, -1, -1, 4, -1, -1, 1, -1, -1, 42, 0, -1, 2, 3, -1, -1, -1, -1, -1, -1, 16, -1, -1, 0, 0, -1, -1, -1, -1, -1, 1, -1, 25, 6, 9, -1, -1, -1, -1, 0, -1, -1, 30, -1, 0, -1, -1, -1, -1, 45, -1, -1, 2, -1, 2, 3, -1, 1, -1, -1, -1, 9, 19, -1, 44, 15, -1, -1, 24, 0, 4, -1, 42, -1, 0, 18, 32, -1, -1, -1, 1, -1, -1, -1, 0, -1, -1, 26, 4, -1, -1, -1, -1, -1, 0, -1, -1, -1, -1, -1, -1, -1, 45, -1, -1, 2, -1, -1, -1, -1, -1, -1, -1, 5, -1, -1, 2, -1, -1, 0, -1, 2, -1, -1, 7, -1, -1, -1, 38, 4, -1, 11, 12, 24, 27, -1, -1, 1, -1, -1, -1, 53, -1, -1, -1, -1, 6, -1, 35, 35, 2, 7, -1, -1, 2, -1, -1, 14, 49, 30, -1, 5, -1, -1, -1, 0, 0, 3, -1, -1, -1, -1, -1, -1, 0, -1, 11, -1, 0, 0, -1, -1, -1, -1, 14, -1, 0, -1, -1, -1, -1, 13, 5, 53, -1, -1, 0, 15, -1, 0, -1, -1, 3, -1, -1, 56, -1, -1, 1, -1, -1, 2, -1, -1, -1, 14, -1, 0, -1, 5, 1, 5, 3, 0, 13, 0, 19, -1, 17, -1, 0, 0, 4, -1, -1, -1, -1, 17, 16, 39, -1, -1, -1, -1, -1, -1, -1, -1, -1, -1, -1, 17, -1, -1, -1, 0, 6, 12, -1, 0, -1, -1, 2, -1, -1, -1, 27, 18, 0, 2, -1, -1, -1, -1, 3, -1, -1, -1, 19, -1, -1, 38, -1, -1, 0, 0, 34, 7, -1, 0, 5, -1, -1, -1, -1, -1, -1, -1, -1, 13, 44, -1, -1, 0, -1, -1, -1, 9, 7, -1, 4, 2, 46, -1, -1, -1, 0, -1, -1, -1, -1, -1, 0, -1, 12, 42, 37, 0, -1, -1, 33, 1, -1, -1, -1, -1, -1, -1, 13, 3, -1, 53, 4, 4, -1, 4, 54, -1, 0, 0, -1, -1, 7, -1, -1, -1, -1, 0, -1, 0, -1, -1, -1, -1, 2, -1, -1, -1, -1, -1, 0, 4, -1, -1, -1, -1, 7, -1, 5, -1, -1, -1, -1, 2, -1, 2, 59, -1, 35, -1, 25, 18, 51, 0, 41, 3, -1, -1, -1, -1, -1, 0, 24, -1, 29, -1, 39, -1, 14, 0, -1, 33, -1, 13, 0, 0, 0, -1, -1, -1, 9, -1, 0, -1, -1, -1, -1, 3, 2, -1, -1, -1, -1, -1, 44, -1, -1, 5, -1, -1, -1, 22, 12, -1, 1, 0, -1, 3, -1, 22, 1, 3, -1, -1, 0, 1, 46, 1, 2, 1, 1, -1, -1, -1, -1, -1, 0, -1, -1, 1, -1, 1, -1, -1, -1, 16, 8, 29, -1, -1, -1, 45, -1, 0, -1, 25, 33, -1, -1, -1, -1, 0, 19, 10, 10, -1, -1, 4, 33, -1, 2, 31, -1, -1, 24, 4, 0, -1, 34, -1, 52, -1, 0, 7, 55, 5, 3, -1, 10, 4, 0, 0, -1, -1, 49, 0, 0, 10, -1, 19, 13, -1, -1, 58, 22, 52, -1, -1, 0, -1, 3, -1, 50, 35, -1, -1, 6, 22, -1, -1, -1, 13, -1, 8, -1, -1, 6, -1, -1, 57, -1, -1, -1, -1, -1, -1, 0, 50, 0, -1, 1, 5, 1, 19, 9, 0, -1, 58, -1, -1, -1, 0, 5, 42, 0, -1, -1, -1, 12, -1, -1, -1, -1, 0, -1, -1, -1, -1, -1, 9, -1, -1, 0, -1, -1, 57, 25, -1, 13, -1, 0, -1, 13, 10, 0, 2, 36, 4, -1, -1, -1, 33, -1, -1, -1, -1, 0, -1, -1, -1, 2, -1, -1, -1, -1, -1, -1, -1, -1, -1, 5, 0, -1, -1, 6, -1, 0, 44, -1, 7, -1, 23, 2, -1, -1, -1, -1, 15, 40, 52, 1, -1, -1, -1, 2, 3, 1, -1, -1, 12, -1, -1, -1, 0, 6, -1, 16, -1, -1, -1, -1, 0, -1, -1, 21, 5, 0, -1, -1, -1, -1, -1, 4, 23, 30, 36, 5, -1, 0, 0, 41, -1, 0, 9, 11, -1, 0, 0, -1, 26, -1, 0, -1, -1, 44, 6, 2, -1, 11, -1, 48, 0, -1, 10, 2, -1, -1, 35, -1, 4, -1, -1, -1, -1, 0, -1, -1, 7, 20, -1, -1, 42, -1, -1, 0, 0, 26, 46, 16, 4, -1, 4, -1, 46, -1, -1, -1, 0, -1, -1, 13, -1, -1, -1, -1, -1, -1, 1, 31, 22, 6, 3, 3, -1, 6, -1, 1, 1, -1, -1, -1, 22, 2, 1, 7, -1, -1, -1, -1, 5, -1, 1, -1, -1, -1, -1, -1, -1, -1, 5, -1, -1, 33, 5, 2, -1, 51, 15, -1, -1, 1, -1, -1, -1, 3, -1, 0, 4, -1, -1, 0, -1, 2, -1, 3, -1, 4, -1, -1, 3, 0, -1, 23, 26, -1, -1, 0, -1, -1, 6, 0, -1, -1, 8, -1, 0, -1, 56, -1, 10, 1, -1, 6, 0, 46, 4, -1, -1, -1, -1, -1, -1, -1, -1, 3, 6, 4, 5, 0, -1, -1, -1, 4, 19, -1, -1, -1, -1, -1, 15, 0, -1, 19, -1, 14, -1, -1, 53, -1, 3, -1, -1, -1, -1, -1, 0, 0, 0, -1, -1, -1, 21, -1, 1, 6, -1, -1, 19, 2, 23, -1, 21, 16, -1, -1, -1, 0, -1, 3, 12, -1, -1, 44, 2, -1, 7, -1, -1, 2, -1, -1, -1, 3, -1, -1, -1, 0, -1, -1, -1, 23, -1, 14, -1, 0, 16, -1, -1, -1, 47, -1, -1, -1, 22, -1, -1, 17, -1, 0, 0, 2, -1, 7, -1, 2, -1, 5, 17, 40, 15, -1, -1, 22, -1, -1, 45, -1, 38, 37, -1, -1, -1, 1, -1, -1, 50, -1, -1, 2, -1, 0, -1, 10, -1, 24, -1, -1, 0, 29, -1, -1, 16, 1, 7, 1, -1, 0, 1, -1, -1, -1, 7, -1, 0, 0, 0, -1, -1, -1, -1, 11, 54, 11, -1, 13, 4, -1, -1, -1, -1, 57, 0, 0, 0, -1, -1, -1, -1, -1, 16, -1, 0, 5, -1, -1, 35, -1, 0, -1, 2, 1, 11, 0, 1, -1, 21, -1, 3, 0, -1, -1, 9, -1, 0, -1, -1, -1, -1, 4, 17, 30, -1, 41, 18, 59, 2, 2, 4, -1, 36, 48, -1, 0, -1, -1, -1, 10, 34, 21, -1, 59, -1, 30, 19, -1, -1, -1, -1, 14, 4, 21, 5, 57, 4, 12, -1, 0, 3, 3, -1, -1, 51, 3, 3, 2, 0, 13, 0, 19, -1, -1, 34, 43, -1, 8, -1, 50, 3, 36, -1, -1, 3, -1, -1, -1, 25, -1, -1, 24, 10, 22, -1, 0, -1, 32, -1, -1, -1, 14, -1, 19, 1, 0, -1, -1, -1, -1, 7, -1, 39, 52, 42, -1, -1, -1, -1, 2, 36, -1, 19, -1, -1, -1, -1, -1, -1, 24, -1, -1, -1, -1, -1, -1, 21, 21, -1, 28, -1, 6, 2, -1, 2, -1, -1, -1, -1, 49, 13, -1, 26, -1, -1, -1, 37, -1, -1, 0, 30, -1, -1, -1, -1, 2, -1, -1, -1, 1, 0, -1, -1, 15, -1, -1, -1, -1, -1, 1, 3, -1, -1, -1, 16, 39, -1, -1, -1, -1, 12, -1, -1, 10, -1, -1, 34, 16, -1, -1, 3, -1, 0, 7, -1, -1, 18, 2, -1, 2, 0, -1, 1, 21, 36, -1, -1, 35, 3, -1, 6, 0, -1, -1, -1, 45, -1, -1, 34, 2, 37, 15, 3, -1, -1, -1, -1, -1, -1, -1, 15, 18, -1, 2, 6, 0, -1, -1, 48, 0, -1, -1, -1, -1, -1, 2, 6, 40, -1, -1, 46, -1, 13, 58, 0, 3, -1, -1, 50, -1, -1, 25, -1, -1, -1, -1, -1, 0, -1, 54, 2, -1, 26, -1, -1, 20, 25, 0, 2, -1, -1, -1, -1, -1, 9, -1, 3, 0, -1, 1, -1, -1, -1, 7, 57, -1, 0, 19, 16, -1, -1, 0, 47, -1, -1, -1, -1, 47, -1, -1, -1, 30, 3, -1, 0, 5, -1, -1, 17, 26, -1, 2, 7, -1, 52, -1, 2, -1, 0, 55, -1, -1, -1, 17, 0, 44, -1, 20, 23, -1, 3, 1, 3, 20, -1, 45, -1, -1, -1, 28, 7, -1, 9, 0, 0, -1, -1, 2, 0, -1, -1, -1, 1, -1, 52, 0, -1, 8, -1, -1, -1, -1, -1, -1, -1, 1, 3, 41, 36, 3, -1, -1, 6, 0, 7, -1, -1, -1, -1, -1, -1, -1, 1, -1, 1, -1, -1, -1, -1, 0, 26, -1, 29, 2, -1, 41, -1, 0, -1, -1, 32, -1, -1, -1, 12, 18, -1, -1, -1, 2, -1, 0, -1, -1, 41, -1, -1, 32, 1, 36, -1, 4, -1, -1, 0, 17, -1, -1, 1, 6, 8, 2, 0, -1, -1, 3, -1, 28, 21, -1, 3, -1, 3, -1, -1, -1, 0, 22, 0, 14, -1, 35, -1, -1, -1, -1, 3, -1, 1, 31, -1, -1, 10, -1, -1, -1, 0, -1, -1, -1, 2, -1, 48, -1, -1, -1, 30, 47, 2, -1, -1, -1, 0, -1, 58, -1, 12, -1, -1, -1, 0, -1, 12, 24, 3, -1, 30, 22, -1, -1, -1, 13, -1, 43, -1, -1, -1, -1, -1, -1, -1, -1, -1, -1, -1, -1, 16, 0, -1, -1, -1, -1, 6, 43, -1, -1, 0, -1, 9, 16, -1, 2, 1, 8, 0, -1, -1, -1, -1, 3, -1, 22, 9, 0, 3, 3, -1, -1, -1, 1, 4, 19, 31, -1, 55, -1, 47, 0, 36, 0, 16, 41, -1, -1, 2, 10, -1, -1, 10, -1, 9, -1, -1, -1, 4, 0, 3, 19, 0, -1, -1, -1, -1, 28, -1, 3, -1, -1, 18, -1, -1, -1, 5, 3, 12, 33, 0, 12, 8, -1, -1, -1, -1, 6, 34, 54, -1, -1, -1, -1, -1, -1, -1, 1, -1, -1, 23, -1, -1, 15, 28, 21, -1, -1, 4, -1, -1, 3, -1, 58, 35, -1, -1, -1, -1, 31, 32, -1, 41, -1, -1, 3, -1, -1, 0, 10, -1, -1, 7, 19, -1, -1, 2, -1, 10, -1, -1, -1, -1, -1, -1, 19, 10, 32, 40, -1, -1, -1, -1, -1, 0, -1, 32, -1, -1, -1, 16, -1, -1, 1, 0, 45, -1, -1, -1, -1, 0, -1, -1, 5, 0, -1, 31, -1, 2, 11, -1, 19, 40, -1, -1, -1, 36, 16, 9, 47, 50, -1, -1, 26, 0, 12, 4, 4, 30, 32, 3, 0, 8, -1, -1, 3, 0, -1, 0, -1, -1, 7, 0, -1, -1, -1, 19, -1, 20, -1, -1, 50, -1, -1, -1, -1, -1, -1, -1, -1, 21, -1, -1, 0, -1, 16, 49, -1, -1, 0, 49, 54, -1, -1, 0, -1, -1, 18, 5, -1, -1, -1, -1, 3, 57, 5, -1, 0, 3, 2, -1, -1, -1, 30, -1, 6, 0, -1, 16, -1, -1, -1, 10, -1, 1, 40, 5, 7, 11, 21, -1, -1, -1, -1, 38, -1, 21, 11, -1, -1, -1, -1, 4, 3, 0, -1, -1, -1, -1, 0, -1, 0, -1, -1, 0, -1, -1, 19, 18, 26, 0, 41, 11, 6, 22, -1, -1, -1, -1, 17, -1, 11, 3, -1, 4, 11, 8, -1, -1, 2, 50, -1, 19, -1, -1, 3, 1, 8, 1, 9, 6, -1, -1, -1, -1, 24, -1, 35, -1, -1, -1, 0, -1, -1, 4, -1, 13, -1, -1, 1, -1, -1, 4, -1, 1, -1, -1, 58, -1, 0, 0, -1, 6, -1, -1, 6, -1, -1, -1, 39, 12, -1, -1, -1, 17, -1, -1, -1, -1, -1, 1, -1, -1, 2, -1, -1, 17, -1, 38, 13, -1, -1, 0, 2, 55, 4, -1, 0, -1, 0, -1, 50, 1, 0, 27, -1, 2, 2, -1, 3, -1, 51, -1, -1, 14, -1, -1, 3, -1, 13, -1, -1, -1, 3, 20, 44, -1, -1, 4, -1, -1, -1, -1, -1, -1, 10, -1, -1, -1, -1, 16, -1, 3, -1, -1, -1, 18, 0, -1, -1, 21, -1, 13, 34, -1, 37, -1, -1, 0, -1, 0, 4, -1, 2, 0, -1, -1, -1, -1, 0, 45, 25, 24, 6, 45, -1, 2, -1, -1, 2, -1, -1, 55, -1, -1, 40, -1, 49, -1, 12, -1, -1, 0, -1, 7, -1, -1, 0, -1, 22, -1, 56, -1, -1, -1, 0, 17, 0, 15, -1, 16, -1, 1, -1, 0, -1, 21, -1, 25, -1, -1, -1, -1, -1, 7, 58, -1, -1, 4, 27, 0, 2, -1, -1, -1, -1, -1, 54, 0, 0, -1, 25, 11, 25, -1, -1, 48, 18, -1, -1, -1, -1, -1, 1, -1, -1, 0, 0, -1, 19, -1, 52, 55, 17, 5, 2, 53, -1, -1, -1, -1, 0, 23, 4, 9, -1, 2, -1, 40, -1, 6, -1, -1, -1, 0, 18, 40, 26, 0, -1, 3, 1, -1, 27, -1, -1, -1, 2, 0, -1, -1, 4, -1, -1, -1, 0, 30, 4, 2, -1, 1, -1, 32, -1, 22, 7, 16, -1, -1, 7, 15, 12, -1, -1, -1, 8, 0, 14, -1, -1, -1, 3, 26, 2, 17, -1, 0, 30, -1, 59, 0, -1, 8, -1, -1, 6, 45, 9, 8, -1, 47, 0, 3, -1, -1, -1, 23, 3, 29, 37, 37, 7, 35, 10, -1, -1, -1, 0, 1, 29, 0, 2, 7, -1, -1, 19, -1, -1, 0, -1, 50, 39, -1, -1, -1, 5, -1, 6, 3, 26, 29, 4, 3, 51, -1, 0, -1, -1, -1, 4, -1, -1, 17, -1, 24, -1, -1, 28, -1, -1, 25, 29, -1, -1, 0, -1, -1, -1, 4, -1, 2, 42, 1, -1, 0, -1, -1, 0, 0, 0, -1, -1, 0, 14, 42, 13, 2, 10, -1, 14, -1, 12, -1, 0, 0, -1, -1, 3, -1, 42, 19, 0, -1, -1, 0, -1, 6, -1, 41, -1, -1, 55, -1, -1, -1, -1, -1, -1, 41, -1, -1, 0, 5, 1, -1, 2, -1, 0, -1, 2, -1, -1, 22, -1, -1, 0, 6, -1, 9, 1, 48, -1, 42, -1, -1, -1, -1, -1, 22, 21, -1, 6, 25, 0, -1, -1, 5, 0, 11, 0, 0, -1, 19, 0, -1, -1, -1, -1, 12, 0, -1, 0, -1, 1, 6, 9, -1, -1, -1, -1, 1, 3, -1, 1, 0, 10, -1, 58, -1, 0, -1, 2, -1, -1, -1, -1, 25, 39, -1, -1, -1, 4, 0, -1, -1, -1, 58, -1, -1, 43, 8, 19, -1, -1, 5, -1, 23, -1, 38, 54, -1, -1, 2, 54, -1, -1, 0, 21, -1, -1, 16, -1, 30, -1, -1, 16, -1, -1, -1, -1, -1, 0, -1, -1, 4, 0, -1, 1, -1, -1, -1, 0, -1, -1, 0, 31, -1, 46, 54, -1, 36, 0, 0, -1, -1, -1, 8, 28, 0, -1, -1, 9, 42, -1, -1, 16, -1, 47, -1, -1, 0, 0, 4, -1, -1, -1, 5, 18, -1, -1, -1, 37, 7, 18, -1, -1, 0, -1, 0, 8, -1, 11, 22, -1, 16, -1, 14, 1, -1, 0, -1, -1, 9, -1, -1, -1, 0, -1, -1, 4, -1, 12, -1, 12, -1, -1, 22, -1, -1, 9, -1, 48, 0, 5, -1, -1, -1, -1, 3, -1, 0, 37, 37, -1, 2, -1, 34, 11, -1, 1, -1, 0, 58, -1, -1, -1, -1, -1, -1, 0, -1, 16, 0, -1, 7, -1, -1, -1, 28, -1, 3, -1, -1, -1, -1, 2, 52, -1, -1, 42, 28, 2, -1, -1, -1, 1, -1, 13, 7, -1, 2, 3, -1, 38, -1, -1, -1, 11, -1, 0, -1, -1, -1, -1, 17, -1, -1, -1, 1, -1, 50, -1, -1, -1, 4, 5, 6, 23, 13, 23, 0, -1, 22, 34, -1, -1, -1, -1, -1, 53, 0, 34, 5, -1, -1, -1, 3, 3, -1, -1, -1, 0, -1, 26, 59, -1, 0, -1, 54, 8, -1, 3, -1, 4, 4, -1, -1, -1, -1, -1, -1, -1, 51, -1, 8, 55, -1, -1, 5, 0, -1, 0, -1, -1, 4, 7, 0, 6, 4, 0, 38, -1, 9, -1, 0, 6, -1, 6, -1, 0, -1, 3, 22, 0, -1, -1, -1, 0, -1, 18, 1, 4, -1, -1, -1, 26, -1, -1, -1, -1, -1, -1, 14, -1, 35, 4, -1, 0, 25, -1, -1, 39, -1, 3, 6, -1, -1, -1, 4, -1, 0, -1, 32, 24, 0, 24, 20, -1, -1, -1, 11, -1, 2, -1, -1, -1, -1, -1, 30, -1, -1, -1, 0, -1, -1, -1, -1, -1, 17, 0, -1, 52, -1, 0, -1, -1, 13, -1, -1, -1, -1, 33, 6, -1, 7, 23, -1, -1, 1, -1, 46, 0, 54, -1, 42, -1, -1, -1, -1, -1, -1, 6, 20, 1, -1, -1, 0, -1, 0, 34, 51, 1, -1, -1, 17, -1, -1, 5, 3, 14, -1, -1, 3, -1, -1, -1, -1, -1, -1, 2, 12, 0, 1, 0, 42, 8, 0, 1, -1, 0, 4, 23, -1, -1, 13, -1, 0, -1, 38, 20, 1, -1, 51, 4, -1, 33, -1, 0, 6, 55, 17, 3, 1, -1, -1, -1, -1, -1, 33, 4, -1, -1, 0, -1, -1, -1, 48, 23, -1, 0, -1, -1, 8, -1, -1, -1, -1, 49, 4, -1, 33, 23, 5, 0, -1, -1, -1, 8, -1, 1, -1, -1, 24, 0, 41, 0, -1, -1, 57, 1, -1, -1, 8, 10, 35, 21, -1, -1, -1, 46, -1, -1, -1, 18, 45, 42, 0, -1, -1, -1, -1, 34, -1, -1, -1, -1, -1, 7, 24, 59, 4, 0, -1, 0, 0, -1, -1, 15, -1, -1, -1, 14, 0, -1, -1, -1, 3, 2, -1, -1, 3, -1, 4, -1, 6, -1, 1, 3, 33, 3, 1, 15, -1, -1, 35, -1, -1, -1, -1, -1, -1, 18, -1, 18, 7, 0, -1, -1, 9, -1, 1, 4, 0, 2, 0, -1, 0, 0, 16, -1, 11, -1, -1, -1, -1, -1, -1, 8, -1, 1, 29, -1, 7, 0, 30, -1, 38, 22, 43, -1, 18, -1, 5, -1, 0, -1, -1, 20, 39, -1, 2, 35, -1, -1, -1, -1, -1, -1, -1, 50, -1, -1, -1, -1, -1, 0, 53, 20, -1, -1, 0, 13, -1, -1, 41, -1, -1, -1, -1, -1, -1, 2, -1, 1, 38, 18, -1, 32, -1, 47, 5, -1, -1, 18, 0, 44, 42, -1, 46, -1, 16, 50, 0, -1, 53, 3, 0, 39, 3, 0, 22, -1, -1, -1, -1, -1, -1, 1, 0, -1, -1, -1, -1, 33, -1, -1, 26, 1, 12, 9, -1, 6, -1, -1, 6, 32, -1, 5, -1, 24, 3, -1, -1, 48, -1, 0, -1, 7, 22, -1, 10, 32, 6, -1, -1, 2, 6, 0, -1, 42, 0, -1, -1, -1, -1, 41, 11, 1, 3, 5, 2, 40, 14, -1, -1, 0, -1, 0, -1, 45, 15, -1, 17, 0, -1, -1, -1, -1, 1, -1, 0, 34, 16, 1, -1, 28, -1, 29, -1, 0, -1, 14, 44, 0, 3, 0, 3, 1, 13, -1, 4, -1, -1, -1, 1, 37, 14, -1, -1, 37, -1, 5, -1, -1, 0, 0, -1, -1, -1, -1, -1, -1, 55, 5, 15, 4, -1, -1, 13, -1, 38, -1, 34, -1, 4, -1, 32, 45, 0, 15, 7, 12, -1, 4, 6, 1, -1, -1, 7, -1, 3, -1, 16, -1, -1, -1, -1, -1, 9, 5, -1, 15, -1, 10, -1, -1, 20, -1, -1, 0, 7, 2, -1, -1, 0, -1, -1, -1, -1, 4, -1, 55, 3, 14, -1, -1, -1, -1, -1, 0, -1, -1, -1, -1, -1, 0, 12, -1, -1, 3, -1, -1, 2, -1, -1, 48, 16, 3, -1, 44, -1, 0, -1, -1, 4, -1, 0, 0, 7, -1, -1, -1, -1, -1, 0, -1, -1, 15, -1, -1, -1, -1, -1, -1, -1, -1, -1, 0, -1, 2, 54, 8, -1, 50, 3, 6, -1, -1, -1, -1, -1, -1, 38, 20, -1, 25, -1, 57, -1, -1, -1, -1, -1, 23, -1, -1, -1, 0, -1, -1, 0, -1, 1, 3, -1, -1, 40, -1, 24, 48, 17, 36, 1, -1, -1, 15, -1, -1, 0, -1, -1, 12, 8, -1, -1, -1, -1, 19, 0, -1, -1, -1, 0, -1, 3, -1, -1, -1, 9, 21, 7, 0, 16, -1, 0, -1, -1, -1, -1, -1, 21, 13, -1, -1, 21, -1, 0, -1, -1, 52, 26, 4, 4, 2, 12, -1, -1, 1, -1, 52, -1, -1, -1, -1, 25, -1, -1, -1, 6, -1, -1, -1, 0, 1, 21, 0, 1, 1, 51, -1, -1, -1, 1, -1, 0, -1, 37, -1, 0, 17, 0, 13, -1, 29, -1, -1, -1, -1, -1, 5, -1, 46, -1, 7, -1, -1, 18, 44, -1, 0, 28, 8, 13, 12, -1, -1, 8, 9, -1, 59, -1, -1, -1, -1, 1, -1, 0, -1, -1, 19, -1, -1, -1, -1, -1, -1, -1, 30, 0, 7, -1, 0, 1, 27, 3, -1, 45, -1, -1, 0, 3, -1, 5, 4, 1, 5, -1, 15, 45, 20, 1, -1, -1, -1, -1, -1, 2, -1, 6, 12, 0, -1, 2, -1, -1, -1, -1, -1, 0, -1, 18, 0, -1, 0, 29, -1, -1, -1, -1, -1, 41, 0, 11, 2, -1, -1, -1, 23, -1, 1, -1, -1, 4, 0, 9, 55, 12, -1, -1, -1, -1, 12, -1, -1, -1, -1, -1, 2, -1, 13, -1, 0, 28, 7, -1, -1, 0, -1, -1, 2, 0, 0, -1, 0, -1, 0, 7, -1, 0, -1, -1, -1, -1, -1, -1, 6, 37, -1, -1, 1, -1, -1, -1, -1, 28, -1, 0, -1, 0, -1, -1, -1, 14, -1, -1, -1, -1, -1, -1, 10, 14, 4, 41, -1, 3, -1, 11, 40, 21, -1, 15, -1, -1, 21, -1, -1, -1, 1, -1, -1, -1, -1, -1, 3, 28, 7, -1, -1, -1, -1, -1, 8, -1, -1, 2, -1, 3, -1, 4, 0, -1, 13, 2, 19, 1, 0, -1, -1, -1, -1, 0, -1, -1, 0, -1, 31, 24, -1, -1, -1, 24, 4, 4, -1, -1, -1, -1, -1, -1, -1, -1, -1, 22, 10, 8, 39, -1, 1, -1, -1, 55, -1, 15, 24, -1, -1, 33, -1, 7, -1, 47, -1, -1, -1, 2, 26, 0, 0, -1, 1, 6, -1, 4, 2, 9, -1, 17, 3, 0, 6, -1, -1, -1, 36, 9, 39, -1, -1, -1, -1, -1, 0, -1, -1, 25, 36, -1, -1, -1, 38, 0, 31, -1, -1, -1, -1, 16, -1, -1, 9, -1, 0, 7, 2, 40, 7, 0, 8, -1, -1, -1, -1, -1, -1, 0, -1, 10, -1, -1, -1, -1, -1, -1, 4, 23, -1, -1, 24, -1, 6, -1, -1, 3, -1, 56, 42, -1, -1, 53, -1, -1, -1, 46, 2, -1, 15, -1, -1, 6, 31, -1, -1, -1, -1, 0, 5, 0, -1, 2, -1, 12, 13, -1, -1, 14, 7, -1, 0, 35, -1, 0, -1, -1, -1, 28, 10, -1, -1, -1, 1, 22, -1, -1, -1, -1, -1, -1, -1, -1, 3, 9, -1, -1, -1, -1, 0, 6, 0, -1, -1, -1, -1, -1, 4, 0, 4, -1, -1, -1, 8, -1, 0, 30, 6, 0, 3, -1, 0, -1, 6, 0, -1, -1, 0, 0, 19, 0, 6, 19, 9, -1, 2, 10, -1, -1, 58, -1, 40, -1, -1, -1, 6, 4, 0, -1, -1, 32, 18, -1, -1, -1, -1, -1, 17, 28, 21, 12, -1, -1, 56, -1, 9, -1, -1, -1, -1, 3, -1, 0, -1, 47, 2, 43, 10, 0, -1, 4, -1, -1, 26, -1, 0, -1, 57, 24, -1, 54, -1, -1, -1, -1, 7, 4, -1, 12, -1, 23, -1, -1, -1, -1, 23, 54, -1, -1, -1, -1, -1, -1, -1, -1, -1, -1, -1, 15, 22, -1, 12, 0, 7, 21, 25, -1, -1, -1, -1, -1, 0, 25, 12, 43, -1, 0, -1, -1, 1, 12, -1, -1, -1, 1, -1, 33, -1, 7, 0, -1, 0, -1, -1, 6, 0, -1, 8, 12, -1, -1, 2, -1, 43, -1, 0, -1, 1, 17, -1, 36, 42, 37, -1, -1, -1, 5, 16, -1, -1, 38, -1, -1, -1, -1, 56, 0, 0, -1, -1, -1, -1, 2, -1, 12, 44, -1, 1, -1, -1, -1, 28, -1, 9, 33, -1, 14, -1, -1, -1, 25, 9, -1, 18, 5, 0, 2, 12, 18, 0, 17, -1, 3, -1, 22, -1, -1, -1, -1, -1, -1, -1, -1, -1, -1, -1, -1, -1, -1, 36, 21, -1, 51, -1, -1, -1, -1, -1, 35, 5, 1, 0, -1, 0, 4, -1, -1, -1, -1, -1, -1, 1, -1, -1, 2, -1, -1, -1, 0, -1, 19, -1, 25, -1, 6, 8, 0, -1, -1, -1, 0, -1, 43, 32, -1, -1, -1, 11, 1, -1, 20, 3, -1, -1, -1, 41, -1, -1, 37, -1, 1, -1, -1, 46, 16, 18, 17, -1, -1, 0, -1, 0, 24, 13, -1, 33, -1, -1, 0, -1, -1, -1, 5, 3, 1, 2, 0, 2, -1, -1, -1, 8, 10, -1, -1, 56, -1, -1, 0, 56, 25, -1, -1, -1, 27, -1, -1, -1, -1, -1, 1, 2, -1, -1, -1, 50, -1, -1, 5, -1, 20, -1, 2, 0, 14, -1, -1, 22, -1, -1, -1, 14, -1, -1, -1, 0, -1, -1, -1, 16, 17, -1, 1, 3, 18, -1, 37, -1, 23, -1, 0, 18, -1, -1, -1, 15, -1, -1, -1, 41, -1, -1, -1, 22, -1, -1, -1, -1, 8, -1, -1, 52, -1, -1, 0, -1, 0, -1, 10, 0, -1, 4, -1, -1, 29, -1, -1, 42, -1, 52, -1, -1, 0, 1, 0, -1, -1, -1, -1, -1, -1, -1, -1, 22, 9, -1, 55, 0, 10, 19, -1, 12, 26, 44, 11, 1, -1, 7, 6, 0, 4, 0, 6, -1, 9, 0, -1, -1, -1, 0, 46, -1, -1, -1, -1, 20, -1, -1, 26, 14, 0, 15, 52, -1, 12, 1, -1, 37, -1, 20, 12, -1, -1, 9, -1, 4, 45, -1, 8, -1, -1, 0, -1, -1, 21, 4, -1, -1, -1, 1, -1, -1, -1, -1, -1, -1, -1, -1, -1, 35, -1, -1, 22, -1, 47, 9, -1, 9, -1, -1, 2, -1, 12, -1, -1, -1, -1, -1, -1, 1, -1, 2, -1, -1, -1, 7, -1, 9, 1, -1, -1, -1, -1, 42, -1, -1, 1, -1, 54, 13, -1, 6, 12, 4, 18, 16, -1, -1, -1, 1, 38, 15, 3, 1, -1, -1, -1, 37, 0, 43, -1, 51, -1, -1, 2, -1, 2, -1, 2, 0, 0, -1, 2, 20, -1, 16, -1, 25, -1, -1, -1, -1, 4, 39, 1, 0, -1, 1, 6, -1, -1, 0, -1, 7, 10, 4, 46, 33, 0, -1, 3, 0, 4, -1, -1, 52, -1, -1, -1, -1, -1, -1, -1, 0, -1, 50, 0, 7, 4, 1, 9, -1, 0, 3, 0, -1, -1, 2, 0, 3, -1, -1, -1, -1, 40, 17, 1, -1, 0, -1, -1, 0, 2, 22, 0, -1, 0, -1, 48, 0, 15, -1, 12, 26, -1, -1, -1, 0, 0, -1, -1, 3, 0, -1, -1, 20, -1, -1, 11, 0, 6, -1, 30, -1, 1, 19, 24, 1, -1, -1, 24, -1, -1, -1, -1, 0, -1, -1, -1, 0, -1, 3, 0, -1, -1, 0, -1, -1, 2, 59, -1, -1, -1, -1, 0, -1, 0, -1, 11, -1, 42, -1, -1, -1, -1, 24, 49, -1, -1, 47, -1, -1, 0, 0, 2, -1, 2, -1, -1, 0, -1, 56, -1, 13, 17, 27, -1, 6, 20, -1, 25, 45, 43, 10, 10, 0, -1, -1, -1, 23, 1, 27, 15, 38, -1, 29, -1, 28, 26, 1, 3, -1, -1, 52, -1, 9, -1, -1, 23, -1, -1, 0, 59, -1, -1, 49, 41, 12, -1, 7, 5, 22, -1, 12, -1, -1, 9, -1, 9, 0, -1, -1, 1, 0, 38, 1, -1, -1, -1, 42, 3, 14, 0, -1, -1, 26, -1, 10, 17, 1, -1, -1, 1, 5, -1, 3, -1, 9, 0, 32, 49, 1, -1, 7, 17, -1, -1, -1, 30, -1, 17, 0, 35, 29, -1, -1, -1, -1, 4, -1, 0, 35, 2, 14, 3, 7, -1, 0, 4, 0, 6, 17, -1, -1, 0, -1, -1, 24, 0, 29, -1, -1, -1, 4, 42, 5, -1, -1, -1, 11, 19, 53, 0, 10, -1, 28, 5, -1, -1, 6, -1, -1, -1, -1, -1, -1, 21, 4, -1, 15, 0, 17, 6, 0, -1, -1, 4, 0, -1, -1, 31, 10, -1, 10, -1, -1, -1, 0, 47, 12, -1, -1, 0, -1, 29, -1, 0, 10, 0, -1, 17, -1, 3, -1, 8, -1, 26, -1, 19, -1, 15, 45, -1, 11, 15, -1, -1, 47, -1, 1, 1, -1, -1, -1, 0, -1, 2, 6, 40, -1, -1, -1, -1, -1, 0, 56, -1, 53, -1, 33, 43, 54, 6, -1, 24, 56, 12, 44, 0, 8, -1, -1, 3, 1, -1, -1, 25, 1, 24, -1, 2, -1, -1, -1, 0, 2, 5, -1, -1, 4, -1, 0, -1, 1, 36, 49, -1, 0, -1, 7, -1, 0, -1, 1, 53, 39, -1, 33, -1, -1, 32, -1, -1, -1, -1, 6, 51, 26, -1, -1, -1, -1, -1, 1, -1, 3, -1, -1, 7, -1, 4, 0, 1, 3, -1, -1, -1, -1, -1, 0, -1, 6, -1, -1, 17, 39, 0, -1, 1, 18, -1, 10, -1, 18, 0, -1, 18, -1, -1, 31, 0, 11, -1, -1, -1, -1, -1, 26, 6, -1, 17, 3, -1, 21, -1, 19, -1, 32, -1, -1, 4, -1, 6, -1, -1, 5, -1, 44, -1, -1, 4, 9, -1, -1, -1, 1, 0, -1, 9, -1, 19, -1, -1, 6, -1, -1, 16, -1, -1, 1, -1, 0, -1, 0, -1, 0, -1, 2, -1, 5, -1, 47, 15, -1, 0, 1, -1, -1, -1, -1, 26, -1, -1, 10, -1, 0, -1, -1, 6, -1, -1, 0, -1, -1, 1, 47, 9, -1, 18, -1, 25, 52, -1, 30, 32, -1, 16, 0, 4, 0, 7, 0, -1, -1, -1, -1, -1, -1, 24, 1, 2, -1, 0, 38, -1, 32, 0, 0, -1, -1, 20, 2, -1, -1, -1, -1, 50, -1, -1, 17, 0, 2, -1, -1, -1, -1, -1, 1, -1, 40, -1, 2, -1, -1, -1, 52, 12, -1, -1, 52, 18, -1, -1, 27, -1, -1, -1, 13, -1, -1, -1, 7, 0, 0, -1, 1, 14, 4, -1, -1, 0, 20, 12, -1, -1, -1, 48, -1, -1, 9, 16, 48, -1, 0, 10, 0, -1, -1, -1, -1, 1, 1, -1, 17, -1, -1, -1, 21, -1, 1, 4, 3, -1, -1, -1, 0, -1, -1, -1, -1, -1, -1, 0, 1, -1, 10, -1, -1, -1, 5, 35, -1, 57, -1, 18, -1, -1, 22, 9, 0, -1, -1, -1, 2, 12, 15, 38, -1, -1, 0, -1, -1, 55, -1, -1, 1, 0, -1, -1, -1, -1, 1, 3, -1, 0, 24, 2, 15, 4, 0, -1, 8, -1, 7, -1, 0, -1, 29, 8, -1, 54, 57, -1, 7, -1, -1, 19, -1, -1, 4, 5, 16, -1, 2, 2, -1, 16, -1, 25, 6, 27, -1, 27, -1, -1, -1, -1, 2, 2, 59, -1, 8, 2, -1, 47, -1, 29, 6, 0, -1, 18, 0, 15, 1, -1, 37, -1, 32, -1, 1, 1, -1, 35, -1, 0, -1, 9, -1, -1, 2, 0, -1, 0, -1, 4, -1, 0, -1, 1, -1, -1, 3, 0, 30, 23, 4, 2, 17, 1, 10, -1, 0, 6, -1, -1, 21, 25, 13, 3, -1, -1, -1, 2, -1, 5, 8, -1, -1, 34, -1, 46, 53, -1, -1, 55, -1, 2, 18, -1, -1, -1, 49, -1, -1, -1, 20, -1, -1, -1, -1, -1, 23, -1, -1, -1, -1, -1, -1, 5, -1, 15, 0, 1, 4, -1, -1, 2, -1, 5, 20, -1, 35, -1, 10, 46, -1, 9, -1, -1, -1, 46, -1, -1, -1, -1, -1, -1, -1, -1, -1, -1, -1, -1, 5, -1, -1, 16, 2, -1, -1, -1, 10, -1, 2, 36, -1, 2, 0, 6, 20, 44, -1, -1, 0, 5, 3, -1, -1, -1, 39, -1, 1, 6, 46, -1, 57, -1, 39, 27, -1, -1, -1, -1, 3, -1, -1, 47, -1, -1, 0, -1, 0, -1, 38, -1, 3, 0, 59, -1, 0, -1, -1, -1, -1, 0, 3, 3, -1, -1, -1, 10, -1, -1, -1, 0, -1, -1, 47, -1, 0, 29, 23, -1, -1, 5, -1, 12, -1, 16, 27, -1, -1, 14, -1, 2, 12, -1, -1, -1, -1, 38, -1, -1, 0, -1, -1, 5, -1, -1, 0, 14, 0, -1, 5, -1, -1, -1, 55, -1, -1, -1, 41, -1, 4, 6, 8, 47, -1, -1, -1, -1, 2, -1, 27, -1, -1, 8, 32, 16, -1, -1, -1, -1, 38, -1, 2, 0, 40, -1, -1, 0, -1, -1, 0, 45, -1, -1, -1, 0, 7, 1, -1, -1, 26, -1, -1, -1, -1, 1, 49, 3, 3, 50, -1, -1, 0, -1, 5, -1, 0, 16, -1, 58, -1, 2, 11, -1, 25, -1, 4, -1, -1, 23, -1, 0, 42, 9, -1, -1, 3, -1, 0, 17, -1, -1, 16, -1, 9, 0, -1, -1, -1, 0, 14, 2, 0, -1, 53, -1, 3, -1, -1, -1, -1, -1, 14, -1, 30, 20, -1, -1, -1, -1, -1, -1, 5, 26, 8, -1, -1, 8, -1, -1, 1, 0, -1, 56, 0, 2, -1, 28, 3, -1, -1, -1, 23, 0, 38, 10, -1, -1, -1, 26, -1, -1, 27, 3, 0, 7, 56, 30, 18, -1, -1, -1, -1, 3, -1, -1, -1, -1, -1, -1, 47, 10, -1, -1, -1, 28, 50, -1, 9, -1, 4, 4, 0, -1, 5, -1, -1, -1, 2, -1, -1, 0, 17, -1, -1, 18, -1, -1, 2, 1, -1, 0, 48, 9, -1, 5, 0, -1, 8, 21, -1, 16, -1, -1, 1, -1, -1, -1, -1, -1, -1, -1, 12, -1, -1, 0, 59, -1, -1, 15, -1, 3, 1, -1, -1, 3, -1, -1, 20, -1, 4, 41, 1, 3, -1, -1, -1, -1, 23, -1, -1, -1, -1, -1, -1, 8, -1, 46, 18, 2, -1, -1, 9, -1, 8, 8, -1, -1, 0, 27, 0, 0, -1, 9, 2, 47, 9, 53, 58, 24, 3, 38, 0, 0, 28, 2, -1, 10, 0, -1, 31, 1, 45, -1, 12, 0, 15, 1, 0, 1, -1, 0, -1, 0, 0, 0, 51, -1, 1, 0, -1, -1, 20, -1, -1, 5, 2, 39, 9, 3, 3, 6, 0, -1, 4, -1, 3, 20, 28, -1, -1, -1, 2, 0, -1, 15, -1, 37, -1, 5, -1, 6, -1, -1, 0, 29, -1, -1, -1, 0, 0, -1, 43, -1, 2, 38, 41, 1, 15, 36, -1, -1, 9, 5, 29, -1, -1, 58, 0, 33, -1, 7, -1, -1, 42, 3, -1, 25, -1, -1, 0, -1, 6, -1, 54, -1, 5, 33, 0, 33, -1, 8, -1, 5, -1, -1, -1, 32, -1, 34, 40, -1, -1, -1, -1, 3, 10, 6, 2, -1, -1, -1, -1, -1, -1, 21, 27, -1, -1, -1, 0, 4, -1, -1, 11, -1, 0, -1, -1, -1, -1, -1, -1, 14, 44, -1, 0, -1, 0, 23, -1, 38, 0, 7, 42, 14, -1, -1, 38, 2, 7, 1, -1, -1, 4, 9, 1, 0, -1, 0, -1, -1, -1, 16, 0, 1, -1, 18, -1, -1, 5, -1, 19, -1, -1, 23, -1, -1, 0, 6, -1, 1, -1, -1, 7, -1, 33, -1, -1, 7, -1, -1, -1, -1, -1, -1, -1, 6, 0, -1, 16, -1, -1, -1, -1, 27, 8, 0, -1, 3, -1, 22, -1, 0, -1, -1, 29, -1, 1, -1, 2, 1, -1, -1, 2, 9, -1, -1, -1, -1, -1, 4, 15, -1, 0, 41, -1, 0, 40, 4, -1, 54, -1, -1, 1, 1, -1, 9, -1, 37, 18, 48, -1, -1, -1, 1, 14, 35, -1, 2, 0, 0, 0, -1, -1, 13, -1, 0, -1, -1, -1, -1, 17, -1, 23, 15, 43, -1, 31, 44, 8, -1, -1, -1, 17, 23, -1, 3, 8, 4, 12, 1, -1, -1, -1, 1, 37, 5, -1, -1, 41, -1, 29, 1, 6, -1, 4, -1, -1, -1, -1, 0, -1, 0, -1, -1, 37, -1, 35, -1, -1, 38, 11, -1, 15, -1, -1, 22, -1, -1, 0, -1, 2, 0, -1, 43, 0, 0, -1, 0, -1, -1, 0, 31, -1, 0, -1, -1, 1, 0, -1, 24, -1, 7, -1, -1, -1, 35, 0, -1, 1, 34, -1, -1, 0, -1, 1, 0, 11, 36, 0, -1, 39, -1, -1, -1, -1, 1, 18, -1, 6, -1, 6, -1, -1, 19, -1, -1, 29, -1, -1, -1, 23, -1, 8, -1, -1, 2, 54, -1, 14, 15, 0, 52, 29, 1, -1, -1, -1, 56, 43, 2, -1, -1, -1, 0, 0, 3, -1, 24, -1, 0, 19, 0, 59, 59, 0, 0, 33, -1, -1, 1, 22, 1, 26, 9, -1, 31, -1, -1, -1, 0, 9, -1, 2, -1, 2, -1, -1, -1, -1, 3, -1, 12, -1, 3, -1, 8, -1, -1, -1, 0, -1, -1, 10, -1, 3, -1, 12, 3, -1, 4, 1, -1, -1, 4, -1, -1, 10, 46, 2, 2, -1, 0, -1, -1, -1, -1, 8, 1, -1, 12, 1, 2, 3, -1, -1, -1, 0, -1, -1, -1, 9, -1, -1, 56, -1, 36, -1, 6, -1, 7, 3, -1, 12, -1, -1, -1, -1, 2, 10, 1, -1, 36, 44, -1, 1, -1, -1, -1, -1, 42, 3, 1, -1, 50, -1, 1, -1, 13, 4, -1, -1, 0, -1, -1, 16, -1, -1, 6, -1, -1, 3, 50, -1, 35, -1, 14, 14, -1, 12, 15, 34, -1, 1, -1, -1, -1, 48, -1, -1, -1, -1, 20, -1, -1, -1, 1, -1, 6, -1, -1, 45, -1, 51, 5, -1, -1, -1, -1, 4, 3, -1, -1, 18, 56, -1, 55, -1, 10, 26, -1, 4, -1, 5, -1, -1, 3, 5, 10, 5, 9, 0, -1, 3, -1, -1, -1, 13, -1, -1, -1, -1, 0, 16, -1, -1, -1, -1, -1, 22, -1, 0, -1, 2, -1, -1, 41, -1, 55, 0, -1, 19, 42, 10, -1, -1, 3, 12, 54, -1, -1, -1, -1, -1, -1, 17, 49, 2, 40, 1, -1, -1, 0, -1, 2, -1, -1, -1, -1, 0, 0, 6, 22, -1, 22, -1, 48, -1, 43, 3, 4, 20, 3, 21, -1, 49, 7, -1, 0, 0, 51, -1, -1, -1, -1, 14, 26, 1, -1, -1, -1, -1, -1, 1, 47, -1, -1, -1, -1, 3, -1, -1, -1, -1, -1, 5, -1, -1, -1, -1, 0, 0, -1, 18, -1, -1, 33, 3, -1, -1, 48, 1, -1, -1, -1, 4, -1, 54, -1, 53, 0, 0, 1, 0, -1, -1, -1, 11, 14, -1, 7, 25, -1, 2, -1, 39, -1, -1, -1, 2, 0, 0, -1, 4, 9, -1, -1, -1, 12, -1, 3, -1, 6, -1, 21, -1, -1, -1, 0, -1, -1, 10, -1, 0, 32, -1, -1, -1, -1, 5, -1, 10, 0, 0, 25, 0, 18, 17, 12, 44, -1, 51, -1, 50, 1, -1, -1, -1, 18, 36, -1, -1, -1, 28, -1, -1, -1, 31, -1, -1, -1, 7, -1, -1, 27, -1, -1, 0, -1, 11, -1, 2, -1, -1, -1, -1, 35, 0, -1, 20, -1, -1, 6, -1, -1, 28, 46, -1, 41, 0, -1, -1, -1, 1, 0, -1, -1, 0, 1, -1, -1, 0, -1, 0, 41, -1, -1, -1, 6, 0, 10, -1, -1, -1, 24, 53, 0, -1, -1, -1, -1, 45, 0, 0, 0, 41, -1, 31, -1, -1, -1, 43, -1, -1, -1, -1, -1, 0, 0, 0, -1, 4, 0, 9, 11, -1, -1, -1, -1, -1, 12, -1, 1, -1, -1, 39, 0, 3, 21, -1, 0, 0, -1, -1, -1, -1, -1, 29, 0, 3, 25, 39, 2, -1, -1, -1, 1, -1, -1, 4, 1, 14, -1, -1, 47, -1, 4, 2, 1, -1, 0, -1, 3, 0, -1, -1, -1, 0, 11, 6, 0, 39, 11, 29, 13, -1, -1, -1, 5, -1, -1, -1, 1, 1, 41, -1, -1, 23, -1, -1, -1, -1, 14, 26, -1, -1, 4, -1, -1, 34, -1, -1, -1, -1, -1, -1, -1, -1, -1, -1, 1, -1, 0, 21, 0, 3, -1, -1, -1, -1, -1, 0, 12, 2, 49, 19, -1, -1, -1, -1, 1, -1, 1, -1, 7, 1, -1, -1, 56, 2, -1, 0, -1, -1, -1, -1, 32, -1, -1, 8, -1, -1, -1, -1, -1, -1, -1, -1, 8, -1, 6, 31, -1, 29, -1, 32, 1, -1, 0, -1, 1, -1, -1, 12, 47, -1, 19, 3, -1, 2, -1, 1, -1, -1, 2, -1, -1, 30, 50, -1, 13, -1, 21, -1, 50, 3, 11, -1, -1, 0, -1, 34, 2, 28, -1, -1, -1, -1, 24, 2, -1, 6, 24, 6, -1, -1, 36, -1, 19, -1, 0, -1, -1, -1, 2, 2, -1, -1, -1, -1, -1, -1, 3, 0, -1, 57, -1, -1, -1, -1, 57, 35, 7, 3, 0, 1, 1, 0, -1, 0, -1, -1, 14, 0, -1, -1, 0, -1, 1, -1, -1, 3, -1, -1, -1, -1, -1, -1, -1, -1, -1, -1, -1, 49, -1, 0, -1, 47, 13, 7, 27, 25, 2, 0, -1, -1, 7, -1, -1, -1, -1, -1, 35, -1, -1, -1, -1, 3, 55, -1, -1, 0, 0, -1, 1, 12, -1, -1, -1, 7, -1, -1, -1, -1, -1, 6, 2, 6, -1, -1, -1, -1, -1, 14, 1, -1, 16, 0, -1, -1, -1, -1, 1, -1, 1, -1, 0, 4, 0, -1, -1, -1, -1, 8, 2, -1, -1, 0, -1, 4, -1, 59, 30, -1, 52, -1, 22, 0, 1, 28, -1, 32, -1, 28, -1, -1, 0, -1, 19, -1, -1, 4, -1, -1, -1, -1, -1, -1, 8, 2, -1, 23, 3, -1, -1, 7, -1, -1, -1, -1, -1, 49, 16, -1, -1, -1, -1, -1, -1, 12, 27, -1, 0, -1, 1, 4, 0, -1, -1, -1, -1, -1, 27, 4, -1, 37, -1, -1, 33, -1, -1, -1, -1, -1, 3, -1, -1, 42, 0, -1, 4, -1, -1, 21, 2, -1, -1, -1, 0, -1, 0, 35, -1, 45, -1, 11, -1, -1, -1, 1, 0, 2, 8, 4, 2, -1, -1, -1, -1, 9, 18, 20, -1, -1, -1, 4, 15, -1, 2, 1, -1, -1, -1, -1, 0, 54, 3, 34, -1, -1, -1, 1, -1, -1, -1, -1, 1, -1, 1, -1, 2, -1, 32, 13, -1, 5, 39, -1, -1, -1, -1, 0, 21, -1, 59, -1, 22, -1, -1, -1, 2, 18, 23, -1, -1, -1, -1, 2, -1, -1, -1, -1, 15, 5, -1, -1, -1, 0, 2, 40, -1, 13, -1, -1, 32, 2, -1, -1, 51, 2, -1, 10, -1, 20, -1, 56, 3, 0, 1, -1, 51, -1, 35, 51, 10, -1, 35, 3, 1, 56, 14, -1, -1, -1, 16, 0, 23, 1, 1, -1, -1, -1, 26, 3, -1, 40, -1, 31, -1, 5, -1, -1, -1, 2, -1, 37, 59, -1, -1, 59, -1, -1, -1, 1, -1, -1, 4, -1, 1, -1, -1, 4, -1, 20, 23, -1, -1, 2, 22, 13, -1, -1, -1, 0, -1, 53, -1, -1, 0, -1, 10, -1, -1, 0, 33, -1, 4, -1, -1, 2, 3, -1, -1, -1, 23, -1, -1, -1, -1, 34, 29, -1, 6, 42, -1, 0, 0, -1, 10, -1, 15, -1, -1, -1, -1, 45, 11, 0, 0, -1, 2, -1, 2, 36, -1, 6, 28, 17, -1, 0, 0, 3, -1, -1, -1, 14, -1, 4, -1, 0, 49, 7, -1, -1, 17, 4, -1, -1, 4, 8, -1, 40, -1, -1, 1, 16, 33, 28, 0, -1, 30, 5, 0, -1, 7, -1, -1, -1, 13, 18, -1, 2, 28, -1, -1, -1, 3, 44, 53, -1, 0, -1, -1, -1, -1, -1, 0, 0, -1, 36, -1, 0, -1, 4, 11, 30, 8, 4, -1, -1, -1, 7, 2, -1, -1, 8, -1, 3, 2, -1, 1, -1, 47, 15, 17, -1, -1, 51, 32, 44, -1, -1, 50, 0, -1, 6, 8, 0, 0, -1, -1, -1, 21, 5, -1, 13, -1, 21, 0, -1, 0, 4, 0, -1, 54, -1, -1, -1, -1, -1, -1, 5, -1, 4, -1, 41, 0, 11, -1, -1, 23, -1, 3, 46, -1, -1, -1, -1, -1, 0, 28, -1, -1, 0, 22, -1, -1, -1, 47, -1, -1, -1, 6, 0, 0, 0, 17, -1, -1, 4, -1, 19, -1, -1, 18, 0, 0, 48, 23, 3, 3, 0, -1, 6, 53, -1, 2, -1, 3, -1, -1, 1, -1, 0, 19, 1, -1, 26, -1, -1, 37, 2, 27, 3, 6, -1, 0, 20, 30, 49, 4, 0, -1, 15, 6, -1, 32, -1, 0, 23, 0, -1, -1, -1, -1, -1, -1, -1, -1, -1, -1, 0, -1, 29, -1, 4, -1, 21, -1, 0, -1, -1, 5, -1, -1, -1, -1, -1, -1, -1, -1, 0, 0, -1, -1, 3, -1, -1, 38, -1, 54, 1, 4, 3, -1, -1, -1, -1, -1, 44, -1, -1, 7, -1, -1, -1, -1, -1, -1, -1, -1, 17, 1, -1, 5, -1, 8, -1, 21, -1, -1, 50, -1, 16, -1, -1, -1, -1, -1, 0, -1, 31, 0, 1, 6, 1, 57, 0, -1, 27, -1, -1, -1, -1, 8, 39, 1, 0, -1, -1, 42, -1, 2, -1, -1, 8, -1, -1, 14, 23, 9, 0, -1, -1, 5, 11, 3, 2, 2, -1, -1, 1, -1, 19, 56, -1, 5, 0, -1, -1, -1, 3, 18, 46, 21, -1, 0, 0, -1, -1, -1, -1, -1, -1, 3, 0, -1, 0, 0, 3, -1, 1, 16, 5, -1, 0, -1, 3, -1, 18, -1, -1, 0, -1, 48, -1, 12, 0, 4, 20, 21, 25, 3, -1, 0, -1, -1, 38, 0, -1, 5, 37, -1, -1, -1, 22, 3, 0, -1, 53, 3, -1, 1, 3, 1, -1, -1, 4, -1, -1, -1, -1, -1, -1, -1, -1, 20, -1, 5, 2, -1, 21, -1, 0, 0, 0, 1, -1, -1, -1, -1, -1, -1, 11, -1, 46, -1, 0, -1, 9, -1, 1, -1, 2, -1, -1, -1, -1, -1, -1, -1, 42, 3, -1, -1, -1, -1, -1, 38, 0, -1, 2, 13, 19, -1, -1, -1, -1, 37, -1, -1, -1, -1, -1, -1, -1, 0, -1, 30, 0, -1, -1, 3, 10, -1, 8, -1, -1, -1, 5, -1, -1, -1, 27, -1, -1, 12, 29, -1, -1, 31, -1, -1, -1, 1, 0, -1, -1, -1, 5, -1, -1, -1, -1, -1, -1, -1, 1, 33, -1, 4, 47, -1, -1, -1, -1, -1, -1, 44, -1, -1, 16, 17, -1, 2, 23, 8, 17, 14, 49, -1, -1, -1, 0, 1, 0, 2, 3, -1, 43, -1, 8, -1, 14, -1, -1, 9, 1, 28, -1, -1, 11, 23, -1, -1, 20, -1, -1, -1, -1, -1, 0, -1, -1, -1, -1, 9, 1, 0, 4, 41, -1, -1, -1, 0, -1, -1, -1, -1, 15, 10, 35, -1, 28, -1, -1, 0, -1, 7, -1, 0, -1, -1, 0, -1, 2, -1, -1, 0, -1, 4, -1, -1, 1, -1, -1, -1, 33, -1, 12, 57, -1, 1, 28, -1, -1, 0, 0, -1, 28, 1, -1, 0, -1, 7, 14, -1, -1, 14, 48, -1, 2, -1, -1, 0, 38, -1, 29, 12, -1, 4, 41, -1, 2, -1, -1, -1, -1, -1, -1, -1, 0, 0, -1, -1, -1, -1, 2, 0, 51, 0, -1, -1, -1, 11, -1, -1, -1, -1, 0, 3, 3, -1, -1, 0, 40, 10, 0, 35, -1, 13, -1, 21, -1, -1, 2, 9, -1, 0, 23, 2, -1, -1, 11, 1, 2, 0, -1, 11, 26, -1, 22, -1, 1, -1, -1, -1, 4, -1, -1, -1, -1, -1, 0, 0, -1, -1, -1, -1, 0, -1, 1, -1, 15, 40, -1, -1, 9, 0, 4, 0, -1, -1, 1, -1, -1, -1, -1, 2, -1, 19, 4, 56, -1, 0, 31, 0, 0, 4, -1, 2, -1, -1, 1, 23, 0, -1, -1, 12, 47, 12, -1, 4, 10, -1, 0, 53, 0, -1, 3, 3, -1, -1, -1, 0, 1, -1, -1, 13, 27, 5, -1, -1, 0, 37, -1, -1, 0, -1, 5, -1, -1, -1, -1, 5, -1, 56, -1, -1, 0, -1, -1, -1, -1, 4, -1, 1, 6, 49, -1, -1, -1, 10, -1, 8, 0, 26, 2, 34, -1, 0, -1, 17, -1, 5, -1, -1, -1, -1, -1, -1, 1, 57, 28, -1, -1, -1, -1, -1, 6, 46, -1, -1, -1, 3, -1, -1, 0, 2, -1, 0, 5, -1, 0, -1, 0, 44, -1, 14, -1, -1, -1, -1, -1, 24, 0, 43, 30, -1, 43, 0, -1, -1, 3, -1, 6, 11, -1, 0, 7, -1, 1, 24, 2, -1, 4, 11, 28, 17, 0, 18, 4, -1, -1, -1, -1, -1, -1, -1, 51, -1, -1, 2, 0, -1, 34, -1, -1, 52, -1, -1, 2, 1, 20, 45, -1, -1, 17, 25, -1, 13, -1, -1, -1, 1, 30, 2, -1, 2, 0, -1, 55, 6, -1, 10, 3, -1, 20, 0, -1, 1, -1, 44, 23, 3, -1, -1, 4, -1, 5, -1, -1, 43, -1, 44, 26, -1, 27, -1, -1, -1, -1, 24, -1, -1, -1, -1, 23, 0, 30, 0, -1, -1, -1, -1, 16, 0, 28, 4, 43, -1, 1, 0, -1, -1, 45, -1, -1, -1, 18, 40, 33, 45, 47, 0, 0, -1, 13, -1, -1, 0, 31, -1, -1, -1, -1, -1, 0, -1, 18, -1, -1, 13, -1, -1, -1, 0, 27, -1, -1, 20, -1, -1, -1, -1, 0, -1, 10, -1, 37, -1, -1, -1, -1, -1, 10, 22, 20, -1, 0, 3, -1, -1, 9, 52, -1, -1, 44, 16, -1, 16, -1, -1, -1, -1, 15, 12, 0, 0, 0, -1, 57, 1, -1, -1, 3, 0, 0, -1, -1, -1, -1, 4, -1, 36, -1, 0, 28, -1, 0, 36, -1, -1, -1, 7, -1, -1, 34, -1, -1, -1, -1, -1, -1, 32, -1, -1, -1, -1, 3, -1, 5, -1, -1, -1, -1, -1, 18, -1, -1, 0, -1, -1, -1, 0, -1, -1, -1, -1, -1, -1, -1, -1, 0, -1, 39, -1, 6, -1, 5, 26, 0, -1, 53, -1, 0, -1, -1, 44, 9, 1, -1, 30, 0, 16, 44, -1, -1, 54, -1, -1, 0, 6, -1, -1, -1, -1, 41, 14, 43, 28, -1, -1, -1, 35, -1, -1, -1, -1, -1, 1, -1, -1, -1, -1, 0, 2, 8, -1, 3, -1, -1, 0, 16, -1, -1, -1, 34, 30, 18, 1, 2, -1, 3, 1, -1, 16, -1, -1, -1, -1, -1, 52, 15, -1, 0, -1, -1, 8, 24, -1, -1, -1, -1, 28, 17, -1, 1, 0, -1, -1, -1, 22, 0, 1, 15, 0, -1, -1, 0, 16, -1, 11, 14, -1, 11, -1, 32, -1, 0, 4, -1, 3, -1, 7, 9, 17, -1, 3, -1, -1, -1, 0, -1, 23, -1, 18, 1, -1, -1, 2, -1, -1, 2, 5, -1, 1, -1, -1, 55, -1, 22, 23, -1, -1, 16, 2, 7, 14, 15, 0, -1, -1, 13, -1, -1, 0, -1, 5, 11, -1, 49, 6, -1, 2, 2, -1, 0, -1, 40, -1, -1, -1, 6, -1, -1, -1, -1, -1, -1, -1, -1, 6, 5, 1, 19, -1, 0, -1, 21, -1, -1, 22, -1, 8, -1, 4, -1, -1, 19, 44, -1, -1, -1, 34, 12, -1, 34, -1, 13, -1, -1, -1, -1, 1, 27, 29, 0, 11, -1, -1, 1, 7, -1, 28, -1, -1, 14, 22, -1, -1, 2, -1, 56, -1, 0, -1, -1, 0, -1, -1, 10, 39, 28, 47, 2, -1, -1, 4, -1, 20, -1, -1, -1, -1, 2, -1, 0, -1, -1, 29, 33, 19, -1, 0, -1, -1, 0, 11, -1, -1, -1, -1, -1, 52, 7, 28, 15, 32, -1, 0, -1, -1, -1, 12, 30, -1, 39, 1, -1, 6, 16, -1, 0, 39, -1, 6, -1, -1, 42, 7, -1, 51, -1, 3, 3, 0, -1, -1, 4, 4, -1, -1, -1, -1, 1, -1, 2, -1, 4, -1, 1, 58, -1, -1, 21, 14, 27, -1, -1, -1, 44, -1, -1, 14, 19, -1, -1, -1, 0, 18, -1, 13, 23, -1, 26, 9, -1, -1, -1, -1, 41, -1, 1, -1, 12, 36, -1, -1, -1, -1, 2, 10, -1, 9, -1, -1, -1, 59, -1, -1, 14, 11, -1, 0, -1, 36, 43, -1, -1, -1, 3, -1, 42, -1, -1, -1, -1, -1, -1, -1, 9, 13, -1, 43, 19, -1, 1, 0, 1, -1, 8, 0, -1, 0, 46, -1, 55, 53, -1, -1, 0, -1, 1, -1, -1, 2, 49, -1, -1, 1, -1, 30, 27, 1, -1, -1, -1, 24, -1, 6, 1, -1, 7, -1, -1, 2, 2, -1, 0, -1, 28, 6, 0, -1, -1, -1, 14, 23, 0, -1, -1, -1, 41, 0, 5, 44, 2, -1, -1, 22, -1, -1, -1, -1, -1, -1, -1, 22, -1, -1, 2, 31, -1, -1, 22, -1, 3, -1, 19, -1, 17, -1, 40, -1, 19, -1, -1, -1, -1, -1, -1, 6, 10, 0, 53, 1, 12, 5, -1, -1, 44, 13, 2, 56, -1, 1, 56, -1, -1, 0, -1, 0, -1, -1, 0, 2, 56, 3, -1, -1, -1, 12, 3, -1, -1, 0, 36, 3, -1, -1, 3, 4, 2, -1, 5, 13, 15, -1, -1, -1, -1, -1, -1, 10, -1, 20, -1, -1, -1, -1, 1, -1, -1, 58, 1, -1, 1, 37, -1, 1, 9, -1, -1, 9, 1, -1, 53, 59, 0, 0, -1, -1, 14, -1, -1, 21, 34, -1, -1, 20, 4, 3, 59, 52, 0, 16, 28, 26, 6, 10, 0, -1, 2, 33, -1, -1, 0, -1, -1, -1, -1, 0, 2, -1, 1, -1, -1, -1, 4, 12, 34, -1, 3, 9, -1, 56, -1, -1, 12, -1, 33, -1, -1, -1, 20, 22, 3, -1, -1, -1, -1, -1, 9, 1, -1, -1, -1, 0, 3, -1, -1, 32, -1, -1, 13, 0, -1, 30, 27, 0, -1, -1, -1, -1, 3, 19, 4, 2, -1, -1, 39, 4, -1, 0, -1, -1, -1, 0, -1, 8, 0, 5, -1, 3, 0, -1, -1, -1, 11, -1, 47, -1, 2, -1, 26, 24, -1, -1, -1, 2, 6, -1, -1, 2, -1, 1, -1, 28, 31, -1, 0, -1, 59, -1, -1, 56, 0, 0, -1, 35, 13, 43, 0, 48, -1, -1, 6, 27, -1, 58, 4, -1, -1, -1, 6, 46, -1, -1, -1, -1, -1, 57, -1, -1, -1, -1, 0, 57, -1, 0, -1, 2, 0, -1, -1, 52, 18, -1, -1, 14, -1, 3, -1, 0, -1, -1, 7, -1, -1, 10, 7, -1, 47, -1, -1, 4, -1, -1, 1, -1, 0, -1, -1, -1, 37, 39, -1, -1, -1, 0, 11, 41, 0, 16, 52, 3, 0, -1, 47, -1, 0, 38, -1, -1, -1, 25, 2, 24, -1, 11, 19, -1, 0, -1, -1, -1, -1, 55, 40, -1, -1, 18, 46, -1, 7, 25, -1, 38, 42, -1, 0, -1, 38, -1, 6, 6, 11, 5, -1, 0, -1, -1, -1, -1, -1, -1, 0, -1, -1, 3, -1, -1, 0, -1, -1, 30, -1, -1, -1, -1, -1, -1, -1, 1, -1, -1, 29, 33, -1, -1, -1, 4, 56, 0, -1, -1, -1, 0, 7, -1, -1, 33, -1, 0, 3, 31, -1, -1, 7, 24, -1, -1, 30, -1, 0, -1, -1, -1, 8, -1, 4, 0, 59, -1, -1, -1, 9, 0, 17, -1, -1, 0, -1, 31, 3, -1, -1, 45, 0, -1, 4, -1, -1, 10, 17, 6, 7, -1, -1, -1, 15, 46, -1, 33, 5, -1, -1, 0, -1, 55, -1, -1, 0, -1, -1, -1, -1, -1, -1, -1, -1, -1, -1, -1, 15, -1, -1, -1, -1, 26, -1, 39, 56, -1, 6, -1, -1, -1, 10, -1, 50, 0, 46, 4, 36, 0, 50, 55, -1, -1, -1, -1, -1, -1, -1, 5, -1, 46, -1, -1, -1, 1, 44, -1, 5, -1, 2, 14, 12, -1, 0, -1, -1, 0, 0, 2, 13, 6, -1, -1, 9, -1, 6, -1, -1, -1, 5, -1, 4, 0, 23, -1, 59, -1, 2, -1, -1, 0, 2, 56, 3, 0, -1, -1, -1, -1, 23, 2, 0, 21, -1, -1, 40, -1, 8, 54, -1, -1, 42, -1, -1, -1, -1, -1, 21, 51, 4, 0, 0, -1, -1, -1, 3, -1, -1, -1, 15, 6, 0, -1, -1, 30, -1, 54, 38, -1, -1, -1, -1, -1, 13, -1, -1, -1, -1, -1, 11, -1, -1, 48, -1, 46, -1, 9, -1, -1, 33, -1, -1, -1, 0, -1, 0, 0, -1, 32, 0, -1, 45, 3, 3, 3, 1, -1, -1, 53, 32, -1, 11, -1, 35, -1, 33, -1, -1, -1, 1, -1, 1, 0, -1, 0, -1, 3, 0, 1, 11, -1, -1, 10, 15, -1, -1, 2, 8, 0, -1, 10, -1, 3, 1, -1, -1, -1, 4, -1, -1, 15, 7, 27, 1, -1, 51, -1, -1, 0, -1, -1, -1, -1, -1, 1, -1, -1, -1, -1, 48, 7, -1, 10, -1, -1, 1, 45, 0, -1, 49, -1, -1, -1, -1, -1, -1, 0, 1, -1, -1, -1, -1, -1, -1, -1, -1, 52, -1, 34, -1, -1, -1, -1, -1, -1, -1, 22, -1, 29, 2, -1, 43, 2, 17, 8, 54, -1, -1, 0, -1, 5, 36, -1, -1, -1, 16, 8, -1, 29, -1, 4, -1, -1, -1, -1, 21, 0, -1, 51, 39, -1, -1, 26, 15, 53, -1, 4, -1, -1, -1, 0, 26, 38, -1, -1, -1, -1, -1, -1, -1, -1, -1, 0, -1, 6, 1, 19, 5, 8, 4, -1, 4, 35, 3, 1, 0, -1, 1, -1, 0, 14, 1, 28, -1, 58, -1, -1, -1, 3, -1, 13, -1, -1, -1, 58, -1, -1, -1, -1, -1, 4, 1, -1, 1, 51, -1, 23, 27, 28, 10, -1, 2, -1, -1, -1, -1, -1, 3, 24, -1, -1, 1, -1, 6, 0, -1, -1, -1, 3, -1, 40, -1, 0, -1, -1, -1, 25, -1, 2, -1, -1, 2, -1, 49, -1, 4, 47, -1, 0, 4, 0, -1, -1, -1, -1, -1, -1, 5, -1, -1, -1, -1, -1, -1, 0, -1, -1, 0, -1, -1, -1, 10, -1, -1, 14, -1, -1, 23, 58, -1, -1, 5, 20, -1, -1, -1, -1, -1, -1, 0, 20, 21, -1, -1, 50, 0, 57, 58, 3, -1, -1, 39, -1, -1, -1, 56, 25, 6, 32, -1, 0, -1, -1, 0, 2, -1, 1, 4, 40, -1, -1, 0, -1, -1, 2, -1, -1, -1, -1, -1, -1, -1, -1, -1, -1, -1, 2, 23, 41, -1, -1, 0, 5, -1, -1, -1, -1, -1, 29, -1, -1, -1, -1, 26, 38, 25, -1, 0, 1, 37, -1, 6, 12, 0, 16, 15, 0, 47, 21, -1, -1, -1, 31, 1, 0, -1, -1, 13, 6, 2, 1, 0, 2, 3, -1, 47, -1, -1, 58, 0, 5, 5, -1, 28, -1, -1, -1, -1, 5, -1, -1, 36, -1, 6, -1, 14, -1, -1, -1, 18, -1, -1, 1, 14, -1, 45, -1, 19, 1, -1, 15, -1, 4, 0, 3, 2, -1, -1, -1, -1, -1, 20, -1, -1, 17, 0, -1, -1, -1, 53, 4, -1, 51, -1, 0, -1, -1, 0, -1, 45, 3, 5, -1, 9, -1, 12, -1, 1, 1, 24, 14, 57, -1, -1, 7, 0, 1, -1, -1, 0, -1, 39, -1, 20, 7, -1, -1, 30, 8, -1, 16, 0, -1, -1, -1, -1, 5, -1, 0, -1, -1, 23, 2, 4, -1, -1, -1, 0, 6, -1, -1, -1, -1, -1, -1, 13, 2, -1, -1, -1, -1, 2, 13, -1, 42, -1, -1, -1, 57, -1, 26, -1, 3, 4, -1, -1, 6, 36, 1, -1, -1, -1, -1, -1, -1, -1, -1, 6, -1, -1, -1, 4, 13, 34, 0, 41, -1, 0, 50, -1, -1, -1, -1, -1, 0, 1, 34, -1, 27, 0, 0, -1, -1, 1, -1, 14, 1, 48, 0, -1, 2, -1, -1, 31, -1, -1, -1, -1, -1, 0, -1, -1, -1, 19, -1, -1, 0, -1, -1, 0, 16, 0, -1, -1, -1, -1, -1, -1, -1, -1, 0, 0, 16, 6, -1, 0, 3, -1, 10, -1, -1, 31, -1, -1, 29, -1, 2, -1, -1, -1, 17, 3, 0, -1, -1, -1, 1, 25, 44, 4, -1, -1, -1, -1, 4, 0, 0, 0, 0, 27, 43, -1, -1, -1, -1, -1, 5, -1, -1, -1, 31, -1, -1, 0, -1, -1, -1, -1, 8, -1, -1, 1, -1, 5, -1, -1, -1, 1, -1, -1, -1, 9, 0, -1, 50, -1, -1, 12, 2, -1, -1, -1, -1, 1, -1, 11, 9, 5, -1, -1, -1, -1, -1, -1, 16, -1, -1, 5, 0, -1, 0, -1, -1, 7, 0, 19, -1, 0, 12, -1, 4, -1, -1, -1, -1, -1, -1, -1, -1, 7, 0, -1, -1, 0, 30, 6, 13, 22, 0, 6, -1, -1, 32, 0, 0, -1, -1, -1, -1, -1, -1, -1, 38, -1, 1, 45, 11, -1, 44, 1, -1, 0, -1, -1, -1, 54, 0, 16, 0, 0, -1, -1, -1, -1, 0, -1, -1, 10, -1, -1, -1, -1, 0, 35, 4, -1, 0, 0, -1, 9, -1, 3, -1, 3, -1, 16, 0, 6, -1, -1, -1, -1, -1, -1, 46, -1, 29, -1, -1, 1, -1, 9, -1, -1, 0, -1, 0, 0, 23, 0, 12, -1, -1, -1, -1, -1, 2, 46, -1, 6, -1, 0, 17, 2, -1, -1, -1, 24, 4, -1, 54, 33, -1, 8, 4, -1, 0, -1, -1, 0, -1, -1, -1, -1, -1, -1, -1, -1, 0, -1, -1, 0, -1, -1, 1, 1, 59, 13, 0, -1, 43, -1, -1, 6, -1, 32, 37, 22, -1, -1, 0, -1, -1, 24, 14, -1, 2, -1, 50, -1, -1, 2, -1, 1, 0, -1, 4, -1, -1, -1, 18, -1, -1, 0, 4, -1, 25, -1, 5, 53, -1, 48, -1, -1, 0, 0, -1, -1, 0, 0, 5, 10, -1, -1, -1, -1, 0, -1, 0, 11, -1, -1, -1, -1, -1, -1, 29, -1, 0, -1, 38, 3, 3, -1, 9, -1, -1, -1, 29, -1, -1, -1, -1, 1, 8, 15, -1, -1, -1, -1, 14, 33, 2, -1, -1, -1, -1, 46, 16, -1, -1, 2, -1, 4, -1, -1, 45, 4, -1, 6, 0, -1, 0, -1, 25, -1, 0, -1, -1, 33, -1, -1, 42, -1, -1, -1, 27, 1, 9, -1, -1, 0, -1, -1, -1, -1, 0, -1, -1, -1, -1, 3, 11, -1, 5, 0, 0, 1, 4, -1, -1, -1, -1, 13, -1, 11, -1, 18, -1, 48, 8, -1, -1, -1, 0, -1, 53, 45, -1, -1, -1, -1, 22, -1, -1, 0, 25, -1, -1, 11, -1, 0, 9, 15, 9, -1, 7, 5, -1, 1, 2, 27, -1, 13, -1, -1, 8, 3, -1, 27, -1, -1, -1, 12, -1, -1, 28, 30, -1, -1, 9, -1, -1, -1, 14, -1, -1, 46, 4, 31, -1, -1, 2, -1, 1, 48, -1, 11, -1, 0, 26, -1, 30, 15, 5, -1, -1, 1, 22, -1, 0, 50, 14, -1, 37, 18, -1, 6, 2, -1, 53, 48, -1, -1, 0, -1, -1, 19, -1, -1, -1, 24, -1, -1, 0, -1, -1, -1, -1, -1, 5, 20, 11, 15, -1, -1, -1, 0, 1, 16, 37, 0, 0, -1, -1, -1, -1, 14, 8, 0, 56, 1, -1, -1, 27, 0, 0, 1, 5, -1, -1, -1, 30, -1, -1, 15, -1, -1, -1, 38, -1, 1, -1, -1, 57, -1, -1, -1, -1, -1, -1, 1, -1, 0, 2, -1, 22, 22, -1, -1, 4, -1, -1, 23, 53, -1, 44, -1, -1, -1, -1, 20, -1, -1, 20, -1, 0, 1, 19, -1, -1, -1, 3, 2, -1, -1, -1, 0, -1, -1, -1, -1, -1, 35, -1, 20, -1, -1, 17, -1, -1, -1, 16, -1, 0, -1, 0, -1, 41, -1, -1, 23, -1, 2, 51, -1, -1, -1, -1, -1, 21, 1, -1, 1, 28, 12, -1, -1, 37, 20, 0, -1, -1, 0, -1, -1, 0, 1, 12, -1, -1, -1, -1, -1, -1, -1, -1, 56, -1, 0, 10, 20, 34, 8, 8, -1, 33, 13, -1, 20, -1, -1, -1, -1, -1, 8, 34, -1, -1, -1, 18, -1, -1, 15, -1, 2, -1, -1, 3, 4, 17, -1, 38, 35, -1, -1, -1, -1, 16, -1, -1, 0, 11, 0, -1, 38, 0, 3, -1, 1, 0, -1, 13, -1, -1, -1, 2, 26, -1, -1, -1, 13, -1, 5, 52, -1, -1, -1, -1, -1, 9, 9, 51, -1, 0, 21, -1, 0, -1, -1, -1, 4, -1, -1, -1, -1, 7, -1, -1, -1, -1, -1, 25, -1, -1, 17, -1, -1, 40, 0, -1, -1, -1, 1, -1, 4, -1, -1, -1, -1, -1, -1, 48, -1, -1, 4, 8, -1, -1, 3, -1, 25, -1, 0, 1, -1, -1, -1, -1, 0, -1, -1, 39, 0, 8, 33, -1, -1, -1, 2, -1, 5, -1, 0, -1, 17, 43, -1, -1, -1, 5, -1, 39, -1, -1, 0, -1, 57, -1, 0, -1, -1, 31, 4, -1, -1, -1, -1, -1, -1, -1, -1, 3, 0, -1, -1, -1, -1, -1, 55, -1, 0, 8, 17, -1, 0, 3, -1, 0, 25, -1, 2, 17, -1, 5, 9, -1, -1, 19, 8, 0, -1, 1, 4, -1, 4, -1, 0, -1, -1, -1, 5, 15, -1, 32, -1, 48, 45, -1, 29, 2, 13, -1, -1, -1, 0, 2, -1, -1, -1, -1, 6, -1, -1, -1, 0, -1, -1, -1, -1, 0, -1, -1, -1, -1, -1, -1, -1, -1, -1, 0, -1, 6, -1, 1, 15, 52, 0, -1, -1, -1, 4, 18, -1, -1, -1, 0, -1, 4, 22, -1, 57, 2, -1, 14, -1, -1, -1, 16, -1, -1, -1, 0, 10, 9, 49, -1, 31, -1, 39, -1, -1, -1, -1, 4, 0, -1, 49, -1, -1, 10, 22, -1, -1, -1, 5, 0, 0, -1, 23, -1, -1, -1, -1, -1, -1, 10, -1, 0, -1, 1, -1, 58, -1, 27, -1, 0, 15, -1, -1, 0, -1, -1, 11, 6, 3, 0, -1, 55, 1, -1, 14, -1, 5, 0, 0, -1, 3, -1, 0, -1, 0, -1, 3, -1, -1, -1, -1, 9, -1, -1, -1, 6, -1, -1, -1, -1, 26, 8, 0, -1, -1, 3, 34, 0, -1, -1, 6, 43, 48, -1, 2, -1, -1, 25, 4, -1, -1, -1, -1, 44, 1, -1, 0, -1, 1, -1, -1, -1, -1, -1, -1, 3, 4, -1, -1, 15, 0, 22, -1, -1, -1, 57, -1, -1, 17, 18, -1, 42, -1, 31, -1, -1, 22, 4, -1, 17, 28, 0, -1, -1, -1, 3, 16, -1, -1, -1, -1, -1, 35, -1, -1, 31, 21, 11, -1, 2, 10, 6, 10, -1, 28, 0, -1, -1, -1, 0, 0, 2, -1, -1, 0, -1, 2, -1, 53, 5, -1, -1, -1, -1, -1, 11, 2, -1, 0, -1, -1, -1, 0, -1, -1, -1, 16, 58, 4, 17, -1, 12, 3, -1, -1, 20, 28, -1, 35, 7, 24, 2, 0, -1, 0, 31, -1, -1, -1, 2, 4, 0, 0, 18, -1, 0, -1, 22, 8, -1, 22, -1, -1, -1, 0, 2, -1, -1, -1, 2, 55, -1, -1, -1, -1, 3, -1, -1, 1, -1, 43, 3, 8, 40, -1, 20, -1, 0, -1, -1, -1, 0, -1, -1, 0, -1, -1, -1, 14, -1, -1, 18, -1, -1, 2, -1, -1, -1, -1, -1, -1, 0, 5, 5, -1, 41, 8, 0, 21, -1, 41, -1, 5, -1, -1, -1, 8, -1, -1, -1, -1, 11, 23, 0, -1, 3, 21, -1, 7, -1, -1, -1, -1, 3, -1, -1, 2, 9, -1, -1, 35, 21, 58, -1, -1, -1, 3, 1, -1, 45, -1, 24, -1, 0, -1, 11, -1, -1, -1, 9, 37, -1, 3, -1, 2, 31, -1, -1, -1, -1, -1, -1, 9, -1, 6, 10, -1, 21, -1, 34, 18, 0, -1, -1, -1, 8, -1, -1, 3, -1, -1, -1, -1, -1, -1, -1, -1, -1, -1, 0, -1, 26, 2, 0, -1, -1, 36, 3, -1, 12, -1, -1, -1, -1, -1, -1, -1, 0, -1, -1, 2, -1, -1, -1, -1, -1, 19, -1, 30, 0, 5, -1, 15, 27, -1, -1, 0, -1, 14, -1, -1, 57, -1, 4, 1, -1, 1, 0, 0, 5, 0, -1, -1, -1, 9, -1, -1, -1, -1, 17, 22, -1, -1, 12, -1, -1, -1, 12, 9, 46, -1, -1, -1, 1, 34, -1, 10, 19, -1, 0, 39, 8, -1, 11, -1, 1, -1, -1, -1, -1, -1, 0, 3, 4, -1, -1, 24, -1, -1, -1, 0, 1, -1, 0, -1, -1, 1, -1, 10, 2, -1, -1, -1, 8, 21, -1, -1, -1, -1, 0, 10, -1, -1, 1, 19, -1, -1, 24, -1, -1, 49, 3, -1, -1, -1, 16, -1, -1, 0, -1, 0, 24, -1, -1, -1, 2, 0, 0, -1, 11, -1, -1, -1, -1, 3, -1, 24, 0, 3, -1, -1, 0, 9, -1, 0, 0, -1, -1, -1, -1, -1, -1, -1, -1, 10, -1, 1, 0, 0, -1, 0, 41, 0, 12, -1, -1, 2, -1, -1, -1, 1, -1, 34, -1, -1, -1, -1, 14, -1, 14, -1, -1, -1, -1, -1, 20, 4, 0, -1, -1, -1, -1, -1, -1, -1, 5, -1, 2, 0, -1, -1, 27, 0, 2, 8, -1, 38, -1, -1, 0, 2, 0, 8, 8, 4, -1, -1, 43, 2, -1, 27, -1, 0, -1, -1, -1, -1, 0, -1, 52, 21, 0, -1, -1, 1, 0, 7, -1, -1, -1, 0, 3, 21, -1, -1, -1, -1, -1, -1, -1, -1, 16, 0, 22, -1, 14, -1, -1, 36, -1, -1, 3, -1, -1, -1, -1, -1, -1, 0, 1, 15, 5, 0, 53, 32, 18, 49, -1, 13, -1, 49, 25, -1, 11, -1, -1, 3, 39, -1, -1, 20, 19, 6, 3, 2, 11, -1, -1, -1, 24, 34, 24, -1, 0, -1, -1, 13, 45, 1, -1, 1, 0, -1, 0, 0, 22, -1, -1, -1, 6, 11, -1, -1, -1, -1, 0, 4, 35, -1, 28, -1, -1, 2, -1, 14, -1, -1, 26, -1, 38, -1, -1, 6, -1, 27, -1, -1, -1, -1, -1, 3, 27, 19, 1, -1, 1, 3, -1, -1, 0, -1, -1, 1, -1, 0, -1, -1, -1, 57, -1, -1, -1, 3, 2, 29, 0, -1, -1, -1, -1, -1, 2, -1, 0, 3, 30, 0, -1, -1, 0, -1, 21, 2, -1, -1, 0, 43, 3, 20, -1, 4, 3, -1, -1, 37, -1, -1, -1, -1, 0, 1, 23, 11, -1, 26, -1, 13, -1, 5, -1, -1, -1, 43, 1, 11, -1, 0, -1, -1, -1, 34, 11, 26, 0, -1, 29, 29, -1, -1, -1, -1, -1, -1, -1, 14, -1, 10, -1, -1, 30, -1, -1, -1, 27, 4, -1, -1, 28, 0, 0, -1, 9, -1, 40, -1, -1, 44, 1, -1, -1, -1, 0, -1, 0, -1, -1, -1, -1, -1, -1, 17, -1, 0, 2, -1, 23, 15, -1, 34, -1, -1, 0, 0, -1, 5, -1, -1, 25, 2, 5, 16, 0, 4, 2, -1, 23, 0, -1, -1, 0, 56, -1, 1, -1, 4, 11, -1, -1, 0, -1, 52, -1, -1, -1, -1, -1, -1, 0, 5, -1, 2, -1, 0, -1, 1, -1, -1, 0, -1, 4, 8, 0, 36, 0, -1, -1, -1, 24, -1, -1, -1, -1, 0, -1, 20, -1, -1, 0, 27, -1, 14, 18, -1, -1, -1, 45, -1, 2, 0, -1, 23, -1, 3, -1, -1, 0, -1, 2, 0, -1, 12, -1, -1, 36, 34, 35, 1, 3, -1, -1, 3, 0, -1, 30, -1, 0, -1, -1, 2, -1, 0, 38, 41, -1, 0, 29, 37, -1, -1, 13, -1, -1, 1, 14, -1, -1, -1, -1, 1, -1, -1, 37, -1, 12, -1, -1, -1, -1, 58, 4, 11, -1, -1, -1, -1, -1, 3, 0, -1, 0, 44, -1, -1, -1, -1, 26, 1, -1, 1, 3, -1, 2, -1, -1, -1, 2, -1, 1, -1, 17, -1, -1, -1, 3, -1, 51, -1, -1, 25, 49, 3, 35, 15, -1, 36, -1, 17, 2, -1, -1, -1, -1, -1, 0, -1, 11, -1, 46, -1, 0, -1, 15, 0, -1, 10, 5, 0, -1, -1, 7, -1, 13, 3, -1, 2, -1, 8, -1, 5, 12, -1, 15, 0, 20, 0, 13, -1, -1, -1, 1, -1, 0, -1, -1, 27, 38, 0, -1, -1, -1, -1, 0, -1, -1, -1, -1, -1, 29, -1, -1, 18, 27, -1, -1, 2, -1, 27, 0, -1, -1, 0, 3, 3, -1, 20, 2, -1, -1, 19, -1, -1, -1, 0, 40, -1, 0, -1, -1, -1, -1, -1, 0, -1, -1, -1, 0, -1, 0, -1, 5, -1, -1, 0, -1, 5, -1, -1, 7, -1, -1, 0, -1, 7, -1, 17, 26, -1, 1, 0, -1, -1, -1, -1, -1, -1, 0, -1, -1, 3, 0, 0, 19, -1, 0, 0, -1, -1, -1, 1, -1, -1, 20, 3, -1, -1, -1, -1, 5, 32, 2, -1, -1, -1, -1, -1, 4, 8, -1, 1, -1, -1, -1, 40, -1, 29, 42, 33, 0, -1, -1, 0, 30, -1, 0, -1, 15, -1, -1, -1, -1, 5, -1, -1, -1, -1, 1, -1, -1, 1, -1, 20, 0, 15, -1, -1, 25, -1, -1, -1, -1, -1, 0, 6, -1, 1, -1, -1, -1, 0, 40, 5, 14, -1, -1, 16, -1, 6, -1, -1, 0, -1, 50, -1, 6, 16, 0, -1, 24, 0, -1, -1, 53, 14, -1, -1, -1, 33, -1, -1, -1, 30, 33, 6, -1, -1, -1, -1, -1, 26, -1, 2, 16, -1, -1, 14, -1, 25, 0, 11, 13, -1, 10, -1, -1, -1, -1, 39, 0, -1, -1, -1, -1, -1, 11, 5, 2, -1, 0, 0, -1, -1, -1, 11, 21, -1, 5, 3, 26, -1, -1, -1, -1, -1, 0, 7, 0, 4, 53, 3, -1, -1, -1, 5, -1, 0, 3, -1, -1, 0, 1, -1, -1, 4, 27, 34, 48, -1, 20, -1, -1, -1, -1, -1, -1, 1, -1, -1, -1, 27, 0, -1, -1, -1, -1, -1, -1, 6, -1, 17, -1, 45, -1, 12, -1, -1, -1, -1, -1, -1, -1, -1, -1, 20, 3, -1, 36, 23, -1, -1, 10, 1, 0, -1, 6, -1, 0, 0, -1, 5, 2, 0, 2, 13, 11, 42, -1, 0, -1, -1, 0, 10, 0, -1, -1, -1, 3, -1, -1, 9, 35, -1, 0, -1, 0, -1, -1, 38, -1, 6, -1, 3, 43, 1, 2, -1, 0, 5, -1, -1, 6, 1, 2, -1, -1, 2, 0, -1, -1, 10, -1, -1, -1, -1, 16, -1, -1, -1, 0, 0, 33, 0, 5, -1, 9, 0, -1, 1, 0, -1, -1, -1, 3, 7, -1, -1, -1, -1, -1, -1, 20, -1, 31, -1, -1, -1, 1, -1, -1, -1, -1, -1, -1, 49, -1, 1, 0, 27, -1, 2, 0, 2, -1, 9, 35, 58, -1, -1, 3, -1, -1, -1, 40, 9, -1, 1, -1, -1, -1, 2, -1, 26, 22, -1, 50, -1, 27, 4, -1, 1, -1, 22, 0, 10, -1, 4, 2, -1, 2, -1, 42, -1, 3, 33, -1, -1, 11, 6, 4, 2, 27, 19, -1, -1, -1, -1, -1, -1, 21, 50, -1, 14, -1, -1, -1, -1, -1, -1, -1, -1, 0, -1, -1, -1, 3, -1, 10, -1, -1, 0, 32, -1, -1, -1, -1, -1, -1, 3, 10, 3, 10, -1, -1, 0, -1, -1, -1, -1, 19, 0, -1, -1, -1, -1, 2, -1, -1, -1, -1, 13, -1, 56, 0, -1, 45, -1, -1, -1, -1, -1, -1, -1, -1, -1, -1, -1, -1, -1, 37, 21, -1, 10, 1, 20, -1, -1, -1, 4, -1, -1, 6, 0, 0, -1, 1, -1, -1, 0, 56, -1, -1, -1, 26, -1, 0, 2, -1, 3, -1, 1, 0, 9, 0, -1, -1, -1, -1, 16, 3, -1, 1, -1, -1, -1, -1, -1, -1, 16, 11, 1, 30, 0, 0, -1, 0, -1, 33, 12, -1, -1, 35, 14, -1, -1, -1, 5, -1, 0, -1, -1, 23, -1, 21, -1, -1, -1, -1, 54, 0, -1, -1, 5, -1, 27, 0, 55, -1, -1, -1, 0, 0, 39, -1, 1, 0, 27, -1, -1, 6, 6, 14, 3, 8, -1, 0, -1, 36, -1, 5, 0, -1, 1, -1, -1, 2, 11, -1, -1, 0, 0, 21, 27, -1, 1, -1, -1, -1, -1, 52, -1, 16, 1, 3, -1, 0, 0, 55, 5, -1, 0, 0, -1, -1, -1, -1, -1, -1, 10, -1, 0, 9, -1, 59, 0, -1, 4, -1, 36, -1, -1, -1, 50, 38, -1, -1, 0, 11, -1, -1, -1, 0, -1, -1, 1, -1, -1, 0, 7, 44, 8, 44, -1, -1, 0, -1, 7, -1, 7, 1, 0, 42, 47, 4, -1, -1, 5, -1, -1, -1, 0, 0, 16, -1, 3, 35, -1, 2, -1, -1, -1, 43, -1, -1, -1, 2, 7, 0, -1, -1, 16, -1, 42, -1, 6, -1, 48, -1, -1, -1, 41, -1, -1, -1, -1, 26, -1, 9, 6, -1, 3, -1, 12, 5, -1, 1, 35, -1, -1, 34, 3, 4, -1, 0, -1, -1, -1, 0, 1, 6, -1, 2, 37, 8, 57, -1, -1, -1, -1, -1, 50, 16, -1, -1, -1, 39, 15, -1, -1, 0, -1, 41, -1, -1, -1, 0, 0, -1, 10, 1, -1, 55, -1, -1, -1, -1, 0, 31, -1, 7, 15, -1, 31, -1, 46, -1, 2, 0, 3, 54, -1, -1, -1, -1, -1, 4, -1, 1, 6, 18, -1, -1, 36, 24, -1, -1, 8, 52, -1, 0, 27, -1, 14, 36, -1, -1, 0, -1, 2, 25, 41, 4, 16, 3, 2, -1, -1, 0, 0, 11, 0, 18, 51, -1, -1, 0, -1, 28, -1, 0, 59, 37, -1, -1, -1, -1, -1, -1, -1, -1, 0, 16, 21, -1, -1, 0, -1, 29, -1, -1, 51, -1, -1, -1, 0, -1, 4, 0, 33, -1, 1, -1, 0, 6, -1, -1, -1, -1, -1, -1, -1, 23, -1, -1, -1, -1, 4, -1, -1, 0, 0, 0, -1, 2, -1, -1, -1, -1, -1, -1, -1, 15, 10, 45, 2, -1, 22, 6, 8, 1, -1, -1, -1, -1, -1, -1, -1, -1, 0, -1, 19, -1, -1, -1, -1, 3, -1, 18, -1, 9, -1, -1, 20, 11, -1, -1, -1, -1, 6, -1, 4, -1, 28, 0, -1, -1, -1, -1, 1, 6, 31, 8, 0, -1, 0, -1, -1, 24, -1, -1, -1, 0, 25, 13, 15, -1, -1, 0, -1, 9, -1, 10, 2, 0, -1, -1, 0, -1, 0, 26, 0, -1, 57, -1, 14, 15, 47, -1, -1, -1, 3, -1, 9, 40, -1, -1, 35, 38, -1, 0, 57, -1, -1, -1, -1, -1, 5, 12, -1, 0, -1, 0, -1, 2, 0, -1, 0, -1, 0, -1, 0, 5, 32, 6, -1, 2, 15, -1, 12, 1, 33, -1, -1, 13, 12, -1, -1, -1, 28, -1, 1, 26, -1, -1, -1, 39, -1, -1, -1, 25, -1, -1, 0, 0, 0, 0, 3, 12, -1, -1, -1, -1, -1, -1, 6, 50, 1, 1, 29, -1, -1, -1, 6, -1, 18, 0, 45, -1, -1, -1, -1, -1, -1, 1, -1, 11, 12, 7, 0, 5, 1, -1, 11, 22, -1, -1, -1, 18, -1, -1, 11, -1, -1, -1, -1, -1, 2, -1, 0, 3, -1, 0, -1, -1, 5, -1, -1, -1, 0, -1, 2, -1, -1, -1, 5, -1, -1, -1, 13, 4, 0, 0, -1, -1, -1, 14, -1, 4, -1, -1, 0, -1, 22, 21, 3, -1, -1, 0, -1, 5, -1, -1, -1, -1, -1, 0, -1, -1, 0, 24, 0, -1, 13, -1, -1, 18, 2, 5, -1, -1, -1, -1, 0, 3, -1, -1, -1, 1, 15, -1, 58, -1, -1, -1, -1, -1, -1, 4, 11, 18, -1, -1, -1, 0, -1, -1, 0, -1, -1, 1, -1, 1, -1, -1, -1, -1, -1, -1, -1, -1, 58, 22, -1, 13, 37, -1, 6, 6, -1, 8, -1, 3, 47, 0, -1, 1, -1, -1, 5, -1, 31, 5, 1, 0, -1, -1, 3, -1, -1, -1, -1, 4, 0, 15, 48, 0, -1, 4, -1, -1, -1, 21, -1, 9, -1, -1, -1, -1, 4, -1, -1, -1, 0, 1, 35, 1, 4, -1, -1, -1, 0, -1, -1, 2, -1, -1, -1, 33, 17, -1, -1, -1, -1, 0, 0, 4, 0, -1, 0, 4, 5, -1, -1, -1, -1, -1, -1, -1, -1, -1, -1, -1, 41, 49, 24, 0, -1, -1, 0, 30, 17, -1, 33, -1, 0, -1, 14, -1, 57, -1, -1, 23, -1, -1, -1, -1, 12, -1, 13, 9, -1, 0, -1, 33, 2, -1, 55, -1, -1, 23, -1, -1, 1, -1, -1, -1, 0, 3, 11, 2, -1, 4, 3, 13, 2, -1, -1, 18, 6, 4, 0, -1, 40, 1, -1, -1, -1, -1, 2, -1, 11, 46, -1, -1, -1, 27, 0, 33, -1, 11, 16, 15, 0, -1, -1, 0, -1, 0, -1, 17, 45, -1, 59, -1, -1, -1, -1, -1, 0, -1, 0, 31, -1, -1, -1, -1, -1, 6, -1, 0, -1, -1, -1, 0, 2, 44, 50, 3, 1, 7, 6, -1, 52, -1, 33, -1, 26, 1, 2, 4, -1, 45, 24, -1, 6, 39, 11, 6, -1, -1, 4, 17, 2, 3, -1, -1, -1, -1, 0, 29, -1, 59, -1, 6, -1, -1, 2, 5, 33, -1, 1, -1, 30, -1, -1, 6, -1, -1, -1, -1, 24, 31, -1, -1, -1, 38, -1, 6, 0, -1, 4, -1, -1, -1, 25, 0, -1, -1, -1, 4, -1, -1, -1, -1, -1, -1, -1, -1, 58, -1, -1, -1, 0, -1, 31, -1, 3, -1, -1, -1, 10, -1, -1, 2, 13, -1, -1, 2, -1, 4, 46, 0, -1, 1, 53, 25, -1, 0, 2, -1, -1, 21, -1, -1, -1, 1, -1, 53, -1, -1, -1, -1, -1, -1, 0, -1, -1, -1, 21, 52, -1, -1, -1, -1, -1, -1, 48, -1, -1, 1, 45, 38, -1, -1, 0, 0, 28, 7, 52, -1, 0, 12, -1, 4, -1, -1, 5, 20, -1, -1, -1, 11, -1, 15, 29, -1, -1, 57, -1, -1, 54, -1, 3, -1, -1, -1, 12, 51, 1, 1, -1, -1, 1, 0, 0, -1, -1, 0, -1, 42, -1, -1, -1, 0, 3, -1, 2, -1, -1, -1, -1, -1, 27, -1, -1, -1, -1, 2, -1, 39, 40, 2, 13, 3, 0, 31, -1, 0, -1, -1, 0, -1, 3, -1, 5, -1, -1, -1, 0, 59, 4, 4, 10, -1, -1, -1, -1, -1, -1, -1, -1, -1, -1, 0, -1, 36, -1, 0, 3, 0, -1, -1, -1, -1, -1, -1, 48, 0, 17, 13, -1, 49, 15, -1, -1, -1, -1, 0, -1, 22, 15, 1, -1, -1, -1, -1, 6, -1, 47, 36, 8, -1, -1, -1, 11, 6, 25, 8, -1, -1, -1, 14, 0, 19, 46, -1, -1, 37, -1, 0, 9, 0, 5, 3, -1, 28, 55, 3, -1, 0, 0, 4, -1, 0, -1, 32, -1, -1, -1, -1, 0, 0, 4, 8, 3, -1, -1, -1, -1, -1, 1, 0, -1, -1, -1, 36, 6, -1, -1, -1, 1, 0, 36, -1, -1, -1, 34, -1, 58, 8, -1, -1, -1, 47, -1, -1, -1, -1, -1, -1, -1, 0, -1, -1, 38, 13, -1, 7, -1, -1, -1, -1, 26, 1, 10, -1, -1, -1, -1, -1, 13, 1, -1, -1, 8, 35, -1, -1, 10, -1, 26, 7, 7, -1, -1, -1, 36, 2, -1, 47, -1, -1, 8, 0, 59, 0, -1, -1, 0, 7, 1, 0, -1, -1, -1, 0, 0, -1, 0, 2, 7, 14, -1, 6, -1, -1, 4, 18, 32, -1, 20, -1, -1, -1, -1, -1, -1, -1, 1, 5, -1, 0, 10, -1, 0, -1, -1, -1, 51, 54, 0, -1, 45, 2, -1, -1, -1, 8, 2, 6, -1, -1, -1, 3, 42, -1, 2, -1, 2, 1, 0, -1, 12, 0, -1, -1, 0, 2, 14, -1, -1, -1, 5, 6, 3, -1, 22, -1, 3, 43, -1, -1, -1, 21, -1, 0, 0, 0, 3, -1, 52, -1, -1, -1, -1, 0, 27, 11, 37, 8, -1, 21, -1, 11, 4, -1, -1, -1, 26, 17, 25, -1, 58, 57, -1, -1, -1, -1, 16, -1, 5, -1, 4, 20, 1, -1, 21, 28, -1, -1, -1, -1, 0, 0, 0, -1, 0, -1, -1, -1, 0, 5, -1, 1, -1, -1, 0, -1, -1, 25, -1, 0, 33, -1, -1, 0, -1, -1, -1, -1, -1, -1, -1, -1, -1, 3, -1, -1, -1, 50, -1, 27, 2, -1, -1, -1, 13, -1, -1, 53, 27, 52, -1, 1, -1, -1, 16, -1, 6, 0, 17, -1, -1, -1, 0, 34, 19, 1, -1, -1, -1, -1, -1, 1, -1, -1, 5, -1, -1, 3, 15, 43, 42, 31, -1, -1, 7, -1, 0, -1, -1, -1, -1, -1, 25, 5, -1, 13, -1, -1, 35, 1, -1, 11, -1, -1, 0, 0, 0, -1, -1, -1, -1, 0, -1, 9, 40, -1, -1, -1, -1, -1, 0, 22, -1, 3, -1, 32, 36, 50, -1, 27, 6, -1, -1, 16, -1, -1, 13, 1, -1, 3, -1, -1, -1, -1, -1, 2, -1, -1, -1, -1, -1, -1, 0, 0, 7, -1, -1, 5, -1, -1, 19, -1, -1, -1, 13, 0, 42, 1, -1, 6, 55, -1, 1, -1, 0, -1, 5, -1, 20, 19, 0, -1, -1, -1, 6, -1, 20, -1, -1, 6, 51, -1, -1, -1, -1, -1, -1, 0, 45, -1, -1, -1, -1, 3, -1, 0, -1, -1, 4, -1, -1, 11, -1, 2, -1, -1, 52, -1, 59, -1, 33, -1, 23, -1, 5, 0, 16, -1, 1, 0, 8, 50, 41, 35, 0, -1, -1, -1, 0, 4, -1, -1, 43, -1, -1, -1, 0, 10, 43, -1, 49, -1, -1, 4, 24, 0, 43, 14, -1, -1, 7, 1, 9, -1, -1, -1, 22, 5, 0, 0, 30, -1, -1, 0, 43, 3, 2, -1, 1, -1, -1, -1, 55, 46, -1, -1, 3, 40, 28, -1, 1, 14, -1, 48, 45, 4, 38, 0, 5, 8, -1, -1, 16, 13, 15, 3, -1, -1, -1, -1, -1, 48, 3, 42, -1, 43, -1, -1, -1, 0, 34, 46, -1, -1, -1, 0, -1, -1, -1, 6, 1, 0, -1, -1, -1, 3, -1, -1, 3, -1, -1, 13, 31, -1, -1, -1, 25, -1, -1, -1, -1, -1, -1, 15, 0, 1, 18, -1, 0, -1, 0, 2, -1, -1, -1, 31, -1, -1, 6, -1, -1, -1, -1, -1, -1, -1, 38, -1, -1, -1, -1, -1, -1, -1, 5, -1, 0, 53, 7, -1, 0, -1, -1, 22, 3, -1, 6, 2, -1, 12, 2, 40, 0, 1, 0, 7, -1, -1, -1, 8, 22, -1, 3, -1, -1, -1, -1, 23, -1, 7, 12, 8, -1, 57, -1, 46, 27, -1, -1, -1, 15, -1, -1, -1, 11, -1, 10, 0, 27, 1, 1, -1, -1, -1, -1, -1, -1, 1, 0, 0, 1, 41, 12, 0, 0, -1, -1, 3, -1, 37, -1, -1, 59, -1, 26, 41, -1, 36, -1, 6, -1, 5, -1, 9, 14, 21, 9, -1, -1, -1, -1, 5, -1, 0, -1, -1, 0, 0, -1, -1, 52, 2, -1, -1, 0, -1, -1, 27, 2, -1, -1, 44, -1, 0, 33, -1, -1, -1, -1, 43, -1, -1, 7, 54, 49, -1, 48, -1, 7, 49, 16, -1, 28, 6, 4, -1, 29, -1, -1, -1, -1, 50, 2, 1, 0, 5, 1, -1, 18, 1, -1, -1, 29, -1, 0, 0, -1, 5, 2, -1, -1, -1, 23, -1, -1, 56, 0, -1, -1, -1, 1, 1, -1, -1, -1, 17, 0, -1, -1, 5, 31, -1, 13, -1, 11, 0, 0, 0, -1, -1, 53, 8, -1, 32, 27, 0, 4, 1, 14, 3, 20, -1, 4, -1, -1, -1, -1, 37, -1, -1, -1, 0, -1, 13, -1, -1, -1, -1, 3, -1, -1, -1, -1, -1, 58, 1, 15, -1, 4, 0, -1, -1, -1, 5, 39, 13, -1, -1, 6, 2, -1, 0, 3, -1, 2, -1, 9, 15, -1, 7, 38, 0, 14, -1, -1, -1, -1, -1, -1, 15, 0, -1, 0, -1, 13, 16, 1, -1, 29, -1, 21, -1, -1, 0, -1, -1, -1, 0, 2, 0, 39, -1, 2, 34, 15, -1, 44, -1, 1, 53, 4, 16, -1, -1, -1, -1, -1, 6, -1, 1, -1, -1, 0, 1, -1, 1, 44, 33, 18, 0, 4, 9, 2, -1, -1, 0, -1, 4, -1, 9, 8, -1, 52, -1, -1, 3, 2, -1, -1, -1, -1, 29, 55, -1, 6, -1, 58, -1, -1, -1, -1, 40, 25, -1, 25, -1, -1, 2, -1, -1, 24, 3, 37, -1, 0, 8, 6, 44, -1, 13, 9, -1, -1, -1, 4, 16, 23, 2, 1, -1, -1, -1, -1, -1, -1, 6, -1, -1, -1, -1, 5, -1, 2, -1, -1, -1, -1, 15, -1, 0, -1, 9, -1, -1, -1, -1, 4, 25, -1, 57, -1, 24, -1, -1, 17, -1, -1, -1, -1, 2, -1, -1, -1, -1, -1, 14, -1, -1, 10, 3, -1, -1, 5, 54, -1, 36, 7, -1, 19, 12, 7, 0, 39, 1, 7, 7, -1, 54, 19, 3, 2, 49, -1, 27, 40, 1, 46, -1, 10, -1, -1, 34, -1, -1, -1, 14, -1, 4, 0, -1, -1, -1, -1, 1, 6, 13, -1, -1, -1, -1, -1, 7, 42, 29, -1, -1, 3, -1, 54, 25, -1, -1, 13, 38, 11, -1, 6, 13, 0, -1, -1, -1, 4, 0, 0, 30, 3, 2, -1, 21, -1, -1, 0, -1, 18, -1, 1, -1, -1, -1, -1, -1, -1, 1, 0, -1, -1, 19, -1, -1, 25, 11, 30, 13, -1, 11, 11, -1, -1, 1, 1, -1, 0, -1, 4, 25, -1, 32, -1, 0, -1, 1, 4, -1, -1, 1, -1, -1, 10, -1, 34, -1, 29, 0, 0, -1, -1, -1, 28, 0, -1, 18, -1, -1, -1, -1, -1, -1, 26, 56, -1, -1, 54, -1, 2, -1, -1, 0, -1, 4, -1, -1, 0, -1, 2, -1, 2, 9, -1, 5, 23, -1, -1, 9, 14, 0, 48, 0, 0, -1, -1, -1, -1, -1, 7, 18, 10, -1, 11, -1, -1, 1, 2, -1, -1, 0, 23, -1, 0, -1, 0, 0, -1, -1, 30, -1, -1, -1, 4, 1, -1, -1, -1, 35, 32, 0, -1, 24, -1, -1, 5, -1, -1, -1, -1, -1, 0, 47, -1, -1, -1, 3, 53, -1, 57, -1, -1, -1, -1, 9, -1, -1, 27, -1, -1, 40, -1, -1, -1, 0, 0, -1, -1, -1, 0, -1, -1, -1, 59, 3, 8, -1, -1, -1, -1, 51, 36, 2, 39, -1, -1, -1, -1, -1, -1, -1, 5, -1, 4, -1, 1, -1, 3, -1, -1, 43, -1, 57, -1, -1, 13, 4, 9, 0, 26, -1, 35, -1, -1, -1, 14, 56, 3, 33, 7, -1, -1, 0, -1, 25, -1, -1, -1, 2, -1, -1, -1, 26, 13, -1, 4, -1, 12, -1, -1, -1, 11, -1, 18, -1, -1, 37, 29, 0, 14, 2, 8, -1, -1, -1, 36, 0, -1, -1, -1, -1, 5, -1, -1, -1, 12, -1, -1, 10, 0, -1, 0, -1, -1, -1, 26, 29, -1, -1, 20, -1, -1, 8, -1, -1, 3, 8, 53, 23, 7, 4, 29, -1, 4, 1, -1, -1, -1, -1, -1, -1, 9, -1, -1, -1, 6, -1, 0, -1, -1, 19, 5, -1, 11, -1, -1, -1, -1, 11, -1, 1, -1, -1, 18, -1, -1, -1, -1, 41, 1, -1, 1, 37, -1, 0, -1, 3, -1, -1, 6, -1, 59, -1, 3, -1, -1, 52, 5, -1, 2, 32, 27, 3, -1, 0, 1, -1, -1, -1, 29, 1, -1, -1, -1, -1, 7, -1, -1, -1, -1, -1, 13, 26, -1, 47, -1, -1, -1, -1, -1, -1, 30, -1, -1, 49, 3, -1, 0, -1, -1, -1, 3, -1, -1, -1, 6, -1, 6, 14, -1, 2, 5, 39, 7, 55, -1, 0, -1, 51, 19, 0, 6, 4, 7, -1, -1, -1, -1, -1, 12, -1, 1, 0, 0, 0, 0, -1, 34, -1, -1, -1, -1, -1, 10, 0, 0, 5, 1, -1, 13, 45, -1, -1, 47, 21, -1, 6, -1, 18, -1, -1, 8, -1, 1, -1, -1, 46, 0, -1, 41, -1, 49, 28, 8, -1, -1, -1, -1, 36, 5, -1, -1, -1, -1, -1, 1, -1, 4, -1, 1, 8, 29, -1, 19, -1, -1, 0, 0, 31, 0, 27, -1, -1, 7, 0, -1, -1, -1, -1, -1, 3, 24, -1, 16, -1, -1, 0, 6, -1, 17, 0, 0, 9, 2, 3, 0, 18, 5, -1, -1, 15, -1, -1, -1, 22, -1, -1, -1, -1, -1, 18, 3, -1, 0, -1, 34, -1, -1, -1, 0, -1, -1, 1, 0, 4, 4, 0, 57, -1, 0, -1, 1, 40, 0, 12, -1, 2, -1, 38, -1, -1, 1, -1, -1, 32, -1, -1, -1, -1, 49, 14, 1, 37, -1, -1, 5, -1, 9, -1, -1, 59, -1, 53, 58, 0, -1, 0, 34, 12, -1, -1, -1, 41, -1, -1, 1, 0, -1, -1, -1, -1, 1, -1, -1, 22, 0, -1, -1, 0, 39, 30, -1, -1, 41, -1, 3, -1, -1, -1, -1, 0, 0, -1, -1, -1, -1, -1, 4, 10, -1, -1, 1, -1, 39, 9, 29, 5, -1, 31, 2, 24, -1, 0, -1, -1, 0, -1, 4, -1, 11, 30, 23, 32, -1, -1, -1, 4, -1, -1, 38, 3, -1, -1, 0, 6, -1, -1, 4, -1, -1, -1, -1, -1, -1, 0, 5, -1, 0, -1, 8, 20, -1, -1, 5, 3, -1, -1, -1, -1, -1, -1, -1, 24, 2, 19, 0, -1, 6, 0, -1, 1, 58, 27, -1, -1, 46, 11, 2, 11, -1, -1, -1, 0, -1, -1, 0, 13, -1, 59, -1, -1, 5, -1, 36, -1, -1, 3, -1, -1, 6, 43, -1, 0, -1, 0, -1, -1, -1, -1, -1, 3, 0, 3, 34, -1, -1, -1, -1, 23, 6]\n"
          ]
        }
      ]
    },
    {
      "cell_type": "markdown",
      "source": [],
      "metadata": {
        "id": "ipzieuf2J4rr"
      }
    },
    {
      "cell_type": "markdown",
      "metadata": {
        "id": "LXYJ745O-03Z"
      },
      "source": [
        "# **Search Topics**\n",
        "After having trained our model, we can use `find_topics` to search for topics that are similar\n",
        "to an input search_term. Here, we are going to be searching for topics that closely relate the\n",
        "search term \"vehicle\". Then, we extract the most similar topic and check the results:"
      ]
    },
    {
      "cell_type": "code",
      "metadata": {
        "colab": {
          "base_uri": "https://localhost:8080/"
        },
        "id": "lAdiVYej-2i-",
        "outputId": "c107bd7d-1025-4d4d-b179-d007c7d16cd2"
      },
      "source": [
        "similar_topics, similarity = topic_model.find_topics(\"vehicle\", top_n=5); similar_topics"
      ],
      "execution_count": null,
      "outputs": [
        {
          "output_type": "execute_result",
          "data": {
            "text/plain": [
              "[71, 45, 77, 9, 56]"
            ]
          },
          "metadata": {
            "tags": []
          },
          "execution_count": 11
        }
      ]
    },
    {
      "cell_type": "code",
      "metadata": {
        "colab": {
          "base_uri": "https://localhost:8080/"
        },
        "id": "Q9paNa09d3Xy",
        "outputId": "545bbd07-8850-46d4-fdb7-28cb3d158b15"
      },
      "source": [
        "topic_model.get_topic(71)"
      ],
      "execution_count": null,
      "outputs": [
        {
          "output_type": "execute_result",
          "data": {
            "text/plain": [
              "[('car', 0.03740731827314482),\n",
              " ('the car', 0.027790363401304377),\n",
              " ('dealer', 0.013837911908704722),\n",
              " ('the dealer', 0.009515109324321468),\n",
              " ('owner', 0.008430722097917726),\n",
              " ('previous owner', 0.008157988442865012),\n",
              " ('cars', 0.005827046491488879),\n",
              " ('the odometer', 0.00514870077683653),\n",
              " ('bought car', 0.004667512506960727),\n",
              " ('car with', 0.004498685875558186)]"
            ]
          },
          "metadata": {
            "tags": []
          },
          "execution_count": 12
        }
      ]
    },
    {
      "cell_type": "markdown",
      "metadata": {
        "id": "wekNoQNuUVoU"
      },
      "source": [
        "# **Model serialization**\n",
        "The model and its internal settings can easily be saved. Note that the documents and embeddings will not be saved. However, UMAP and HDBSCAN will be saved."
      ]
    },
    {
      "cell_type": "code",
      "metadata": {
        "id": "nWUF1uxiSb_a"
      },
      "source": [
        "# Save model\n",
        "topic_model.save(\"my_model\")"
      ],
      "execution_count": null,
      "outputs": []
    },
    {
      "cell_type": "code",
      "metadata": {
        "id": "y_eHBI1jSb6i"
      },
      "source": [
        "# Load model\n",
        "my_model = BERTopic.load(\"my_model\")"
      ],
      "execution_count": null,
      "outputs": []
    },
    {
      "cell_type": "markdown",
      "metadata": {
        "id": "2eyImbal7lb8"
      },
      "source": [
        "# **Embedding Models**\n",
        "The parameter `embedding_model` takes in a string pointing to a sentence-transformers model, a SentenceTransformer, or a Flair DocumentEmbedding model."
      ]
    },
    {
      "cell_type": "markdown",
      "metadata": {
        "id": "8ZKyW7NZpnEk"
      },
      "source": [
        "## Sentence-Transformers\n",
        "You can select any model from sentence-transformers here and pass it through BERTopic with embedding_model:\n",
        "\n"
      ]
    },
    {
      "cell_type": "code",
      "metadata": {
        "id": "k7sPgNfzprbP"
      },
      "source": [
        "topic_model = BERTopic(embedding_model=\"xlm-r-bert-base-nli-stsb-mean-tokens\")"
      ],
      "execution_count": null,
      "outputs": []
    },
    {
      "cell_type": "markdown",
      "metadata": {
        "id": "8vv7i1JTp62V"
      },
      "source": [
        "Or select a SentenceTransformer model with your own parameters:\n"
      ]
    },
    {
      "cell_type": "code",
      "metadata": {
        "id": "Eh5qp58Hp7Ua"
      },
      "source": [
        "from sentence_transformers import SentenceTransformer\n",
        "\n",
        "sentence_model = SentenceTransformer(\"distilbert-base-nli-mean-tokens\", device=\"cpu\")\n",
        "topic_model = BERTopic(embedding_model=sentence_model, verbose=True)"
      ],
      "execution_count": null,
      "outputs": []
    },
    {
      "cell_type": "markdown",
      "metadata": {
        "id": "SoMc1W-x7-b5"
      },
      "source": [
        "Click [here](https://www.sbert.net/docs/pretrained_models.html) for a list of supported sentence transformers models.  \n"
      ]
    }
  ]
}