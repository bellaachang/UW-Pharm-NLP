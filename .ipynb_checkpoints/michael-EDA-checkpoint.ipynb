{
 "cells": [
  {
   "cell_type": "markdown",
   "id": "04edd596-7b61-41f5-a2ec-5bb2c9f4d2ca",
   "metadata": {},
   "source": [
    "# An Exploration of UW Pharmacy Student Reflections"
   ]
  },
  {
   "cell_type": "markdown",
   "id": "f80a0b2a-3831-477b-af69-5fcaa43028a9",
   "metadata": {},
   "source": [
    "Author: Michael Florip (michaelflorip@berkeley.edu)"
   ]
  },
  {
   "cell_type": "markdown",
   "id": "80de3ed6",
   "metadata": {},
   "source": [
    "## Experimenting with topicwizard\n",
    "Medium Link: https://medium.com/@power.up1163/visualizing-topic-models-with-topicwizard-ee5b4428405e\n",
    "\n",
    "Code is from the Medium article, with minor adjustments for my own experimentation"
   ]
  },
  {
   "cell_type": "markdown",
   "id": "58ae10e5",
   "metadata": {},
   "source": [
    "### Install topic-wizard from PyPi"
   ]
  },
  {
   "cell_type": "code",
   "execution_count": 44,
   "id": "bb5c98c8",
   "metadata": {},
   "outputs": [
    {
     "name": "stdout",
     "output_type": "stream",
     "text": [
      "Collecting topic-wizard\n",
      "  Obtaining dependency information for topic-wizard from https://files.pythonhosted.org/packages/0c/53/ed1062e9e51aab0632cf0626046cd07671483082d6bcc6566ed0c4f11bbe/topic_wizard-0.5.0-py3-none-any.whl.metadata\n",
      "  Downloading topic_wizard-0.5.0-py3-none-any.whl.metadata (9.3 kB)\n",
      "Collecting Pillow<11.0.0,>=10.1.0 (from topic-wizard)\n",
      "  Obtaining dependency information for Pillow<11.0.0,>=10.1.0 from https://files.pythonhosted.org/packages/4a/92/a6eb4a8210d3597897ddf2d6af37898eb74e116bd2c6d2bcd9ac4080ebb5/pillow-10.2.0-cp310-cp310-macosx_10_10_x86_64.whl.metadata\n",
      "  Downloading pillow-10.2.0-cp310-cp310-macosx_10_10_x86_64.whl.metadata (9.7 kB)\n",
      "Collecting dash<3.0.0,>=2.7.1 (from topic-wizard)\n",
      "  Obtaining dependency information for dash<3.0.0,>=2.7.1 from https://files.pythonhosted.org/packages/b2/10/388c4a697275417a6974033e6ea7235d61e648e6c39d9cc06fcc6a6f71d4/dash-2.15.0-py3-none-any.whl.metadata\n",
      "  Downloading dash-2.15.0-py3-none-any.whl.metadata (11 kB)\n",
      "Collecting dash-extensions<2.0.0,>=1.0.4 (from topic-wizard)\n",
      "  Obtaining dependency information for dash-extensions<2.0.0,>=1.0.4 from https://files.pythonhosted.org/packages/58/a1/efbd3f6da1186e59a74e752f123f7d23fa3ccacbc55c49ceb708aaf62557/dash_extensions-1.0.12-py3-none-any.whl.metadata\n",
      "  Downloading dash_extensions-1.0.12-py3-none-any.whl.metadata (3.0 kB)\n",
      "Collecting dash-iconify<0.2.0,>=0.1.2 (from topic-wizard)\n",
      "  Downloading dash_iconify-0.1.2-py3-none-any.whl (18 kB)\n",
      "Collecting dash-mantine-components<0.13.0,>=0.12.1 (from topic-wizard)\n",
      "  Downloading dash_mantine_components-0.12.1-py3-none-any.whl (500 kB)\n",
      "\u001b[2K     \u001b[90m━━━━━━━━━━━━━━━━━━━━━━━━━━━━━━━━━━━━━━━\u001b[0m \u001b[32m500.8/500.8 kB\u001b[0m \u001b[31m2.8 MB/s\u001b[0m eta \u001b[36m0:00:00\u001b[0m00:01\u001b[0m00:01\u001b[0m\n",
      "\u001b[?25hCollecting joblib<1.3.0,>=1.2.0 (from topic-wizard)\n",
      "  Using cached joblib-1.2.0-py3-none-any.whl (297 kB)\n",
      "Requirement already satisfied: numpy>=1.22.0 in /Users/michaelflorip/opt/anaconda3/envs/homl3/lib/python3.10/site-packages (from topic-wizard) (1.23.5)\n",
      "Collecting pandas<2.0.0,>=1.5.2 (from topic-wizard)\n",
      "  Downloading pandas-1.5.3-cp310-cp310-macosx_10_9_x86_64.whl (12.0 MB)\n",
      "\u001b[2K     \u001b[90m━━━━━━━━━━━━━━━━━━━━━━━━━━━━━━━━━━━━━━━━\u001b[0m \u001b[32m12.0/12.0 MB\u001b[0m \u001b[31m26.6 MB/s\u001b[0m eta \u001b[36m0:00:00\u001b[0m00:01\u001b[0m0:01\u001b[0m\n",
      "\u001b[?25hCollecting scikit-learn<2.0.0,>=1.2.0 (from topic-wizard)\n",
      "  Obtaining dependency information for scikit-learn<2.0.0,>=1.2.0 from https://files.pythonhosted.org/packages/82/2c/4f9461018635112539d5ac86b4579a783dcb3f4fc9b49728e5b68a82beb8/scikit_learn-1.4.0-1-cp310-cp310-macosx_10_9_x86_64.whl.metadata\n",
      "  Downloading scikit_learn-1.4.0-1-cp310-cp310-macosx_10_9_x86_64.whl.metadata (11 kB)\n",
      "Requirement already satisfied: scipy>=1.8.0 in /Users/michaelflorip/opt/anaconda3/envs/homl3/lib/python3.10/site-packages (from topic-wizard) (1.9.3)\n",
      "Collecting umap-learn>=0.5.3 (from topic-wizard)\n",
      "  Downloading umap-learn-0.5.5.tar.gz (90 kB)\n",
      "\u001b[2K     \u001b[90m━━━━━━━━━━━━━━━━━━━━━━━━━━━━━━━━━━━━━━━━\u001b[0m \u001b[32m90.9/90.9 kB\u001b[0m \u001b[31m3.0 MB/s\u001b[0m eta \u001b[36m0:00:00\u001b[0m\n",
      "\u001b[?25h  Preparing metadata (setup.py) ... \u001b[?25ldone\n",
      "\u001b[?25hCollecting wordcloud<2.0.0,>=1.9.2 (from topic-wizard)\n",
      "  Obtaining dependency information for wordcloud<2.0.0,>=1.9.2 from https://files.pythonhosted.org/packages/03/c9/eedf685caa682eefb71c9e827def4604d699da7c3cbf50aa3f577553c33e/wordcloud-1.9.3-cp310-cp310-macosx_10_9_x86_64.whl.metadata\n",
      "  Downloading wordcloud-1.9.3-cp310-cp310-macosx_10_9_x86_64.whl.metadata (3.4 kB)\n",
      "Collecting Flask<3.1,>=1.0.4 (from dash<3.0.0,>=2.7.1->topic-wizard)\n",
      "  Obtaining dependency information for Flask<3.1,>=1.0.4 from https://files.pythonhosted.org/packages/93/a6/aa98bfe0eb9b8b15d36cdfd03c8ca86a03968a87f27ce224fb4f766acb23/flask-3.0.2-py3-none-any.whl.metadata\n",
      "  Downloading flask-3.0.2-py3-none-any.whl.metadata (3.6 kB)\n",
      "Requirement already satisfied: Werkzeug<3.1 in /Users/michaelflorip/opt/anaconda3/envs/homl3/lib/python3.10/site-packages (from dash<3.0.0,>=2.7.1->topic-wizard) (2.3.7)\n",
      "Collecting plotly>=5.0.0 (from dash<3.0.0,>=2.7.1->topic-wizard)\n",
      "  Obtaining dependency information for plotly>=5.0.0 from https://files.pythonhosted.org/packages/a8/07/72953cf70e3bd3a24cbc3e743e6f8539abe6e3e6d83c3c0c83426eaffd39/plotly-5.18.0-py3-none-any.whl.metadata\n",
      "  Downloading plotly-5.18.0-py3-none-any.whl.metadata (7.0 kB)\n",
      "Collecting dash-html-components==2.0.0 (from dash<3.0.0,>=2.7.1->topic-wizard)\n",
      "  Using cached dash_html_components-2.0.0-py3-none-any.whl (4.1 kB)\n",
      "Collecting dash-core-components==2.0.0 (from dash<3.0.0,>=2.7.1->topic-wizard)\n",
      "  Using cached dash_core_components-2.0.0-py3-none-any.whl (3.8 kB)\n",
      "Collecting dash-table==5.0.0 (from dash<3.0.0,>=2.7.1->topic-wizard)\n",
      "  Using cached dash_table-5.0.0-py3-none-any.whl (3.9 kB)\n",
      "Requirement already satisfied: typing-extensions>=4.1.1 in /Users/michaelflorip/opt/anaconda3/envs/homl3/lib/python3.10/site-packages (from dash<3.0.0,>=2.7.1->topic-wizard) (4.7.1)\n",
      "Requirement already satisfied: requests in /Users/michaelflorip/opt/anaconda3/envs/homl3/lib/python3.10/site-packages (from dash<3.0.0,>=2.7.1->topic-wizard) (2.28.2)\n",
      "Collecting retrying (from dash<3.0.0,>=2.7.1->topic-wizard)\n",
      "  Using cached retrying-1.3.4-py3-none-any.whl (11 kB)\n",
      "Requirement already satisfied: nest-asyncio in /Users/michaelflorip/opt/anaconda3/envs/homl3/lib/python3.10/site-packages (from dash<3.0.0,>=2.7.1->topic-wizard) (1.5.6)\n",
      "Requirement already satisfied: setuptools in /Users/michaelflorip/opt/anaconda3/envs/homl3/lib/python3.10/site-packages (from dash<3.0.0,>=2.7.1->topic-wizard) (68.1.2)\n",
      "Requirement already satisfied: importlib-metadata in /Users/michaelflorip/opt/anaconda3/envs/homl3/lib/python3.10/site-packages (from dash<3.0.0,>=2.7.1->topic-wizard) (6.8.0)\n",
      "Collecting Flask-Caching<3.0.0,>=2.1.0 (from dash-extensions<2.0.0,>=1.0.4->topic-wizard)\n",
      "  Obtaining dependency information for Flask-Caching<3.0.0,>=2.1.0 from https://files.pythonhosted.org/packages/49/99/e279e06a1a0147763bda92359b3fa5eab8566e032407e539eb851cdfb4bc/Flask_Caching-2.1.0-py3-none-any.whl.metadata\n",
      "  Downloading Flask_Caching-2.1.0-py3-none-any.whl.metadata (2.2 kB)\n",
      "Collecting dataclass-wizard<0.23.0,>=0.22.2 (from dash-extensions<2.0.0,>=1.0.4->topic-wizard)\n",
      "  Obtaining dependency information for dataclass-wizard<0.23.0,>=0.22.2 from https://files.pythonhosted.org/packages/cc/3a/48b6a1a5d45dcf4a7c442c3b9240be617fe8e95dd2b2ee1382e429d3dd66/dataclass_wizard-0.22.3-py2.py3-none-any.whl.metadata\n",
      "  Downloading dataclass_wizard-0.22.3-py2.py3-none-any.whl.metadata (34 kB)\n",
      "Collecting jsbeautifier<2.0.0,>=1.14.3 (from dash-extensions<2.0.0,>=1.0.4->topic-wizard)\n",
      "  Downloading jsbeautifier-1.14.11.tar.gz (75 kB)\n",
      "\u001b[2K     \u001b[90m━━━━━━━━━━━━━━━━━━━━━━━━━━━━━━━━━━━━━━━━\u001b[0m \u001b[32m75.6/75.6 kB\u001b[0m \u001b[31m2.7 MB/s\u001b[0m eta \u001b[36m0:00:00\u001b[0m\n",
      "\u001b[?25h  Installing build dependencies ... \u001b[?25ldone\n",
      "\u001b[?25h  Getting requirements to build wheel ... \u001b[?25ldone\n",
      "\u001b[?25h  Preparing metadata (pyproject.toml) ... \u001b[?25ldone\n",
      "\u001b[?25hCollecting more-itertools<10.0.0,>=9.0.0 (from dash-extensions<2.0.0,>=1.0.4->topic-wizard)\n",
      "  Downloading more_itertools-9.1.0-py3-none-any.whl (54 kB)\n",
      "\u001b[2K     \u001b[90m━━━━━━━━━━━━━━━━━━━━━━━━━━━━━━━━━━━━━━━━\u001b[0m \u001b[32m54.2/54.2 kB\u001b[0m \u001b[31m1.8 MB/s\u001b[0m eta \u001b[36m0:00:00\u001b[0m\n",
      "\u001b[?25hRequirement already satisfied: python-dateutil>=2.8.1 in /Users/michaelflorip/opt/anaconda3/envs/homl3/lib/python3.10/site-packages (from pandas<2.0.0,>=1.5.2->topic-wizard) (2.8.2)\n",
      "Requirement already satisfied: pytz>=2020.1 in /Users/michaelflorip/opt/anaconda3/envs/homl3/lib/python3.10/site-packages (from pandas<2.0.0,>=1.5.2->topic-wizard) (2023.3.post1)\n",
      "Requirement already satisfied: threadpoolctl>=2.0.0 in /Users/michaelflorip/opt/anaconda3/envs/homl3/lib/python3.10/site-packages (from scikit-learn<2.0.0,>=1.2.0->topic-wizard) (3.2.0)\n",
      "Collecting numba>=0.51.2 (from umap-learn>=0.5.3->topic-wizard)\n",
      "  Obtaining dependency information for numba>=0.51.2 from https://files.pythonhosted.org/packages/0a/c9/b98b6fa29aa3d4aede68d9f7c0823359a56bb4a3cae4b2a63330ed8eeda6/numba-0.59.0-cp310-cp310-macosx_10_9_x86_64.whl.metadata\n",
      "  Downloading numba-0.59.0-cp310-cp310-macosx_10_9_x86_64.whl.metadata (2.7 kB)\n",
      "Collecting pynndescent>=0.5 (from umap-learn>=0.5.3->topic-wizard)\n",
      "  Obtaining dependency information for pynndescent>=0.5 from https://files.pythonhosted.org/packages/4e/82/0b9851a2fd4da9b57d7931446f5ebab92a98f1f35d3dc0dae5f9ed50a462/pynndescent-0.5.11-py3-none-any.whl.metadata\n"
     ]
    },
    {
     "name": "stdout",
     "output_type": "stream",
     "text": [
      "  Downloading pynndescent-0.5.11-py3-none-any.whl.metadata (6.8 kB)\n",
      "Requirement already satisfied: tqdm in /Users/michaelflorip/opt/anaconda3/envs/homl3/lib/python3.10/site-packages (from umap-learn>=0.5.3->topic-wizard) (4.64.1)\n",
      "Requirement already satisfied: matplotlib in /Users/michaelflorip/opt/anaconda3/envs/homl3/lib/python3.10/site-packages (from wordcloud<2.0.0,>=1.9.2->topic-wizard) (3.5.3)\n",
      "Collecting Werkzeug<3.1 (from dash<3.0.0,>=2.7.1->topic-wizard)\n",
      "  Obtaining dependency information for Werkzeug<3.1 from https://files.pythonhosted.org/packages/c3/fc/254c3e9b5feb89ff5b9076a23218dafbc99c96ac5941e900b71206e6313b/werkzeug-3.0.1-py3-none-any.whl.metadata\n",
      "  Downloading werkzeug-3.0.1-py3-none-any.whl.metadata (4.1 kB)\n",
      "Requirement already satisfied: Jinja2>=3.1.2 in /Users/michaelflorip/opt/anaconda3/envs/homl3/lib/python3.10/site-packages (from Flask<3.1,>=1.0.4->dash<3.0.0,>=2.7.1->topic-wizard) (3.1.2)\n",
      "Collecting itsdangerous>=2.1.2 (from Flask<3.1,>=1.0.4->dash<3.0.0,>=2.7.1->topic-wizard)\n",
      "  Using cached itsdangerous-2.1.2-py3-none-any.whl (15 kB)\n",
      "Requirement already satisfied: click>=8.1.3 in /Users/michaelflorip/opt/anaconda3/envs/homl3/lib/python3.10/site-packages (from Flask<3.1,>=1.0.4->dash<3.0.0,>=2.7.1->topic-wizard) (8.1.7)\n",
      "Collecting blinker>=1.6.2 (from Flask<3.1,>=1.0.4->dash<3.0.0,>=2.7.1->topic-wizard)\n",
      "  Obtaining dependency information for blinker>=1.6.2 from https://files.pythonhosted.org/packages/fa/2a/7f3714cbc6356a0efec525ce7a0613d581072ed6eb53eb7b9754f33db807/blinker-1.7.0-py3-none-any.whl.metadata\n",
      "  Downloading blinker-1.7.0-py3-none-any.whl.metadata (1.9 kB)\n",
      "Collecting cachelib<0.10.0,>=0.9.0 (from Flask-Caching<3.0.0,>=2.1.0->dash-extensions<2.0.0,>=1.0.4->topic-wizard)\n",
      "  Downloading cachelib-0.9.0-py3-none-any.whl (15 kB)\n",
      "Requirement already satisfied: six>=1.13.0 in /Users/michaelflorip/opt/anaconda3/envs/homl3/lib/python3.10/site-packages (from jsbeautifier<2.0.0,>=1.14.3->dash-extensions<2.0.0,>=1.0.4->topic-wizard) (1.16.0)\n",
      "Collecting editorconfig>=0.12.2 (from jsbeautifier<2.0.0,>=1.14.3->dash-extensions<2.0.0,>=1.0.4->topic-wizard)\n",
      "  Downloading EditorConfig-0.12.3-py3-none-any.whl (16 kB)\n",
      "Collecting llvmlite<0.43,>=0.42.0dev0 (from numba>=0.51.2->umap-learn>=0.5.3->topic-wizard)\n",
      "  Obtaining dependency information for llvmlite<0.43,>=0.42.0dev0 from https://files.pythonhosted.org/packages/38/99/d5058a83c9e4c3ed9d895b5fcbcd805bea83f4a38cda90a29dd778ff755e/llvmlite-0.42.0-cp310-cp310-macosx_10_9_x86_64.whl.metadata\n",
      "  Downloading llvmlite-0.42.0-cp310-cp310-macosx_10_9_x86_64.whl.metadata (4.8 kB)\n",
      "Collecting tenacity>=6.2.0 (from plotly>=5.0.0->dash<3.0.0,>=2.7.1->topic-wizard)\n",
      "  Obtaining dependency information for tenacity>=6.2.0 from https://files.pythonhosted.org/packages/f4/f1/990741d5bb2487d529d20a433210ffa136a367751e454214013b441c4575/tenacity-8.2.3-py3-none-any.whl.metadata\n",
      "  Downloading tenacity-8.2.3-py3-none-any.whl.metadata (1.0 kB)\n",
      "Requirement already satisfied: packaging in /Users/michaelflorip/opt/anaconda3/envs/homl3/lib/python3.10/site-packages (from plotly>=5.0.0->dash<3.0.0,>=2.7.1->topic-wizard) (21.3)\n",
      "Requirement already satisfied: MarkupSafe>=2.1.1 in /Users/michaelflorip/opt/anaconda3/envs/homl3/lib/python3.10/site-packages (from Werkzeug<3.1->dash<3.0.0,>=2.7.1->topic-wizard) (2.1.3)\n",
      "Requirement already satisfied: zipp>=0.5 in /Users/michaelflorip/opt/anaconda3/envs/homl3/lib/python3.10/site-packages (from importlib-metadata->dash<3.0.0,>=2.7.1->topic-wizard) (3.16.2)\n",
      "Requirement already satisfied: cycler>=0.10 in /Users/michaelflorip/opt/anaconda3/envs/homl3/lib/python3.10/site-packages (from matplotlib->wordcloud<2.0.0,>=1.9.2->topic-wizard) (0.11.0)\n",
      "Requirement already satisfied: fonttools>=4.22.0 in /Users/michaelflorip/opt/anaconda3/envs/homl3/lib/python3.10/site-packages (from matplotlib->wordcloud<2.0.0,>=1.9.2->topic-wizard) (4.42.1)\n",
      "Requirement already satisfied: kiwisolver>=1.0.1 in /Users/michaelflorip/opt/anaconda3/envs/homl3/lib/python3.10/site-packages (from matplotlib->wordcloud<2.0.0,>=1.9.2->topic-wizard) (1.4.5)\n",
      "Requirement already satisfied: pyparsing>=2.2.1 in /Users/michaelflorip/opt/anaconda3/envs/homl3/lib/python3.10/site-packages (from matplotlib->wordcloud<2.0.0,>=1.9.2->topic-wizard) (3.1.1)\n",
      "Requirement already satisfied: charset-normalizer<4,>=2 in /Users/michaelflorip/opt/anaconda3/envs/homl3/lib/python3.10/site-packages (from requests->dash<3.0.0,>=2.7.1->topic-wizard) (3.2.0)\n",
      "Requirement already satisfied: idna<4,>=2.5 in /Users/michaelflorip/opt/anaconda3/envs/homl3/lib/python3.10/site-packages (from requests->dash<3.0.0,>=2.7.1->topic-wizard) (3.4)\n",
      "Requirement already satisfied: urllib3<1.27,>=1.21.1 in /Users/michaelflorip/opt/anaconda3/envs/homl3/lib/python3.10/site-packages (from requests->dash<3.0.0,>=2.7.1->topic-wizard) (1.26.15)\n",
      "Requirement already satisfied: certifi>=2017.4.17 in /Users/michaelflorip/opt/anaconda3/envs/homl3/lib/python3.10/site-packages (from requests->dash<3.0.0,>=2.7.1->topic-wizard) (2023.7.22)\n",
      "Downloading topic_wizard-0.5.0-py3-none-any.whl (108 kB)\n",
      "\u001b[2K   \u001b[90m━━━━━━━━━━━━━━━━━━━━━━━━━━━━━━━━━━━━━━━━\u001b[0m \u001b[32m108.5/108.5 kB\u001b[0m \u001b[31m3.9 MB/s\u001b[0m eta \u001b[36m0:00:00\u001b[0m\n",
      "\u001b[?25hDownloading dash-2.15.0-py3-none-any.whl (10.2 MB)\n",
      "\u001b[2K   \u001b[90m━━━━━━━━━━━━━━━━━━━━━━━━━━━━━━━━━━━━━━━━\u001b[0m \u001b[32m10.2/10.2 MB\u001b[0m \u001b[31m30.1 MB/s\u001b[0m eta \u001b[36m0:00:00\u001b[0m00:01\u001b[0m0:01\u001b[0m\n",
      "\u001b[?25hDownloading dash_extensions-1.0.12-py3-none-any.whl (1.4 MB)\n",
      "\u001b[2K   \u001b[90m━━━━━━━━━━━━━━━━━━━━━━━━━━━━━━━━━━━━━━━━\u001b[0m \u001b[32m1.4/1.4 MB\u001b[0m \u001b[31m22.9 MB/s\u001b[0m eta \u001b[36m0:00:00\u001b[0m00:01\u001b[0m\n",
      "\u001b[?25hDownloading pillow-10.2.0-cp310-cp310-macosx_10_10_x86_64.whl (3.5 MB)\n",
      "\u001b[2K   \u001b[90m━━━━━━━━━━━━━━━━━━━━━━━━━━━━━━━━━━━━━━━━\u001b[0m \u001b[32m3.5/3.5 MB\u001b[0m \u001b[31m32.1 MB/s\u001b[0m eta \u001b[36m0:00:00\u001b[0m00:01\u001b[0m:00:01\u001b[0m\n",
      "\u001b[?25hDownloading scikit_learn-1.4.0-1-cp310-cp310-macosx_10_9_x86_64.whl (11.5 MB)\n",
      "\u001b[2K   \u001b[90m━━━━━━━━━━━━━━━━━━━━━━━━━━━━━━━━━━━━━━━━\u001b[0m \u001b[32m11.5/11.5 MB\u001b[0m \u001b[31m29.6 MB/s\u001b[0m eta \u001b[36m0:00:00\u001b[0m00:01\u001b[0m00:01\u001b[0m\n",
      "\u001b[?25hDownloading wordcloud-1.9.3-cp310-cp310-macosx_10_9_x86_64.whl (172 kB)\n",
      "\u001b[2K   \u001b[90m━━━━━━━━━━━━━━━━━━━━━━━━━━━━━━━━━━━━━━━━\u001b[0m \u001b[32m172.6/172.6 kB\u001b[0m \u001b[31m6.3 MB/s\u001b[0m eta \u001b[36m0:00:00\u001b[0m\n",
      "\u001b[?25hDownloading dataclass_wizard-0.22.3-py2.py3-none-any.whl (90 kB)\n",
      "\u001b[2K   \u001b[90m━━━━━━━━━━━━━━━━━━━━━━━━━━━━━━━━━━━━━━━━\u001b[0m \u001b[32m90.9/90.9 kB\u001b[0m \u001b[31m3.1 MB/s\u001b[0m eta \u001b[36m0:00:00\u001b[0m\n",
      "\u001b[?25hDownloading flask-3.0.2-py3-none-any.whl (101 kB)\n",
      "\u001b[2K   \u001b[90m━━━━━━━━━━━━━━━━━━━━━━━━━━━━━━━━━━━━━━━━\u001b[0m \u001b[32m101.3/101.3 kB\u001b[0m \u001b[31m3.7 MB/s\u001b[0m eta \u001b[36m0:00:00\u001b[0m\n",
      "\u001b[?25hDownloading Flask_Caching-2.1.0-py3-none-any.whl (28 kB)\n",
      "Downloading numba-0.59.0-cp310-cp310-macosx_10_9_x86_64.whl (2.6 MB)\n",
      "\u001b[2K   \u001b[90m━━━━━━━━━━━━━━━━━━━━━━━━━━━━━━━━━━━━━━━━\u001b[0m \u001b[32m2.6/2.6 MB\u001b[0m \u001b[31m25.3 MB/s\u001b[0m eta \u001b[36m0:00:00\u001b[0m00:01\u001b[0m00:01\u001b[0m\n",
      "\u001b[?25hUsing cached plotly-5.18.0-py3-none-any.whl (15.6 MB)\n",
      "Downloading pynndescent-0.5.11-py3-none-any.whl (55 kB)\n",
      "\u001b[2K   \u001b[90m━━━━━━━━━━━━━━━━━━━━━━━━━━━━━━━━━━━━━━━━\u001b[0m \u001b[32m55.8/55.8 kB\u001b[0m \u001b[31m1.7 MB/s\u001b[0m eta \u001b[36m0:00:00\u001b[0m\n",
      "\u001b[?25hUsing cached werkzeug-3.0.1-py3-none-any.whl (226 kB)\n",
      "Downloading blinker-1.7.0-py3-none-any.whl (13 kB)\n",
      "Downloading llvmlite-0.42.0-cp310-cp310-macosx_10_9_x86_64.whl (31.1 MB)\n",
      "\u001b[2K   \u001b[90m━━━━━━━━━━━━━━━━━━━━━━━━━━━━━━━━━━━━━━━━\u001b[0m \u001b[32m31.1/31.1 MB\u001b[0m \u001b[31m22.0 MB/s\u001b[0m eta \u001b[36m0:00:00\u001b[0m00:01\u001b[0m00:01\u001b[0m\n",
      "\u001b[?25hUsing cached tenacity-8.2.3-py3-none-any.whl (24 kB)\n",
      "Building wheels for collected packages: umap-learn, jsbeautifier\n",
      "  Building wheel for umap-learn (setup.py) ... \u001b[?25ldone\n",
      "\u001b[?25h  Created wheel for umap-learn: filename=umap_learn-0.5.5-py3-none-any.whl size=86832 sha256=0ffb84ae5fccbc4d2fc23e1d55e9830ac465013069cb68fe763de6df054ef7f7\n",
      "  Stored in directory: /Users/michaelflorip/Library/Caches/pip/wheels/3a/70/07/428d2b58660a1a3b431db59b806a10da736612ebbc66c1bcc5\n",
      "  Building wheel for jsbeautifier (pyproject.toml) ... \u001b[?25ldone\n",
      "\u001b[?25h  Created wheel for jsbeautifier: filename=jsbeautifier-1.14.11-py3-none-any.whl size=94685 sha256=11f1f696697d9869f6dba7ee0bd7bd61b513ea232d3d186298e012e894c90db7\n",
      "  Stored in directory: /Users/michaelflorip/Library/Caches/pip/wheels/82/3b/fd/d6ed4d0751dfbbf312941f1ff830a41407b8d827a89a085181\n",
      "Successfully built umap-learn jsbeautifier\n"
     ]
    },
    {
     "name": "stdout",
     "output_type": "stream",
     "text": [
      "Installing collected packages: editorconfig, dataclass-wizard, dash-table, dash-mantine-components, dash-iconify, dash-html-components, dash-core-components, Werkzeug, tenacity, retrying, Pillow, more-itertools, llvmlite, jsbeautifier, joblib, itsdangerous, cachelib, blinker, scikit-learn, plotly, pandas, numba, Flask, wordcloud, pynndescent, Flask-Caching, dash, umap-learn, dash-extensions, topic-wizard\n",
      "  Attempting uninstall: Werkzeug\n",
      "    Found existing installation: Werkzeug 2.3.7\n",
      "    Uninstalling Werkzeug-2.3.7:\n",
      "      Successfully uninstalled Werkzeug-2.3.7\n",
      "  Attempting uninstall: Pillow\n",
      "    Found existing installation: Pillow 9.2.0\n",
      "    Uninstalling Pillow-9.2.0:\n",
      "      Successfully uninstalled Pillow-9.2.0\n",
      "  Attempting uninstall: joblib\n",
      "    Found existing installation: joblib 1.1.1\n",
      "    Uninstalling joblib-1.1.1:\n",
      "      Successfully uninstalled joblib-1.1.1\n",
      "  Attempting uninstall: scikit-learn\n",
      "    Found existing installation: scikit-learn 1.1.3\n",
      "    Uninstalling scikit-learn-1.1.3:\n",
      "      Successfully uninstalled scikit-learn-1.1.3\n",
      "  Attempting uninstall: pandas\n",
      "    Found existing installation: pandas 1.4.4\n",
      "    Uninstalling pandas-1.4.4:\n",
      "      Successfully uninstalled pandas-1.4.4\n",
      "Successfully installed Flask-3.0.2 Flask-Caching-2.1.0 Pillow-10.2.0 Werkzeug-3.0.1 blinker-1.7.0 cachelib-0.9.0 dash-2.15.0 dash-core-components-2.0.0 dash-extensions-1.0.12 dash-html-components-2.0.0 dash-iconify-0.1.2 dash-mantine-components-0.12.1 dash-table-5.0.0 dataclass-wizard-0.22.3 editorconfig-0.12.3 itsdangerous-2.1.2 joblib-1.2.0 jsbeautifier-1.14.11 llvmlite-0.42.0 more-itertools-9.1.0 numba-0.59.0 pandas-1.5.3 plotly-5.18.0 pynndescent-0.5.11 retrying-1.3.4 scikit-learn-1.4.0 tenacity-8.2.3 topic-wizard-0.5.0 umap-learn-0.5.5 wordcloud-1.9.3\n",
      "Note: you may need to restart the kernel to use updated packages.\n"
     ]
    }
   ],
   "source": [
    "%pip install topic-wizard"
   ]
  },
  {
   "cell_type": "markdown",
   "id": "f09050f7",
   "metadata": {},
   "source": [
    "### Loading a corpus to train our topic model\n",
    "A corpus is a collection of authentic text or audio organized into datasets"
   ]
  },
  {
   "cell_type": "code",
   "execution_count": 24,
   "id": "1781ebde",
   "metadata": {},
   "outputs": [],
   "source": [
    "from sklearn.datasets import fetch_20newsgroups\n",
    "\n",
    "corpus = fetch_20newsgroups(subset=\"all\").data"
   ]
  },
  {
   "cell_type": "markdown",
   "id": "1f568758",
   "metadata": {},
   "source": [
    "### Set up the topic modeling pipeline\n",
    "1. Using 'Pipeline' from sklearn to streamline the process of converting text data into a bag-of-words representation\n",
    "2. Applying Non-negative Matrix Factorization (NMF) for topic modeling"
   ]
  },
  {
   "cell_type": "code",
   "execution_count": 25,
   "id": "7c6fce15",
   "metadata": {},
   "outputs": [],
   "source": [
    "from sklearn.decomposition import NMF\n",
    "from sklearn.feature_extraction.text import CountVectorizer\n",
    "from sklearn.pipeline import Pipeline"
   ]
  },
  {
   "cell_type": "markdown",
   "id": "a06d1132",
   "metadata": {},
   "source": [
    "### Cut low and high frequency words and filter out English stopwords\n",
    "> * 'min_df = 10' means a word must appear in at least 10 documents to be included in the vocabulary, which helps remove rare words\n",
    "> * 'max_df = 0.5' means a word that appears in more than 50% of documents will be excluded, which is useful for removing very common words that are too frequent to be informative (beyond the stop words)\n",
    "> * 'stop_words = \"english\"' tells the vectorizer to remove common English stop words like \"the\", \"is\", \"in\", etc."
   ]
  },
  {
   "cell_type": "code",
   "execution_count": 26,
   "id": "c963b297",
   "metadata": {},
   "outputs": [],
   "source": [
    "# Transforms text documents into matrix of token counts\n",
    "vectorizer = CountVectorizer(min_df=10, max_df=0.5, stop_words=\"english\")"
   ]
  },
  {
   "cell_type": "markdown",
   "id": "f61df963",
   "metadata": {},
   "source": [
    "### Create a topic model\n",
    "> * NMF is used for dimensionality reduction; it decomposes the high-dimensional bag-of-words matrix into two lower-dimensional matrices, one representing the documents and topics, the other representing the topics and words\n",
    "> * 'n_components=10' specifies the number of topics (10)\n",
    "> * NMF will factorize the original matrix (V) into two matricies (W, H) such that V=WH, with the constraint that all three matrices must have no negative elements (this makes W and H easier to inspect and allows them to represent additive combinations of the original features)\n",
    "> * W (Document-Topic Matrix) - each row corresponds to a document, each column represents a topic. the values indicate the association strength of each *document to the topics*\n",
    "> * H (Topic-Term Matrix) - each row corresponds to a topic, each column represents a word in the vocabulary. the values indicate the association strength of *words to the topics*"
   ]
  },
  {
   "cell_type": "code",
   "execution_count": 27,
   "id": "2094afd0",
   "metadata": {},
   "outputs": [],
   "source": [
    "# We create a topic model with ten topics\n",
    "topic_model = NMF(n_components=10)"
   ]
  },
  {
   "cell_type": "markdown",
   "id": "dfc8b720",
   "metadata": {},
   "source": [
    "### Pipeline Setup\n",
    "> * The text data first goes through the 'CountVectorizer', stored as the variable 'vectorizer', to be transformed into a matrix of token counts\n",
    "> * Then, this matrix is fed into the NMF topic model to perform topic modeling"
   ]
  },
  {
   "cell_type": "code",
   "execution_count": 28,
   "id": "ff5921da",
   "metadata": {},
   "outputs": [],
   "source": [
    "# Then we set up a pipeline\n",
    "topic_pipeline = Pipeline(\n",
    "    [\n",
    "        (\"vectorizer\", vectorizer),\n",
    "        (\"topic_model\", topic_model),\n",
    "    ]\n",
    ")"
   ]
  },
  {
   "cell_type": "markdown",
   "id": "5d549385",
   "metadata": {},
   "source": [
    "### Training the model\n",
    "> * .fit trains the NMF model to identify 10 topics within the text based on the patterns of word occurrences across documents\n",
    "> * The H matrix will have the word distributions for each topic"
   ]
  },
  {
   "cell_type": "code",
   "execution_count": 29,
   "id": "50ab906d",
   "metadata": {},
   "outputs": [
    {
     "data": {
      "text/html": [
       "<style>#sk-container-id-3 {color: black;background-color: white;}#sk-container-id-3 pre{padding: 0;}#sk-container-id-3 div.sk-toggleable {background-color: white;}#sk-container-id-3 label.sk-toggleable__label {cursor: pointer;display: block;width: 100%;margin-bottom: 0;padding: 0.3em;box-sizing: border-box;text-align: center;}#sk-container-id-3 label.sk-toggleable__label-arrow:before {content: \"▸\";float: left;margin-right: 0.25em;color: #696969;}#sk-container-id-3 label.sk-toggleable__label-arrow:hover:before {color: black;}#sk-container-id-3 div.sk-estimator:hover label.sk-toggleable__label-arrow:before {color: black;}#sk-container-id-3 div.sk-toggleable__content {max-height: 0;max-width: 0;overflow: hidden;text-align: left;background-color: #f0f8ff;}#sk-container-id-3 div.sk-toggleable__content pre {margin: 0.2em;color: black;border-radius: 0.25em;background-color: #f0f8ff;}#sk-container-id-3 input.sk-toggleable__control:checked~div.sk-toggleable__content {max-height: 200px;max-width: 100%;overflow: auto;}#sk-container-id-3 input.sk-toggleable__control:checked~label.sk-toggleable__label-arrow:before {content: \"▾\";}#sk-container-id-3 div.sk-estimator input.sk-toggleable__control:checked~label.sk-toggleable__label {background-color: #d4ebff;}#sk-container-id-3 div.sk-label input.sk-toggleable__control:checked~label.sk-toggleable__label {background-color: #d4ebff;}#sk-container-id-3 input.sk-hidden--visually {border: 0;clip: rect(1px 1px 1px 1px);clip: rect(1px, 1px, 1px, 1px);height: 1px;margin: -1px;overflow: hidden;padding: 0;position: absolute;width: 1px;}#sk-container-id-3 div.sk-estimator {font-family: monospace;background-color: #f0f8ff;border: 1px dotted black;border-radius: 0.25em;box-sizing: border-box;margin-bottom: 0.5em;}#sk-container-id-3 div.sk-estimator:hover {background-color: #d4ebff;}#sk-container-id-3 div.sk-parallel-item::after {content: \"\";width: 100%;border-bottom: 1px solid gray;flex-grow: 1;}#sk-container-id-3 div.sk-label:hover label.sk-toggleable__label {background-color: #d4ebff;}#sk-container-id-3 div.sk-serial::before {content: \"\";position: absolute;border-left: 1px solid gray;box-sizing: border-box;top: 0;bottom: 0;left: 50%;z-index: 0;}#sk-container-id-3 div.sk-serial {display: flex;flex-direction: column;align-items: center;background-color: white;padding-right: 0.2em;padding-left: 0.2em;position: relative;}#sk-container-id-3 div.sk-item {position: relative;z-index: 1;}#sk-container-id-3 div.sk-parallel {display: flex;align-items: stretch;justify-content: center;background-color: white;position: relative;}#sk-container-id-3 div.sk-item::before, #sk-container-id-3 div.sk-parallel-item::before {content: \"\";position: absolute;border-left: 1px solid gray;box-sizing: border-box;top: 0;bottom: 0;left: 50%;z-index: -1;}#sk-container-id-3 div.sk-parallel-item {display: flex;flex-direction: column;z-index: 1;position: relative;background-color: white;}#sk-container-id-3 div.sk-parallel-item:first-child::after {align-self: flex-end;width: 50%;}#sk-container-id-3 div.sk-parallel-item:last-child::after {align-self: flex-start;width: 50%;}#sk-container-id-3 div.sk-parallel-item:only-child::after {width: 0;}#sk-container-id-3 div.sk-dashed-wrapped {border: 1px dashed gray;margin: 0 0.4em 0.5em 0.4em;box-sizing: border-box;padding-bottom: 0.4em;background-color: white;}#sk-container-id-3 div.sk-label label {font-family: monospace;font-weight: bold;display: inline-block;line-height: 1.2em;}#sk-container-id-3 div.sk-label-container {text-align: center;}#sk-container-id-3 div.sk-container {/* jupyter's `normalize.less` sets `[hidden] { display: none; }` but bootstrap.min.css set `[hidden] { display: none !important; }` so we also need the `!important` here to be able to override the default hidden behavior on the sphinx rendered scikit-learn.org. See: https://github.com/scikit-learn/scikit-learn/issues/21755 */display: inline-block !important;position: relative;}#sk-container-id-3 div.sk-text-repr-fallback {display: none;}</style><div id=\"sk-container-id-3\" class=\"sk-top-container\"><div class=\"sk-text-repr-fallback\"><pre>Pipeline(steps=[(&#x27;vectorizer&#x27;,\n",
       "                 CountVectorizer(max_df=0.5, min_df=10, stop_words=&#x27;english&#x27;)),\n",
       "                (&#x27;topic_model&#x27;, NMF(n_components=10))])</pre><b>In a Jupyter environment, please rerun this cell to show the HTML representation or trust the notebook. <br />On GitHub, the HTML representation is unable to render, please try loading this page with nbviewer.org.</b></div><div class=\"sk-container\" hidden><div class=\"sk-item sk-dashed-wrapped\"><div class=\"sk-label-container\"><div class=\"sk-label sk-toggleable\"><input class=\"sk-toggleable__control sk-hidden--visually\" id=\"sk-estimator-id-7\" type=\"checkbox\" ><label for=\"sk-estimator-id-7\" class=\"sk-toggleable__label sk-toggleable__label-arrow\">Pipeline</label><div class=\"sk-toggleable__content\"><pre>Pipeline(steps=[(&#x27;vectorizer&#x27;,\n",
       "                 CountVectorizer(max_df=0.5, min_df=10, stop_words=&#x27;english&#x27;)),\n",
       "                (&#x27;topic_model&#x27;, NMF(n_components=10))])</pre></div></div></div><div class=\"sk-serial\"><div class=\"sk-item\"><div class=\"sk-estimator sk-toggleable\"><input class=\"sk-toggleable__control sk-hidden--visually\" id=\"sk-estimator-id-8\" type=\"checkbox\" ><label for=\"sk-estimator-id-8\" class=\"sk-toggleable__label sk-toggleable__label-arrow\">CountVectorizer</label><div class=\"sk-toggleable__content\"><pre>CountVectorizer(max_df=0.5, min_df=10, stop_words=&#x27;english&#x27;)</pre></div></div></div><div class=\"sk-item\"><div class=\"sk-estimator sk-toggleable\"><input class=\"sk-toggleable__control sk-hidden--visually\" id=\"sk-estimator-id-9\" type=\"checkbox\" ><label for=\"sk-estimator-id-9\" class=\"sk-toggleable__label sk-toggleable__label-arrow\">NMF</label><div class=\"sk-toggleable__content\"><pre>NMF(n_components=10)</pre></div></div></div></div></div></div></div>"
      ],
      "text/plain": [
       "Pipeline(steps=[('vectorizer',\n",
       "                 CountVectorizer(max_df=0.5, min_df=10, stop_words='english')),\n",
       "                ('topic_model', NMF(n_components=10))])"
      ]
     },
     "execution_count": 29,
     "metadata": {},
     "output_type": "execute_result"
    }
   ],
   "source": [
    "topic_pipeline.fit(corpus)"
   ]
  },
  {
   "cell_type": "markdown",
   "id": "fd047af3",
   "metadata": {},
   "source": [
    "### Visualize the results"
   ]
  },
  {
   "cell_type": "code",
   "execution_count": 42,
   "id": "5a139ad6",
   "metadata": {},
   "outputs": [
    {
     "ename": "NameError",
     "evalue": "name 'visualize' is not defined",
     "output_type": "error",
     "traceback": [
      "\u001b[0;31m---------------------------------------------------------------------------\u001b[0m",
      "\u001b[0;31mNameError\u001b[0m                                 Traceback (most recent call last)",
      "Cell \u001b[0;32mIn [42], line 1\u001b[0m\n\u001b[0;32m----> 1\u001b[0m topicwizard \u001b[38;5;241m=\u001b[39m \u001b[43mvisualize\u001b[49m(pipeline\u001b[38;5;241m=\u001b[39mtopic_pipeline, corpus\u001b[38;5;241m=\u001b[39mcorpus)\n",
      "\u001b[0;31mNameError\u001b[0m: name 'visualize' is not defined"
     ]
    }
   ],
   "source": [
    "topicwizard = visualize(pipeline=topic_pipeline, corpus=corpus)"
   ]
  },
  {
   "cell_type": "code",
   "execution_count": 43,
   "id": "f0658d90",
   "metadata": {},
   "outputs": [
    {
     "ename": "NameError",
     "evalue": "name 'topicwizard' is not defined",
     "output_type": "error",
     "traceback": [
      "\u001b[0;31m---------------------------------------------------------------------------\u001b[0m",
      "\u001b[0;31mNameError\u001b[0m                                 Traceback (most recent call last)",
      "Cell \u001b[0;32mIn [43], line 1\u001b[0m\n\u001b[0;32m----> 1\u001b[0m \u001b[43mtopicwizard\u001b[49m\u001b[38;5;241m.\u001b[39mload(filename\u001b[38;5;241m=\u001b[39m\u001b[38;5;124m\"\u001b[39m\u001b[38;5;124mtopic_data.joblib\u001b[39m\u001b[38;5;124m\"\u001b[39m)\n",
      "\u001b[0;31mNameError\u001b[0m: name 'topicwizard' is not defined"
     ]
    }
   ],
   "source": [
    "topicwizard.load(filename=\"topic_data.joblib\")"
   ]
  },
  {
   "cell_type": "code",
   "execution_count": null,
   "id": "152d1f62",
   "metadata": {},
   "outputs": [],
   "source": []
  }
 ],
 "metadata": {
  "kernelspec": {
   "display_name": "Python 3 (ipykernel)",
   "language": "python",
   "name": "python3"
  },
  "language_info": {
   "codemirror_mode": {
    "name": "ipython",
    "version": 3
   },
   "file_extension": ".py",
   "mimetype": "text/x-python",
   "name": "python",
   "nbconvert_exporter": "python",
   "pygments_lexer": "ipython3",
   "version": "3.10.12"
  }
 },
 "nbformat": 4,
 "nbformat_minor": 5
}
