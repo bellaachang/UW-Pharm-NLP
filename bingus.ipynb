{
 "cells": [
  {
   "cell_type": "code",
   "execution_count": null,
   "metadata": {},
   "outputs": [],
   "source": []
  },
  {
   "cell_type": "code",
   "execution_count": 1,
   "metadata": {},
   "outputs": [
    {
     "name": "stdout",
     "output_type": "stream",
     "text": [
      "Collecting topic-wizard\n",
      "  Using cached topic_wizard-0.5.0-py3-none-any.whl (108 kB)\n",
      "Requirement already satisfied: Pillow<11.0.0,>=10.1.0 in /Library/Frameworks/Python.framework/Versions/3.11/lib/python3.11/site-packages (from topic-wizard) (10.1.0)\n",
      "Requirement already satisfied: dash<3.0.0,>=2.7.1 in /Library/Frameworks/Python.framework/Versions/3.11/lib/python3.11/site-packages (from topic-wizard) (2.14.1)\n",
      "Collecting dash-extensions<2.0.0,>=1.0.4 (from topic-wizard)\n",
      "  Using cached dash_extensions-1.0.12-py3-none-any.whl (1.4 MB)\n",
      "Collecting dash-iconify<0.2.0,>=0.1.2 (from topic-wizard)\n",
      "  Using cached dash_iconify-0.1.2-py3-none-any.whl (18 kB)\n",
      "Collecting dash-mantine-components<0.13.0,>=0.12.1 (from topic-wizard)\n",
      "  Using cached dash_mantine_components-0.12.1-py3-none-any.whl (500 kB)\n",
      "Collecting joblib<1.3.0,>=1.2.0 (from topic-wizard)\n",
      "  Using cached joblib-1.2.0-py3-none-any.whl (297 kB)\n",
      "Requirement already satisfied: numpy>=1.22.0 in /Library/Frameworks/Python.framework/Versions/3.11/lib/python3.11/site-packages (from topic-wizard) (1.26.1)\n",
      "Collecting pandas<2.0.0,>=1.5.2 (from topic-wizard)\n",
      "  Using cached pandas-1.5.3-cp311-cp311-macosx_10_9_x86_64.whl (11.9 MB)\n",
      "Requirement already satisfied: scikit-learn<2.0.0,>=1.2.0 in /Library/Frameworks/Python.framework/Versions/3.11/lib/python3.11/site-packages (from topic-wizard) (1.3.2)\n",
      "Requirement already satisfied: scipy>=1.8.0 in /Library/Frameworks/Python.framework/Versions/3.11/lib/python3.11/site-packages (from topic-wizard) (1.11.3)\n",
      "Collecting umap-learn>=0.5.3 (from topic-wizard)\n",
      "  Using cached umap-learn-0.5.5.tar.gz (90 kB)\n",
      "  Installing build dependencies ... \u001b[?25ldone\n",
      "\u001b[?25h  Getting requirements to build wheel ... \u001b[?25ldone\n",
      "\u001b[?25h  Preparing metadata (pyproject.toml) ... \u001b[?25ldone\n",
      "\u001b[?25hCollecting wordcloud<2.0.0,>=1.9.2 (from topic-wizard)\n",
      "  Using cached wordcloud-1.9.3-cp311-cp311-macosx_10_9_x86_64.whl (172 kB)\n",
      "Requirement already satisfied: Flask<3.1,>=1.0.4 in /Library/Frameworks/Python.framework/Versions/3.11/lib/python3.11/site-packages (from dash<3.0.0,>=2.7.1->topic-wizard) (3.0.0)\n",
      "Requirement already satisfied: Werkzeug<3.1 in /Library/Frameworks/Python.framework/Versions/3.11/lib/python3.11/site-packages (from dash<3.0.0,>=2.7.1->topic-wizard) (3.0.1)\n",
      "Requirement already satisfied: plotly>=5.0.0 in /Library/Frameworks/Python.framework/Versions/3.11/lib/python3.11/site-packages (from dash<3.0.0,>=2.7.1->topic-wizard) (5.18.0)\n",
      "Requirement already satisfied: dash-html-components==2.0.0 in /Library/Frameworks/Python.framework/Versions/3.11/lib/python3.11/site-packages (from dash<3.0.0,>=2.7.1->topic-wizard) (2.0.0)\n",
      "Requirement already satisfied: dash-core-components==2.0.0 in /Library/Frameworks/Python.framework/Versions/3.11/lib/python3.11/site-packages (from dash<3.0.0,>=2.7.1->topic-wizard) (2.0.0)\n",
      "Requirement already satisfied: dash-table==5.0.0 in /Library/Frameworks/Python.framework/Versions/3.11/lib/python3.11/site-packages (from dash<3.0.0,>=2.7.1->topic-wizard) (5.0.0)\n",
      "Requirement already satisfied: typing-extensions>=4.1.1 in /Library/Frameworks/Python.framework/Versions/3.11/lib/python3.11/site-packages (from dash<3.0.0,>=2.7.1->topic-wizard) (4.8.0)\n",
      "Requirement already satisfied: requests in /Library/Frameworks/Python.framework/Versions/3.11/lib/python3.11/site-packages (from dash<3.0.0,>=2.7.1->topic-wizard) (2.31.0)\n",
      "Requirement already satisfied: retrying in /Library/Frameworks/Python.framework/Versions/3.11/lib/python3.11/site-packages (from dash<3.0.0,>=2.7.1->topic-wizard) (1.3.4)\n",
      "Requirement already satisfied: ansi2html in /Library/Frameworks/Python.framework/Versions/3.11/lib/python3.11/site-packages (from dash<3.0.0,>=2.7.1->topic-wizard) (1.8.0)\n",
      "Requirement already satisfied: nest-asyncio in /Library/Frameworks/Python.framework/Versions/3.11/lib/python3.11/site-packages (from dash<3.0.0,>=2.7.1->topic-wizard) (1.5.8)\n",
      "Requirement already satisfied: setuptools in /Library/Frameworks/Python.framework/Versions/3.11/lib/python3.11/site-packages (from dash<3.0.0,>=2.7.1->topic-wizard) (65.5.0)\n",
      "Requirement already satisfied: importlib-metadata in /Library/Frameworks/Python.framework/Versions/3.11/lib/python3.11/site-packages (from dash<3.0.0,>=2.7.1->topic-wizard) (6.8.0)\n",
      "Collecting Flask-Caching<3.0.0,>=2.1.0 (from dash-extensions<2.0.0,>=1.0.4->topic-wizard)\n",
      "  Using cached Flask_Caching-2.1.0-py3-none-any.whl (28 kB)\n",
      "Collecting dash<3.0.0,>=2.7.1 (from topic-wizard)\n",
      "  Using cached dash-2.15.0-py3-none-any.whl (10.2 MB)\n",
      "Collecting dataclass-wizard<0.23.0,>=0.22.2 (from dash-extensions<2.0.0,>=1.0.4->topic-wizard)\n",
      "  Using cached dataclass_wizard-0.22.3-py2.py3-none-any.whl (90 kB)\n",
      "Collecting jsbeautifier<2.0.0,>=1.14.3 (from dash-extensions<2.0.0,>=1.0.4->topic-wizard)\n",
      "  Using cached jsbeautifier-1.14.11.tar.gz (75 kB)\n",
      "  Installing build dependencies ... \u001b[?25ldone\n",
      "\u001b[?25h  Getting requirements to build wheel ... \u001b[?25ldone\n",
      "\u001b[?25h  Preparing metadata (pyproject.toml) ... \u001b[?25ldone\n",
      "\u001b[?25hCollecting more-itertools<10.0.0,>=9.0.0 (from dash-extensions<2.0.0,>=1.0.4->topic-wizard)\n",
      "  Using cached more_itertools-9.1.0-py3-none-any.whl (54 kB)\n",
      "Requirement already satisfied: python-dateutil>=2.8.1 in /Library/Frameworks/Python.framework/Versions/3.11/lib/python3.11/site-packages (from pandas<2.0.0,>=1.5.2->topic-wizard) (2.8.2)\n",
      "Requirement already satisfied: pytz>=2020.1 in /Library/Frameworks/Python.framework/Versions/3.11/lib/python3.11/site-packages (from pandas<2.0.0,>=1.5.2->topic-wizard) (2023.3.post1)\n",
      "Requirement already satisfied: threadpoolctl>=2.0.0 in /Library/Frameworks/Python.framework/Versions/3.11/lib/python3.11/site-packages (from scikit-learn<2.0.0,>=1.2.0->topic-wizard) (3.2.0)\n",
      "Collecting numba>=0.51.2 (from umap-learn>=0.5.3->topic-wizard)\n",
      "  Using cached numba-0.59.0-cp311-cp311-macosx_10_9_x86_64.whl (2.6 MB)\n",
      "Collecting pynndescent>=0.5 (from umap-learn>=0.5.3->topic-wizard)\n",
      "  Using cached pynndescent-0.5.11-py3-none-any.whl (55 kB)\n",
      "Collecting tqdm (from umap-learn>=0.5.3->topic-wizard)\n",
      "  Using cached tqdm-4.66.1-py3-none-any.whl (78 kB)\n",
      "Requirement already satisfied: matplotlib in /Library/Frameworks/Python.framework/Versions/3.11/lib/python3.11/site-packages (from wordcloud<2.0.0,>=1.9.2->topic-wizard) (3.8.1)\n",
      "Requirement already satisfied: Jinja2>=3.1.2 in /Library/Frameworks/Python.framework/Versions/3.11/lib/python3.11/site-packages (from Flask<3.1,>=1.0.4->dash<3.0.0,>=2.7.1->topic-wizard) (3.1.2)\n",
      "Requirement already satisfied: itsdangerous>=2.1.2 in /Library/Frameworks/Python.framework/Versions/3.11/lib/python3.11/site-packages (from Flask<3.1,>=1.0.4->dash<3.0.0,>=2.7.1->topic-wizard) (2.1.2)\n",
      "Requirement already satisfied: click>=8.1.3 in /Library/Frameworks/Python.framework/Versions/3.11/lib/python3.11/site-packages (from Flask<3.1,>=1.0.4->dash<3.0.0,>=2.7.1->topic-wizard) (8.1.7)\n",
      "Requirement already satisfied: blinker>=1.6.2 in /Library/Frameworks/Python.framework/Versions/3.11/lib/python3.11/site-packages (from Flask<3.1,>=1.0.4->dash<3.0.0,>=2.7.1->topic-wizard) (1.6.3)\n",
      "Collecting cachelib<0.10.0,>=0.9.0 (from Flask-Caching<3.0.0,>=2.1.0->dash-extensions<2.0.0,>=1.0.4->topic-wizard)\n",
      "  Using cached cachelib-0.9.0-py3-none-any.whl (15 kB)\n",
      "Requirement already satisfied: six>=1.13.0 in /Library/Frameworks/Python.framework/Versions/3.11/lib/python3.11/site-packages (from jsbeautifier<2.0.0,>=1.14.3->dash-extensions<2.0.0,>=1.0.4->topic-wizard) (1.16.0)\n",
      "Collecting editorconfig>=0.12.2 (from jsbeautifier<2.0.0,>=1.14.3->dash-extensions<2.0.0,>=1.0.4->topic-wizard)\n",
      "  Using cached EditorConfig-0.12.3-py3-none-any.whl (16 kB)\n",
      "Collecting llvmlite<0.43,>=0.42.0dev0 (from numba>=0.51.2->umap-learn>=0.5.3->topic-wizard)\n",
      "  Downloading llvmlite-0.42.0-cp311-cp311-macosx_10_9_x86_64.whl (31.1 MB)\n",
      "\u001b[2K     \u001b[90m━━━━━━━━━━━━━━━━━━━━━━━━━━━━━━━━━━━━━━━━\u001b[0m \u001b[32m31.1/31.1 MB\u001b[0m \u001b[31m4.6 MB/s\u001b[0m eta \u001b[36m0:00:00\u001b[0m00:01\u001b[0m00:01\u001b[0m\n",
      "\u001b[?25hRequirement already satisfied: tenacity>=6.2.0 in /Library/Frameworks/Python.framework/Versions/3.11/lib/python3.11/site-packages (from plotly>=5.0.0->dash<3.0.0,>=2.7.1->topic-wizard) (8.2.3)\n",
      "Requirement already satisfied: packaging in /Library/Frameworks/Python.framework/Versions/3.11/lib/python3.11/site-packages (from plotly>=5.0.0->dash<3.0.0,>=2.7.1->topic-wizard) (23.2)\n",
      "Requirement already satisfied: MarkupSafe>=2.1.1 in /Library/Frameworks/Python.framework/Versions/3.11/lib/python3.11/site-packages (from Werkzeug<3.1->dash<3.0.0,>=2.7.1->topic-wizard) (2.1.3)\n",
      "Requirement already satisfied: zipp>=0.5 in /Library/Frameworks/Python.framework/Versions/3.11/lib/python3.11/site-packages (from importlib-metadata->dash<3.0.0,>=2.7.1->topic-wizard) (3.17.0)\n",
      "Requirement already satisfied: contourpy>=1.0.1 in /Library/Frameworks/Python.framework/Versions/3.11/lib/python3.11/site-packages (from matplotlib->wordcloud<2.0.0,>=1.9.2->topic-wizard) (1.2.0)\n",
      "Requirement already satisfied: cycler>=0.10 in /Library/Frameworks/Python.framework/Versions/3.11/lib/python3.11/site-packages (from matplotlib->wordcloud<2.0.0,>=1.9.2->topic-wizard) (0.12.1)\n",
      "Requirement already satisfied: fonttools>=4.22.0 in /Library/Frameworks/Python.framework/Versions/3.11/lib/python3.11/site-packages (from matplotlib->wordcloud<2.0.0,>=1.9.2->topic-wizard) (4.44.3)\n",
      "Requirement already satisfied: kiwisolver>=1.3.1 in /Library/Frameworks/Python.framework/Versions/3.11/lib/python3.11/site-packages (from matplotlib->wordcloud<2.0.0,>=1.9.2->topic-wizard) (1.4.5)\n",
      "Requirement already satisfied: pyparsing>=2.3.1 in /Library/Frameworks/Python.framework/Versions/3.11/lib/python3.11/site-packages (from matplotlib->wordcloud<2.0.0,>=1.9.2->topic-wizard) (3.1.1)\n",
      "Requirement already satisfied: charset-normalizer<4,>=2 in /Library/Frameworks/Python.framework/Versions/3.11/lib/python3.11/site-packages (from requests->dash<3.0.0,>=2.7.1->topic-wizard) (3.3.1)\n",
      "Requirement already satisfied: idna<4,>=2.5 in /Library/Frameworks/Python.framework/Versions/3.11/lib/python3.11/site-packages (from requests->dash<3.0.0,>=2.7.1->topic-wizard) (3.4)\n",
      "Requirement already satisfied: urllib3<3,>=1.21.1 in /Library/Frameworks/Python.framework/Versions/3.11/lib/python3.11/site-packages (from requests->dash<3.0.0,>=2.7.1->topic-wizard) (2.0.7)\n",
      "Requirement already satisfied: certifi>=2017.4.17 in /Library/Frameworks/Python.framework/Versions/3.11/lib/python3.11/site-packages (from requests->dash<3.0.0,>=2.7.1->topic-wizard) (2023.7.22)\n",
      "Building wheels for collected packages: umap-learn, jsbeautifier\n",
      "  Building wheel for umap-learn (pyproject.toml) ... \u001b[?25ldone\n",
      "\u001b[?25h  Created wheel for umap-learn: filename=umap_learn-0.5.5-py3-none-any.whl size=86832 sha256=5eee4b3f771cbb5fa522509c5ddf266ff5fc8db9d0c665d139247db7f974caf2\n",
      "  Stored in directory: /Users/michaelflorip/Library/Caches/pip/wheels/de/07/2e/814a6ee82e37528f2044a609a431028375b149bc31f03c0e27\n",
      "  Building wheel for jsbeautifier (pyproject.toml) ... \u001b[?25ldone\n",
      "\u001b[?25h  Created wheel for jsbeautifier: filename=jsbeautifier-1.14.11-py3-none-any.whl size=94685 sha256=d85f7d54e83adad579bbc93ad4a653a172e9a9c77bdceeefc6bb4c6af1ba5ae5\n",
      "  Stored in directory: /Users/michaelflorip/Library/Caches/pip/wheels/ed/3d/ad/66dcc9fd37797607916972580e8007490269ed604b37743e18\n",
      "Successfully built umap-learn jsbeautifier\n",
      "Installing collected packages: editorconfig, dataclass-wizard, dash-mantine-components, dash-iconify, tqdm, more-itertools, llvmlite, jsbeautifier, joblib, cachelib, pandas, numba, wordcloud, pynndescent, Flask-Caching, dash, umap-learn, dash-extensions, topic-wizard\n",
      "  Attempting uninstall: joblib\n",
      "    Found existing installation: joblib 1.3.2\n",
      "    Uninstalling joblib-1.3.2:\n",
      "      Successfully uninstalled joblib-1.3.2\n",
      "  Attempting uninstall: pandas\n",
      "    Found existing installation: pandas 2.1.2\n",
      "    Uninstalling pandas-2.1.2:\n",
      "      Successfully uninstalled pandas-2.1.2\n",
      "  Attempting uninstall: dash\n",
      "    Found existing installation: dash 2.14.1\n",
      "    Uninstalling dash-2.14.1:\n",
      "      Successfully uninstalled dash-2.14.1\n",
      "Successfully installed Flask-Caching-2.1.0 cachelib-0.9.0 dash-2.15.0 dash-extensions-1.0.12 dash-iconify-0.1.2 dash-mantine-components-0.12.1 dataclass-wizard-0.22.3 editorconfig-0.12.3 joblib-1.2.0 jsbeautifier-1.14.11 llvmlite-0.42.0 more-itertools-9.1.0 numba-0.59.0 pandas-1.5.3 pynndescent-0.5.11 topic-wizard-0.5.0 tqdm-4.66.1 umap-learn-0.5.5 wordcloud-1.9.3\n",
      "\n",
      "\u001b[1m[\u001b[0m\u001b[34;49mnotice\u001b[0m\u001b[1;39;49m]\u001b[0m\u001b[39;49m A new release of pip is available: \u001b[0m\u001b[31;49m23.1.2\u001b[0m\u001b[39;49m -> \u001b[0m\u001b[32;49m24.0\u001b[0m\n",
      "\u001b[1m[\u001b[0m\u001b[34;49mnotice\u001b[0m\u001b[1;39;49m]\u001b[0m\u001b[39;49m To update, run: \u001b[0m\u001b[32;49mpip3 install --upgrade pip\u001b[0m\n",
      "Note: you may need to restart the kernel to use updated packages.\n"
     ]
    }
   ],
   "source": [
    "pip install topic-wizard"
   ]
  },
  {
   "cell_type": "code",
   "execution_count": 2,
   "metadata": {},
   "outputs": [],
   "source": [
    "from sklearn.datasets import fetch_20newsgroups\n",
    "\n",
    "corpus = fetch_20newsgroups(subset=\"all\").data"
   ]
  },
  {
   "cell_type": "code",
   "execution_count": 3,
   "metadata": {},
   "outputs": [],
   "source": [
    "from sklearn.decomposition import NMF\n",
    "from sklearn.feature_extraction.text import CountVectorizer\n",
    "from sklearn.pipeline import Pipeline\n",
    "\n",
    "# Creating a bag-of-words vectorizer\n",
    "# We cut low and high frequency words and filter out English stopwords\n",
    "vectorizer = CountVectorizer(min_df=10, max_df=0.5, stop_words=\"english\")\n",
    "# We create a topic model with ten topics\n",
    "topic_model = NMF(n_components=10)\n",
    "# Then we set up a pipeline\n",
    "topic_pipeline = Pipeline(\n",
    "    [\n",
    "        (\"vectorizer\", vectorizer),\n",
    "        (\"topic_model\", topic_model),\n",
    "    ]\n",
    ")"
   ]
  },
  {
   "cell_type": "code",
   "execution_count": 4,
   "metadata": {},
   "outputs": [
    {
     "data": {
      "text/html": [
       "<style>#sk-container-id-1 {color: black;}#sk-container-id-1 pre{padding: 0;}#sk-container-id-1 div.sk-toggleable {background-color: white;}#sk-container-id-1 label.sk-toggleable__label {cursor: pointer;display: block;width: 100%;margin-bottom: 0;padding: 0.3em;box-sizing: border-box;text-align: center;}#sk-container-id-1 label.sk-toggleable__label-arrow:before {content: \"▸\";float: left;margin-right: 0.25em;color: #696969;}#sk-container-id-1 label.sk-toggleable__label-arrow:hover:before {color: black;}#sk-container-id-1 div.sk-estimator:hover label.sk-toggleable__label-arrow:before {color: black;}#sk-container-id-1 div.sk-toggleable__content {max-height: 0;max-width: 0;overflow: hidden;text-align: left;background-color: #f0f8ff;}#sk-container-id-1 div.sk-toggleable__content pre {margin: 0.2em;color: black;border-radius: 0.25em;background-color: #f0f8ff;}#sk-container-id-1 input.sk-toggleable__control:checked~div.sk-toggleable__content {max-height: 200px;max-width: 100%;overflow: auto;}#sk-container-id-1 input.sk-toggleable__control:checked~label.sk-toggleable__label-arrow:before {content: \"▾\";}#sk-container-id-1 div.sk-estimator input.sk-toggleable__control:checked~label.sk-toggleable__label {background-color: #d4ebff;}#sk-container-id-1 div.sk-label input.sk-toggleable__control:checked~label.sk-toggleable__label {background-color: #d4ebff;}#sk-container-id-1 input.sk-hidden--visually {border: 0;clip: rect(1px 1px 1px 1px);clip: rect(1px, 1px, 1px, 1px);height: 1px;margin: -1px;overflow: hidden;padding: 0;position: absolute;width: 1px;}#sk-container-id-1 div.sk-estimator {font-family: monospace;background-color: #f0f8ff;border: 1px dotted black;border-radius: 0.25em;box-sizing: border-box;margin-bottom: 0.5em;}#sk-container-id-1 div.sk-estimator:hover {background-color: #d4ebff;}#sk-container-id-1 div.sk-parallel-item::after {content: \"\";width: 100%;border-bottom: 1px solid gray;flex-grow: 1;}#sk-container-id-1 div.sk-label:hover label.sk-toggleable__label {background-color: #d4ebff;}#sk-container-id-1 div.sk-serial::before {content: \"\";position: absolute;border-left: 1px solid gray;box-sizing: border-box;top: 0;bottom: 0;left: 50%;z-index: 0;}#sk-container-id-1 div.sk-serial {display: flex;flex-direction: column;align-items: center;background-color: white;padding-right: 0.2em;padding-left: 0.2em;position: relative;}#sk-container-id-1 div.sk-item {position: relative;z-index: 1;}#sk-container-id-1 div.sk-parallel {display: flex;align-items: stretch;justify-content: center;background-color: white;position: relative;}#sk-container-id-1 div.sk-item::before, #sk-container-id-1 div.sk-parallel-item::before {content: \"\";position: absolute;border-left: 1px solid gray;box-sizing: border-box;top: 0;bottom: 0;left: 50%;z-index: -1;}#sk-container-id-1 div.sk-parallel-item {display: flex;flex-direction: column;z-index: 1;position: relative;background-color: white;}#sk-container-id-1 div.sk-parallel-item:first-child::after {align-self: flex-end;width: 50%;}#sk-container-id-1 div.sk-parallel-item:last-child::after {align-self: flex-start;width: 50%;}#sk-container-id-1 div.sk-parallel-item:only-child::after {width: 0;}#sk-container-id-1 div.sk-dashed-wrapped {border: 1px dashed gray;margin: 0 0.4em 0.5em 0.4em;box-sizing: border-box;padding-bottom: 0.4em;background-color: white;}#sk-container-id-1 div.sk-label label {font-family: monospace;font-weight: bold;display: inline-block;line-height: 1.2em;}#sk-container-id-1 div.sk-label-container {text-align: center;}#sk-container-id-1 div.sk-container {/* jupyter's `normalize.less` sets `[hidden] { display: none; }` but bootstrap.min.css set `[hidden] { display: none !important; }` so we also need the `!important` here to be able to override the default hidden behavior on the sphinx rendered scikit-learn.org. See: https://github.com/scikit-learn/scikit-learn/issues/21755 */display: inline-block !important;position: relative;}#sk-container-id-1 div.sk-text-repr-fallback {display: none;}</style><div id=\"sk-container-id-1\" class=\"sk-top-container\"><div class=\"sk-text-repr-fallback\"><pre>Pipeline(steps=[(&#x27;vectorizer&#x27;,\n",
       "                 CountVectorizer(max_df=0.5, min_df=10, stop_words=&#x27;english&#x27;)),\n",
       "                (&#x27;topic_model&#x27;, NMF(n_components=10))])</pre><b>In a Jupyter environment, please rerun this cell to show the HTML representation or trust the notebook. <br />On GitHub, the HTML representation is unable to render, please try loading this page with nbviewer.org.</b></div><div class=\"sk-container\" hidden><div class=\"sk-item sk-dashed-wrapped\"><div class=\"sk-label-container\"><div class=\"sk-label sk-toggleable\"><input class=\"sk-toggleable__control sk-hidden--visually\" id=\"sk-estimator-id-1\" type=\"checkbox\" ><label for=\"sk-estimator-id-1\" class=\"sk-toggleable__label sk-toggleable__label-arrow\">Pipeline</label><div class=\"sk-toggleable__content\"><pre>Pipeline(steps=[(&#x27;vectorizer&#x27;,\n",
       "                 CountVectorizer(max_df=0.5, min_df=10, stop_words=&#x27;english&#x27;)),\n",
       "                (&#x27;topic_model&#x27;, NMF(n_components=10))])</pre></div></div></div><div class=\"sk-serial\"><div class=\"sk-item\"><div class=\"sk-estimator sk-toggleable\"><input class=\"sk-toggleable__control sk-hidden--visually\" id=\"sk-estimator-id-2\" type=\"checkbox\" ><label for=\"sk-estimator-id-2\" class=\"sk-toggleable__label sk-toggleable__label-arrow\">CountVectorizer</label><div class=\"sk-toggleable__content\"><pre>CountVectorizer(max_df=0.5, min_df=10, stop_words=&#x27;english&#x27;)</pre></div></div></div><div class=\"sk-item\"><div class=\"sk-estimator sk-toggleable\"><input class=\"sk-toggleable__control sk-hidden--visually\" id=\"sk-estimator-id-3\" type=\"checkbox\" ><label for=\"sk-estimator-id-3\" class=\"sk-toggleable__label sk-toggleable__label-arrow\">NMF</label><div class=\"sk-toggleable__content\"><pre>NMF(n_components=10)</pre></div></div></div></div></div></div></div>"
      ],
      "text/plain": [
       "Pipeline(steps=[('vectorizer',\n",
       "                 CountVectorizer(max_df=0.5, min_df=10, stop_words='english')),\n",
       "                ('topic_model', NMF(n_components=10))])"
      ]
     },
     "execution_count": 4,
     "metadata": {},
     "output_type": "execute_result"
    }
   ],
   "source": [
    "topic_pipeline.fit(corpus)"
   ]
  },
  {
   "cell_type": "code",
   "execution_count": 5,
   "metadata": {},
   "outputs": [
    {
     "name": "stderr",
     "output_type": "stream",
     "text": [
      "/Library/Frameworks/Python.framework/Versions/3.11/lib/python3.11/site-packages/tqdm/auto.py:21: TqdmWarning: IProgress not found. Please update jupyter and ipywidgets. See https://ipywidgets.readthedocs.io/en/stable/user_install.html\n",
      "  from .autonotebook import tqdm as notebook_tqdm\n"
     ]
    },
    {
     "name": "stdout",
     "output_type": "stream",
     "text": [
      "Preprocessing\n"
     ]
    },
    {
     "data": {
      "text/html": [
       "\n",
       "        <iframe\n",
       "            width=\"100%\"\n",
       "            height=\"650\"\n",
       "            src=\"http://127.0.0.1:8050/\"\n",
       "            frameborder=\"0\"\n",
       "            allowfullscreen\n",
       "            \n",
       "        ></iframe>\n",
       "        "
      ],
      "text/plain": [
       "<IPython.lib.display.IFrame at 0x1530a5510>"
      ]
     },
     "metadata": {},
     "output_type": "display_data"
    }
   ],
   "source": [
    "import topicwizard\n",
    "topicwizard.visualize(pipeline=topic_pipeline, corpus=corpus)"
   ]
  },
  {
   "cell_type": "code",
   "execution_count": 6,
   "metadata": {},
   "outputs": [
    {
     "name": "stdout",
     "output_type": "stream",
     "text": [
      "Preparing data\n"
     ]
    },
    {
     "ename": "FileNotFoundError",
     "evalue": "[Errno 2] No such file or directory: 'topic_data.joblib'",
     "output_type": "error",
     "traceback": [
      "\u001b[0;31m---------------------------------------------------------------------------\u001b[0m",
      "\u001b[0;31mFileNotFoundError\u001b[0m                         Traceback (most recent call last)",
      "Cell \u001b[0;32mIn[6], line 1\u001b[0m\n\u001b[0;32m----> 1\u001b[0m topicwizard\u001b[39m.\u001b[39;49mload(filename\u001b[39m=\u001b[39;49m\u001b[39m\"\u001b[39;49m\u001b[39mtopic_data.joblib\u001b[39;49m\u001b[39m\"\u001b[39;49m)\n",
      "File \u001b[0;32m/Library/Frameworks/Python.framework/Versions/3.11/lib/python3.11/site-packages/topicwizard/app.py:218\u001b[0m, in \u001b[0;36mload\u001b[0;34m(filename, exclude_pages, port)\u001b[0m\n\u001b[1;32m    216\u001b[0m \u001b[39mprint\u001b[39m(\u001b[39m\"\u001b[39m\u001b[39mPreparing data\u001b[39m\u001b[39m\"\u001b[39m)\n\u001b[1;32m    217\u001b[0m exclude_pages \u001b[39m=\u001b[39m \u001b[39mset\u001b[39m() \u001b[39mif\u001b[39;00m exclude_pages \u001b[39mis\u001b[39;00m \u001b[39mNone\u001b[39;00m \u001b[39melse\u001b[39;00m \u001b[39mset\u001b[39m(exclude_pages)\n\u001b[0;32m--> 218\u001b[0m app \u001b[39m=\u001b[39m load_app(filename, exclude_pages\u001b[39m=\u001b[39;49mexclude_pages)\n\u001b[1;32m    219\u001b[0m \u001b[39mreturn\u001b[39;00m run_app(app, port\u001b[39m=\u001b[39mport)\n",
      "File \u001b[0;32m/Library/Frameworks/Python.framework/Versions/3.11/lib/python3.11/site-packages/topicwizard/app.py:126\u001b[0m, in \u001b[0;36mload_app\u001b[0;34m(filename, exclude_pages)\u001b[0m\n\u001b[1;32m    113\u001b[0m \u001b[39mdef\u001b[39;00m \u001b[39mload_app\u001b[39m(filename: \u001b[39mstr\u001b[39m, exclude_pages: Optional[Iterable[PageName]] \u001b[39m=\u001b[39m \u001b[39mNone\u001b[39;00m) \u001b[39m-\u001b[39m\u001b[39m>\u001b[39m Dash:\n\u001b[1;32m    114\u001b[0m \u001b[39m    \u001b[39m\u001b[39m\"\"\"Loads and prepares saved app from disk.\u001b[39;00m\n\u001b[1;32m    115\u001b[0m \n\u001b[1;32m    116\u001b[0m \u001b[39m    Parameters\u001b[39;00m\n\u001b[0;32m   (...)\u001b[0m\n\u001b[1;32m    124\u001b[0m \u001b[39m        Dash application.\u001b[39;00m\n\u001b[1;32m    125\u001b[0m \u001b[39m    \"\"\"\u001b[39;00m\n\u001b[0;32m--> 126\u001b[0m     data \u001b[39m=\u001b[39m joblib\u001b[39m.\u001b[39;49mload(filename)\n\u001b[1;32m    127\u001b[0m     \u001b[39mif\u001b[39;00m exclude_pages \u001b[39mis\u001b[39;00m \u001b[39mNone\u001b[39;00m:\n\u001b[1;32m    128\u001b[0m         exclude_pages \u001b[39m=\u001b[39m \u001b[39mset\u001b[39m()\n",
      "File \u001b[0;32m/Library/Frameworks/Python.framework/Versions/3.11/lib/python3.11/site-packages/joblib/numpy_pickle.py:650\u001b[0m, in \u001b[0;36mload\u001b[0;34m(filename, mmap_mode)\u001b[0m\n\u001b[1;32m    648\u001b[0m         obj \u001b[39m=\u001b[39m _unpickle(fobj)\n\u001b[1;32m    649\u001b[0m \u001b[39melse\u001b[39;00m:\n\u001b[0;32m--> 650\u001b[0m     \u001b[39mwith\u001b[39;00m \u001b[39mopen\u001b[39;49m(filename, \u001b[39m'\u001b[39;49m\u001b[39mrb\u001b[39;49m\u001b[39m'\u001b[39;49m) \u001b[39mas\u001b[39;00m f:\n\u001b[1;32m    651\u001b[0m         \u001b[39mwith\u001b[39;00m _read_fileobject(f, filename, mmap_mode) \u001b[39mas\u001b[39;00m fobj:\n\u001b[1;32m    652\u001b[0m             \u001b[39mif\u001b[39;00m \u001b[39misinstance\u001b[39m(fobj, \u001b[39mstr\u001b[39m):\n\u001b[1;32m    653\u001b[0m                 \u001b[39m# if the returned file object is a string, this means we\u001b[39;00m\n\u001b[1;32m    654\u001b[0m                 \u001b[39m# try to load a pickle file generated with an version of\u001b[39;00m\n\u001b[1;32m    655\u001b[0m                 \u001b[39m# Joblib so we load it with joblib compatibility function.\u001b[39;00m\n",
      "\u001b[0;31mFileNotFoundError\u001b[0m: [Errno 2] No such file or directory: 'topic_data.joblib'"
     ]
    },
    {
     "name": "stderr",
     "output_type": "stream",
     "text": [
      "/Library/Frameworks/Python.framework/Versions/3.11/lib/python3.11/site-packages/topicwizard/prepare/topics.py:92: RuntimeWarning:\n",
      "\n",
      "divide by zero encountered in log\n",
      "\n",
      "/Library/Frameworks/Python.framework/Versions/3.11/lib/python3.11/site-packages/topicwizard/prepare/topics.py:94: RuntimeWarning:\n",
      "\n",
      "divide by zero encountered in log\n",
      "\n",
      "/Library/Frameworks/Python.framework/Versions/3.11/lib/python3.11/site-packages/topicwizard/prepare/topics.py:92: RuntimeWarning:\n",
      "\n",
      "divide by zero encountered in log\n",
      "\n",
      "/Library/Frameworks/Python.framework/Versions/3.11/lib/python3.11/site-packages/topicwizard/prepare/topics.py:94: RuntimeWarning:\n",
      "\n",
      "divide by zero encountered in log\n",
      "\n",
      "/Library/Frameworks/Python.framework/Versions/3.11/lib/python3.11/site-packages/topicwizard/prepare/topics.py:92: RuntimeWarning:\n",
      "\n",
      "divide by zero encountered in log\n",
      "\n",
      "/Library/Frameworks/Python.framework/Versions/3.11/lib/python3.11/site-packages/topicwizard/prepare/topics.py:94: RuntimeWarning:\n",
      "\n",
      "divide by zero encountered in log\n",
      "\n",
      "/Library/Frameworks/Python.framework/Versions/3.11/lib/python3.11/site-packages/topicwizard/prepare/topics.py:92: RuntimeWarning:\n",
      "\n",
      "divide by zero encountered in log\n",
      "\n",
      "/Library/Frameworks/Python.framework/Versions/3.11/lib/python3.11/site-packages/topicwizard/prepare/topics.py:94: RuntimeWarning:\n",
      "\n",
      "divide by zero encountered in log\n",
      "\n"
     ]
    }
   ],
   "source": [
    "topicwizard.load(filename=\"topic_data.joblib\")"
   ]
  }
 ],
 "metadata": {
  "kernelspec": {
   "display_name": "Python 3",
   "language": "python",
   "name": "python3"
  },
  "language_info": {
   "codemirror_mode": {
    "name": "ipython",
    "version": 3
   },
   "file_extension": ".py",
   "mimetype": "text/x-python",
   "name": "python",
   "nbconvert_exporter": "python",
   "pygments_lexer": "ipython3",
   "version": "3.11.4"
  },
  "vscode": {
   "interpreter": {
    "hash": "aee8b7b246df8f9039afb4144a1f6fd8d2ca17a180786b69acc140d282b71a49"
   }
  }
 },
 "nbformat": 4,
 "nbformat_minor": 2
}
