{
 "cells": [
  {
   "cell_type": "code",
   "execution_count": null,
   "metadata": {},
   "outputs": [],
   "source": []
  },
  {
   "cell_type": "code",
   "execution_count": 1,
   "metadata": {},
   "outputs": [
    {
     "name": "stdout",
     "output_type": "stream",
     "text": [
      "Requirement already satisfied: topic-wizard in /Users/bing/miniconda3/envs/newenv/lib/python3.11/site-packages (0.5.0)\n",
      "Requirement already satisfied: Pillow<11.0.0,>=10.1.0 in /Users/bing/miniconda3/envs/newenv/lib/python3.11/site-packages (from topic-wizard) (10.2.0)\n",
      "Requirement already satisfied: dash<3.0.0,>=2.7.1 in /Users/bing/miniconda3/envs/newenv/lib/python3.11/site-packages (from topic-wizard) (2.15.0)\n",
      "Requirement already satisfied: dash-extensions<2.0.0,>=1.0.4 in /Users/bing/miniconda3/envs/newenv/lib/python3.11/site-packages (from topic-wizard) (1.0.12)\n",
      "Requirement already satisfied: dash-iconify<0.2.0,>=0.1.2 in /Users/bing/miniconda3/envs/newenv/lib/python3.11/site-packages (from topic-wizard) (0.1.2)\n",
      "Requirement already satisfied: dash-mantine-components<0.13.0,>=0.12.1 in /Users/bing/miniconda3/envs/newenv/lib/python3.11/site-packages (from topic-wizard) (0.12.1)\n",
      "Requirement already satisfied: joblib<1.3.0,>=1.2.0 in /Users/bing/miniconda3/envs/newenv/lib/python3.11/site-packages (from topic-wizard) (1.2.0)\n",
      "Requirement already satisfied: numpy>=1.22.0 in /Users/bing/miniconda3/envs/newenv/lib/python3.11/site-packages (from topic-wizard) (1.24.3)\n",
      "Requirement already satisfied: pandas<2.0.0,>=1.5.2 in /Users/bing/miniconda3/envs/newenv/lib/python3.11/site-packages (from topic-wizard) (1.5.3)\n",
      "Requirement already satisfied: scikit-learn<2.0.0,>=1.2.0 in /Users/bing/miniconda3/envs/newenv/lib/python3.11/site-packages (from topic-wizard) (1.3.0)\n",
      "Requirement already satisfied: scipy>=1.8.0 in /Users/bing/miniconda3/envs/newenv/lib/python3.11/site-packages (from topic-wizard) (1.11.4)\n",
      "Requirement already satisfied: umap-learn>=0.5.3 in /Users/bing/miniconda3/envs/newenv/lib/python3.11/site-packages (from topic-wizard) (0.5.5)\n",
      "Requirement already satisfied: wordcloud<2.0.0,>=1.9.2 in /Users/bing/miniconda3/envs/newenv/lib/python3.11/site-packages (from topic-wizard) (1.9.2)\n",
      "Requirement already satisfied: Flask<3.1,>=1.0.4 in /Users/bing/miniconda3/envs/newenv/lib/python3.11/site-packages (from dash<3.0.0,>=2.7.1->topic-wizard) (3.0.2)\n",
      "Requirement already satisfied: Werkzeug<3.1 in /Users/bing/miniconda3/envs/newenv/lib/python3.11/site-packages (from dash<3.0.0,>=2.7.1->topic-wizard) (3.0.1)\n",
      "Requirement already satisfied: plotly>=5.0.0 in /Users/bing/miniconda3/envs/newenv/lib/python3.11/site-packages (from dash<3.0.0,>=2.7.1->topic-wizard) (5.18.0)\n",
      "Requirement already satisfied: dash-html-components==2.0.0 in /Users/bing/miniconda3/envs/newenv/lib/python3.11/site-packages (from dash<3.0.0,>=2.7.1->topic-wizard) (2.0.0)\n",
      "Requirement already satisfied: dash-core-components==2.0.0 in /Users/bing/miniconda3/envs/newenv/lib/python3.11/site-packages (from dash<3.0.0,>=2.7.1->topic-wizard) (2.0.0)\n",
      "Requirement already satisfied: dash-table==5.0.0 in /Users/bing/miniconda3/envs/newenv/lib/python3.11/site-packages (from dash<3.0.0,>=2.7.1->topic-wizard) (5.0.0)\n",
      "Requirement already satisfied: typing-extensions>=4.1.1 in /Users/bing/miniconda3/envs/newenv/lib/python3.11/site-packages (from dash<3.0.0,>=2.7.1->topic-wizard) (4.9.0)\n",
      "Requirement already satisfied: requests in /Users/bing/miniconda3/envs/newenv/lib/python3.11/site-packages (from dash<3.0.0,>=2.7.1->topic-wizard) (2.31.0)\n",
      "Requirement already satisfied: retrying in /Users/bing/miniconda3/envs/newenv/lib/python3.11/site-packages (from dash<3.0.0,>=2.7.1->topic-wizard) (1.3.4)\n",
      "Requirement already satisfied: nest-asyncio in /Users/bing/miniconda3/envs/newenv/lib/python3.11/site-packages (from dash<3.0.0,>=2.7.1->topic-wizard) (1.6.0)\n",
      "Requirement already satisfied: setuptools in /Users/bing/miniconda3/envs/newenv/lib/python3.11/site-packages (from dash<3.0.0,>=2.7.1->topic-wizard) (68.2.2)\n",
      "Requirement already satisfied: importlib-metadata in /Users/bing/miniconda3/envs/newenv/lib/python3.11/site-packages (from dash<3.0.0,>=2.7.1->topic-wizard) (7.0.1)\n",
      "Requirement already satisfied: Flask-Caching<3.0.0,>=2.1.0 in /Users/bing/miniconda3/envs/newenv/lib/python3.11/site-packages (from dash-extensions<2.0.0,>=1.0.4->topic-wizard) (2.1.0)\n",
      "Requirement already satisfied: dataclass-wizard<0.23.0,>=0.22.2 in /Users/bing/miniconda3/envs/newenv/lib/python3.11/site-packages (from dash-extensions<2.0.0,>=1.0.4->topic-wizard) (0.22.3)\n",
      "Requirement already satisfied: jsbeautifier<2.0.0,>=1.14.3 in /Users/bing/miniconda3/envs/newenv/lib/python3.11/site-packages (from dash-extensions<2.0.0,>=1.0.4->topic-wizard) (1.14.11)\n",
      "Requirement already satisfied: more-itertools<10.0.0,>=9.0.0 in /Users/bing/miniconda3/envs/newenv/lib/python3.11/site-packages (from dash-extensions<2.0.0,>=1.0.4->topic-wizard) (9.1.0)\n",
      "Requirement already satisfied: python-dateutil>=2.8.1 in /Users/bing/miniconda3/envs/newenv/lib/python3.11/site-packages (from pandas<2.0.0,>=1.5.2->topic-wizard) (2.8.2)\n",
      "Requirement already satisfied: pytz>=2020.1 in /Users/bing/miniconda3/envs/newenv/lib/python3.11/site-packages (from pandas<2.0.0,>=1.5.2->topic-wizard) (2023.3.post1)\n",
      "Requirement already satisfied: threadpoolctl>=2.0.0 in /Users/bing/miniconda3/envs/newenv/lib/python3.11/site-packages (from scikit-learn<2.0.0,>=1.2.0->topic-wizard) (2.2.0)\n",
      "Requirement already satisfied: numba>=0.51.2 in /Users/bing/miniconda3/envs/newenv/lib/python3.11/site-packages (from umap-learn>=0.5.3->topic-wizard) (0.59.0)\n",
      "Requirement already satisfied: pynndescent>=0.5 in /Users/bing/miniconda3/envs/newenv/lib/python3.11/site-packages (from umap-learn>=0.5.3->topic-wizard) (0.5.11)\n",
      "Requirement already satisfied: tqdm in /Users/bing/miniconda3/envs/newenv/lib/python3.11/site-packages (from umap-learn>=0.5.3->topic-wizard) (4.65.0)\n",
      "Requirement already satisfied: matplotlib in /Users/bing/miniconda3/envs/newenv/lib/python3.11/site-packages (from wordcloud<2.0.0,>=1.9.2->topic-wizard) (3.8.0)\n",
      "Requirement already satisfied: Jinja2>=3.1.2 in /Users/bing/miniconda3/envs/newenv/lib/python3.11/site-packages (from Flask<3.1,>=1.0.4->dash<3.0.0,>=2.7.1->topic-wizard) (3.1.2)\n",
      "Requirement already satisfied: itsdangerous>=2.1.2 in /Users/bing/miniconda3/envs/newenv/lib/python3.11/site-packages (from Flask<3.1,>=1.0.4->dash<3.0.0,>=2.7.1->topic-wizard) (2.1.2)\n",
      "Requirement already satisfied: click>=8.1.3 in /Users/bing/miniconda3/envs/newenv/lib/python3.11/site-packages (from Flask<3.1,>=1.0.4->dash<3.0.0,>=2.7.1->topic-wizard) (8.1.7)\n",
      "Requirement already satisfied: blinker>=1.6.2 in /Users/bing/miniconda3/envs/newenv/lib/python3.11/site-packages (from Flask<3.1,>=1.0.4->dash<3.0.0,>=2.7.1->topic-wizard) (1.7.0)\n",
      "Requirement already satisfied: cachelib<0.10.0,>=0.9.0 in /Users/bing/miniconda3/envs/newenv/lib/python3.11/site-packages (from Flask-Caching<3.0.0,>=2.1.0->dash-extensions<2.0.0,>=1.0.4->topic-wizard) (0.9.0)\n",
      "Requirement already satisfied: six>=1.13.0 in /Users/bing/miniconda3/envs/newenv/lib/python3.11/site-packages (from jsbeautifier<2.0.0,>=1.14.3->dash-extensions<2.0.0,>=1.0.4->topic-wizard) (1.16.0)\n",
      "Requirement already satisfied: editorconfig>=0.12.2 in /Users/bing/miniconda3/envs/newenv/lib/python3.11/site-packages (from jsbeautifier<2.0.0,>=1.14.3->dash-extensions<2.0.0,>=1.0.4->topic-wizard) (0.12.3)\n",
      "Requirement already satisfied: llvmlite<0.43,>=0.42.0dev0 in /Users/bing/miniconda3/envs/newenv/lib/python3.11/site-packages (from numba>=0.51.2->umap-learn>=0.5.3->topic-wizard) (0.42.0)\n",
      "Requirement already satisfied: tenacity>=6.2.0 in /Users/bing/miniconda3/envs/newenv/lib/python3.11/site-packages (from plotly>=5.0.0->dash<3.0.0,>=2.7.1->topic-wizard) (8.2.3)\n",
      "Requirement already satisfied: packaging in /Users/bing/miniconda3/envs/newenv/lib/python3.11/site-packages (from plotly>=5.0.0->dash<3.0.0,>=2.7.1->topic-wizard) (23.1)\n",
      "Requirement already satisfied: MarkupSafe>=2.1.1 in /Users/bing/miniconda3/envs/newenv/lib/python3.11/site-packages (from Werkzeug<3.1->dash<3.0.0,>=2.7.1->topic-wizard) (2.1.3)\n",
      "Requirement already satisfied: zipp>=0.5 in /Users/bing/miniconda3/envs/newenv/lib/python3.11/site-packages (from importlib-metadata->dash<3.0.0,>=2.7.1->topic-wizard) (3.17.0)\n",
      "Requirement already satisfied: contourpy>=1.0.1 in /Users/bing/miniconda3/envs/newenv/lib/python3.11/site-packages (from matplotlib->wordcloud<2.0.0,>=1.9.2->topic-wizard) (1.2.0)\n",
      "Requirement already satisfied: cycler>=0.10 in /Users/bing/miniconda3/envs/newenv/lib/python3.11/site-packages (from matplotlib->wordcloud<2.0.0,>=1.9.2->topic-wizard) (0.11.0)\n",
      "Requirement already satisfied: fonttools>=4.22.0 in /Users/bing/miniconda3/envs/newenv/lib/python3.11/site-packages (from matplotlib->wordcloud<2.0.0,>=1.9.2->topic-wizard) (4.25.0)\n",
      "Requirement already satisfied: kiwisolver>=1.0.1 in /Users/bing/miniconda3/envs/newenv/lib/python3.11/site-packages (from matplotlib->wordcloud<2.0.0,>=1.9.2->topic-wizard) (1.4.4)\n",
      "Requirement already satisfied: pyparsing>=2.3.1 in /Users/bing/miniconda3/envs/newenv/lib/python3.11/site-packages (from matplotlib->wordcloud<2.0.0,>=1.9.2->topic-wizard) (3.0.9)\n",
      "Requirement already satisfied: charset-normalizer<4,>=2 in /Users/bing/miniconda3/envs/newenv/lib/python3.11/site-packages (from requests->dash<3.0.0,>=2.7.1->topic-wizard) (2.0.4)\n",
      "Requirement already satisfied: idna<4,>=2.5 in /Users/bing/miniconda3/envs/newenv/lib/python3.11/site-packages (from requests->dash<3.0.0,>=2.7.1->topic-wizard) (3.4)\n",
      "Requirement already satisfied: urllib3<3,>=1.21.1 in /Users/bing/miniconda3/envs/newenv/lib/python3.11/site-packages (from requests->dash<3.0.0,>=2.7.1->topic-wizard) (1.26.18)\n",
      "Requirement already satisfied: certifi>=2017.4.17 in /Users/bing/miniconda3/envs/newenv/lib/python3.11/site-packages (from requests->dash<3.0.0,>=2.7.1->topic-wizard) (2023.11.17)\n",
      "Note: you may need to restart the kernel to use updated packages.\n"
     ]
    }
   ],
   "source": [
    "pip install topic-wizard"
   ]
  },
  {
   "cell_type": "code",
   "execution_count": 2,
   "metadata": {},
   "outputs": [],
   "source": [
    "from sklearn.datasets import fetch_20newsgroups\n",
    "\n",
    "corpus = fetch_20newsgroups(subset=\"all\").data"
   ]
  },
  {
   "cell_type": "code",
   "execution_count": 3,
   "metadata": {},
   "outputs": [],
   "source": [
    "from sklearn.decomposition import NMF\n",
    "from sklearn.feature_extraction.text import CountVectorizer\n",
    "from sklearn.pipeline import Pipeline\n",
    "\n",
    "# Creating a bag-of-words vectorizer\n",
    "# We cut low and high frequency words and filter out English stopwords\n",
    "vectorizer = CountVectorizer(min_df=10, max_df=0.5, stop_words=\"english\")\n",
    "# We create a topic model with ten topics\n",
    "topic_model = NMF(n_components=10)\n",
    "# Then we set up a pipeline\n",
    "topic_pipeline = Pipeline(\n",
    "    [\n",
    "        (\"vectorizer\", vectorizer),\n",
    "        (\"topic_model\", topic_model),\n",
    "    ]\n",
    ")"
   ]
  },
  {
   "cell_type": "code",
   "execution_count": 4,
   "metadata": {},
   "outputs": [
    {
     "data": {
      "text/html": [
       "<style>#sk-container-id-1 {color: black;}#sk-container-id-1 pre{padding: 0;}#sk-container-id-1 div.sk-toggleable {background-color: white;}#sk-container-id-1 label.sk-toggleable__label {cursor: pointer;display: block;width: 100%;margin-bottom: 0;padding: 0.3em;box-sizing: border-box;text-align: center;}#sk-container-id-1 label.sk-toggleable__label-arrow:before {content: \"▸\";float: left;margin-right: 0.25em;color: #696969;}#sk-container-id-1 label.sk-toggleable__label-arrow:hover:before {color: black;}#sk-container-id-1 div.sk-estimator:hover label.sk-toggleable__label-arrow:before {color: black;}#sk-container-id-1 div.sk-toggleable__content {max-height: 0;max-width: 0;overflow: hidden;text-align: left;background-color: #f0f8ff;}#sk-container-id-1 div.sk-toggleable__content pre {margin: 0.2em;color: black;border-radius: 0.25em;background-color: #f0f8ff;}#sk-container-id-1 input.sk-toggleable__control:checked~div.sk-toggleable__content {max-height: 200px;max-width: 100%;overflow: auto;}#sk-container-id-1 input.sk-toggleable__control:checked~label.sk-toggleable__label-arrow:before {content: \"▾\";}#sk-container-id-1 div.sk-estimator input.sk-toggleable__control:checked~label.sk-toggleable__label {background-color: #d4ebff;}#sk-container-id-1 div.sk-label input.sk-toggleable__control:checked~label.sk-toggleable__label {background-color: #d4ebff;}#sk-container-id-1 input.sk-hidden--visually {border: 0;clip: rect(1px 1px 1px 1px);clip: rect(1px, 1px, 1px, 1px);height: 1px;margin: -1px;overflow: hidden;padding: 0;position: absolute;width: 1px;}#sk-container-id-1 div.sk-estimator {font-family: monospace;background-color: #f0f8ff;border: 1px dotted black;border-radius: 0.25em;box-sizing: border-box;margin-bottom: 0.5em;}#sk-container-id-1 div.sk-estimator:hover {background-color: #d4ebff;}#sk-container-id-1 div.sk-parallel-item::after {content: \"\";width: 100%;border-bottom: 1px solid gray;flex-grow: 1;}#sk-container-id-1 div.sk-label:hover label.sk-toggleable__label {background-color: #d4ebff;}#sk-container-id-1 div.sk-serial::before {content: \"\";position: absolute;border-left: 1px solid gray;box-sizing: border-box;top: 0;bottom: 0;left: 50%;z-index: 0;}#sk-container-id-1 div.sk-serial {display: flex;flex-direction: column;align-items: center;background-color: white;padding-right: 0.2em;padding-left: 0.2em;position: relative;}#sk-container-id-1 div.sk-item {position: relative;z-index: 1;}#sk-container-id-1 div.sk-parallel {display: flex;align-items: stretch;justify-content: center;background-color: white;position: relative;}#sk-container-id-1 div.sk-item::before, #sk-container-id-1 div.sk-parallel-item::before {content: \"\";position: absolute;border-left: 1px solid gray;box-sizing: border-box;top: 0;bottom: 0;left: 50%;z-index: -1;}#sk-container-id-1 div.sk-parallel-item {display: flex;flex-direction: column;z-index: 1;position: relative;background-color: white;}#sk-container-id-1 div.sk-parallel-item:first-child::after {align-self: flex-end;width: 50%;}#sk-container-id-1 div.sk-parallel-item:last-child::after {align-self: flex-start;width: 50%;}#sk-container-id-1 div.sk-parallel-item:only-child::after {width: 0;}#sk-container-id-1 div.sk-dashed-wrapped {border: 1px dashed gray;margin: 0 0.4em 0.5em 0.4em;box-sizing: border-box;padding-bottom: 0.4em;background-color: white;}#sk-container-id-1 div.sk-label label {font-family: monospace;font-weight: bold;display: inline-block;line-height: 1.2em;}#sk-container-id-1 div.sk-label-container {text-align: center;}#sk-container-id-1 div.sk-container {/* jupyter's `normalize.less` sets `[hidden] { display: none; }` but bootstrap.min.css set `[hidden] { display: none !important; }` so we also need the `!important` here to be able to override the default hidden behavior on the sphinx rendered scikit-learn.org. See: https://github.com/scikit-learn/scikit-learn/issues/21755 */display: inline-block !important;position: relative;}#sk-container-id-1 div.sk-text-repr-fallback {display: none;}</style><div id=\"sk-container-id-1\" class=\"sk-top-container\"><div class=\"sk-text-repr-fallback\"><pre>Pipeline(steps=[(&#x27;vectorizer&#x27;,\n",
       "                 CountVectorizer(max_df=0.5, min_df=10, stop_words=&#x27;english&#x27;)),\n",
       "                (&#x27;topic_model&#x27;, NMF(n_components=10))])</pre><b>In a Jupyter environment, please rerun this cell to show the HTML representation or trust the notebook. <br />On GitHub, the HTML representation is unable to render, please try loading this page with nbviewer.org.</b></div><div class=\"sk-container\" hidden><div class=\"sk-item sk-dashed-wrapped\"><div class=\"sk-label-container\"><div class=\"sk-label sk-toggleable\"><input class=\"sk-toggleable__control sk-hidden--visually\" id=\"sk-estimator-id-1\" type=\"checkbox\" ><label for=\"sk-estimator-id-1\" class=\"sk-toggleable__label sk-toggleable__label-arrow\">Pipeline</label><div class=\"sk-toggleable__content\"><pre>Pipeline(steps=[(&#x27;vectorizer&#x27;,\n",
       "                 CountVectorizer(max_df=0.5, min_df=10, stop_words=&#x27;english&#x27;)),\n",
       "                (&#x27;topic_model&#x27;, NMF(n_components=10))])</pre></div></div></div><div class=\"sk-serial\"><div class=\"sk-item\"><div class=\"sk-estimator sk-toggleable\"><input class=\"sk-toggleable__control sk-hidden--visually\" id=\"sk-estimator-id-2\" type=\"checkbox\" ><label for=\"sk-estimator-id-2\" class=\"sk-toggleable__label sk-toggleable__label-arrow\">CountVectorizer</label><div class=\"sk-toggleable__content\"><pre>CountVectorizer(max_df=0.5, min_df=10, stop_words=&#x27;english&#x27;)</pre></div></div></div><div class=\"sk-item\"><div class=\"sk-estimator sk-toggleable\"><input class=\"sk-toggleable__control sk-hidden--visually\" id=\"sk-estimator-id-3\" type=\"checkbox\" ><label for=\"sk-estimator-id-3\" class=\"sk-toggleable__label sk-toggleable__label-arrow\">NMF</label><div class=\"sk-toggleable__content\"><pre>NMF(n_components=10)</pre></div></div></div></div></div></div></div>"
      ],
      "text/plain": [
       "Pipeline(steps=[('vectorizer',\n",
       "                 CountVectorizer(max_df=0.5, min_df=10, stop_words='english')),\n",
       "                ('topic_model', NMF(n_components=10))])"
      ]
     },
     "execution_count": 4,
     "metadata": {},
     "output_type": "execute_result"
    }
   ],
   "source": [
    "topic_pipeline.fit(corpus)"
   ]
  },
  {
   "cell_type": "code",
   "execution_count": 6,
   "metadata": {},
   "outputs": [
    {
     "name": "stdout",
     "output_type": "stream",
     "text": [
      "Preprocessing\n"
     ]
    },
    {
     "name": "stderr",
     "output_type": "stream",
     "text": [
      "OMP: Info #276: omp_set_nested routine deprecated, please use omp_set_max_active_levels instead.\n"
     ]
    },
    {
     "data": {
      "text/html": [
       "\n",
       "        <iframe\n",
       "            width=\"100%\"\n",
       "            height=\"650\"\n",
       "            src=\"http://127.0.0.1:8050/\"\n",
       "            frameborder=\"0\"\n",
       "            allowfullscreen\n",
       "            \n",
       "        ></iframe>\n",
       "        "
      ],
      "text/plain": [
       "<IPython.lib.display.IFrame at 0x1606d8450>"
      ]
     },
     "metadata": {},
     "output_type": "display_data"
    },
    {
     "name": "stderr",
     "output_type": "stream",
     "text": [
      "/Users/bing/miniconda3/envs/newenv/lib/python3.11/site-packages/topicwizard/prepare/topics.py:92: RuntimeWarning:\n",
      "\n",
      "divide by zero encountered in log\n",
      "\n",
      "/Users/bing/miniconda3/envs/newenv/lib/python3.11/site-packages/topicwizard/prepare/topics.py:94: RuntimeWarning:\n",
      "\n",
      "divide by zero encountered in log\n",
      "\n",
      "/Users/bing/miniconda3/envs/newenv/lib/python3.11/site-packages/topicwizard/prepare/topics.py:92: RuntimeWarning:\n",
      "\n",
      "divide by zero encountered in log\n",
      "\n",
      "/Users/bing/miniconda3/envs/newenv/lib/python3.11/site-packages/topicwizard/prepare/topics.py:94: RuntimeWarning:\n",
      "\n",
      "divide by zero encountered in log\n",
      "\n",
      "/Users/bing/miniconda3/envs/newenv/lib/python3.11/site-packages/topicwizard/prepare/topics.py:92: RuntimeWarning:\n",
      "\n",
      "divide by zero encountered in log\n",
      "\n",
      "/Users/bing/miniconda3/envs/newenv/lib/python3.11/site-packages/topicwizard/prepare/topics.py:94: RuntimeWarning:\n",
      "\n",
      "divide by zero encountered in log\n",
      "\n",
      "/Users/bing/miniconda3/envs/newenv/lib/python3.11/site-packages/topicwizard/prepare/topics.py:92: RuntimeWarning:\n",
      "\n",
      "divide by zero encountered in log\n",
      "\n",
      "/Users/bing/miniconda3/envs/newenv/lib/python3.11/site-packages/topicwizard/prepare/topics.py:94: RuntimeWarning:\n",
      "\n",
      "divide by zero encountered in log\n",
      "\n"
     ]
    }
   ],
   "source": [
    "import topicwizard\n",
    "topicwizard.visualize(pipeline=topic_pipeline, corpus=corpus)"
   ]
  },
  {
   "cell_type": "code",
   "execution_count": null,
   "metadata": {},
   "outputs": [],
   "source": [
    "topicwizard.load(filename=\"topic_data.joblib\")"
   ]
  }
 ],
 "metadata": {
  "kernelspec": {
   "display_name": "newenv",
   "language": "python",
   "name": "python3"
  },
  "language_info": {
   "codemirror_mode": {
    "name": "ipython",
    "version": 3
   },
   "file_extension": ".py",
   "mimetype": "text/x-python",
   "name": "python",
   "nbconvert_exporter": "python",
   "pygments_lexer": "ipython3",
   "version": "3.11.7"
  }
 },
 "nbformat": 4,
 "nbformat_minor": 2
}
