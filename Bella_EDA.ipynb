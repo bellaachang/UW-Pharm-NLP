{
 "cells": [
  {
   "cell_type": "code",
   "execution_count": 1,
   "metadata": {
    "colab": {
     "base_uri": "https://localhost:8080/"
    },
    "executionInfo": {
     "elapsed": 162,
     "status": "ok",
     "timestamp": 1705890220284,
     "user": {
      "displayName": "Bella C Chang",
      "userId": "13918806985501938707"
     },
     "user_tz": 480
    },
    "id": "xmKAUrHs9v8I",
    "outputId": "be151866-b1b2-4872-a72d-5eadbbf14004"
   },
   "outputs": [
    {
     "name": "stderr",
     "output_type": "stream",
     "text": [
      "[nltk_data] Downloading package stopwords to\n",
      "[nltk_data]     /Users/MarlonFu/nltk_data...\n",
      "[nltk_data]   Package stopwords is already up-to-date!\n",
      "[nltk_data] Downloading package punkt to /Users/MarlonFu/nltk_data...\n",
      "[nltk_data]   Package punkt is already up-to-date!\n"
     ]
    }
   ],
   "source": [
    "import pandas as pd\n",
    "import numpy as np\n",
    "\n",
    "import nltk\n",
    "nltk.download('stopwords')\n",
    "nltk.download('punkt')\n",
    "from nltk.corpus import stopwords\n",
    "from nltk.tokenize import word_tokenize\n",
    "import re\n",
    "from sklearn.feature_extraction.text import TfidfVectorizer\n",
    "\n",
    "import gensim\n",
    "import gensim.corpora as corpora\n",
    "from gensim.utils import simple_preprocess\n",
    "\n",
    "import spacy"
   ]
  },
  {
   "cell_type": "code",
   "execution_count": 5,
   "metadata": {
    "colab": {
     "base_uri": "https://localhost:8080/",
     "height": 782
    },
    "executionInfo": {
     "elapsed": 219,
     "status": "ok",
     "timestamp": 1705890039337,
     "user": {
      "displayName": "Bella C Chang",
      "userId": "13918806985501938707"
     },
     "user_tz": 480
    },
    "id": "B6Le_F1e97UV",
    "outputId": "7c356ece-f435-41cc-dc13-e6873fb4a3eb"
   },
   "outputs": [
    {
     "data": {
      "text/html": [
       "<div>\n",
       "<style scoped>\n",
       "    .dataframe tbody tr th:only-of-type {\n",
       "        vertical-align: middle;\n",
       "    }\n",
       "\n",
       "    .dataframe tbody tr th {\n",
       "        vertical-align: top;\n",
       "    }\n",
       "\n",
       "    .dataframe thead th {\n",
       "        text-align: right;\n",
       "    }\n",
       "</style>\n",
       "<table border=\"1\" class=\"dataframe\">\n",
       "  <thead>\n",
       "    <tr style=\"text-align: right;\">\n",
       "      <th></th>\n",
       "      <th>Subj #</th>\n",
       "      <th>Unnamed: 1</th>\n",
       "      <th>Win 1_2</th>\n",
       "      <th>Win 3_4</th>\n",
       "      <th>Win 5_6</th>\n",
       "      <th>Win 7_8</th>\n",
       "      <th>Win 9_10</th>\n",
       "      <th>Unnamed: 7</th>\n",
       "      <th>Spr 1_2</th>\n",
       "      <th>Spr 3_4</th>\n",
       "      <th>Spr 5_6</th>\n",
       "      <th>Spr 7-8</th>\n",
       "      <th>Spr 9-10</th>\n",
       "      <th>Unnamed: 13</th>\n",
       "      <th>CPD_Q1</th>\n",
       "      <th>CPD_Q2</th>\n",
       "      <th>CPD_Q3</th>\n",
       "    </tr>\n",
       "  </thead>\n",
       "  <tbody>\n",
       "    <tr>\n",
       "      <th>0</th>\n",
       "      <td>1</td>\n",
       "      <td>NaN</td>\n",
       "      <td>Took the time to do some meal prep last night ...</td>\n",
       "      <td>I spent time before work to do an easy 20-minu...</td>\n",
       "      <td>Took a nap before work since my team this week...</td>\n",
       "      <td>Called a friend who happened to be on her lunc...</td>\n",
       "      <td>Took a walk outside to take in some of the rar...</td>\n",
       "      <td>NaN</td>\n",
       "      <td>Had a very busy weekend with my sister visitin...</td>\n",
       "      <td>Spent some time on the phone catching up with ...</td>\n",
       "      <td>Gave myself time to lie down on the couch and ...</td>\n",
       "      <td>Took a nap after class and ended up sleeping t...</td>\n",
       "      <td>Set aside and spent some time at night after s...</td>\n",
       "      <td>NaN</td>\n",
       "      <td>The class time devoted to health and wellness ...</td>\n",
       "      <td>During my gap years I gained a lot of insight ...</td>\n",
       "      <td>I believe self-care to be really important in ...</td>\n",
       "    </tr>\n",
       "    <tr>\n",
       "      <th>1</th>\n",
       "      <td>2</td>\n",
       "      <td>NaN</td>\n",
       "      <td>1. Select one of the activities that resonates...</td>\n",
       "      <td>One of the activities that I chose from the Ch...</td>\n",
       "      <td>One of the activities that I chose for self-ca...</td>\n",
       "      <td>For my self care, I went on a walk and listene...</td>\n",
       "      <td>One of the activities that I chose for health/...</td>\n",
       "      <td>NaN</td>\n",
       "      <td>I decided to spend my self care time by going ...</td>\n",
       "      <td>For my self care, I decided to find new music ...</td>\n",
       "      <td>I went on a run!</td>\n",
       "      <td>I watched TV with my dad!</td>\n",
       "      <td>I painted my nails! This is something I really...</td>\n",
       "      <td>NaN</td>\n",
       "      <td>The class time devoted to health and wellness ...</td>\n",
       "      <td>The way I decided which self-care to choose wa...</td>\n",
       "      <td>The time spent on my choice of self-care allow...</td>\n",
       "    </tr>\n",
       "    <tr>\n",
       "      <th>2</th>\n",
       "      <td>3</td>\n",
       "      <td>NaN</td>\n",
       "      <td>Today, I cooked myself lunch and it was delici...</td>\n",
       "      <td>I took a walk around campus with my roommate t...</td>\n",
       "      <td>I listened to some of my favorite artists whil...</td>\n",
       "      <td>Today, I spent my break eating good food and w...</td>\n",
       "      <td>Today, I spent some of my time watching a show...</td>\n",
       "      <td>NaN</td>\n",
       "      <td>I took the time to finish building my baby Yod...</td>\n",
       "      <td>I took the time to reach out and talk to one o...</td>\n",
       "      <td>This week I spent at least 20 minutes reading ...</td>\n",
       "      <td>This week I spent about an hour getting dinner...</td>\n",
       "      <td>This weekend, I went shopping with my friend a...</td>\n",
       "      <td>NaN</td>\n",
       "      <td>The class time has reminded me on the importan...</td>\n",
       "      <td>To decide on what to do it would mostly depend...</td>\n",
       "      <td>The time spent on my choice of self care affec...</td>\n",
       "    </tr>\n",
       "    <tr>\n",
       "      <th>3</th>\n",
       "      <td>4</td>\n",
       "      <td>NaN</td>\n",
       "      <td>I worked on my Paint by Diamond piece.</td>\n",
       "      <td>I worked on more of the Paint by Diamonds.</td>\n",
       "      <td>I worked on my Paint by Diamond while listenin...</td>\n",
       "      <td>I worked on my Paint by Diamond while listenin...</td>\n",
       "      <td>I grabbed lunch with a friend.</td>\n",
       "      <td>NaN</td>\n",
       "      <td>I started a new Asian drama (tv show) called T...</td>\n",
       "      <td>I took a walk around my neighborhood while lis...</td>\n",
       "      <td>I took a walk to my neighborhood park , sat on...</td>\n",
       "      <td>I went to go visit my high school teachers.</td>\n",
       "      <td>I went out and had lunch with my brother.</td>\n",
       "      <td>NaN</td>\n",
       "      <td>The class time that was devoted to health and ...</td>\n",
       "      <td>For me, it depends on the weather à if it was ...</td>\n",
       "      <td>It made me more relaxed and less stressed abou...</td>\n",
       "    </tr>\n",
       "    <tr>\n",
       "      <th>4</th>\n",
       "      <td>5</td>\n",
       "      <td>NaN</td>\n",
       "      <td>I took a 20 minutes walk from the train statio...</td>\n",
       "      <td>I met up with my friends for coffee and it was...</td>\n",
       "      <td>I soaked in the bathtub for an hour with relax...</td>\n",
       "      <td>I walked around the neighborhood for thirty mi...</td>\n",
       "      <td>I tried to using  peloton in our apartment bui...</td>\n",
       "      <td>NaN</td>\n",
       "      <td>Yesterday was my birthday and my boyfriend pla...</td>\n",
       "      <td>I am increasing my cardio work out in the apar...</td>\n",
       "      <td>I went to watch movie at ipic theatre in redmo...</td>\n",
       "      <td>I took a 30 minutes walk in my new neighborhoo...</td>\n",
       "      <td>It was a nice day today and my friend and I to...</td>\n",
       "      <td>NaN</td>\n",
       "      <td>I have learnt to listen to people without inte...</td>\n",
       "      <td>This is because I wanted to connect with mysel...</td>\n",
       "      <td>This has been a lifeline because I always felt...</td>\n",
       "    </tr>\n",
       "  </tbody>\n",
       "</table>\n",
       "</div>"
      ],
      "text/plain": [
       "   Subj #  Unnamed: 1                                            Win 1_2  \\\n",
       "0       1         NaN  Took the time to do some meal prep last night ...   \n",
       "1       2         NaN  1. Select one of the activities that resonates...   \n",
       "2       3         NaN  Today, I cooked myself lunch and it was delici...   \n",
       "3       4         NaN             I worked on my Paint by Diamond piece.   \n",
       "4       5         NaN  I took a 20 minutes walk from the train statio...   \n",
       "\n",
       "                                             Win 3_4  \\\n",
       "0  I spent time before work to do an easy 20-minu...   \n",
       "1  One of the activities that I chose from the Ch...   \n",
       "2  I took a walk around campus with my roommate t...   \n",
       "3         I worked on more of the Paint by Diamonds.   \n",
       "4  I met up with my friends for coffee and it was...   \n",
       "\n",
       "                                             Win 5_6  \\\n",
       "0  Took a nap before work since my team this week...   \n",
       "1  One of the activities that I chose for self-ca...   \n",
       "2  I listened to some of my favorite artists whil...   \n",
       "3  I worked on my Paint by Diamond while listenin...   \n",
       "4  I soaked in the bathtub for an hour with relax...   \n",
       "\n",
       "                                             Win 7_8  \\\n",
       "0  Called a friend who happened to be on her lunc...   \n",
       "1  For my self care, I went on a walk and listene...   \n",
       "2  Today, I spent my break eating good food and w...   \n",
       "3  I worked on my Paint by Diamond while listenin...   \n",
       "4  I walked around the neighborhood for thirty mi...   \n",
       "\n",
       "                                            Win 9_10  Unnamed: 7  \\\n",
       "0  Took a walk outside to take in some of the rar...         NaN   \n",
       "1  One of the activities that I chose for health/...         NaN   \n",
       "2  Today, I spent some of my time watching a show...         NaN   \n",
       "3                     I grabbed lunch with a friend.         NaN   \n",
       "4  I tried to using  peloton in our apartment bui...         NaN   \n",
       "\n",
       "                                             Spr 1_2  \\\n",
       "0  Had a very busy weekend with my sister visitin...   \n",
       "1  I decided to spend my self care time by going ...   \n",
       "2  I took the time to finish building my baby Yod...   \n",
       "3  I started a new Asian drama (tv show) called T...   \n",
       "4  Yesterday was my birthday and my boyfriend pla...   \n",
       "\n",
       "                                             Spr 3_4  \\\n",
       "0  Spent some time on the phone catching up with ...   \n",
       "1  For my self care, I decided to find new music ...   \n",
       "2  I took the time to reach out and talk to one o...   \n",
       "3  I took a walk around my neighborhood while lis...   \n",
       "4  I am increasing my cardio work out in the apar...   \n",
       "\n",
       "                                             Spr 5_6  \\\n",
       "0  Gave myself time to lie down on the couch and ...   \n",
       "1                                   I went on a run!   \n",
       "2  This week I spent at least 20 minutes reading ...   \n",
       "3  I took a walk to my neighborhood park , sat on...   \n",
       "4  I went to watch movie at ipic theatre in redmo...   \n",
       "\n",
       "                                             Spr 7-8  \\\n",
       "0  Took a nap after class and ended up sleeping t...   \n",
       "1                          I watched TV with my dad!   \n",
       "2  This week I spent about an hour getting dinner...   \n",
       "3        I went to go visit my high school teachers.   \n",
       "4  I took a 30 minutes walk in my new neighborhoo...   \n",
       "\n",
       "                                            Spr 9-10  Unnamed: 13  \\\n",
       "0  Set aside and spent some time at night after s...          NaN   \n",
       "1  I painted my nails! This is something I really...          NaN   \n",
       "2  This weekend, I went shopping with my friend a...          NaN   \n",
       "3         I went out and had lunch with my brother.           NaN   \n",
       "4  It was a nice day today and my friend and I to...          NaN   \n",
       "\n",
       "                                              CPD_Q1  \\\n",
       "0  The class time devoted to health and wellness ...   \n",
       "1  The class time devoted to health and wellness ...   \n",
       "2  The class time has reminded me on the importan...   \n",
       "3  The class time that was devoted to health and ...   \n",
       "4  I have learnt to listen to people without inte...   \n",
       "\n",
       "                                              CPD_Q2  \\\n",
       "0  During my gap years I gained a lot of insight ...   \n",
       "1  The way I decided which self-care to choose wa...   \n",
       "2  To decide on what to do it would mostly depend...   \n",
       "3  For me, it depends on the weather à if it was ...   \n",
       "4  This is because I wanted to connect with mysel...   \n",
       "\n",
       "                                              CPD_Q3  \n",
       "0  I believe self-care to be really important in ...  \n",
       "1  The time spent on my choice of self-care allow...  \n",
       "2  The time spent on my choice of self care affec...  \n",
       "3  It made me more relaxed and less stressed abou...  \n",
       "4  This has been a lifeline because I always felt...  "
      ]
     },
     "execution_count": 5,
     "metadata": {},
     "output_type": "execute_result"
    }
   ],
   "source": [
    "df = pd.read_csv(\"data/choiceboard_data.csv\")\n",
    "df.head()"
   ]
  },
  {
   "cell_type": "code",
   "execution_count": 6,
   "metadata": {
    "colab": {
     "base_uri": "https://localhost:8080/",
     "height": 206
    },
    "executionInfo": {
     "elapsed": 12,
     "status": "ok",
     "timestamp": 1705890048130,
     "user": {
      "displayName": "Bella C Chang",
      "userId": "13918806985501938707"
     },
     "user_tz": 480
    },
    "id": "avhWbStY-E7b",
    "outputId": "4d9ff7c0-f3fa-49f0-cc7f-af70f8b6ba5a"
   },
   "outputs": [
    {
     "data": {
      "text/html": [
       "<div>\n",
       "<style scoped>\n",
       "    .dataframe tbody tr th:only-of-type {\n",
       "        vertical-align: middle;\n",
       "    }\n",
       "\n",
       "    .dataframe tbody tr th {\n",
       "        vertical-align: top;\n",
       "    }\n",
       "\n",
       "    .dataframe thead th {\n",
       "        text-align: right;\n",
       "    }\n",
       "</style>\n",
       "<table border=\"1\" class=\"dataframe\">\n",
       "  <thead>\n",
       "    <tr style=\"text-align: right;\">\n",
       "      <th></th>\n",
       "      <th>CPD_Q1</th>\n",
       "      <th>CPD_Q3</th>\n",
       "    </tr>\n",
       "  </thead>\n",
       "  <tbody>\n",
       "    <tr>\n",
       "      <th>0</th>\n",
       "      <td>The class time devoted to health and wellness ...</td>\n",
       "      <td>I believe self-care to be really important in ...</td>\n",
       "    </tr>\n",
       "    <tr>\n",
       "      <th>1</th>\n",
       "      <td>The class time devoted to health and wellness ...</td>\n",
       "      <td>The time spent on my choice of self-care allow...</td>\n",
       "    </tr>\n",
       "    <tr>\n",
       "      <th>2</th>\n",
       "      <td>The class time has reminded me on the importan...</td>\n",
       "      <td>The time spent on my choice of self care affec...</td>\n",
       "    </tr>\n",
       "    <tr>\n",
       "      <th>3</th>\n",
       "      <td>The class time that was devoted to health and ...</td>\n",
       "      <td>It made me more relaxed and less stressed abou...</td>\n",
       "    </tr>\n",
       "    <tr>\n",
       "      <th>4</th>\n",
       "      <td>I have learnt to listen to people without inte...</td>\n",
       "      <td>This has been a lifeline because I always felt...</td>\n",
       "    </tr>\n",
       "  </tbody>\n",
       "</table>\n",
       "</div>"
      ],
      "text/plain": [
       "                                              CPD_Q1  \\\n",
       "0  The class time devoted to health and wellness ...   \n",
       "1  The class time devoted to health and wellness ...   \n",
       "2  The class time has reminded me on the importan...   \n",
       "3  The class time that was devoted to health and ...   \n",
       "4  I have learnt to listen to people without inte...   \n",
       "\n",
       "                                              CPD_Q3  \n",
       "0  I believe self-care to be really important in ...  \n",
       "1  The time spent on my choice of self-care allow...  \n",
       "2  The time spent on my choice of self care affec...  \n",
       "3  It made me more relaxed and less stressed abou...  \n",
       "4  This has been a lifeline because I always felt...  "
      ]
     },
     "execution_count": 6,
     "metadata": {},
     "output_type": "execute_result"
    }
   ],
   "source": [
    "df_cpd = df[[\"CPD_Q1\", \"CPD_Q3\"]]\n",
    "df_cpd.head()"
   ]
  },
  {
   "cell_type": "code",
   "execution_count": 7,
   "metadata": {
    "colab": {
     "base_uri": "https://localhost:8080/"
    },
    "executionInfo": {
     "elapsed": 180,
     "status": "ok",
     "timestamp": 1705890057927,
     "user": {
      "displayName": "Bella C Chang",
      "userId": "13918806985501938707"
     },
     "user_tz": 480
    },
    "id": "ehfqzrfR-G4s",
    "outputId": "6c687037-7c8e-4623-ab64-5a8d1ee612a3"
   },
   "outputs": [
    {
     "data": {
      "text/plain": [
       "0      The class time devoted to health and wellness ...\n",
       "1      The class time devoted to health and wellness ...\n",
       "2      The class time has reminded me on the importan...\n",
       "3      The class time that was devoted to health and ...\n",
       "4      I have learnt to listen to people without inte...\n",
       "                             ...                        \n",
       "103    It’s been a wonderful change of pace to have a...\n",
       "104    The mentor team discussions with my team and p...\n",
       "105    The class time devoted to health, wellness, an...\n",
       "106    I personally think it was a nice break, but I ...\n",
       "107    I actively disliked most of the content relate...\n",
       "Name: CPD_Q1, Length: 105, dtype: object"
      ]
     },
     "execution_count": 7,
     "metadata": {},
     "output_type": "execute_result"
    }
   ],
   "source": [
    "corpus_1 = df_cpd[\"CPD_Q1\"].dropna()\n",
    "corpus_1 = corpus_1.astype(str)\n",
    "corpus_1"
   ]
  },
  {
   "cell_type": "code",
   "execution_count": 8,
   "metadata": {
    "id": "MSQ7hLZ0-JxI"
   },
   "outputs": [],
   "source": [
    "#adding clearly neutral stopwords that are specific to this program or activity\n",
    "stopwords = nltk.corpus.stopwords.words('english')\n",
    "\n",
    "stopwords.append('pharmacy')\n",
    "stopwords.append('pharmacist')\n",
    "stopwords.append('pharmacists')\n",
    "stopwords.append('health')\n",
    "stopwords.append('healthcare')\n",
    "stopwords.append('practitioner')\n",
    "stopwords.append('mental')\n",
    "stopwords.append('wellness')\n",
    "stopwords.append('self-care')\n",
    "stopwords.append('mentor')\n",
    "stopwords.append('WIP')\n",
    "stopwords.append('class')\n",
    "stopwords.append('school')\n",
    "stopwords.append('peers')\n",
    "stopwords.append('classmates')\n",
    "stopwords.append('quarter')\n",
    "stopwords.append('spring')\n",
    "stopwords.append('winter')\n",
    "stopwords.append('fall')\n",
    "\n",
    "stopwords = list(stopwords)"
   ]
  },
  {
   "cell_type": "code",
   "execution_count": 9,
   "metadata": {
    "colab": {
     "base_uri": "https://localhost:8080/",
     "height": 206
    },
    "executionInfo": {
     "elapsed": 164,
     "status": "ok",
     "timestamp": 1705890237170,
     "user": {
      "displayName": "Bella C Chang",
      "userId": "13918806985501938707"
     },
     "user_tz": 480
    },
    "id": "WbHYnrlc-MdQ",
    "outputId": "68d898b5-e3ed-40c3-d713-7f5e33fd3cb9"
   },
   "outputs": [
    {
     "data": {
      "text/html": [
       "<div>\n",
       "<style scoped>\n",
       "    .dataframe tbody tr th:only-of-type {\n",
       "        vertical-align: middle;\n",
       "    }\n",
       "\n",
       "    .dataframe tbody tr th {\n",
       "        vertical-align: top;\n",
       "    }\n",
       "\n",
       "    .dataframe thead th {\n",
       "        text-align: right;\n",
       "    }\n",
       "</style>\n",
       "<table border=\"1\" class=\"dataframe\">\n",
       "  <thead>\n",
       "    <tr style=\"text-align: right;\">\n",
       "      <th></th>\n",
       "      <th>CPD_Q1</th>\n",
       "    </tr>\n",
       "  </thead>\n",
       "  <tbody>\n",
       "    <tr>\n",
       "      <th>0</th>\n",
       "      <td>i think the class time help me to balance out ...</td>\n",
       "    </tr>\n",
       "    <tr>\n",
       "      <th>1</th>\n",
       "      <td>over the past three quarters the class time de...</td>\n",
       "    </tr>\n",
       "    <tr>\n",
       "      <th>2</th>\n",
       "      <td>the dedicated class time has guaranteed an all...</td>\n",
       "    </tr>\n",
       "    <tr>\n",
       "      <th>3</th>\n",
       "      <td>i think these classes helped me calm down a bi...</td>\n",
       "    </tr>\n",
       "    <tr>\n",
       "      <th>4</th>\n",
       "      <td>over the past three quarters, the class time d...</td>\n",
       "    </tr>\n",
       "  </tbody>\n",
       "</table>\n",
       "</div>"
      ],
      "text/plain": [
       "                                              CPD_Q1\n",
       "0  i think the class time help me to balance out ...\n",
       "1  over the past three quarters the class time de...\n",
       "2  the dedicated class time has guaranteed an all...\n",
       "3  i think these classes helped me calm down a bi...\n",
       "4  over the past three quarters, the class time d..."
      ]
     },
     "execution_count": 9,
     "metadata": {},
     "output_type": "execute_result"
    }
   ],
   "source": [
    "#using sample of words - ~71% of full corpus\n",
    "sample = pd.DataFrame(corpus_1.sample(75)).reset_index()[['CPD_Q1']]\n",
    "sample['CPD_Q1'] = sample['CPD_Q1'].map(lambda x: x.lower())\n",
    "sample.head()"
   ]
  },
  {
   "cell_type": "code",
   "execution_count": 10,
   "metadata": {
    "colab": {
     "base_uri": "https://localhost:8080/"
    },
    "executionInfo": {
     "elapsed": 145,
     "status": "ok",
     "timestamp": 1705890238781,
     "user": {
      "displayName": "Bella C Chang",
      "userId": "13918806985501938707"
     },
     "user_tz": 480
    },
    "id": "D3GeOnW4-geQ",
    "outputId": "9d949a4a-837b-4b77-8f30-f06f4c2e6d82"
   },
   "outputs": [
    {
     "name": "stdout",
     "output_type": "stream",
     "text": [
      "['think', 'the', 'class', 'time', 'help', 'me', 'to', 'balance', 'out', 'my', 'very', 'busy', 'schedule', 'the', 'class', 'time', 'also', 'reminds', 'me', 'to', 'take', 'care', 'my', 'health', 'and', 'find', 'time', 'to', 'spend', 'with']\n"
     ]
    }
   ],
   "source": [
    "def sent_to_words(sentences):\n",
    "    for sentence in sentences:\n",
    "        yield(gensim.utils.simple_preprocess(str(sentence), deacc=True))  # deacc=True removes punctuations\n",
    "\n",
    "data = sample.CPD_Q1.values.tolist()\n",
    "data_words = list(sent_to_words(data))\n",
    "\n",
    "print(data_words[:1][0][:30]) #first 30 words of the first comment"
   ]
  },
  {
   "cell_type": "code",
   "execution_count": 11,
   "metadata": {
    "id": "wBRitfTh_JHS"
   },
   "outputs": [],
   "source": [
    "#bigrams\n",
    "#phrases that go together, like \"new york\" (bigram)\n",
    "\n",
    "#build the models\n",
    "bigram = gensim.models.Phrases(data_words, min_count=5, threshold=100) # higher threshold fewer phrases\n",
    "\n",
    "#fast way to get bigrams and trigrams\n",
    "bigram_mod = gensim.models.phrases.Phraser(bigram)"
   ]
  },
  {
   "cell_type": "code",
   "execution_count": 14,
   "metadata": {},
   "outputs": [
    {
     "ename": "AttributeError",
     "evalue": "'list' object has no attribute 'words'",
     "output_type": "error",
     "traceback": [
      "\u001b[0;31m---------------------------------------------------------------------------\u001b[0m",
      "\u001b[0;31mAttributeError\u001b[0m                            Traceback (most recent call last)",
      "Cell \u001b[0;32mIn[14], line 1\u001b[0m\n\u001b[0;32m----> 1\u001b[0m \u001b[38;5;28mset\u001b[39m(stopwords\u001b[38;5;241m.\u001b[39mwords(\u001b[38;5;124m'\u001b[39m\u001b[38;5;124menglish\u001b[39m\u001b[38;5;124m'\u001b[39m))\n",
      "\u001b[0;31mAttributeError\u001b[0m: 'list' object has no attribute 'words'"
     ]
    }
   ],
   "source": [
    "set(stopwords.words('english'))"
   ]
  },
  {
   "cell_type": "code",
   "execution_count": 12,
   "metadata": {
    "id": "ONlhcujbAKuk"
   },
   "outputs": [],
   "source": [
    "nlp = spacy.load(\"en_core_web_sm\")\n",
    "\n",
    "# Define functions for stopwords, bigrams, trigrams and lemmatization\n",
    "def remove_stopwords(texts):\n",
    "    return [[word for word in doc if word not in set(stopwords.words('english'))] for doc in texts]\n",
    "\n",
    "def make_bigrams(texts):\n",
    "    return [bigram_mod[doc] for doc in texts]\n",
    "\n",
    "def lemmatization(texts, allowed_postags=['NOUN', 'ADJ', 'VERB', 'ADV']):\n",
    "    \"\"\"https://spacy.io/api/annotation\"\"\"\n",
    "    texts_out = []\n",
    "    for sent in texts:\n",
    "        doc = nlp(\" \".join(sent))\n",
    "        texts_out.append([token.lemma_ for token in doc if token.pos_ in allowed_postags])\n",
    "    return texts_out"
   ]
  },
  {
   "cell_type": "code",
   "execution_count": 15,
   "metadata": {
    "colab": {
     "base_uri": "https://localhost:8080/"
    },
    "executionInfo": {
     "elapsed": 1043,
     "status": "ok",
     "timestamp": 1705891729193,
     "user": {
      "displayName": "Bella C Chang",
      "userId": "13918806985501938707"
     },
     "user_tz": 480
    },
    "id": "KzEEapELAXtE",
    "outputId": "dceb0f7c-414a-49a3-d2ba-476968e1c9e4"
   },
   "outputs": [
    {
     "ename": "AttributeError",
     "evalue": "'list' object has no attribute 'words'",
     "output_type": "error",
     "traceback": [
      "\u001b[0;31m---------------------------------------------------------------------------\u001b[0m",
      "\u001b[0;31mAttributeError\u001b[0m                            Traceback (most recent call last)",
      "Cell \u001b[0;32mIn[15], line 2\u001b[0m\n\u001b[1;32m      1\u001b[0m \u001b[38;5;66;03m# Remove Stop Words\u001b[39;00m\n\u001b[0;32m----> 2\u001b[0m data_words_nostops \u001b[38;5;241m=\u001b[39m remove_stopwords(data_words)\n\u001b[1;32m      4\u001b[0m \u001b[38;5;66;03m# Form Bigrams\u001b[39;00m\n\u001b[1;32m      5\u001b[0m data_words_bigrams \u001b[38;5;241m=\u001b[39m make_bigrams(data_words_nostops)\n",
      "Cell \u001b[0;32mIn[12], line 5\u001b[0m, in \u001b[0;36mremove_stopwords\u001b[0;34m(texts)\u001b[0m\n\u001b[1;32m      4\u001b[0m \u001b[38;5;28;01mdef\u001b[39;00m \u001b[38;5;21mremove_stopwords\u001b[39m(texts):\n\u001b[0;32m----> 5\u001b[0m     \u001b[38;5;28;01mreturn\u001b[39;00m [[word \u001b[38;5;28;01mfor\u001b[39;00m word \u001b[38;5;129;01min\u001b[39;00m doc \u001b[38;5;28;01mif\u001b[39;00m word \u001b[38;5;129;01mnot\u001b[39;00m \u001b[38;5;129;01min\u001b[39;00m \u001b[38;5;28mset\u001b[39m(stopwords\u001b[38;5;241m.\u001b[39mwords(\u001b[38;5;124m'\u001b[39m\u001b[38;5;124menglish\u001b[39m\u001b[38;5;124m'\u001b[39m))] \u001b[38;5;28;01mfor\u001b[39;00m doc \u001b[38;5;129;01min\u001b[39;00m texts]\n",
      "Cell \u001b[0;32mIn[12], line 5\u001b[0m, in \u001b[0;36m<listcomp>\u001b[0;34m(.0)\u001b[0m\n\u001b[1;32m      4\u001b[0m \u001b[38;5;28;01mdef\u001b[39;00m \u001b[38;5;21mremove_stopwords\u001b[39m(texts):\n\u001b[0;32m----> 5\u001b[0m     \u001b[38;5;28;01mreturn\u001b[39;00m [[word \u001b[38;5;28;01mfor\u001b[39;00m word \u001b[38;5;129;01min\u001b[39;00m doc \u001b[38;5;28;01mif\u001b[39;00m word \u001b[38;5;129;01mnot\u001b[39;00m \u001b[38;5;129;01min\u001b[39;00m \u001b[38;5;28mset\u001b[39m(stopwords\u001b[38;5;241m.\u001b[39mwords(\u001b[38;5;124m'\u001b[39m\u001b[38;5;124menglish\u001b[39m\u001b[38;5;124m'\u001b[39m))] \u001b[38;5;28;01mfor\u001b[39;00m doc \u001b[38;5;129;01min\u001b[39;00m texts]\n",
      "Cell \u001b[0;32mIn[12], line 5\u001b[0m, in \u001b[0;36m<listcomp>\u001b[0;34m(.0)\u001b[0m\n\u001b[1;32m      4\u001b[0m \u001b[38;5;28;01mdef\u001b[39;00m \u001b[38;5;21mremove_stopwords\u001b[39m(texts):\n\u001b[0;32m----> 5\u001b[0m     \u001b[38;5;28;01mreturn\u001b[39;00m [[word \u001b[38;5;28;01mfor\u001b[39;00m word \u001b[38;5;129;01min\u001b[39;00m doc \u001b[38;5;28;01mif\u001b[39;00m word \u001b[38;5;129;01mnot\u001b[39;00m \u001b[38;5;129;01min\u001b[39;00m \u001b[38;5;28mset\u001b[39m(stopwords\u001b[38;5;241m.\u001b[39mwords(\u001b[38;5;124m'\u001b[39m\u001b[38;5;124menglish\u001b[39m\u001b[38;5;124m'\u001b[39m))] \u001b[38;5;28;01mfor\u001b[39;00m doc \u001b[38;5;129;01min\u001b[39;00m texts]\n",
      "\u001b[0;31mAttributeError\u001b[0m: 'list' object has no attribute 'words'"
     ]
    }
   ],
   "source": [
    "# Remove Stop Words\n",
    "data_words_nostops = remove_stopwords(data_words)\n",
    "\n",
    "# Form Bigrams\n",
    "data_words_bigrams = make_bigrams(data_words_nostops)\n",
    "\n",
    "# Do lemmatization keeping only noun, adj, vb, adv\n",
    "data_lemmatized = lemmatization(data_words_bigrams, allowed_postags=['NOUN', 'ADJ', 'VERB', 'ADV'])\n",
    "\n",
    "print(data_lemmatized[:1][0][:30])"
   ]
  },
  {
   "cell_type": "code",
   "execution_count": null,
   "metadata": {
    "id": "-uf2_pIwEu3l"
   },
   "outputs": [],
   "source": []
  }
 ],
 "metadata": {
  "colab": {
   "authorship_tag": "ABX9TyNU5RhlETCTOId4v4nRk/x+",
   "provenance": []
  },
  "kernelspec": {
   "display_name": "Python 3 (ipykernel)",
   "language": "python",
   "name": "python3"
  },
  "language_info": {
   "codemirror_mode": {
    "name": "ipython",
    "version": 3
   },
   "file_extension": ".py",
   "mimetype": "text/x-python",
   "name": "python",
   "nbconvert_exporter": "python",
   "pygments_lexer": "ipython3",
   "version": "3.11.7"
  }
 },
 "nbformat": 4,
 "nbformat_minor": 4
}
