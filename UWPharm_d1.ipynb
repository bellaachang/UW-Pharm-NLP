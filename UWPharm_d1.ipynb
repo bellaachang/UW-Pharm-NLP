{
 "cells": [
  {
   "cell_type": "code",
   "execution_count": 1,
   "metadata": {
    "colab": {
     "base_uri": "https://localhost:8080/"
    },
    "executionInfo": {
     "elapsed": 153,
     "status": "ok",
     "timestamp": 1705631429342,
     "user": {
      "displayName": "Bella C Chang",
      "userId": "13918806985501938707"
     },
     "user_tz": 480
    },
    "id": "8oFAhalo6aAL",
    "outputId": "381f16e1-9c01-455a-9025-85796be064ed"
   },
   "outputs": [
    {
     "name": "stderr",
     "output_type": "stream",
     "text": [
      "[nltk_data] Downloading package stopwords to\n",
      "[nltk_data]     /Users/MarlonFu/nltk_data...\n",
      "[nltk_data]   Package stopwords is already up-to-date!\n",
      "[nltk_data] Downloading package punkt to /Users/MarlonFu/nltk_data...\n",
      "[nltk_data]   Package punkt is already up-to-date!\n"
     ]
    }
   ],
   "source": [
    "import pandas as pd\n",
    "import numpy as np\n",
    "\n",
    "import nltk\n",
    "nltk.download('stopwords')\n",
    "nltk.download('punkt')\n",
    "from nltk.corpus import stopwords\n",
    "from nltk.tokenize import word_tokenize\n",
    "import re\n",
    "from sklearn.feature_extraction.text import TfidfVectorizer\n",
    "\n",
    "import gensim\n",
    "import gensim.corpora as corpora\n",
    "\n",
    "import spacy"
   ]
  },
  {
   "cell_type": "code",
   "execution_count": 3,
   "metadata": {
    "colab": {
     "base_uri": "https://localhost:8080/",
     "height": 339
    },
    "executionInfo": {
     "elapsed": 511,
     "status": "error",
     "timestamp": 1705631231819,
     "user": {
      "displayName": "Marlon Fu",
      "userId": "14156318259956265604"
     },
     "user_tz": 480
    },
    "id": "KcCj0vLJ6g6s",
    "outputId": "42972eb3-0186-4146-f22c-dda61937e1f7"
   },
   "outputs": [
    {
     "data": {
      "text/html": [
       "<div>\n",
       "<style scoped>\n",
       "    .dataframe tbody tr th:only-of-type {\n",
       "        vertical-align: middle;\n",
       "    }\n",
       "\n",
       "    .dataframe tbody tr th {\n",
       "        vertical-align: top;\n",
       "    }\n",
       "\n",
       "    .dataframe thead th {\n",
       "        text-align: right;\n",
       "    }\n",
       "</style>\n",
       "<table border=\"1\" class=\"dataframe\">\n",
       "  <thead>\n",
       "    <tr style=\"text-align: right;\">\n",
       "      <th></th>\n",
       "      <th>Subj #</th>\n",
       "      <th>Unnamed: 1</th>\n",
       "      <th>Win 1_2</th>\n",
       "      <th>Win 3_4</th>\n",
       "      <th>Win 5_6</th>\n",
       "      <th>Win 7_8</th>\n",
       "      <th>Win 9_10</th>\n",
       "      <th>Unnamed: 7</th>\n",
       "      <th>Spr 1_2</th>\n",
       "      <th>Spr 3_4</th>\n",
       "      <th>Spr 5_6</th>\n",
       "      <th>Spr 7-8</th>\n",
       "      <th>Spr 9-10</th>\n",
       "      <th>Unnamed: 13</th>\n",
       "      <th>CPD_Q1</th>\n",
       "      <th>CPD_Q2</th>\n",
       "      <th>CPD_Q3</th>\n",
       "    </tr>\n",
       "  </thead>\n",
       "  <tbody>\n",
       "    <tr>\n",
       "      <th>0</th>\n",
       "      <td>1</td>\n",
       "      <td>NaN</td>\n",
       "      <td>Took the time to do some meal prep last night ...</td>\n",
       "      <td>I spent time before work to do an easy 20-minu...</td>\n",
       "      <td>Took a nap before work since my team this week...</td>\n",
       "      <td>Called a friend who happened to be on her lunc...</td>\n",
       "      <td>Took a walk outside to take in some of the rar...</td>\n",
       "      <td>NaN</td>\n",
       "      <td>Had a very busy weekend with my sister visitin...</td>\n",
       "      <td>Spent some time on the phone catching up with ...</td>\n",
       "      <td>Gave myself time to lie down on the couch and ...</td>\n",
       "      <td>Took a nap after class and ended up sleeping t...</td>\n",
       "      <td>Set aside and spent some time at night after s...</td>\n",
       "      <td>NaN</td>\n",
       "      <td>The class time devoted to health and wellness ...</td>\n",
       "      <td>During my gap years I gained a lot of insight ...</td>\n",
       "      <td>I believe self-care to be really important in ...</td>\n",
       "    </tr>\n",
       "    <tr>\n",
       "      <th>1</th>\n",
       "      <td>2</td>\n",
       "      <td>NaN</td>\n",
       "      <td>1. Select one of the activities that resonates...</td>\n",
       "      <td>One of the activities that I chose from the Ch...</td>\n",
       "      <td>One of the activities that I chose for self-ca...</td>\n",
       "      <td>For my self care, I went on a walk and listene...</td>\n",
       "      <td>One of the activities that I chose for health/...</td>\n",
       "      <td>NaN</td>\n",
       "      <td>I decided to spend my self care time by going ...</td>\n",
       "      <td>For my self care, I decided to find new music ...</td>\n",
       "      <td>I went on a run!</td>\n",
       "      <td>I watched TV with my dad!</td>\n",
       "      <td>I painted my nails! This is something I really...</td>\n",
       "      <td>NaN</td>\n",
       "      <td>The class time devoted to health and wellness ...</td>\n",
       "      <td>The way I decided which self-care to choose wa...</td>\n",
       "      <td>The time spent on my choice of self-care allow...</td>\n",
       "    </tr>\n",
       "    <tr>\n",
       "      <th>2</th>\n",
       "      <td>3</td>\n",
       "      <td>NaN</td>\n",
       "      <td>Today, I cooked myself lunch and it was delici...</td>\n",
       "      <td>I took a walk around campus with my roommate t...</td>\n",
       "      <td>I listened to some of my favorite artists whil...</td>\n",
       "      <td>Today, I spent my break eating good food and w...</td>\n",
       "      <td>Today, I spent some of my time watching a show...</td>\n",
       "      <td>NaN</td>\n",
       "      <td>I took the time to finish building my baby Yod...</td>\n",
       "      <td>I took the time to reach out and talk to one o...</td>\n",
       "      <td>This week I spent at least 20 minutes reading ...</td>\n",
       "      <td>This week I spent about an hour getting dinner...</td>\n",
       "      <td>This weekend, I went shopping with my friend a...</td>\n",
       "      <td>NaN</td>\n",
       "      <td>The class time has reminded me on the importan...</td>\n",
       "      <td>To decide on what to do it would mostly depend...</td>\n",
       "      <td>The time spent on my choice of self care affec...</td>\n",
       "    </tr>\n",
       "    <tr>\n",
       "      <th>3</th>\n",
       "      <td>4</td>\n",
       "      <td>NaN</td>\n",
       "      <td>I worked on my Paint by Diamond piece.</td>\n",
       "      <td>I worked on more of the Paint by Diamonds.</td>\n",
       "      <td>I worked on my Paint by Diamond while listenin...</td>\n",
       "      <td>I worked on my Paint by Diamond while listenin...</td>\n",
       "      <td>I grabbed lunch with a friend.</td>\n",
       "      <td>NaN</td>\n",
       "      <td>I started a new Asian drama (tv show) called T...</td>\n",
       "      <td>I took a walk around my neighborhood while lis...</td>\n",
       "      <td>I took a walk to my neighborhood park , sat on...</td>\n",
       "      <td>I went to go visit my high school teachers.</td>\n",
       "      <td>I went out and had lunch with my brother.</td>\n",
       "      <td>NaN</td>\n",
       "      <td>The class time that was devoted to health and ...</td>\n",
       "      <td>For me, it depends on the weather à if it was ...</td>\n",
       "      <td>It made me more relaxed and less stressed abou...</td>\n",
       "    </tr>\n",
       "    <tr>\n",
       "      <th>4</th>\n",
       "      <td>5</td>\n",
       "      <td>NaN</td>\n",
       "      <td>I took a 20 minutes walk from the train statio...</td>\n",
       "      <td>I met up with my friends for coffee and it was...</td>\n",
       "      <td>I soaked in the bathtub for an hour with relax...</td>\n",
       "      <td>I walked around the neighborhood for thirty mi...</td>\n",
       "      <td>I tried to using  peloton in our apartment bui...</td>\n",
       "      <td>NaN</td>\n",
       "      <td>Yesterday was my birthday and my boyfriend pla...</td>\n",
       "      <td>I am increasing my cardio work out in the apar...</td>\n",
       "      <td>I went to watch movie at ipic theatre in redmo...</td>\n",
       "      <td>I took a 30 minutes walk in my new neighborhoo...</td>\n",
       "      <td>It was a nice day today and my friend and I to...</td>\n",
       "      <td>NaN</td>\n",
       "      <td>I have learnt to listen to people without inte...</td>\n",
       "      <td>This is because I wanted to connect with mysel...</td>\n",
       "      <td>This has been a lifeline because I always felt...</td>\n",
       "    </tr>\n",
       "  </tbody>\n",
       "</table>\n",
       "</div>"
      ],
      "text/plain": [
       "   Subj #  Unnamed: 1                                            Win 1_2  \\\n",
       "0       1         NaN  Took the time to do some meal prep last night ...   \n",
       "1       2         NaN  1. Select one of the activities that resonates...   \n",
       "2       3         NaN  Today, I cooked myself lunch and it was delici...   \n",
       "3       4         NaN             I worked on my Paint by Diamond piece.   \n",
       "4       5         NaN  I took a 20 minutes walk from the train statio...   \n",
       "\n",
       "                                             Win 3_4  \\\n",
       "0  I spent time before work to do an easy 20-minu...   \n",
       "1  One of the activities that I chose from the Ch...   \n",
       "2  I took a walk around campus with my roommate t...   \n",
       "3         I worked on more of the Paint by Diamonds.   \n",
       "4  I met up with my friends for coffee and it was...   \n",
       "\n",
       "                                             Win 5_6  \\\n",
       "0  Took a nap before work since my team this week...   \n",
       "1  One of the activities that I chose for self-ca...   \n",
       "2  I listened to some of my favorite artists whil...   \n",
       "3  I worked on my Paint by Diamond while listenin...   \n",
       "4  I soaked in the bathtub for an hour with relax...   \n",
       "\n",
       "                                             Win 7_8  \\\n",
       "0  Called a friend who happened to be on her lunc...   \n",
       "1  For my self care, I went on a walk and listene...   \n",
       "2  Today, I spent my break eating good food and w...   \n",
       "3  I worked on my Paint by Diamond while listenin...   \n",
       "4  I walked around the neighborhood for thirty mi...   \n",
       "\n",
       "                                            Win 9_10  Unnamed: 7  \\\n",
       "0  Took a walk outside to take in some of the rar...         NaN   \n",
       "1  One of the activities that I chose for health/...         NaN   \n",
       "2  Today, I spent some of my time watching a show...         NaN   \n",
       "3                     I grabbed lunch with a friend.         NaN   \n",
       "4  I tried to using  peloton in our apartment bui...         NaN   \n",
       "\n",
       "                                             Spr 1_2  \\\n",
       "0  Had a very busy weekend with my sister visitin...   \n",
       "1  I decided to spend my self care time by going ...   \n",
       "2  I took the time to finish building my baby Yod...   \n",
       "3  I started a new Asian drama (tv show) called T...   \n",
       "4  Yesterday was my birthday and my boyfriend pla...   \n",
       "\n",
       "                                             Spr 3_4  \\\n",
       "0  Spent some time on the phone catching up with ...   \n",
       "1  For my self care, I decided to find new music ...   \n",
       "2  I took the time to reach out and talk to one o...   \n",
       "3  I took a walk around my neighborhood while lis...   \n",
       "4  I am increasing my cardio work out in the apar...   \n",
       "\n",
       "                                             Spr 5_6  \\\n",
       "0  Gave myself time to lie down on the couch and ...   \n",
       "1                                   I went on a run!   \n",
       "2  This week I spent at least 20 minutes reading ...   \n",
       "3  I took a walk to my neighborhood park , sat on...   \n",
       "4  I went to watch movie at ipic theatre in redmo...   \n",
       "\n",
       "                                             Spr 7-8  \\\n",
       "0  Took a nap after class and ended up sleeping t...   \n",
       "1                          I watched TV with my dad!   \n",
       "2  This week I spent about an hour getting dinner...   \n",
       "3        I went to go visit my high school teachers.   \n",
       "4  I took a 30 minutes walk in my new neighborhoo...   \n",
       "\n",
       "                                            Spr 9-10  Unnamed: 13  \\\n",
       "0  Set aside and spent some time at night after s...          NaN   \n",
       "1  I painted my nails! This is something I really...          NaN   \n",
       "2  This weekend, I went shopping with my friend a...          NaN   \n",
       "3         I went out and had lunch with my brother.           NaN   \n",
       "4  It was a nice day today and my friend and I to...          NaN   \n",
       "\n",
       "                                              CPD_Q1  \\\n",
       "0  The class time devoted to health and wellness ...   \n",
       "1  The class time devoted to health and wellness ...   \n",
       "2  The class time has reminded me on the importan...   \n",
       "3  The class time that was devoted to health and ...   \n",
       "4  I have learnt to listen to people without inte...   \n",
       "\n",
       "                                              CPD_Q2  \\\n",
       "0  During my gap years I gained a lot of insight ...   \n",
       "1  The way I decided which self-care to choose wa...   \n",
       "2  To decide on what to do it would mostly depend...   \n",
       "3  For me, it depends on the weather à if it was ...   \n",
       "4  This is because I wanted to connect with mysel...   \n",
       "\n",
       "                                              CPD_Q3  \n",
       "0  I believe self-care to be really important in ...  \n",
       "1  The time spent on my choice of self-care allow...  \n",
       "2  The time spent on my choice of self care affec...  \n",
       "3  It made me more relaxed and less stressed abou...  \n",
       "4  This has been a lifeline because I always felt...  "
      ]
     },
     "execution_count": 3,
     "metadata": {},
     "output_type": "execute_result"
    }
   ],
   "source": [
    "df = pd.read_csv(\"data/choiceboard_data.csv\")\n",
    "df.head()"
   ]
  },
  {
   "cell_type": "code",
   "execution_count": 4,
   "metadata": {
    "colab": {
     "base_uri": "https://localhost:8080/",
     "height": 206
    },
    "executionInfo": {
     "elapsed": 33,
     "status": "ok",
     "timestamp": 1705628588800,
     "user": {
      "displayName": "Bella C Chang",
      "userId": "13918806985501938707"
     },
     "user_tz": 480
    },
    "id": "oBazfSDa6kqH",
    "outputId": "ea28b9e8-4972-4c15-8edb-bd3b8dd1e4ba"
   },
   "outputs": [
    {
     "data": {
      "text/html": [
       "<div>\n",
       "<style scoped>\n",
       "    .dataframe tbody tr th:only-of-type {\n",
       "        vertical-align: middle;\n",
       "    }\n",
       "\n",
       "    .dataframe tbody tr th {\n",
       "        vertical-align: top;\n",
       "    }\n",
       "\n",
       "    .dataframe thead th {\n",
       "        text-align: right;\n",
       "    }\n",
       "</style>\n",
       "<table border=\"1\" class=\"dataframe\">\n",
       "  <thead>\n",
       "    <tr style=\"text-align: right;\">\n",
       "      <th></th>\n",
       "      <th>CPD_Q1</th>\n",
       "      <th>CPD_Q3</th>\n",
       "    </tr>\n",
       "  </thead>\n",
       "  <tbody>\n",
       "    <tr>\n",
       "      <th>0</th>\n",
       "      <td>The class time devoted to health and wellness ...</td>\n",
       "      <td>I believe self-care to be really important in ...</td>\n",
       "    </tr>\n",
       "    <tr>\n",
       "      <th>1</th>\n",
       "      <td>The class time devoted to health and wellness ...</td>\n",
       "      <td>The time spent on my choice of self-care allow...</td>\n",
       "    </tr>\n",
       "    <tr>\n",
       "      <th>2</th>\n",
       "      <td>The class time has reminded me on the importan...</td>\n",
       "      <td>The time spent on my choice of self care affec...</td>\n",
       "    </tr>\n",
       "    <tr>\n",
       "      <th>3</th>\n",
       "      <td>The class time that was devoted to health and ...</td>\n",
       "      <td>It made me more relaxed and less stressed abou...</td>\n",
       "    </tr>\n",
       "    <tr>\n",
       "      <th>4</th>\n",
       "      <td>I have learnt to listen to people without inte...</td>\n",
       "      <td>This has been a lifeline because I always felt...</td>\n",
       "    </tr>\n",
       "  </tbody>\n",
       "</table>\n",
       "</div>"
      ],
      "text/plain": [
       "                                              CPD_Q1  \\\n",
       "0  The class time devoted to health and wellness ...   \n",
       "1  The class time devoted to health and wellness ...   \n",
       "2  The class time has reminded me on the importan...   \n",
       "3  The class time that was devoted to health and ...   \n",
       "4  I have learnt to listen to people without inte...   \n",
       "\n",
       "                                              CPD_Q3  \n",
       "0  I believe self-care to be really important in ...  \n",
       "1  The time spent on my choice of self-care allow...  \n",
       "2  The time spent on my choice of self care affec...  \n",
       "3  It made me more relaxed and less stressed abou...  \n",
       "4  This has been a lifeline because I always felt...  "
      ]
     },
     "execution_count": 4,
     "metadata": {},
     "output_type": "execute_result"
    }
   ],
   "source": [
    "df_cpd = df[[\"CPD_Q1\", \"CPD_Q3\"]]\n",
    "df_cpd.head()"
   ]
  },
  {
   "cell_type": "markdown",
   "metadata": {
    "id": "hiQlah9c7e3-"
   },
   "source": [
    "## EDA (Q1 only)"
   ]
  },
  {
   "cell_type": "code",
   "execution_count": 5,
   "metadata": {
    "colab": {
     "base_uri": "https://localhost:8080/"
    },
    "executionInfo": {
     "elapsed": 31,
     "status": "ok",
     "timestamp": 1705628588800,
     "user": {
      "displayName": "Bella C Chang",
      "userId": "13918806985501938707"
     },
     "user_tz": 480
    },
    "id": "dn7kWg5z7d-q",
    "outputId": "03513a28-fed3-459b-ad61-fec057b96599"
   },
   "outputs": [
    {
     "data": {
      "text/plain": [
       "0      The class time devoted to health and wellness ...\n",
       "1      The class time devoted to health and wellness ...\n",
       "2      The class time has reminded me on the importan...\n",
       "3      The class time that was devoted to health and ...\n",
       "4      I have learnt to listen to people without inte...\n",
       "                             ...                        \n",
       "103    It’s been a wonderful change of pace to have a...\n",
       "104    The mentor team discussions with my team and p...\n",
       "105    The class time devoted to health, wellness, an...\n",
       "106    I personally think it was a nice break, but I ...\n",
       "107    I actively disliked most of the content relate...\n",
       "Name: CPD_Q1, Length: 105, dtype: object"
      ]
     },
     "execution_count": 5,
     "metadata": {},
     "output_type": "execute_result"
    }
   ],
   "source": [
    "corpus_1 = df_cpd[\"CPD_Q1\"].dropna()\n",
    "corpus_1 = corpus_1.astype(str)\n",
    "corpus_1"
   ]
  },
  {
   "cell_type": "code",
   "execution_count": 6,
   "metadata": {
    "colab": {
     "base_uri": "https://localhost:8080/"
    },
    "executionInfo": {
     "elapsed": 28,
     "status": "ok",
     "timestamp": 1705628588800,
     "user": {
      "displayName": "Bella C Chang",
      "userId": "13918806985501938707"
     },
     "user_tz": 480
    },
    "id": "AS7kw03gxHWG",
    "outputId": "172e425a-1535-4c6b-e169-6d98c87e7990"
   },
   "outputs": [
    {
     "data": {
      "text/plain": [
       "105"
      ]
     },
     "execution_count": 6,
     "metadata": {},
     "output_type": "execute_result"
    }
   ],
   "source": [
    "len(corpus_1)"
   ]
  },
  {
   "cell_type": "code",
   "execution_count": 7,
   "metadata": {
    "id": "PUuVoQV438Km"
   },
   "outputs": [],
   "source": [
    "#adding clearly neutral stopwords that are specific to this program or activity\n",
    "stopwords = nltk.corpus.stopwords.words('english')\n",
    "\n",
    "stopwords.append('pharmacy')\n",
    "stopwords.append('pharmacist')\n",
    "stopwords.append('pharmacists')\n",
    "stopwords.append('health')\n",
    "stopwords.append('healthcare')\n",
    "stopwords.append('practitioner')\n",
    "stopwords.append('mental')\n",
    "stopwords.append('wellness')\n",
    "stopwords.append('self-care')\n",
    "stopwords.append('mentor')\n",
    "stopwords.append('WIP')\n",
    "stopwords.append('class')\n",
    "stopwords.append('school')\n",
    "stopwords.append('peers')\n",
    "stopwords.append('classmates')\n",
    "stopwords.append('quarter')\n",
    "stopwords.append('spring')\n",
    "stopwords.append('winter')\n",
    "stopwords.append('fall')\n",
    "\n",
    "stopwords = list(stopwords)"
   ]
  },
  {
   "cell_type": "code",
   "execution_count": 8,
   "metadata": {
    "colab": {
     "base_uri": "https://localhost:8080/",
     "height": 424
    },
    "executionInfo": {
     "elapsed": 13,
     "status": "ok",
     "timestamp": 1705628589008,
     "user": {
      "displayName": "Bella C Chang",
      "userId": "13918806985501938707"
     },
     "user_tz": 480
    },
    "id": "HSmbroG85lL2",
    "outputId": "8541fe02-7da2-45f6-9d80-7c95712a87fd"
   },
   "outputs": [
    {
     "data": {
      "text/html": [
       "<div>\n",
       "<style scoped>\n",
       "    .dataframe tbody tr th:only-of-type {\n",
       "        vertical-align: middle;\n",
       "    }\n",
       "\n",
       "    .dataframe tbody tr th {\n",
       "        vertical-align: top;\n",
       "    }\n",
       "\n",
       "    .dataframe thead th {\n",
       "        text-align: right;\n",
       "    }\n",
       "</style>\n",
       "<table border=\"1\" class=\"dataframe\">\n",
       "  <thead>\n",
       "    <tr style=\"text-align: right;\">\n",
       "      <th></th>\n",
       "      <th>CPD_Q1</th>\n",
       "    </tr>\n",
       "  </thead>\n",
       "  <tbody>\n",
       "    <tr>\n",
       "      <th>0</th>\n",
       "      <td>I found the time devoted to health and wellnes...</td>\n",
       "    </tr>\n",
       "    <tr>\n",
       "      <th>1</th>\n",
       "      <td>It has helped me a lot because it gives me tim...</td>\n",
       "    </tr>\n",
       "    <tr>\n",
       "      <th>2</th>\n",
       "      <td>I appreciate that during the Wednesday asynchr...</td>\n",
       "    </tr>\n",
       "    <tr>\n",
       "      <th>3</th>\n",
       "      <td>I really appreciated the in class time dedicat...</td>\n",
       "    </tr>\n",
       "    <tr>\n",
       "      <th>4</th>\n",
       "      <td>I have been busier over the past 3 quarters. I...</td>\n",
       "    </tr>\n",
       "    <tr>\n",
       "      <th>...</th>\n",
       "      <td>...</td>\n",
       "    </tr>\n",
       "    <tr>\n",
       "      <th>70</th>\n",
       "      <td>It’s been helpful to have open conversations w...</td>\n",
       "    </tr>\n",
       "    <tr>\n",
       "      <th>71</th>\n",
       "      <td>I think my favorite parts have been the mentor...</td>\n",
       "    </tr>\n",
       "    <tr>\n",
       "      <th>72</th>\n",
       "      <td>These past quarters have really helped me take...</td>\n",
       "    </tr>\n",
       "    <tr>\n",
       "      <th>73</th>\n",
       "      <td>This class time is such a mental rest for me. ...</td>\n",
       "    </tr>\n",
       "    <tr>\n",
       "      <th>74</th>\n",
       "      <td>I think the mentor team discussions contribute...</td>\n",
       "    </tr>\n",
       "  </tbody>\n",
       "</table>\n",
       "<p>75 rows × 1 columns</p>\n",
       "</div>"
      ],
      "text/plain": [
       "                                               CPD_Q1\n",
       "0   I found the time devoted to health and wellnes...\n",
       "1   It has helped me a lot because it gives me tim...\n",
       "2   I appreciate that during the Wednesday asynchr...\n",
       "3   I really appreciated the in class time dedicat...\n",
       "4   I have been busier over the past 3 quarters. I...\n",
       "..                                                ...\n",
       "70  It’s been helpful to have open conversations w...\n",
       "71  I think my favorite parts have been the mentor...\n",
       "72  These past quarters have really helped me take...\n",
       "73  This class time is such a mental rest for me. ...\n",
       "74  I think the mentor team discussions contribute...\n",
       "\n",
       "[75 rows x 1 columns]"
      ]
     },
     "execution_count": 8,
     "metadata": {},
     "output_type": "execute_result"
    }
   ],
   "source": [
    "sample = pd.DataFrame(corpus_1.sample(75)).reset_index()[['CPD_Q1']]\n",
    "sample"
   ]
  },
  {
   "cell_type": "code",
   "execution_count": 9,
   "metadata": {
    "colab": {
     "base_uri": "https://localhost:8080/",
     "height": 206
    },
    "executionInfo": {
     "elapsed": 12,
     "status": "ok",
     "timestamp": 1705628589008,
     "user": {
      "displayName": "Bella C Chang",
      "userId": "13918806985501938707"
     },
     "user_tz": 480
    },
    "id": "vAAcPM1b5-vP",
    "outputId": "8d2eef40-783b-470d-cad1-72d1aab6b0d1"
   },
   "outputs": [
    {
     "data": {
      "text/html": [
       "<div>\n",
       "<style scoped>\n",
       "    .dataframe tbody tr th:only-of-type {\n",
       "        vertical-align: middle;\n",
       "    }\n",
       "\n",
       "    .dataframe tbody tr th {\n",
       "        vertical-align: top;\n",
       "    }\n",
       "\n",
       "    .dataframe thead th {\n",
       "        text-align: right;\n",
       "    }\n",
       "</style>\n",
       "<table border=\"1\" class=\"dataframe\">\n",
       "  <thead>\n",
       "    <tr style=\"text-align: right;\">\n",
       "      <th></th>\n",
       "      <th>CPD_Q1</th>\n",
       "    </tr>\n",
       "  </thead>\n",
       "  <tbody>\n",
       "    <tr>\n",
       "      <th>0</th>\n",
       "      <td>i found the time devoted to health and wellnes...</td>\n",
       "    </tr>\n",
       "    <tr>\n",
       "      <th>1</th>\n",
       "      <td>it has helped me a lot because it gives me tim...</td>\n",
       "    </tr>\n",
       "    <tr>\n",
       "      <th>2</th>\n",
       "      <td>i appreciate that during the wednesday asynchr...</td>\n",
       "    </tr>\n",
       "    <tr>\n",
       "      <th>3</th>\n",
       "      <td>i really appreciated the in class time dedicat...</td>\n",
       "    </tr>\n",
       "    <tr>\n",
       "      <th>4</th>\n",
       "      <td>i have been busier over the past 3 quarters i ...</td>\n",
       "    </tr>\n",
       "  </tbody>\n",
       "</table>\n",
       "</div>"
      ],
      "text/plain": [
       "                                              CPD_Q1\n",
       "0  i found the time devoted to health and wellnes...\n",
       "1  it has helped me a lot because it gives me tim...\n",
       "2  i appreciate that during the wednesday asynchr...\n",
       "3  i really appreciated the in class time dedicat...\n",
       "4  i have been busier over the past 3 quarters i ..."
      ]
     },
     "execution_count": 9,
     "metadata": {},
     "output_type": "execute_result"
    }
   ],
   "source": [
    "sample['CPD_Q1'] = sample['CPD_Q1'].map(lambda x: re.sub('[,\\.!?]', '', x))\n",
    "sample['CPD_Q1'] = sample['CPD_Q1'].map(lambda x: x.lower())\n",
    "sample.head()"
   ]
  },
  {
   "cell_type": "code",
   "execution_count": 10,
   "metadata": {
    "colab": {
     "base_uri": "https://localhost:8080/"
    },
    "executionInfo": {
     "elapsed": 11,
     "status": "ok",
     "timestamp": 1705628589009,
     "user": {
      "displayName": "Bella C Chang",
      "userId": "13918806985501938707"
     },
     "user_tz": 480
    },
    "id": "T_n4f5i26Y32",
    "outputId": "b3e116ad-fe0b-483e-c9d5-903be560c7dc"
   },
   "outputs": [
    {
     "name": "stdout",
     "output_type": "stream",
     "text": [
      "['found', 'the', 'time', 'devoted', 'to', 'health', 'and', 'wellness', 'rewarding', 'we', 'tend', 'to', 'focus', 'so', 'much', 'on', 'learning', 'drugs', 'disease', 'states', 'that', 'we', 'forget', 'patients', 'who', 'lie', 'in', 'the', 'center', 'of']\n"
     ]
    }
   ],
   "source": [
    "from gensim.utils import simple_preprocess\n",
    "\n",
    "def sent_to_words(sentences):\n",
    "    for sentence in sentences:\n",
    "        yield(gensim.utils.simple_preprocess(str(sentence), deacc=True))  # deacc=True removes punctuations\n",
    "\n",
    "data = sample.CPD_Q1.values.tolist()\n",
    "data_words = list(sent_to_words(data))\n",
    "\n",
    "print(data_words[:1][0][:30])"
   ]
  },
  {
   "cell_type": "code",
   "execution_count": 11,
   "metadata": {
    "id": "6-pUG6IK6YTE"
   },
   "outputs": [],
   "source": [
    "#bigrams and trigrams\n",
    "# Build the bigram and trigram models\n",
    "bigram = gensim.models.Phrases(data_words, min_count=5, threshold=100) # higher threshold fewer phrases.\n",
    "trigram = gensim.models.Phrases(bigram[data_words], threshold=100)\n",
    "\n",
    "# Faster way to get a sentence clubbed as a trigram/bigram\n",
    "bigram_mod = gensim.models.phrases.Phraser(bigram)\n",
    "trigram_mod = gensim.models.phrases.Phraser(trigram)"
   ]
  },
  {
   "cell_type": "code",
   "execution_count": 12,
   "metadata": {
    "id": "jDNqUO6L6tyC"
   },
   "outputs": [],
   "source": [
    "nlp = spacy.load(\"en_core_web_sm\", disable=['parser', 'ner'])\n",
    "\n",
    "# Define functions for stopwords, bigrams, trigrams and lemmatization\n",
    "def remove_stopwords(texts):\n",
    "    return [[word for word in simple_preprocess(str(doc)) if word not in stopwords] for doc in texts]\n",
    "\n",
    "def make_bigrams(texts):\n",
    "    return [bigram_mod[doc] for doc in texts]\n",
    "\n",
    "def make_trigrams(texts):\n",
    "    return [trigram_mod[bigram_mod[doc]] for doc in texts]\n",
    "\n",
    "def lemmatization(texts, allowed_postags=['NOUN', 'ADJ', 'VERB', 'ADV']):\n",
    "    \"\"\"https://spacy.io/api/annotation\"\"\"\n",
    "    texts_out = []\n",
    "    for sent in texts:\n",
    "        doc = nlp(\" \".join(sent))\n",
    "        texts_out.append([token.lemma_ for token in doc if token.pos_ in allowed_postags])\n",
    "    return texts_out"
   ]
  },
  {
   "cell_type": "code",
   "execution_count": 13,
   "metadata": {
    "colab": {
     "base_uri": "https://localhost:8080/"
    },
    "executionInfo": {
     "elapsed": 537,
     "status": "ok",
     "timestamp": 1705628590492,
     "user": {
      "displayName": "Bella C Chang",
      "userId": "13918806985501938707"
     },
     "user_tz": 480
    },
    "id": "MFfHU8iZ7K2R",
    "outputId": "e484d148-3f40-4dc5-d469-7e19dabca6d8"
   },
   "outputs": [
    {
     "name": "stdout",
     "output_type": "stream",
     "text": [
      "['find', 'time', 'devoted', 'rewarding', 'tend', 'focus', 'much', 'learn', 'drug', 'disease', 'state', 'forget', 'patient', 'lie', 'center', 'skill', 'compassionate', 'communication', 'important', 'interact', 'people', 'career', 'need', 'learn', 'practice', 'effectively', 'interact', 'competent', 'self', 'care']\n"
     ]
    }
   ],
   "source": [
    "# Remove Stop Words\n",
    "data_words_nostops = remove_stopwords(data_words)\n",
    "\n",
    "# Form Bigrams\n",
    "data_words_bigrams = make_bigrams(data_words_nostops)\n",
    "\n",
    "# Do lemmatization keeping only noun, adj, vb, adv\n",
    "data_lemmatized = lemmatization(data_words_bigrams, allowed_postags=['NOUN', 'ADJ', 'VERB', 'ADV'])\n",
    "\n",
    "print(data_lemmatized[:1][0][:30])"
   ]
  },
  {
   "cell_type": "code",
   "execution_count": 14,
   "metadata": {
    "colab": {
     "base_uri": "https://localhost:8080/"
    },
    "executionInfo": {
     "elapsed": 8,
     "status": "ok",
     "timestamp": 1705628590493,
     "user": {
      "displayName": "Bella C Chang",
      "userId": "13918806985501938707"
     },
     "user_tz": 480
    },
    "id": "88sYu_MI93kp",
    "outputId": "ebc3315e-949e-45e6-f265-a42f22fd5368"
   },
   "outputs": [
    {
     "name": "stdout",
     "output_type": "stream",
     "text": [
      "[(0, 2), (1, 1), (2, 1), (3, 1), (4, 1), (5, 1), (6, 1), (7, 1), (8, 1), (9, 1), (10, 1), (11, 1), (12, 1), (13, 1), (14, 1), (15, 1), (16, 1), (17, 1), (18, 1), (19, 1), (20, 1), (21, 2), (22, 2), (23, 1), (24, 1), (25, 1), (26, 1), (27, 2), (28, 2), (29, 1)]\n"
     ]
    }
   ],
   "source": [
    "# Create Dictionary\n",
    "id2word = corpora.Dictionary(data_lemmatized)\n",
    "\n",
    "# Create Corpus\n",
    "texts = data_lemmatized\n",
    "\n",
    "# Term Document Frequency\n",
    "corpus = [id2word.doc2bow(text) for text in texts]\n",
    "\n",
    "# View\n",
    "print(corpus[:1][0][:30])"
   ]
  },
  {
   "cell_type": "code",
   "execution_count": 21,
   "metadata": {
    "id": "t6XGJ2DT-RnT"
   },
   "outputs": [],
   "source": [
    "# Build LDA model\n",
    "lda_model = gensim.models.LdaMulticore(corpus=corpus,\n",
    "                                       id2word=id2word,\n",
    "                                       num_topics=8, #baseline\n",
    "                                       random_state=42,\n",
    "                                       chunksize=10, #of docs processed\n",
    "                                       passes=100, #epochs\n",
    "                                       per_word_topics=True)"
   ]
  },
  {
   "cell_type": "code",
   "execution_count": 18,
   "metadata": {
    "colab": {
     "base_uri": "https://localhost:8080/"
    },
    "executionInfo": {
     "elapsed": 165,
     "status": "ok",
     "timestamp": 1705633645771,
     "user": {
      "displayName": "Bella C Chang",
      "userId": "13918806985501938707"
     },
     "user_tz": 480
    },
    "id": "aMrzF2JD-TL2",
    "outputId": "b949f681-0c31-4ff8-e5ff-f88eb667d70b"
   },
   "outputs": [
    {
     "name": "stdout",
     "output_type": "stream",
     "text": [
      "[(0,\n",
      "  '0.029*\"time\" + 0.018*\"feel\" + 0.017*\"team\" + 0.015*\"session\" + '\n",
      "  '0.015*\"think\" + 0.014*\"discussion\" + 0.012*\"devote\" + 0.012*\"get\" + '\n",
      "  '0.012*\"care\" + 0.011*\"important\"'),\n",
      " (1,\n",
      "  '0.052*\"time\" + 0.024*\"care\" + 0.020*\"self\" + 0.019*\"feel\" + 0.015*\"take\" + '\n",
      "  '0.014*\"really\" + 0.013*\"also\" + 0.012*\"help\" + 0.012*\"focus\" + 0.012*\"get\"'),\n",
      " (2,\n",
      "  '0.025*\"think\" + 0.024*\"also\" + 0.024*\"time\" + 0.017*\"really\" + 0.017*\"well\" '\n",
      "  '+ 0.014*\"break\" + 0.012*\"make\" + 0.012*\"discussion\" + 0.012*\"help\" + '\n",
      "  '0.011*\"appreciate\"'),\n",
      " (3,\n",
      "  '0.064*\"time\" + 0.031*\"take\" + 0.026*\"care\" + 0.020*\"help\" + 0.020*\"feel\" + '\n",
      "  '0.019*\"think\" + 0.016*\"find\" + 0.013*\"way\" + 0.013*\"day\" + 0.012*\"self\"'),\n",
      " (4,\n",
      "  '0.024*\"time\" + 0.021*\"allow\" + 0.014*\"provide\" + 0.014*\"team\" + '\n",
      "  '0.011*\"stress\" + 0.011*\"life\" + 0.011*\"appreciate\" + 0.011*\"work\" + '\n",
      "  '0.011*\"space\" + 0.011*\"opportunity\"'),\n",
      " (5,\n",
      "  '0.015*\"reflect\" + 0.014*\"past\" + 0.010*\"time\" + 0.010*\"realize\" + '\n",
      "  '0.010*\"enjoy\" + 0.010*\"happy\" + 0.010*\"spend\" + 0.010*\"come\" + '\n",
      "  '0.010*\"activity\" + 0.010*\"want\"')]\n"
     ]
    }
   ],
   "source": [
    "from pprint import pprint\n",
    "\n",
    "# Print the Keyword in the 10 topics\n",
    "pprint(lda_model.print_topics())\n",
    "doc_lda = lda_model[corpus]"
   ]
  },
  {
   "cell_type": "code",
   "execution_count": 19,
   "metadata": {
    "colab": {
     "base_uri": "https://localhost:8080/"
    },
    "executionInfo": {
     "elapsed": 1190,
     "status": "ok",
     "timestamp": 1705632203866,
     "user": {
      "displayName": "Bella C Chang",
      "userId": "13918806985501938707"
     },
     "user_tz": 480
    },
    "id": "fEGobF_7-YY_",
    "outputId": "91631d20-590d-4bdd-d687-eb81e47fedcc"
   },
   "outputs": [
    {
     "name": "stdout",
     "output_type": "stream",
     "text": [
      "Coherence Score:  0.351720002940574\n"
     ]
    }
   ],
   "source": [
    "from gensim.models import CoherenceModel\n",
    "\n",
    "## BASELINE -------\n",
    "#better to have higher coherence score\n",
    "\n",
    "# Compute Coherence Score\n",
    "coherence_model_lda = CoherenceModel(model=lda_model, texts=data_lemmatized, dictionary=id2word, coherence='c_v')\n",
    "coherence_lda = coherence_model_lda.get_coherence()\n",
    "print('Coherence Score: ', coherence_lda)\n",
    "\n",
    "# Score < 0.2: Low coherence, topics may not be interpretable.\n",
    "# 0.2 <= Score < 0.4: Moderate coherence, topics are somewhat interpretable.\n",
    "# Score >= 0.4: Good coherence, topics are likely to be interpretable."
   ]
  },
  {
   "cell_type": "code",
   "execution_count": 20,
   "metadata": {
    "id": "tgcVp37E-1WR"
   },
   "outputs": [],
   "source": [
    "# supporting function\n",
    "def compute_coherence_values(corpus, dictionary, k, a, b):\n",
    "\n",
    "    lda_model = gensim.models.LdaMulticore(corpus=corpus,\n",
    "                                           id2word=dictionary,\n",
    "                                           num_topics=k,\n",
    "                                           random_state=100,\n",
    "                                           chunksize=10,\n",
    "                                           passes=100,\n",
    "                                           alpha=a,\n",
    "                                           eta=b)\n",
    "\n",
    "    coherence_model_lda = CoherenceModel(model=lda_model, texts=data_lemmatized, dictionary=id2word, coherence='c_v')\n",
    "\n",
    "    return coherence_model_lda.get_coherence()"
   ]
  },
  {
   "cell_type": "code",
   "execution_count": null,
   "metadata": {
    "colab": {
     "base_uri": "https://localhost:8080/"
    },
    "executionInfo": {
     "elapsed": 633974,
     "status": "ok",
     "timestamp": 1705629225707,
     "user": {
      "displayName": "Bella C Chang",
      "userId": "13918806985501938707"
     },
     "user_tz": 480
    },
    "id": "zUeKi1yE-3CO",
    "outputId": "bfd6c0db-4ad5-4568-9cd3-64e1fd8cd899"
   },
   "outputs": [
    {
     "name": "stderr",
     "output_type": "stream",
     "text": [
      " 77%|███████████████████████████████▌         | 416/540 [4:45:34<18:02,  8.73s/it]"
     ]
    }
   ],
   "source": [
    "import tqdm\n",
    "\n",
    "grid = {}\n",
    "grid['Validation_Set'] = {}\n",
    "\n",
    "# Topics range\n",
    "min_topics = 2\n",
    "max_topics = 11\n",
    "step_size = 1\n",
    "topics_range = range(min_topics, max_topics, step_size)\n",
    "\n",
    "# Alpha parameter\n",
    "alpha = list(np.arange(0.01, 1, 0.3))\n",
    "alpha.append('symmetric')\n",
    "alpha.append('asymmetric')\n",
    "\n",
    "# Beta parameter\n",
    "beta = list(np.arange(0.01, 1, 0.3))\n",
    "beta.append('symmetric')\n",
    "\n",
    "# Validation sets\n",
    "num_of_docs = len(corpus)\n",
    "corpus_sets = [gensim.utils.ClippedCorpus(corpus, int(num_of_docs*0.75)),\n",
    "               corpus]\n",
    "\n",
    "corpus_title = ['75% Corpus', '100% Corpus']\n",
    "\n",
    "model_results = {'Validation_Set': [],\n",
    "                 'Topics': [],\n",
    "                 'Alpha': [],\n",
    "                 'Beta': [],\n",
    "                 'Coherence': []\n",
    "                }\n",
    "\n",
    "# Can take a long time to run\n",
    "if 1 == 1:\n",
    "    pbar = tqdm.tqdm(total=(len(beta)*len(alpha)*len(topics_range)*len(corpus_title)))\n",
    "\n",
    "    # iterate through validation corpuses\n",
    "    for i in range(len(corpus_sets)):\n",
    "        # iterate through number of topics\n",
    "        for k in topics_range:\n",
    "            # iterate through alpha values\n",
    "            for a in alpha:\n",
    "                # iterare through beta values\n",
    "                for b in beta:\n",
    "                    # get the coherence score for the given parameters\n",
    "                    cv = compute_coherence_values(corpus=corpus_sets[i], dictionary=id2word,\n",
    "                                                  k=k, a=a, b=b)\n",
    "                    # Save the model results\n",
    "                    model_results['Validation_Set'].append(corpus_title[i])\n",
    "                    model_results['Topics'].append(k)\n",
    "                    model_results['Alpha'].append(a)\n",
    "                    model_results['Beta'].append(b)\n",
    "                    model_results['Coherence'].append(cv)\n",
    "\n",
    "                    pbar.update(1)\n",
    "    model_results = pd.DataFrame(model_results).to_csv('./lda_tuning_results.csv', index=False)\n",
    "    pbar.close()"
   ]
  },
  {
   "cell_type": "code",
   "execution_count": null,
   "metadata": {
    "colab": {
     "base_uri": "https://localhost:8080/",
     "height": 139
    },
    "executionInfo": {
     "elapsed": 186,
     "status": "ok",
     "timestamp": 1705631463654,
     "user": {
      "displayName": "Bella C Chang",
      "userId": "13918806985501938707"
     },
     "user_tz": 480
    },
    "id": "NbvqwEtF6YJW",
    "outputId": "4b50cd0f-dfb9-4a87-8bbc-0c5164dc4db7"
   },
   "outputs": [
    {
     "data": {
      "text/html": [
       "\n",
       "  <div id=\"df-8e652e91-83a3-4ccb-b666-83f2dca893a7\" class=\"colab-df-container\">\n",
       "    <div>\n",
       "<style scoped>\n",
       "    .dataframe tbody tr th:only-of-type {\n",
       "        vertical-align: middle;\n",
       "    }\n",
       "\n",
       "    .dataframe tbody tr th {\n",
       "        vertical-align: top;\n",
       "    }\n",
       "\n",
       "    .dataframe thead th {\n",
       "        text-align: right;\n",
       "    }\n",
       "</style>\n",
       "<table border=\"1\" class=\"dataframe\">\n",
       "  <thead>\n",
       "    <tr style=\"text-align: right;\">\n",
       "      <th></th>\n",
       "    </tr>\n",
       "  </thead>\n",
       "  <tbody>\n",
       "  </tbody>\n",
       "</table>\n",
       "</div>\n",
       "    <div class=\"colab-df-buttons\">\n",
       "\n",
       "  <div class=\"colab-df-container\">\n",
       "    <button class=\"colab-df-convert\" onclick=\"convertToInteractive('df-8e652e91-83a3-4ccb-b666-83f2dca893a7')\"\n",
       "            title=\"Convert this dataframe to an interactive table.\"\n",
       "            style=\"display:none;\">\n",
       "\n",
       "  <svg xmlns=\"http://www.w3.org/2000/svg\" height=\"24px\" viewBox=\"0 -960 960 960\">\n",
       "    <path d=\"M120-120v-720h720v720H120Zm60-500h600v-160H180v160Zm220 220h160v-160H400v160Zm0 220h160v-160H400v160ZM180-400h160v-160H180v160Zm440 0h160v-160H620v160ZM180-180h160v-160H180v160Zm440 0h160v-160H620v160Z\"/>\n",
       "  </svg>\n",
       "    </button>\n",
       "\n",
       "  <style>\n",
       "    .colab-df-container {\n",
       "      display:flex;\n",
       "      gap: 12px;\n",
       "    }\n",
       "\n",
       "    .colab-df-convert {\n",
       "      background-color: #E8F0FE;\n",
       "      border: none;\n",
       "      border-radius: 50%;\n",
       "      cursor: pointer;\n",
       "      display: none;\n",
       "      fill: #1967D2;\n",
       "      height: 32px;\n",
       "      padding: 0 0 0 0;\n",
       "      width: 32px;\n",
       "    }\n",
       "\n",
       "    .colab-df-convert:hover {\n",
       "      background-color: #E2EBFA;\n",
       "      box-shadow: 0px 1px 2px rgba(60, 64, 67, 0.3), 0px 1px 3px 1px rgba(60, 64, 67, 0.15);\n",
       "      fill: #174EA6;\n",
       "    }\n",
       "\n",
       "    .colab-df-buttons div {\n",
       "      margin-bottom: 4px;\n",
       "    }\n",
       "\n",
       "    [theme=dark] .colab-df-convert {\n",
       "      background-color: #3B4455;\n",
       "      fill: #D2E3FC;\n",
       "    }\n",
       "\n",
       "    [theme=dark] .colab-df-convert:hover {\n",
       "      background-color: #434B5C;\n",
       "      box-shadow: 0px 1px 3px 1px rgba(0, 0, 0, 0.15);\n",
       "      filter: drop-shadow(0px 1px 2px rgba(0, 0, 0, 0.3));\n",
       "      fill: #FFFFFF;\n",
       "    }\n",
       "  </style>\n",
       "\n",
       "    <script>\n",
       "      const buttonEl =\n",
       "        document.querySelector('#df-8e652e91-83a3-4ccb-b666-83f2dca893a7 button.colab-df-convert');\n",
       "      buttonEl.style.display =\n",
       "        google.colab.kernel.accessAllowed ? 'block' : 'none';\n",
       "\n",
       "      async function convertToInteractive(key) {\n",
       "        const element = document.querySelector('#df-8e652e91-83a3-4ccb-b666-83f2dca893a7');\n",
       "        const dataTable =\n",
       "          await google.colab.kernel.invokeFunction('convertToInteractive',\n",
       "                                                    [key], {});\n",
       "        if (!dataTable) return;\n",
       "\n",
       "        const docLinkHtml = 'Like what you see? Visit the ' +\n",
       "          '<a target=\"_blank\" href=https://colab.research.google.com/notebooks/data_table.ipynb>data table notebook</a>'\n",
       "          + ' to learn more about interactive tables.';\n",
       "        element.innerHTML = '';\n",
       "        dataTable['output_type'] = 'display_data';\n",
       "        await google.colab.output.renderOutput(dataTable, element);\n",
       "        const docLink = document.createElement('div');\n",
       "        docLink.innerHTML = docLinkHtml;\n",
       "        element.appendChild(docLink);\n",
       "      }\n",
       "    </script>\n",
       "  </div>\n",
       "\n",
       "    </div>\n",
       "  </div>\n"
      ],
      "text/plain": [
       "Empty DataFrame\n",
       "Columns: []\n",
       "Index: []"
      ]
     },
     "execution_count": 22,
     "metadata": {},
     "output_type": "execute_result"
    }
   ],
   "source": [
    "model_results\n",
    "model_results[model_results[\"Coherence\"] == max(model_results[\"Coherence\"])]"
   ]
  }
 ],
 "metadata": {
  "colab": {
   "provenance": []
  },
  "kernelspec": {
   "display_name": "Python 3 (ipykernel)",
   "language": "python",
   "name": "python3"
  },
  "language_info": {
   "codemirror_mode": {
    "name": "ipython",
    "version": 3
   },
   "file_extension": ".py",
   "mimetype": "text/x-python",
   "name": "python",
   "nbconvert_exporter": "python",
   "pygments_lexer": "ipython3",
   "version": "3.11.7"
  }
 },
 "nbformat": 4,
 "nbformat_minor": 4
}
