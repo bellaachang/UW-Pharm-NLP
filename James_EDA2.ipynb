{
 "cells": [
  {
   "cell_type": "code",
   "execution_count": 1,
   "metadata": {},
   "outputs": [],
   "source": [
    "import pandas as pd\n",
    "import numpy as np\n",
    "import matplotlib.pyplot as plt\n",
    "import seaborn as sns\n",
    "import tqdm\n",
    "\n",
    "import nltk\n",
    "from nltk.corpus import stopwords\n",
    "from nltk.tokenize import word_tokenize\n",
    "from nltk.stem import WordNetLemmatizer, PorterStemmer\n",
    "\n",
    "import re\n",
    "\n",
    "from sklearn.feature_extraction.text import TfidfVectorizer\n",
    "\n",
    "from collections import Counter\n",
    "\n",
    "from pprint import pprint\n",
    "\n",
    "import gensim\n",
    "import gensim.corpora as corpora\n",
    "from gensim.utils import simple_preprocess\n",
    "from gensim.models import CoherenceModel"
   ]
  },
  {
   "cell_type": "code",
   "execution_count": 2,
   "metadata": {},
   "outputs": [
    {
     "name": "stdout",
     "output_type": "stream",
     "text": [
      "There are 104 rows.\n"
     ]
    },
    {
     "data": {
      "text/html": [
       "<div>\n",
       "<style scoped>\n",
       "    .dataframe tbody tr th:only-of-type {\n",
       "        vertical-align: middle;\n",
       "    }\n",
       "\n",
       "    .dataframe tbody tr th {\n",
       "        vertical-align: top;\n",
       "    }\n",
       "\n",
       "    .dataframe thead th {\n",
       "        text-align: right;\n",
       "    }\n",
       "</style>\n",
       "<table border=\"1\" class=\"dataframe\">\n",
       "  <thead>\n",
       "    <tr style=\"text-align: right;\">\n",
       "      <th></th>\n",
       "      <th>CPD_Q3</th>\n",
       "    </tr>\n",
       "  </thead>\n",
       "  <tbody>\n",
       "    <tr>\n",
       "      <th>0</th>\n",
       "      <td>I believe self-care to be really important in ...</td>\n",
       "    </tr>\n",
       "    <tr>\n",
       "      <th>1</th>\n",
       "      <td>The time spent on my choice of self-care allow...</td>\n",
       "    </tr>\n",
       "    <tr>\n",
       "      <th>2</th>\n",
       "      <td>The time spent on my choice of self care affec...</td>\n",
       "    </tr>\n",
       "    <tr>\n",
       "      <th>3</th>\n",
       "      <td>It made me more relaxed and less stressed abou...</td>\n",
       "    </tr>\n",
       "    <tr>\n",
       "      <th>4</th>\n",
       "      <td>This has been a lifeline because I always felt...</td>\n",
       "    </tr>\n",
       "  </tbody>\n",
       "</table>\n",
       "</div>"
      ],
      "text/plain": [
       "                                              CPD_Q3\n",
       "0  I believe self-care to be really important in ...\n",
       "1  The time spent on my choice of self-care allow...\n",
       "2  The time spent on my choice of self care affec...\n",
       "3  It made me more relaxed and less stressed abou...\n",
       "4  This has been a lifeline because I always felt..."
      ]
     },
     "execution_count": 2,
     "metadata": {},
     "output_type": "execute_result"
    }
   ],
   "source": [
    "data = pd.read_csv(\"data/choiceboard_data.csv\")[[\"CPD_Q3\"]]\n",
    "data = data.dropna()\n",
    "print('There are ' + str(data.shape[0]) + ' rows.')\n",
    "data.head()"
   ]
  },
  {
   "cell_type": "code",
   "execution_count": 3,
   "metadata": {},
   "outputs": [
    {
     "data": {
      "text/html": [
       "<div>\n",
       "<style scoped>\n",
       "    .dataframe tbody tr th:only-of-type {\n",
       "        vertical-align: middle;\n",
       "    }\n",
       "\n",
       "    .dataframe tbody tr th {\n",
       "        vertical-align: top;\n",
       "    }\n",
       "\n",
       "    .dataframe thead th {\n",
       "        text-align: right;\n",
       "    }\n",
       "</style>\n",
       "<table border=\"1\" class=\"dataframe\">\n",
       "  <thead>\n",
       "    <tr style=\"text-align: right;\">\n",
       "      <th></th>\n",
       "      <th>CPD_Q3</th>\n",
       "      <th>CPD_Q3 Clean</th>\n",
       "      <th>CPD_Q3 Word Count</th>\n",
       "      <th>CPD_Q3 Clean Word Count</th>\n",
       "    </tr>\n",
       "  </thead>\n",
       "  <tbody>\n",
       "    <tr>\n",
       "      <th>0</th>\n",
       "      <td>I believe self-care to be really important in ...</td>\n",
       "      <td>[believ, self, care, realli, import, live, hea...</td>\n",
       "      <td>37</td>\n",
       "      <td>20</td>\n",
       "    </tr>\n",
       "    <tr>\n",
       "      <th>1</th>\n",
       "      <td>The time spent on my choice of self-care allow...</td>\n",
       "      <td>[time, spent, choic, self, care, allow, relax,...</td>\n",
       "      <td>26</td>\n",
       "      <td>15</td>\n",
       "    </tr>\n",
       "    <tr>\n",
       "      <th>2</th>\n",
       "      <td>The time spent on my choice of self care affec...</td>\n",
       "      <td>[time, spent, choic, self, care, affect, posit...</td>\n",
       "      <td>63</td>\n",
       "      <td>30</td>\n",
       "    </tr>\n",
       "    <tr>\n",
       "      <th>3</th>\n",
       "      <td>It made me more relaxed and less stressed abou...</td>\n",
       "      <td>[made, relax, le, stress, upcom, futur, exam, ...</td>\n",
       "      <td>34</td>\n",
       "      <td>13</td>\n",
       "    </tr>\n",
       "    <tr>\n",
       "      <th>4</th>\n",
       "      <td>This has been a lifeline because I always felt...</td>\n",
       "      <td>[lifelin, alway, felt, like, wast, time, walk,...</td>\n",
       "      <td>50</td>\n",
       "      <td>23</td>\n",
       "    </tr>\n",
       "  </tbody>\n",
       "</table>\n",
       "</div>"
      ],
      "text/plain": [
       "                                              CPD_Q3  \\\n",
       "0  I believe self-care to be really important in ...   \n",
       "1  The time spent on my choice of self-care allow...   \n",
       "2  The time spent on my choice of self care affec...   \n",
       "3  It made me more relaxed and less stressed abou...   \n",
       "4  This has been a lifeline because I always felt...   \n",
       "\n",
       "                                        CPD_Q3 Clean  CPD_Q3 Word Count  \\\n",
       "0  [believ, self, care, realli, import, live, hea...                 37   \n",
       "1  [time, spent, choic, self, care, allow, relax,...                 26   \n",
       "2  [time, spent, choic, self, care, affect, posit...                 63   \n",
       "3  [made, relax, le, stress, upcom, futur, exam, ...                 34   \n",
       "4  [lifelin, alway, felt, like, wast, time, walk,...                 50   \n",
       "\n",
       "   CPD_Q3 Clean Word Count  \n",
       "0                       20  \n",
       "1                       15  \n",
       "2                       30  \n",
       "3                       13  \n",
       "4                       23  "
      ]
     },
     "execution_count": 3,
     "metadata": {},
     "output_type": "execute_result"
    }
   ],
   "source": [
    "stopwords = set(nltk.corpus.stopwords.words('english'))\n",
    "lemmatizer = WordNetLemmatizer()\n",
    "stemmer = PorterStemmer()\n",
    "\n",
    "def preprocess(text):\n",
    "    # Remove punctuation and numbers\n",
    "    text = re.sub('[^a-zA-Z]', ' ', text)\n",
    "\n",
    "    # Lowercase\n",
    "    text = text.lower() \n",
    "\n",
    "    # Tokenize\n",
    "    tokens = word_tokenize(text)  \n",
    "\n",
    "    # Lemmatize and remove stopwords\n",
    "    tokens = [lemmatizer.lemmatize(word) for word in tokens if word not in stopwords]\n",
    "\n",
    "    # Stemming\n",
    "    tokens = [stemmer.stem(word) for word in tokens] \n",
    "    \n",
    "    # Return preprocessed list of tokens\n",
    "    return tokens\n",
    "\n",
    "data['CPD_Q3 Clean'] = data['CPD_Q3'].apply(preprocess)\n",
    "data['CPD_Q3 Word Count'] = data['CPD_Q3'].apply(lambda x: len(x.split()))\n",
    "data['CPD_Q3 Clean Word Count'] = data['CPD_Q3 Clean'].apply(lambda x: len(x))\n",
    "data.head()"
   ]
  },
  {
   "cell_type": "code",
   "execution_count": 4,
   "metadata": {},
   "outputs": [
    {
     "data": {
      "text/plain": [
       "0      [believ, self, care, realli, import, live, hea...\n",
       "1      [time, spent, choic, self, care, allow, relax,...\n",
       "2      [time, spent, choic, self, care, affect, posit...\n",
       "3      [made, relax, le, stress, upcom, futur, exam, ...\n",
       "4      [lifelin, alway, felt, like, wast, time, walk,...\n",
       "                             ...                        \n",
       "102    [way, time, spent, choic, self, care, affect, ...\n",
       "103    [life, constant, balanc, happi, busi, alway, t...\n",
       "104    [time, spent, self, care, help, take, mental, ...\n",
       "106                          [gave, small, break, think]\n",
       "107                [nice, think, realli, affect, overal]\n",
       "Name: CPD_Q3 Clean, Length: 104, dtype: object"
      ]
     },
     "execution_count": 4,
     "metadata": {},
     "output_type": "execute_result"
    }
   ],
   "source": [
    "data.head()\n",
    "modelling_data = data[['CPD_Q3 Clean']]\n",
    "modelling_data.iloc[:,0]"
   ]
  },
  {
   "cell_type": "code",
   "execution_count": 6,
   "metadata": {},
   "outputs": [
    {
     "name": "stdout",
     "output_type": "stream",
     "text": [
      "[(0, 1), (1, 1), (2, 1), (3, 2), (4, 1), (5, 1), (6, 1), (7, 1), (8, 1), (9, 1), (10, 1), (11, 1), (12, 1), (13, 1), (14, 2), (15, 1), (16, 1), (17, 1)]\n"
     ]
    }
   ],
   "source": [
    "# Create Corpus\n",
    "Q3_texts = modelling_data.iloc[:, 0]\n",
    "\n",
    "# Create Dictionary\n",
    "id2word = corpora.Dictionary(Q3_texts)\n",
    "\n",
    "\n",
    "# Term Document Frequency\n",
    "corpus = [id2word.doc2bow(text) for text in Q3_texts]\n",
    "\n",
    "# View\n",
    "print(corpus[:1][0][:30])"
   ]
  },
  {
   "cell_type": "code",
   "execution_count": 7,
   "metadata": {},
   "outputs": [],
   "source": [
    "# Build LDA model\n",
    "lda_model = gensim.models.LdaMulticore(corpus=corpus,\n",
    "                                       id2word=id2word,\n",
    "                                       num_topics=10, \n",
    "                                       random_state=100,\n",
    "                                       chunksize=100,\n",
    "                                       passes=10,\n",
    "                                       per_word_topics=True)"
   ]
  },
  {
   "cell_type": "code",
   "execution_count": 8,
   "metadata": {},
   "outputs": [
    {
     "name": "stdout",
     "output_type": "stream",
     "text": [
      "[(0,\n",
      "  '0.051*\"time\" + 0.026*\"care\" + 0.026*\"feel\" + 0.021*\"self\" + 0.020*\"felt\" + '\n",
      "  '0.020*\"break\" + 0.019*\"also\" + 0.015*\"alway\" + 0.015*\"posit\" + '\n",
      "  '0.015*\"affect\"'),\n",
      " (1,\n",
      "  '0.037*\"week\" + 0.025*\"time\" + 0.021*\"allow\" + 0.017*\"need\" + 0.013*\"work\" + '\n",
      "  '0.013*\"alway\" + 0.013*\"care\" + 0.013*\"new\" + 0.013*\"bit\" + 0.013*\"lot\"'),\n",
      " (2,\n",
      "  '0.038*\"take\" + 0.030*\"time\" + 0.023*\"feel\" + 0.023*\"quarter\" + 0.016*\"back\" '\n",
      "  '+ 0.016*\"like\" + 0.016*\"care\" + 0.016*\"studi\" + 0.016*\"need\" + '\n",
      "  '0.016*\"school\"'),\n",
      " (3,\n",
      "  '0.063*\"time\" + 0.054*\"care\" + 0.049*\"self\" + 0.022*\"help\" + 0.020*\"take\" + '\n",
      "  '0.019*\"feel\" + 0.014*\"think\" + 0.014*\"spend\" + 0.014*\"work\" + 0.012*\"need\"'),\n",
      " (4,\n",
      "  '0.047*\"time\" + 0.031*\"posit\" + 0.024*\"affect\" + 0.024*\"like\" + 0.016*\"valu\" '\n",
      "  '+ 0.016*\"away\" + 0.016*\"felt\" + 0.016*\"comput\" + 0.008*\"care\" + '\n",
      "  '0.008*\"self\"'),\n",
      " (5,\n",
      "  '0.040*\"time\" + 0.025*\"spent\" + 0.024*\"care\" + 0.023*\"take\" + 0.021*\"feel\" + '\n",
      "  '0.019*\"self\" + 0.018*\"also\" + 0.018*\"help\" + 0.018*\"like\" + 0.017*\"choic\"'),\n",
      " (6,\n",
      "  '0.031*\"time\" + 0.022*\"help\" + 0.017*\"work\" + 0.017*\"look\" + 0.017*\"mind\" + '\n",
      "  '0.017*\"life\" + 0.016*\"get\" + 0.014*\"challeng\" + 0.014*\"school\" + '\n",
      "  '0.014*\"relax\"'),\n",
      " (7,\n",
      "  '0.027*\"self\" + 0.027*\"care\" + 0.017*\"time\" + 0.017*\"thing\" + '\n",
      "  '0.017*\"exercis\" + 0.017*\"bike\" + 0.017*\"help\" + 0.017*\"allow\" + '\n",
      "  '0.017*\"continu\" + 0.011*\"come\"'),\n",
      " (8,\n",
      "  '0.044*\"care\" + 0.039*\"self\" + 0.023*\"help\" + 0.017*\"feel\" + 0.015*\"relax\" + '\n",
      "  '0.015*\"even\" + 0.015*\"routin\" + 0.014*\"studi\" + 0.014*\"activ\" + '\n",
      "  '0.014*\"time\"'),\n",
      " (9,\n",
      "  '0.056*\"time\" + 0.035*\"self\" + 0.035*\"care\" + 0.018*\"help\" + 0.018*\"stress\" '\n",
      "  '+ 0.018*\"activ\" + 0.013*\"better\" + 0.013*\"felt\" + 0.013*\"look\" + '\n",
      "  '0.013*\"spent\"')]\n"
     ]
    }
   ],
   "source": [
    "# Print the Keyword in the 10 topics\n",
    "pprint(lda_model.print_topics())\n",
    "doc_lda = lda_model[corpus]"
   ]
  },
  {
   "cell_type": "code",
   "execution_count": 10,
   "metadata": {},
   "outputs": [
    {
     "name": "stdout",
     "output_type": "stream",
     "text": [
      "Coherence Score:  0.30679700539538673\n"
     ]
    }
   ],
   "source": [
    "# Compute Coherence Score\n",
    "coherence_model_lda = CoherenceModel(model=lda_model, texts=Q3_texts, dictionary=id2word, coherence='c_v')\n",
    "coherence_lda = coherence_model_lda.get_coherence()\n",
    "print('Coherence Score: ', coherence_lda)"
   ]
  },
  {
   "cell_type": "code",
   "execution_count": 23,
   "metadata": {},
   "outputs": [],
   "source": [
    "# Supporting function\n",
    "def compute_coherence_values(corpus, dictionary, k, a, b, texts):\n",
    "    \n",
    "    lda_model = gensim.models.LdaMulticore(corpus=corpus,\n",
    "                                           id2word=dictionary,\n",
    "                                           num_topics=k, \n",
    "                                           random_state=100,\n",
    "                                           chunksize=100,\n",
    "                                           passes=10,\n",
    "                                           alpha=a,\n",
    "                                           eta=b)\n",
    "    \n",
    "    coherence_model_lda = CoherenceModel(model=lda_model, texts=texts, dictionary=id2word, coherence='c_v')\n",
    "    \n",
    "    return coherence_model_lda.get_coherence()"
   ]
  },
  {
   "cell_type": "code",
   "execution_count": 14,
   "metadata": {},
   "outputs": [],
   "source": [
    "# Set up for modelling\n",
    "\n",
    "grid = {}\n",
    "grid['Validation_Set'] = {}\n",
    "\n",
    "# Topics range\n",
    "min_topics = 3\n",
    "max_topics = 9\n",
    "step_size = 1\n",
    "topics_range = range(min_topics, max_topics, step_size)\n",
    "\n",
    "# Alpha parameter\n",
    "alpha = list(np.arange(0.31, 1, 0.3))\n",
    "alpha.append('symmetric')\n",
    "alpha.append('asymmetric')\n",
    "\n",
    "# Beta parameter\n",
    "beta = list(np.arange(0.31, 1, 0.3))\n",
    "beta.append('symmetric')\n",
    "\n",
    "# Validation sets\n",
    "num_of_docs = len(corpus)\n",
    "corpus_sets = [gensim.utils.ClippedCorpus(corpus, int(num_of_docs*0.75)), \n",
    "               corpus]\n",
    "\n",
    "corpus_title = ['75% Corpus', '100% Corpus']\n",
    "\n",
    "model_results = {'Validation_Set': [],\n",
    "                 'Topics': [],\n",
    "                 'Alpha': [],\n",
    "                 'Beta': [],\n",
    "                 'Coherence': []\n",
    "                }"
   ]
  },
  {
   "cell_type": "code",
   "execution_count": 17,
   "metadata": {},
   "outputs": [
    {
     "name": "stderr",
     "output_type": "stream",
     "text": [
      "  6%|▋         | 15/240 [02:13<33:21,  8.90s/it]\n",
      "100%|██████████| 240/240 [32:28<00:00,  8.12s/it]\n"
     ]
    }
   ],
   "source": [
    "# DO NOT RUN THIS CELL UNLESS YOU'RE TUNING LDA MODEL FOR <1 HOUR\n",
    "# Can take a long time to run\n",
    "if 1 == 1:\n",
    "    pbar = tqdm.tqdm(total=(len(beta)*len(alpha)*len(topics_range)*len(corpus_title)))\n",
    "    \n",
    "    # iterate through validation corpuses\n",
    "    for i in range(len(corpus_sets)):\n",
    "        # iterate through number of topics\n",
    "        for k in topics_range:\n",
    "            # iterate through alpha values\n",
    "            for a in alpha:\n",
    "                # iterare through beta values\n",
    "                for b in beta:\n",
    "                    # get the coherence score for the given parameters\n",
    "                    cv = compute_coherence_values(corpus=corpus_sets[i], dictionary=id2word, \n",
    "                                                  k=k, a=a, b=b, texts=Q3_texts)\n",
    "                    # Save the model results\n",
    "                    model_results['Validation_Set'].append(corpus_title[i])\n",
    "                    model_results['Topics'].append(k)\n",
    "                    model_results['Alpha'].append(a)\n",
    "                    model_results['Beta'].append(b)\n",
    "                    model_results['Coherence'].append(cv)\n",
    "                    \n",
    "                    pbar.update(1)\n",
    "    pd.DataFrame(model_results).to_csv('./results/lda_tuning_results2.csv', index=False)\n",
    "    pbar.close()"
   ]
  },
  {
   "cell_type": "code",
   "execution_count": 24,
   "metadata": {},
   "outputs": [
    {
     "name": "stdout",
     "output_type": "stream",
     "text": [
      "0.5905119656511264\n"
     ]
    }
   ],
   "source": [
    "# Computing coherenence values takes ~11 seconds (Locally for James)\n",
    "# Computing coherence value with optimal parameters from tuning\n",
    "cv = compute_coherence_values(corpus=corpus_sets[1], dictionary=id2word, k=8, a='asymmetric', b=0.91, texts=Q3_texts)\n",
    "print(cv)"
   ]
  },
  {
   "cell_type": "code",
   "execution_count": 26,
   "metadata": {},
   "outputs": [
    {
     "data": {
      "text/html": [
       "<div>\n",
       "<style scoped>\n",
       "    .dataframe tbody tr th:only-of-type {\n",
       "        vertical-align: middle;\n",
       "    }\n",
       "\n",
       "    .dataframe tbody tr th {\n",
       "        vertical-align: top;\n",
       "    }\n",
       "\n",
       "    .dataframe thead th {\n",
       "        text-align: right;\n",
       "    }\n",
       "</style>\n",
       "<table border=\"1\" class=\"dataframe\">\n",
       "  <thead>\n",
       "    <tr style=\"text-align: right;\">\n",
       "      <th></th>\n",
       "      <th>Validation_Set</th>\n",
       "      <th>Topics</th>\n",
       "      <th>Alpha</th>\n",
       "      <th>Beta</th>\n",
       "      <th>Coherence</th>\n",
       "    </tr>\n",
       "  </thead>\n",
       "  <tbody>\n",
       "    <tr>\n",
       "      <th>253</th>\n",
       "      <td>100% Corpus</td>\n",
       "      <td>8</td>\n",
       "      <td>asymmetric</td>\n",
       "      <td>0.9099999999999999</td>\n",
       "      <td>0.590512</td>\n",
       "    </tr>\n",
       "    <tr>\n",
       "      <th>120</th>\n",
       "      <td>75% Corpus</td>\n",
       "      <td>8</td>\n",
       "      <td>0.61</td>\n",
       "      <td>0.61</td>\n",
       "      <td>0.580329</td>\n",
       "    </tr>\n",
       "    <tr>\n",
       "      <th>113</th>\n",
       "      <td>75% Corpus</td>\n",
       "      <td>7</td>\n",
       "      <td>asymmetric</td>\n",
       "      <td>0.9099999999999999</td>\n",
       "      <td>0.568403</td>\n",
       "    </tr>\n",
       "    <tr>\n",
       "      <th>93</th>\n",
       "      <td>75% Corpus</td>\n",
       "      <td>6</td>\n",
       "      <td>asymmetric</td>\n",
       "      <td>0.9099999999999999</td>\n",
       "      <td>0.560373</td>\n",
       "    </tr>\n",
       "    <tr>\n",
       "      <th>124</th>\n",
       "      <td>75% Corpus</td>\n",
       "      <td>8</td>\n",
       "      <td>0.9099999999999999</td>\n",
       "      <td>0.61</td>\n",
       "      <td>0.548915</td>\n",
       "    </tr>\n",
       "  </tbody>\n",
       "</table>\n",
       "</div>"
      ],
      "text/plain": [
       "    Validation_Set  Topics               Alpha                Beta  Coherence\n",
       "253    100% Corpus       8          asymmetric  0.9099999999999999   0.590512\n",
       "120     75% Corpus       8                0.61                0.61   0.580329\n",
       "113     75% Corpus       7          asymmetric  0.9099999999999999   0.568403\n",
       "93      75% Corpus       6          asymmetric  0.9099999999999999   0.560373\n",
       "124     75% Corpus       8  0.9099999999999999                0.61   0.548915"
      ]
     },
     "execution_count": 26,
     "metadata": {},
     "output_type": "execute_result"
    }
   ],
   "source": [
    "# Below results were obtained on February 1, 2024, at ~2:05 AM\n",
    "# Note: Alpha and Beta columns are STRING values\n",
    "results = pd.read_csv(\"results/lda_tuning_results2.csv\")\n",
    "results.sort_values(by=['Coherence'], ascending=False).head()"
   ]
  },
  {
   "cell_type": "markdown",
   "metadata": {},
   "source": [
    "**Next steps: organize work above with more comments, documentation, etc.; create better visualizations below**"
   ]
  },
  {
   "cell_type": "code",
   "execution_count": 25,
   "metadata": {},
   "outputs": [
    {
     "data": {
      "text/plain": [
       "Text(0, 0.5, 'Coherence Score')"
      ]
     },
     "execution_count": 25,
     "metadata": {},
     "output_type": "execute_result"
    },
    {
     "data": {
      "image/png": "[encoded data removed]",
      "text/plain": [
       "<Figure size 640x480 with 1 Axes>"
      ]
     },
     "metadata": {},
     "output_type": "display_data"
    }
   ],
   "source": [
    "coherences_with_optimal_vs_a_b = results[(results[\"Alpha\"] == \"asymmetric\") & (results[\"Validation_Set\"] == \"100% Corpus\") & (results[\"Beta\"].str.contains(\"0.909\"))]\n",
    "\n",
    "\n",
    "sns.lineplot(data=coherences_with_optimal_vs_a_b, x='Topics', y='Coherence', marker='o')\n",
    "\n",
    "plt.title(\"Coherence scores given optimal parameters (Except # of Topics)\")\n",
    "plt.xlabel(\"Number of Topics\")\n",
    "plt.ylabel(\"Coherence Score\")"
   ]
  },
  {
   "cell_type": "code",
   "execution_count": null,
   "metadata": {},
   "outputs": [],
   "source": []
  }
 ],
 "metadata": {
  "kernelspec": {
   "display_name": "base",
   "language": "python",
   "name": "python3"
  },
  "language_info": {
   "codemirror_mode": {
    "name": "ipython",
    "version": 3
   },
   "file_extension": ".py",
   "mimetype": "text/x-python",
   "name": "python",
   "nbconvert_exporter": "python",
   "pygments_lexer": "ipython3",
   "version": "3.10.9"
  }
 },
 "nbformat": 4,
 "nbformat_minor": 2
}
