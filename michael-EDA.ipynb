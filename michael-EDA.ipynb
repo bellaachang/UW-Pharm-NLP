{
 "cells": [
  {
   "cell_type": "markdown",
   "id": "04edd596-7b61-41f5-a2ec-5bb2c9f4d2ca",
   "metadata": {},
   "source": [
    "# An Exploration of UW Pharmacy Student Reflections"
   ]
  },
  {
   "cell_type": "markdown",
   "id": "f80a0b2a-3831-477b-af69-5fcaa43028a9",
   "metadata": {},
   "source": [
    "Author: Michael Florip (michaelflorip@berkeley.edu)"
   ]
  },
  {
   "cell_type": "markdown",
   "id": "80de3ed6",
   "metadata": {},
   "source": [
    "## Experimenting with topicwizard\n",
    "Medium Link: https://medium.com/@power.up1163/visualizing-topic-models-with-topicwizard-ee5b4428405e\n",
    "\n",
    "Code is from the Medium article, with minor adjustments for my own experimentation"
   ]
  },
  {
   "cell_type": "markdown",
   "id": "58ae10e5",
   "metadata": {},
   "source": [
    "### Install topic-wizard from PyPi"
   ]
  },
  {
   "cell_type": "code",
   "execution_count": 71,
   "id": "bb5c98c8",
   "metadata": {},
   "outputs": [],
   "source": [
    "#%pip install topic-wizard"
   ]
  },
  {
   "cell_type": "markdown",
   "id": "f09050f7",
   "metadata": {},
   "source": [
    "### Loading a corpus to train our topic model\n",
    "A corpus is a collection of authentic text or audio organized into datasets"
   ]
  },
  {
   "cell_type": "code",
   "execution_count": 72,
   "id": "1781ebde",
   "metadata": {},
   "outputs": [],
   "source": [
    "from sklearn.datasets import fetch_20newsgroups\n",
    "\n",
    "corpus = fetch_20newsgroups(subset=\"all\").data"
   ]
  },
  {
   "cell_type": "markdown",
   "id": "1f568758",
   "metadata": {},
   "source": [
    "### Set up the topic modeling pipeline\n",
    "1. Using 'Pipeline' from sklearn to streamline the process of converting text data into a bag-of-words representation\n",
    "2. Applying Non-negative Matrix Factorization (NMF) for topic modeling"
   ]
  },
  {
   "cell_type": "code",
   "execution_count": 73,
   "id": "7c6fce15",
   "metadata": {},
   "outputs": [],
   "source": [
    "from sklearn.decomposition import NMF\n",
    "from sklearn.feature_extraction.text import CountVectorizer\n",
    "from sklearn.pipeline import Pipeline"
   ]
  },
  {
   "cell_type": "markdown",
   "id": "a06d1132",
   "metadata": {},
   "source": [
    "### Cut low and high frequency words and filter out English stopwords\n",
    "> * 'min_df = 10' means a word must appear in at least 10 documents to be included in the vocabulary, which helps remove rare words\n",
    "> * 'max_df = 0.5' means a word that appears in more than 50% of documents will be excluded, which is useful for removing very common words that are too frequent to be informative (beyond the stop words)\n",
    "> * 'stop_words = \"english\"' tells the vectorizer to remove common English stop words like \"the\", \"is\", \"in\", etc."
   ]
  },
  {
   "cell_type": "code",
   "execution_count": 74,
   "id": "c963b297",
   "metadata": {},
   "outputs": [],
   "source": [
    "# Transforms text documents into matrix of token counts\n",
    "vectorizer = CountVectorizer(min_df=10, max_df=0.5, stop_words=\"english\")"
   ]
  },
  {
   "cell_type": "markdown",
   "id": "f61df963",
   "metadata": {},
   "source": [
    "### Create a topic model\n",
    "> * NMF is used for dimensionality reduction; it decomposes the high-dimensional bag-of-words matrix into two lower-dimensional matrices, one representing the documents and topics, the other representing the topics and words\n",
    "> * 'n_components=10' specifies the number of topics (10)\n",
    "> * NMF will factorize the original matrix (V) into two matricies (W, H) such that V=WH, with the constraint that all three matrices must have no negative elements (this makes W and H easier to inspect and allows them to represent additive combinations of the original features)\n",
    "> * W (Document-Topic Matrix) - each row corresponds to a document, each column represents a topic. the values indicate the association strength of each *document to the topics*\n",
    "> * H (Topic-Term Matrix) - each row corresponds to a topic, each column represents a word in the vocabulary. the values indicate the association strength of *words to the topics*"
   ]
  },
  {
   "cell_type": "code",
   "execution_count": 75,
   "id": "2094afd0",
   "metadata": {},
   "outputs": [],
   "source": [
    "# We create a topic model with ten topics\n",
    "topic_model = NMF(n_components=10)"
   ]
  },
  {
   "cell_type": "markdown",
   "id": "dfc8b720",
   "metadata": {},
   "source": [
    "### Pipeline Setup\n",
    "> * The text data first goes through the 'CountVectorizer', stored as the variable 'vectorizer', to be transformed into a matrix of token counts\n",
    "> * Then, this matrix is fed into the NMF topic model to perform topic modeling"
   ]
  },
  {
   "cell_type": "code",
   "execution_count": 76,
   "id": "ff5921da",
   "metadata": {},
   "outputs": [],
   "source": [
    "# Then we set up a pipeline\n",
    "topic_pipeline = Pipeline(\n",
    "    [\n",
    "        (\"vectorizer\", vectorizer),\n",
    "        (\"topic_model\", topic_model),\n",
    "    ]\n",
    ")"
   ]
  },
  {
   "cell_type": "markdown",
   "id": "5d549385",
   "metadata": {},
   "source": [
    "### Training the model\n",
    "> * .fit trains the NMF model to identify 10 topics within the text based on the patterns of word occurrences across documents\n",
    "> * The H matrix will have the word distributions for each topic"
   ]
  },
  {
   "cell_type": "code",
   "execution_count": 77,
   "id": "50ab906d",
   "metadata": {},
   "outputs": [
    {
     "data": {
      "text/html": [
       "<style>#sk-container-id-5 {color: black;background-color: white;}#sk-container-id-5 pre{padding: 0;}#sk-container-id-5 div.sk-toggleable {background-color: white;}#sk-container-id-5 label.sk-toggleable__label {cursor: pointer;display: block;width: 100%;margin-bottom: 0;padding: 0.3em;box-sizing: border-box;text-align: center;}#sk-container-id-5 label.sk-toggleable__label-arrow:before {content: \"▸\";float: left;margin-right: 0.25em;color: #696969;}#sk-container-id-5 label.sk-toggleable__label-arrow:hover:before {color: black;}#sk-container-id-5 div.sk-estimator:hover label.sk-toggleable__label-arrow:before {color: black;}#sk-container-id-5 div.sk-toggleable__content {max-height: 0;max-width: 0;overflow: hidden;text-align: left;background-color: #f0f8ff;}#sk-container-id-5 div.sk-toggleable__content pre {margin: 0.2em;color: black;border-radius: 0.25em;background-color: #f0f8ff;}#sk-container-id-5 input.sk-toggleable__control:checked~div.sk-toggleable__content {max-height: 200px;max-width: 100%;overflow: auto;}#sk-container-id-5 input.sk-toggleable__control:checked~label.sk-toggleable__label-arrow:before {content: \"▾\";}#sk-container-id-5 div.sk-estimator input.sk-toggleable__control:checked~label.sk-toggleable__label {background-color: #d4ebff;}#sk-container-id-5 div.sk-label input.sk-toggleable__control:checked~label.sk-toggleable__label {background-color: #d4ebff;}#sk-container-id-5 input.sk-hidden--visually {border: 0;clip: rect(1px 1px 1px 1px);clip: rect(1px, 1px, 1px, 1px);height: 1px;margin: -1px;overflow: hidden;padding: 0;position: absolute;width: 1px;}#sk-container-id-5 div.sk-estimator {font-family: monospace;background-color: #f0f8ff;border: 1px dotted black;border-radius: 0.25em;box-sizing: border-box;margin-bottom: 0.5em;}#sk-container-id-5 div.sk-estimator:hover {background-color: #d4ebff;}#sk-container-id-5 div.sk-parallel-item::after {content: \"\";width: 100%;border-bottom: 1px solid gray;flex-grow: 1;}#sk-container-id-5 div.sk-label:hover label.sk-toggleable__label {background-color: #d4ebff;}#sk-container-id-5 div.sk-serial::before {content: \"\";position: absolute;border-left: 1px solid gray;box-sizing: border-box;top: 0;bottom: 0;left: 50%;z-index: 0;}#sk-container-id-5 div.sk-serial {display: flex;flex-direction: column;align-items: center;background-color: white;padding-right: 0.2em;padding-left: 0.2em;position: relative;}#sk-container-id-5 div.sk-item {position: relative;z-index: 1;}#sk-container-id-5 div.sk-parallel {display: flex;align-items: stretch;justify-content: center;background-color: white;position: relative;}#sk-container-id-5 div.sk-item::before, #sk-container-id-5 div.sk-parallel-item::before {content: \"\";position: absolute;border-left: 1px solid gray;box-sizing: border-box;top: 0;bottom: 0;left: 50%;z-index: -1;}#sk-container-id-5 div.sk-parallel-item {display: flex;flex-direction: column;z-index: 1;position: relative;background-color: white;}#sk-container-id-5 div.sk-parallel-item:first-child::after {align-self: flex-end;width: 50%;}#sk-container-id-5 div.sk-parallel-item:last-child::after {align-self: flex-start;width: 50%;}#sk-container-id-5 div.sk-parallel-item:only-child::after {width: 0;}#sk-container-id-5 div.sk-dashed-wrapped {border: 1px dashed gray;margin: 0 0.4em 0.5em 0.4em;box-sizing: border-box;padding-bottom: 0.4em;background-color: white;}#sk-container-id-5 div.sk-label label {font-family: monospace;font-weight: bold;display: inline-block;line-height: 1.2em;}#sk-container-id-5 div.sk-label-container {text-align: center;}#sk-container-id-5 div.sk-container {/* jupyter's `normalize.less` sets `[hidden] { display: none; }` but bootstrap.min.css set `[hidden] { display: none !important; }` so we also need the `!important` here to be able to override the default hidden behavior on the sphinx rendered scikit-learn.org. See: https://github.com/scikit-learn/scikit-learn/issues/21755 */display: inline-block !important;position: relative;}#sk-container-id-5 div.sk-text-repr-fallback {display: none;}</style><div id=\"sk-container-id-5\" class=\"sk-top-container\"><div class=\"sk-text-repr-fallback\"><pre>Pipeline(steps=[(&#x27;vectorizer&#x27;,\n",
       "                 CountVectorizer(max_df=0.5, min_df=10, stop_words=&#x27;english&#x27;)),\n",
       "                (&#x27;topic_model&#x27;, NMF(n_components=10))])</pre><b>In a Jupyter environment, please rerun this cell to show the HTML representation or trust the notebook. <br />On GitHub, the HTML representation is unable to render, please try loading this page with nbviewer.org.</b></div><div class=\"sk-container\" hidden><div class=\"sk-item sk-dashed-wrapped\"><div class=\"sk-label-container\"><div class=\"sk-label sk-toggleable\"><input class=\"sk-toggleable__control sk-hidden--visually\" id=\"sk-estimator-id-13\" type=\"checkbox\" ><label for=\"sk-estimator-id-13\" class=\"sk-toggleable__label sk-toggleable__label-arrow\">Pipeline</label><div class=\"sk-toggleable__content\"><pre>Pipeline(steps=[(&#x27;vectorizer&#x27;,\n",
       "                 CountVectorizer(max_df=0.5, min_df=10, stop_words=&#x27;english&#x27;)),\n",
       "                (&#x27;topic_model&#x27;, NMF(n_components=10))])</pre></div></div></div><div class=\"sk-serial\"><div class=\"sk-item\"><div class=\"sk-estimator sk-toggleable\"><input class=\"sk-toggleable__control sk-hidden--visually\" id=\"sk-estimator-id-14\" type=\"checkbox\" ><label for=\"sk-estimator-id-14\" class=\"sk-toggleable__label sk-toggleable__label-arrow\">CountVectorizer</label><div class=\"sk-toggleable__content\"><pre>CountVectorizer(max_df=0.5, min_df=10, stop_words=&#x27;english&#x27;)</pre></div></div></div><div class=\"sk-item\"><div class=\"sk-estimator sk-toggleable\"><input class=\"sk-toggleable__control sk-hidden--visually\" id=\"sk-estimator-id-15\" type=\"checkbox\" ><label for=\"sk-estimator-id-15\" class=\"sk-toggleable__label sk-toggleable__label-arrow\">NMF</label><div class=\"sk-toggleable__content\"><pre>NMF(n_components=10)</pre></div></div></div></div></div></div></div>"
      ],
      "text/plain": [
       "Pipeline(steps=[('vectorizer',\n",
       "                 CountVectorizer(max_df=0.5, min_df=10, stop_words='english')),\n",
       "                ('topic_model', NMF(n_components=10))])"
      ]
     },
     "execution_count": 77,
     "metadata": {},
     "output_type": "execute_result"
    }
   ],
   "source": [
    "topic_pipeline.fit(corpus)"
   ]
  },
  {
   "cell_type": "markdown",
   "id": "fd047af3",
   "metadata": {},
   "source": [
    "### Visualize the results"
   ]
  },
  {
   "cell_type": "code",
   "execution_count": 78,
   "id": "91468b11",
   "metadata": {
    "scrolled": false
   },
   "outputs": [
    {
     "name": "stdout",
     "output_type": "stream",
     "text": [
      "Requirement already satisfied: topic-wizard in /Users/michaelflorip/opt/anaconda3/lib/python3.9/site-packages (0.5.0)\n",
      "Requirement already satisfied: Pillow<11.0.0,>=10.1.0 in /Users/michaelflorip/opt/anaconda3/lib/python3.9/site-packages (from topic-wizard) (10.2.0)\n",
      "Requirement already satisfied: dash<3.0.0,>=2.7.1 in /Users/michaelflorip/opt/anaconda3/lib/python3.9/site-packages (from topic-wizard) (2.15.0)\n",
      "Requirement already satisfied: dash-extensions<2.0.0,>=1.0.4 in /Users/michaelflorip/opt/anaconda3/lib/python3.9/site-packages (from topic-wizard) (1.0.12)\n",
      "Requirement already satisfied: dash-iconify<0.2.0,>=0.1.2 in /Users/michaelflorip/opt/anaconda3/lib/python3.9/site-packages (from topic-wizard) (0.1.2)\n",
      "Requirement already satisfied: dash-mantine-components<0.13.0,>=0.12.1 in /Users/michaelflorip/opt/anaconda3/lib/python3.9/site-packages (from topic-wizard) (0.12.1)\n",
      "Requirement already satisfied: joblib<1.3.0,>=1.2.0 in /Users/michaelflorip/opt/anaconda3/lib/python3.9/site-packages (from topic-wizard) (1.2.0)\n",
      "Requirement already satisfied: numpy>=1.22.0 in /Users/michaelflorip/opt/anaconda3/lib/python3.9/site-packages (from topic-wizard) (1.24.3)\n",
      "Requirement already satisfied: pandas<2.0.0,>=1.5.2 in /Users/michaelflorip/opt/anaconda3/lib/python3.9/site-packages (from topic-wizard) (1.5.3)\n",
      "Requirement already satisfied: scikit-learn<2.0.0,>=1.2.0 in /Users/michaelflorip/opt/anaconda3/lib/python3.9/site-packages (from topic-wizard) (1.4.0)\n",
      "Requirement already satisfied: scipy>=1.8.0 in /Users/michaelflorip/opt/anaconda3/lib/python3.9/site-packages (from topic-wizard) (1.9.3)\n",
      "Requirement already satisfied: umap-learn>=0.5.3 in /Users/michaelflorip/opt/anaconda3/lib/python3.9/site-packages (from topic-wizard) (0.5.5)\n",
      "Requirement already satisfied: wordcloud<2.0.0,>=1.9.2 in /Users/michaelflorip/opt/anaconda3/lib/python3.9/site-packages (from topic-wizard) (1.9.3)\n",
      "Requirement already satisfied: Flask<3.1,>=1.0.4 in /Users/michaelflorip/opt/anaconda3/lib/python3.9/site-packages (from dash<3.0.0,>=2.7.1->topic-wizard) (1.1.2)\n",
      "Requirement already satisfied: Werkzeug<3.1 in /Users/michaelflorip/opt/anaconda3/lib/python3.9/site-packages (from dash<3.0.0,>=2.7.1->topic-wizard) (2.0.3)\n",
      "Requirement already satisfied: plotly>=5.0.0 in /Users/michaelflorip/opt/anaconda3/lib/python3.9/site-packages (from dash<3.0.0,>=2.7.1->topic-wizard) (5.6.0)\n",
      "Requirement already satisfied: dash-html-components==2.0.0 in /Users/michaelflorip/opt/anaconda3/lib/python3.9/site-packages (from dash<3.0.0,>=2.7.1->topic-wizard) (2.0.0)\n",
      "Requirement already satisfied: dash-core-components==2.0.0 in /Users/michaelflorip/opt/anaconda3/lib/python3.9/site-packages (from dash<3.0.0,>=2.7.1->topic-wizard) (2.0.0)\n",
      "Requirement already satisfied: dash-table==5.0.0 in /Users/michaelflorip/opt/anaconda3/lib/python3.9/site-packages (from dash<3.0.0,>=2.7.1->topic-wizard) (5.0.0)\n",
      "Requirement already satisfied: typing-extensions>=4.1.1 in /Users/michaelflorip/opt/anaconda3/lib/python3.9/site-packages (from dash<3.0.0,>=2.7.1->topic-wizard) (4.9.0)\n",
      "Requirement already satisfied: requests in /Users/michaelflorip/opt/anaconda3/lib/python3.9/site-packages (from dash<3.0.0,>=2.7.1->topic-wizard) (2.27.1)\n",
      "Requirement already satisfied: retrying in /Users/michaelflorip/opt/anaconda3/lib/python3.9/site-packages (from dash<3.0.0,>=2.7.1->topic-wizard) (1.3.4)\n",
      "Requirement already satisfied: nest-asyncio in /Users/michaelflorip/opt/anaconda3/lib/python3.9/site-packages (from dash<3.0.0,>=2.7.1->topic-wizard) (1.5.5)\n",
      "Requirement already satisfied: setuptools in /Users/michaelflorip/opt/anaconda3/lib/python3.9/site-packages (from dash<3.0.0,>=2.7.1->topic-wizard) (61.2.0)\n",
      "Requirement already satisfied: importlib-metadata in /Users/michaelflorip/opt/anaconda3/lib/python3.9/site-packages (from dash<3.0.0,>=2.7.1->topic-wizard) (4.11.3)\n",
      "Requirement already satisfied: Flask-Caching<3.0.0,>=2.1.0 in /Users/michaelflorip/opt/anaconda3/lib/python3.9/site-packages (from dash-extensions<2.0.0,>=1.0.4->topic-wizard) (2.1.0)\n",
      "Requirement already satisfied: dataclass-wizard<0.23.0,>=0.22.2 in /Users/michaelflorip/opt/anaconda3/lib/python3.9/site-packages (from dash-extensions<2.0.0,>=1.0.4->topic-wizard) (0.22.3)\n",
      "Requirement already satisfied: jsbeautifier<2.0.0,>=1.14.3 in /Users/michaelflorip/opt/anaconda3/lib/python3.9/site-packages (from dash-extensions<2.0.0,>=1.0.4->topic-wizard) (1.14.11)\n",
      "Requirement already satisfied: more-itertools<10.0.0,>=9.0.0 in /Users/michaelflorip/opt/anaconda3/lib/python3.9/site-packages (from dash-extensions<2.0.0,>=1.0.4->topic-wizard) (9.1.0)\n",
      "Requirement already satisfied: python-dateutil>=2.8.1 in /Users/michaelflorip/opt/anaconda3/lib/python3.9/site-packages (from pandas<2.0.0,>=1.5.2->topic-wizard) (2.8.2)\n",
      "Requirement already satisfied: pytz>=2020.1 in /Users/michaelflorip/opt/anaconda3/lib/python3.9/site-packages (from pandas<2.0.0,>=1.5.2->topic-wizard) (2021.3)\n",
      "Requirement already satisfied: threadpoolctl>=2.0.0 in /Users/michaelflorip/opt/anaconda3/lib/python3.9/site-packages (from scikit-learn<2.0.0,>=1.2.0->topic-wizard) (2.2.0)\n",
      "Requirement already satisfied: numba>=0.51.2 in /Users/michaelflorip/opt/anaconda3/lib/python3.9/site-packages (from umap-learn>=0.5.3->topic-wizard) (0.59.0)\n",
      "Requirement already satisfied: pynndescent>=0.5 in /Users/michaelflorip/opt/anaconda3/lib/python3.9/site-packages (from umap-learn>=0.5.3->topic-wizard) (0.5.11)\n",
      "Requirement already satisfied: tqdm in /Users/michaelflorip/opt/anaconda3/lib/python3.9/site-packages (from umap-learn>=0.5.3->topic-wizard) (4.64.0)\n",
      "Requirement already satisfied: matplotlib in /Users/michaelflorip/opt/anaconda3/lib/python3.9/site-packages (from wordcloud<2.0.0,>=1.9.2->topic-wizard) (3.5.1)\n",
      "Requirement already satisfied: Jinja2>=2.10.1 in /Users/michaelflorip/opt/anaconda3/lib/python3.9/site-packages (from Flask<3.1,>=1.0.4->dash<3.0.0,>=2.7.1->topic-wizard) (2.11.3)\n",
      "Requirement already satisfied: itsdangerous>=0.24 in /Users/michaelflorip/opt/anaconda3/lib/python3.9/site-packages (from Flask<3.1,>=1.0.4->dash<3.0.0,>=2.7.1->topic-wizard) (2.0.1)\n",
      "Requirement already satisfied: click>=5.1 in /Users/michaelflorip/opt/anaconda3/lib/python3.9/site-packages (from Flask<3.1,>=1.0.4->dash<3.0.0,>=2.7.1->topic-wizard) (8.0.4)\n",
      "Requirement already satisfied: cachelib<0.10.0,>=0.9.0 in /Users/michaelflorip/opt/anaconda3/lib/python3.9/site-packages (from Flask-Caching<3.0.0,>=2.1.0->dash-extensions<2.0.0,>=1.0.4->topic-wizard) (0.9.0)\n",
      "Requirement already satisfied: six>=1.13.0 in /Users/michaelflorip/opt/anaconda3/lib/python3.9/site-packages (from jsbeautifier<2.0.0,>=1.14.3->dash-extensions<2.0.0,>=1.0.4->topic-wizard) (1.16.0)\n",
      "Requirement already satisfied: editorconfig>=0.12.2 in /Users/michaelflorip/opt/anaconda3/lib/python3.9/site-packages (from jsbeautifier<2.0.0,>=1.14.3->dash-extensions<2.0.0,>=1.0.4->topic-wizard) (0.12.3)\n",
      "Requirement already satisfied: llvmlite<0.43,>=0.42.0dev0 in /Users/michaelflorip/opt/anaconda3/lib/python3.9/site-packages (from numba>=0.51.2->umap-learn>=0.5.3->topic-wizard) (0.42.0)\n",
      "Requirement already satisfied: tenacity>=6.2.0 in /Users/michaelflorip/opt/anaconda3/lib/python3.9/site-packages (from plotly>=5.0.0->dash<3.0.0,>=2.7.1->topic-wizard) (8.0.1)\n",
      "Requirement already satisfied: zipp>=0.5 in /Users/michaelflorip/opt/anaconda3/lib/python3.9/site-packages (from importlib-metadata->dash<3.0.0,>=2.7.1->topic-wizard) (3.7.0)\n",
      "Requirement already satisfied: cycler>=0.10 in /Users/michaelflorip/opt/anaconda3/lib/python3.9/site-packages (from matplotlib->wordcloud<2.0.0,>=1.9.2->topic-wizard) (0.11.0)\n",
      "Requirement already satisfied: fonttools>=4.22.0 in /Users/michaelflorip/opt/anaconda3/lib/python3.9/site-packages (from matplotlib->wordcloud<2.0.0,>=1.9.2->topic-wizard) (4.25.0)\n",
      "Requirement already satisfied: kiwisolver>=1.0.1 in /Users/michaelflorip/opt/anaconda3/lib/python3.9/site-packages (from matplotlib->wordcloud<2.0.0,>=1.9.2->topic-wizard) (1.3.2)\n",
      "Requirement already satisfied: packaging>=20.0 in /Users/michaelflorip/opt/anaconda3/lib/python3.9/site-packages (from matplotlib->wordcloud<2.0.0,>=1.9.2->topic-wizard) (21.3)\n",
      "Requirement already satisfied: pyparsing>=2.2.1 in /Users/michaelflorip/opt/anaconda3/lib/python3.9/site-packages (from matplotlib->wordcloud<2.0.0,>=1.9.2->topic-wizard) (3.0.4)\n",
      "Requirement already satisfied: urllib3<1.27,>=1.21.1 in /Users/michaelflorip/opt/anaconda3/lib/python3.9/site-packages (from requests->dash<3.0.0,>=2.7.1->topic-wizard) (1.26.9)\n",
      "Requirement already satisfied: certifi>=2017.4.17 in /Users/michaelflorip/opt/anaconda3/lib/python3.9/site-packages (from requests->dash<3.0.0,>=2.7.1->topic-wizard) (2024.2.2)\n",
      "Requirement already satisfied: charset-normalizer~=2.0.0 in /Users/michaelflorip/opt/anaconda3/lib/python3.9/site-packages (from requests->dash<3.0.0,>=2.7.1->topic-wizard) (2.0.4)\n",
      "Requirement already satisfied: idna<4,>=2.5 in /Users/michaelflorip/opt/anaconda3/lib/python3.9/site-packages (from requests->dash<3.0.0,>=2.7.1->topic-wizard) (3.3)\n"
     ]
    },
    {
     "name": "stdout",
     "output_type": "stream",
     "text": [
      "Requirement already satisfied: MarkupSafe>=0.23 in /Users/michaelflorip/opt/anaconda3/lib/python3.9/site-packages (from Jinja2>=2.10.1->Flask<3.1,>=1.0.4->dash<3.0.0,>=2.7.1->topic-wizard) (2.0.1)\r\n"
     ]
    }
   ],
   "source": [
    "!pip install topic-wizard"
   ]
  },
  {
   "cell_type": "code",
   "execution_count": 79,
   "id": "e906c6e5",
   "metadata": {},
   "outputs": [
    {
     "name": "stdout",
     "output_type": "stream",
     "text": [
      "Requirement already satisfied: scikit-learn in /Users/michaelflorip/opt/anaconda3/lib/python3.9/site-packages (1.4.0)\n",
      "Requirement already satisfied: numpy<2.0,>=1.19.5 in /Users/michaelflorip/opt/anaconda3/lib/python3.9/site-packages (from scikit-learn) (1.24.3)\n",
      "Requirement already satisfied: scipy>=1.6.0 in /Users/michaelflorip/opt/anaconda3/lib/python3.9/site-packages (from scikit-learn) (1.9.3)\n",
      "Requirement already satisfied: joblib>=1.2.0 in /Users/michaelflorip/opt/anaconda3/lib/python3.9/site-packages (from scikit-learn) (1.2.0)\n",
      "Requirement already satisfied: threadpoolctl>=2.0.0 in /Users/michaelflorip/opt/anaconda3/lib/python3.9/site-packages (from scikit-learn) (2.2.0)\n"
     ]
    }
   ],
   "source": [
    "#!pip install --upgrade numpy\n",
    "!pip install --upgrade scikit-learn"
   ]
  },
  {
   "cell_type": "code",
   "execution_count": 80,
   "id": "5a139ad6",
   "metadata": {},
   "outputs": [
    {
     "name": "stderr",
     "output_type": "stream",
     "text": [
      "<frozen importlib._bootstrap>:241: RuntimeWarning: sklearn.metrics._dist_metrics.DistanceMetric size changed, may indicate binary incompatibility. Expected 16 from C header, got 472 from PyObject\n"
     ]
    },
    {
     "ename": "AttributeError",
     "evalue": "module 'sklearn.metrics._dist_metrics' has no attribute 'DistanceMetric64'",
     "output_type": "error",
     "traceback": [
      "\u001b[0;31m---------------------------------------------------------------------------\u001b[0m",
      "\u001b[0;31mAttributeError\u001b[0m                            Traceback (most recent call last)",
      "Cell \u001b[0;32mIn [80], line 1\u001b[0m\n\u001b[0;32m----> 1\u001b[0m \u001b[38;5;28;01mimport\u001b[39;00m \u001b[38;5;21;01mtopicwizard\u001b[39;00m \n\u001b[1;32m      2\u001b[0m topicwizard\u001b[38;5;241m.\u001b[39mvisualize(pipeline\u001b[38;5;241m=\u001b[39mtopic_pipeline, corpus\u001b[38;5;241m=\u001b[39mcorpus)\n",
      "File \u001b[0;32m~/opt/anaconda3/envs/homl3/lib/python3.10/site-packages/topicwizard/__init__.py:1\u001b[0m\n\u001b[0;32m----> 1\u001b[0m \u001b[38;5;28;01mfrom\u001b[39;00m \u001b[38;5;21;01mtopicwizard\u001b[39;00m\u001b[38;5;21;01m.\u001b[39;00m\u001b[38;5;21;01mapp\u001b[39;00m \u001b[38;5;28;01mimport\u001b[39;00m get_dash_app, load, load_app, visualize\n\u001b[1;32m      2\u001b[0m \u001b[38;5;28;01mfrom\u001b[39;00m \u001b[38;5;21;01mtopicwizard\u001b[39;00m\u001b[38;5;21;01m.\u001b[39;00m\u001b[38;5;21;01mcompatibility\u001b[39;00m\u001b[38;5;21;01m.\u001b[39;00m\u001b[38;5;21;01mbertopic\u001b[39;00m \u001b[38;5;28;01mimport\u001b[39;00m bertopic_pipeline\n\u001b[1;32m      3\u001b[0m \u001b[38;5;28;01mfrom\u001b[39;00m \u001b[38;5;21;01mtopicwizard\u001b[39;00m\u001b[38;5;21;01m.\u001b[39;00m\u001b[38;5;21;01mcompatibility\u001b[39;00m\u001b[38;5;21;01m.\u001b[39;00m\u001b[38;5;21;01mgensim\u001b[39;00m \u001b[38;5;28;01mimport\u001b[39;00m gensim_pipeline\n",
      "File \u001b[0;32m~/opt/anaconda3/envs/homl3/lib/python3.10/site-packages/topicwizard/app.py:12\u001b[0m\n\u001b[1;32m      9\u001b[0m \u001b[38;5;28;01mfrom\u001b[39;00m \u001b[38;5;21;01mdash_extensions\u001b[39;00m\u001b[38;5;21;01m.\u001b[39;00m\u001b[38;5;21;01menrich\u001b[39;00m \u001b[38;5;28;01mimport\u001b[39;00m Dash, DashBlueprint\n\u001b[1;32m     10\u001b[0m \u001b[38;5;28;01mfrom\u001b[39;00m \u001b[38;5;21;01msklearn\u001b[39;00m\u001b[38;5;21;01m.\u001b[39;00m\u001b[38;5;21;01mpipeline\u001b[39;00m \u001b[38;5;28;01mimport\u001b[39;00m Pipeline\n\u001b[0;32m---> 12\u001b[0m \u001b[38;5;28;01mfrom\u001b[39;00m \u001b[38;5;21;01mtopicwizard\u001b[39;00m\u001b[38;5;21;01m.\u001b[39;00m\u001b[38;5;21;01mblueprints\u001b[39;00m\u001b[38;5;21;01m.\u001b[39;00m\u001b[38;5;21;01mapp\u001b[39;00m \u001b[38;5;28;01mimport\u001b[39;00m create_blueprint\n\u001b[1;32m     13\u001b[0m \u001b[38;5;28;01mfrom\u001b[39;00m \u001b[38;5;21;01mtopicwizard\u001b[39;00m\u001b[38;5;21;01m.\u001b[39;00m\u001b[38;5;21;01mblueprints\u001b[39;00m\u001b[38;5;21;01m.\u001b[39;00m\u001b[38;5;21;01mtemplate\u001b[39;00m \u001b[38;5;28;01mimport\u001b[39;00m prepare_blueprint\n\u001b[1;32m     16\u001b[0m \u001b[38;5;28;01mdef\u001b[39;00m \u001b[38;5;21mis_notebook\u001b[39m() \u001b[38;5;241m-\u001b[39m\u001b[38;5;241m>\u001b[39m \u001b[38;5;28mbool\u001b[39m:\n",
      "File \u001b[0;32m~/opt/anaconda3/envs/homl3/lib/python3.10/site-packages/topicwizard/blueprints/app.py:19\u001b[0m\n\u001b[1;32m     16\u001b[0m \u001b[38;5;28;01mfrom\u001b[39;00m \u001b[38;5;21;01mdash_iconify\u001b[39;00m \u001b[38;5;28;01mimport\u001b[39;00m DashIconify\n\u001b[1;32m     17\u001b[0m \u001b[38;5;28;01mfrom\u001b[39;00m \u001b[38;5;21;01msklearn\u001b[39;00m\u001b[38;5;21;01m.\u001b[39;00m\u001b[38;5;21;01mpipeline\u001b[39;00m \u001b[38;5;28;01mimport\u001b[39;00m Pipeline\n\u001b[0;32m---> 19\u001b[0m \u001b[38;5;28;01mimport\u001b[39;00m \u001b[38;5;21;01mtopicwizard\u001b[39;00m\u001b[38;5;21;01m.\u001b[39;00m\u001b[38;5;21;01mblueprints\u001b[39;00m\u001b[38;5;21;01m.\u001b[39;00m\u001b[38;5;21;01mdocuments\u001b[39;00m \u001b[38;5;28;01mas\u001b[39;00m \u001b[38;5;21;01mdocuments\u001b[39;00m\n\u001b[1;32m     20\u001b[0m \u001b[38;5;28;01mimport\u001b[39;00m \u001b[38;5;21;01mtopicwizard\u001b[39;00m\u001b[38;5;21;01m.\u001b[39;00m\u001b[38;5;21;01mblueprints\u001b[39;00m\u001b[38;5;21;01m.\u001b[39;00m\u001b[38;5;21;01mgroups\u001b[39;00m \u001b[38;5;28;01mas\u001b[39;00m \u001b[38;5;21;01mgroups\u001b[39;00m\n\u001b[1;32m     21\u001b[0m \u001b[38;5;28;01mimport\u001b[39;00m \u001b[38;5;21;01mtopicwizard\u001b[39;00m\u001b[38;5;21;01m.\u001b[39;00m\u001b[38;5;21;01mblueprints\u001b[39;00m\u001b[38;5;21;01m.\u001b[39;00m\u001b[38;5;21;01mtopics\u001b[39;00m \u001b[38;5;28;01mas\u001b[39;00m \u001b[38;5;21;01mtopics\u001b[39;00m\n",
      "File \u001b[0;32m~/opt/anaconda3/envs/homl3/lib/python3.10/site-packages/topicwizard/blueprints/documents.py:10\u001b[0m\n\u001b[1;32m      7\u001b[0m \u001b[38;5;28;01mfrom\u001b[39;00m \u001b[38;5;21;01msklearn\u001b[39;00m\u001b[38;5;21;01m.\u001b[39;00m\u001b[38;5;21;01mpipeline\u001b[39;00m \u001b[38;5;28;01mimport\u001b[39;00m Pipeline\n\u001b[1;32m      9\u001b[0m \u001b[38;5;28;01mimport\u001b[39;00m \u001b[38;5;21;01mtopicwizard\u001b[39;00m\u001b[38;5;21;01m.\u001b[39;00m\u001b[38;5;21;01mhelp\u001b[39;00m\u001b[38;5;21;01m.\u001b[39;00m\u001b[38;5;21;01mdocuments\u001b[39;00m \u001b[38;5;28;01mas\u001b[39;00m \u001b[38;5;21;01mhelp\u001b[39;00m\n\u001b[0;32m---> 10\u001b[0m \u001b[38;5;28;01mimport\u001b[39;00m \u001b[38;5;21;01mtopicwizard\u001b[39;00m\u001b[38;5;21;01m.\u001b[39;00m\u001b[38;5;21;01mprepare\u001b[39;00m\u001b[38;5;21;01m.\u001b[39;00m\u001b[38;5;21;01mdocuments\u001b[39;00m \u001b[38;5;28;01mas\u001b[39;00m \u001b[38;5;21;01mprepare\u001b[39;00m\n\u001b[1;32m     11\u001b[0m \u001b[38;5;28;01mfrom\u001b[39;00m \u001b[38;5;21;01mtopicwizard\u001b[39;00m\u001b[38;5;21;01m.\u001b[39;00m\u001b[38;5;21;01mcomponents\u001b[39;00m\u001b[38;5;21;01m.\u001b[39;00m\u001b[38;5;21;01mcolor_legend\u001b[39;00m \u001b[38;5;28;01mimport\u001b[39;00m make_color_legend\n\u001b[1;32m     12\u001b[0m \u001b[38;5;28;01mfrom\u001b[39;00m \u001b[38;5;21;01mtopicwizard\u001b[39;00m\u001b[38;5;21;01m.\u001b[39;00m\u001b[38;5;21;01mcomponents\u001b[39;00m\u001b[38;5;21;01m.\u001b[39;00m\u001b[38;5;21;01mdocuments\u001b[39;00m\u001b[38;5;21;01m.\u001b[39;00m\u001b[38;5;21;01mdocument_bar\u001b[39;00m \u001b[38;5;28;01mimport\u001b[39;00m create_document_bar\n",
      "File \u001b[0;32m~/opt/anaconda3/envs/homl3/lib/python3.10/site-packages/topicwizard/prepare/documents.py:6\u001b[0m\n\u001b[1;32m      4\u001b[0m \u001b[38;5;28;01mimport\u001b[39;00m \u001b[38;5;21;01mpandas\u001b[39;00m \u001b[38;5;28;01mas\u001b[39;00m \u001b[38;5;21;01mpd\u001b[39;00m\n\u001b[1;32m      5\u001b[0m \u001b[38;5;28;01mimport\u001b[39;00m \u001b[38;5;21;01mscipy\u001b[39;00m\u001b[38;5;21;01m.\u001b[39;00m\u001b[38;5;21;01msparse\u001b[39;00m \u001b[38;5;28;01mas\u001b[39;00m \u001b[38;5;21;01mspr\u001b[39;00m\n\u001b[0;32m----> 6\u001b[0m \u001b[38;5;28;01mimport\u001b[39;00m \u001b[38;5;21;01mumap\u001b[39;00m\n\u001b[1;32m      9\u001b[0m \u001b[38;5;28;01mdef\u001b[39;00m \u001b[38;5;21mdominant_topic\u001b[39m(document_topic_matrix: np\u001b[38;5;241m.\u001b[39mndarray) \u001b[38;5;241m-\u001b[39m\u001b[38;5;241m>\u001b[39m np\u001b[38;5;241m.\u001b[39mndarray:\n\u001b[1;32m     10\u001b[0m \u001b[38;5;250m    \u001b[39m\u001b[38;5;124;03m\"\"\"Calculates dominant topic for each document.\u001b[39;00m\n\u001b[1;32m     11\u001b[0m \n\u001b[1;32m     12\u001b[0m \u001b[38;5;124;03m    Parameters\u001b[39;00m\n\u001b[0;32m   (...)\u001b[0m\n\u001b[1;32m     19\u001b[0m \u001b[38;5;124;03m        Index of dominant topic for each document.\u001b[39;00m\n\u001b[1;32m     20\u001b[0m \u001b[38;5;124;03m    \"\"\"\u001b[39;00m\n",
      "File \u001b[0;32m~/opt/anaconda3/envs/homl3/lib/python3.10/site-packages/umap/__init__.py:2\u001b[0m\n\u001b[1;32m      1\u001b[0m \u001b[38;5;28;01mfrom\u001b[39;00m \u001b[38;5;21;01mwarnings\u001b[39;00m \u001b[38;5;28;01mimport\u001b[39;00m warn, catch_warnings, simplefilter\n\u001b[0;32m----> 2\u001b[0m \u001b[38;5;28;01mfrom\u001b[39;00m \u001b[38;5;21;01m.\u001b[39;00m\u001b[38;5;21;01mumap_\u001b[39;00m \u001b[38;5;28;01mimport\u001b[39;00m UMAP\n\u001b[1;32m      4\u001b[0m \u001b[38;5;28;01mtry\u001b[39;00m:\n\u001b[1;32m      5\u001b[0m     \u001b[38;5;28;01mwith\u001b[39;00m catch_warnings():\n",
      "File \u001b[0;32m~/opt/anaconda3/envs/homl3/lib/python3.10/site-packages/umap/umap_.py:16\u001b[0m\n\u001b[1;32m     14\u001b[0m \u001b[38;5;28;01mfrom\u001b[39;00m \u001b[38;5;21;01msklearn\u001b[39;00m\u001b[38;5;21;01m.\u001b[39;00m\u001b[38;5;21;01mmetrics\u001b[39;00m \u001b[38;5;28;01mimport\u001b[39;00m pairwise_distances\n\u001b[1;32m     15\u001b[0m \u001b[38;5;28;01mfrom\u001b[39;00m \u001b[38;5;21;01msklearn\u001b[39;00m\u001b[38;5;21;01m.\u001b[39;00m\u001b[38;5;21;01mpreprocessing\u001b[39;00m \u001b[38;5;28;01mimport\u001b[39;00m normalize\n\u001b[0;32m---> 16\u001b[0m \u001b[38;5;28;01mfrom\u001b[39;00m \u001b[38;5;21;01msklearn\u001b[39;00m\u001b[38;5;21;01m.\u001b[39;00m\u001b[38;5;21;01mneighbors\u001b[39;00m \u001b[38;5;28;01mimport\u001b[39;00m KDTree\n\u001b[1;32m     17\u001b[0m \u001b[38;5;28;01mfrom\u001b[39;00m \u001b[38;5;21;01msklearn\u001b[39;00m\u001b[38;5;21;01m.\u001b[39;00m\u001b[38;5;21;01mdecomposition\u001b[39;00m \u001b[38;5;28;01mimport\u001b[39;00m PCA, TruncatedSVD\n\u001b[1;32m     19\u001b[0m \u001b[38;5;28;01mtry\u001b[39;00m:\n",
      "File \u001b[0;32m~/opt/anaconda3/envs/homl3/lib/python3.10/site-packages/sklearn/neighbors/__init__.py:6\u001b[0m\n\u001b[1;32m      1\u001b[0m \u001b[38;5;124;03m\"\"\"\u001b[39;00m\n\u001b[1;32m      2\u001b[0m \u001b[38;5;124;03mThe :mod:`sklearn.neighbors` module implements the k-nearest neighbors\u001b[39;00m\n\u001b[1;32m      3\u001b[0m \u001b[38;5;124;03malgorithm.\u001b[39;00m\n\u001b[1;32m      4\u001b[0m \u001b[38;5;124;03m\"\"\"\u001b[39;00m\n\u001b[0;32m----> 6\u001b[0m \u001b[38;5;28;01mfrom\u001b[39;00m \u001b[38;5;21;01m.\u001b[39;00m\u001b[38;5;21;01m_ball_tree\u001b[39;00m \u001b[38;5;28;01mimport\u001b[39;00m BallTree\n\u001b[1;32m      7\u001b[0m \u001b[38;5;28;01mfrom\u001b[39;00m \u001b[38;5;21;01m.\u001b[39;00m\u001b[38;5;21;01m_base\u001b[39;00m \u001b[38;5;28;01mimport\u001b[39;00m VALID_METRICS, VALID_METRICS_SPARSE, sort_graph_by_row_values\n\u001b[1;32m      8\u001b[0m \u001b[38;5;28;01mfrom\u001b[39;00m \u001b[38;5;21;01m.\u001b[39;00m\u001b[38;5;21;01m_classification\u001b[39;00m \u001b[38;5;28;01mimport\u001b[39;00m KNeighborsClassifier, RadiusNeighborsClassifier\n",
      "File \u001b[0;32msklearn/neighbors/_ball_tree.pyx:1\u001b[0m, in \u001b[0;36minit sklearn.neighbors._ball_tree\u001b[0;34m()\u001b[0m\n",
      "\u001b[0;31mAttributeError\u001b[0m: module 'sklearn.metrics._dist_metrics' has no attribute 'DistanceMetric64'"
     ]
    }
   ],
   "source": [
    "import topicwizard \n",
    "topicwizard.visualize(pipeline=topic_pipeline, corpus=corpus)"
   ]
  },
  {
   "cell_type": "code",
   "execution_count": 81,
   "id": "f0658d90",
   "metadata": {},
   "outputs": [
    {
     "ename": "NameError",
     "evalue": "name 'topicwizard' is not defined",
     "output_type": "error",
     "traceback": [
      "\u001b[0;31m---------------------------------------------------------------------------\u001b[0m",
      "\u001b[0;31mNameError\u001b[0m                                 Traceback (most recent call last)",
      "Cell \u001b[0;32mIn [81], line 1\u001b[0m\n\u001b[0;32m----> 1\u001b[0m \u001b[43mtopicwizard\u001b[49m\u001b[38;5;241m.\u001b[39mload(filename\u001b[38;5;241m=\u001b[39m\u001b[38;5;124m\"\u001b[39m\u001b[38;5;124mtopic_data.joblib\u001b[39m\u001b[38;5;124m\"\u001b[39m)\n",
      "\u001b[0;31mNameError\u001b[0m: name 'topicwizard' is not defined"
     ]
    }
   ],
   "source": [
    "topicwizard.load(filename=\"topic_data.joblib\")"
   ]
  },
  {
   "cell_type": "code",
   "execution_count": null,
   "id": "152d1f62",
   "metadata": {},
   "outputs": [],
   "source": []
  }
 ],
 "metadata": {
  "kernelspec": {
   "display_name": "Python 3 (ipykernel)",
   "language": "python",
   "name": "python3"
  },
  "language_info": {
   "codemirror_mode": {
    "name": "ipython",
    "version": 3
   },
   "file_extension": ".py",
   "mimetype": "text/x-python",
   "name": "python",
   "nbconvert_exporter": "python",
   "pygments_lexer": "ipython3",
   "version": "3.10.12"
  }
 },
 "nbformat": 4,
 "nbformat_minor": 5
}
