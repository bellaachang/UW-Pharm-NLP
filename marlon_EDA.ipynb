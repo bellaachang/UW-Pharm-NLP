{
 "cells": [
  {
   "cell_type": "markdown",
   "id": "04edd596-7b61-41f5-a2ec-5bb2c9f4d2ca",
   "metadata": {},
   "source": [
    "# An Exploration of UW Pharmacy Student Reflections"
   ]
  },
  {
   "cell_type": "markdown",
   "id": "f80a0b2a-3831-477b-af69-5fcaa43028a9",
   "metadata": {},
   "source": [
    "Author: Marlon Fu (marlonfu@berkeley.edu)"
   ]
  },
  {
   "cell_type": "markdown",
   "id": "d7368fbd-ebba-44b8-9b9e-cb48d47d0565",
   "metadata": {},
   "source": [
    "## Libraries and Dependencies"
   ]
  },
  {
   "cell_type": "code",
   "execution_count": 9,
   "id": "12b8799e-caf8-43fb-8533-3d5e9df305eb",
   "metadata": {},
   "outputs": [
    {
     "name": "stderr",
     "output_type": "stream",
     "text": [
      "[nltk_data] Downloading package stopwords to\n",
      "[nltk_data]     C:\\Users\\jergx\\AppData\\Roaming\\nltk_data...\n",
      "[nltk_data]   Package stopwords is already up-to-date!\n",
      "[nltk_data] Downloading package punkt to\n",
      "[nltk_data]     C:\\Users\\jergx\\AppData\\Roaming\\nltk_data...\n",
      "[nltk_data]   Package punkt is already up-to-date!\n"
     ]
    }
   ],
   "source": [
    "import pandas as pd\n",
    "import numpy as np\n",
    "\n",
    "import nltk\n",
    "nltk.download('stopwords')\n",
    "nltk.download('punkt')\n",
    "from nltk.corpus import stopwords\n",
    "from nltk.tokenize import word_tokenize\n",
    "import re\n",
    "from sklearn.feature_extraction.text import TfidfVectorizer\n",
    "\n",
    "import gensim\n",
    "import gensim.corpora as corpora\n",
    "from gensim.utils import simple_preprocess\n",
    "\n",
    "import spacy"
   ]
  },
  {
   "cell_type": "markdown",
   "id": "155edbba-d0c1-484b-afe4-345a590cba17",
   "metadata": {},
   "source": [
    "## Import and Pre-process Data"
   ]
  },
  {
   "cell_type": "code",
   "execution_count": 10,
   "id": "519f271d-7a41-4bda-a1ac-9ee97e6eaaf2",
   "metadata": {},
   "outputs": [
    {
     "data": {
      "text/html": [
       "<div>\n",
       "<style scoped>\n",
       "    .dataframe tbody tr th:only-of-type {\n",
       "        vertical-align: middle;\n",
       "    }\n",
       "\n",
       "    .dataframe tbody tr th {\n",
       "        vertical-align: top;\n",
       "    }\n",
       "\n",
       "    .dataframe thead th {\n",
       "        text-align: right;\n",
       "    }\n",
       "</style>\n",
       "<table border=\"1\" class=\"dataframe\">\n",
       "  <thead>\n",
       "    <tr style=\"text-align: right;\">\n",
       "      <th></th>\n",
       "      <th>CPD_Q1</th>\n",
       "      <th>CPD_Q3</th>\n",
       "    </tr>\n",
       "  </thead>\n",
       "  <tbody>\n",
       "    <tr>\n",
       "      <th>0</th>\n",
       "      <td>The class time devoted to health and wellness ...</td>\n",
       "      <td>I believe self-care to be really important in ...</td>\n",
       "    </tr>\n",
       "    <tr>\n",
       "      <th>1</th>\n",
       "      <td>The class time devoted to health and wellness ...</td>\n",
       "      <td>The time spent on my choice of self-care allow...</td>\n",
       "    </tr>\n",
       "    <tr>\n",
       "      <th>2</th>\n",
       "      <td>The class time has reminded me on the importan...</td>\n",
       "      <td>The time spent on my choice of self care affec...</td>\n",
       "    </tr>\n",
       "    <tr>\n",
       "      <th>3</th>\n",
       "      <td>The class time that was devoted to health and ...</td>\n",
       "      <td>It made me more relaxed and less stressed abou...</td>\n",
       "    </tr>\n",
       "    <tr>\n",
       "      <th>4</th>\n",
       "      <td>I have learnt to listen to people without inte...</td>\n",
       "      <td>This has been a lifeline because I always felt...</td>\n",
       "    </tr>\n",
       "  </tbody>\n",
       "</table>\n",
       "</div>"
      ],
      "text/plain": [
       "                                              CPD_Q1  \\\n",
       "0  The class time devoted to health and wellness ...   \n",
       "1  The class time devoted to health and wellness ...   \n",
       "2  The class time has reminded me on the importan...   \n",
       "3  The class time that was devoted to health and ...   \n",
       "4  I have learnt to listen to people without inte...   \n",
       "\n",
       "                                              CPD_Q3  \n",
       "0  I believe self-care to be really important in ...  \n",
       "1  The time spent on my choice of self-care allow...  \n",
       "2  The time spent on my choice of self care affec...  \n",
       "3  It made me more relaxed and less stressed abou...  \n",
       "4  This has been a lifeline because I always felt...  "
      ]
     },
     "execution_count": 10,
     "metadata": {},
     "output_type": "execute_result"
    }
   ],
   "source": [
    "data = pd.read_csv(\"data/choiceboard_data.csv\")[[\"CPD_Q1\", \"CPD_Q3\"]]\n",
    "data.head()"
   ]
  },
  {
   "cell_type": "code",
   "execution_count": 15,
   "id": "0dc24a4b",
   "metadata": {},
   "outputs": [
    {
     "data": {
      "text/html": [
       "<div>\n",
       "<style scoped>\n",
       "    .dataframe tbody tr th:only-of-type {\n",
       "        vertical-align: middle;\n",
       "    }\n",
       "\n",
       "    .dataframe tbody tr th {\n",
       "        vertical-align: top;\n",
       "    }\n",
       "\n",
       "    .dataframe thead th {\n",
       "        text-align: right;\n",
       "    }\n",
       "</style>\n",
       "<table border=\"1\" class=\"dataframe\">\n",
       "  <thead>\n",
       "    <tr style=\"text-align: right;\">\n",
       "      <th></th>\n",
       "      <th>CPD_Q1</th>\n",
       "    </tr>\n",
       "  </thead>\n",
       "  <tbody>\n",
       "    <tr>\n",
       "      <th>0</th>\n",
       "      <td>The class time devoted to health and wellness ...</td>\n",
       "    </tr>\n",
       "    <tr>\n",
       "      <th>1</th>\n",
       "      <td>The class time devoted to health and wellness ...</td>\n",
       "    </tr>\n",
       "    <tr>\n",
       "      <th>2</th>\n",
       "      <td>The class time has reminded me on the importan...</td>\n",
       "    </tr>\n",
       "    <tr>\n",
       "      <th>3</th>\n",
       "      <td>The class time that was devoted to health and ...</td>\n",
       "    </tr>\n",
       "    <tr>\n",
       "      <th>4</th>\n",
       "      <td>I have learnt to listen to people without inte...</td>\n",
       "    </tr>\n",
       "    <tr>\n",
       "      <th>...</th>\n",
       "      <td>...</td>\n",
       "    </tr>\n",
       "    <tr>\n",
       "      <th>103</th>\n",
       "      <td>It’s been a wonderful change of pace to have a...</td>\n",
       "    </tr>\n",
       "    <tr>\n",
       "      <th>104</th>\n",
       "      <td>The mentor team discussions with my team and p...</td>\n",
       "    </tr>\n",
       "    <tr>\n",
       "      <th>105</th>\n",
       "      <td>The class time devoted to health, wellness, an...</td>\n",
       "    </tr>\n",
       "    <tr>\n",
       "      <th>106</th>\n",
       "      <td>I personally think it was a nice break, but I ...</td>\n",
       "    </tr>\n",
       "    <tr>\n",
       "      <th>107</th>\n",
       "      <td>I actively disliked most of the content relate...</td>\n",
       "    </tr>\n",
       "  </tbody>\n",
       "</table>\n",
       "<p>105 rows × 1 columns</p>\n",
       "</div>"
      ],
      "text/plain": [
       "                                                CPD_Q1\n",
       "0    The class time devoted to health and wellness ...\n",
       "1    The class time devoted to health and wellness ...\n",
       "2    The class time has reminded me on the importan...\n",
       "3    The class time that was devoted to health and ...\n",
       "4    I have learnt to listen to people without inte...\n",
       "..                                                 ...\n",
       "103  It’s been a wonderful change of pace to have a...\n",
       "104  The mentor team discussions with my team and p...\n",
       "105  The class time devoted to health, wellness, an...\n",
       "106  I personally think it was a nice break, but I ...\n",
       "107  I actively disliked most of the content relate...\n",
       "\n",
       "[105 rows x 1 columns]"
      ]
     },
     "execution_count": 15,
     "metadata": {},
     "output_type": "execute_result"
    }
   ],
   "source": [
    "data_Q1 = data[[\"CPD_Q1\"]].dropna()\n",
    "data_Q1 = data_Q1.astype(str)\n",
    "data_Q1"
   ]
  },
  {
   "cell_type": "code",
   "execution_count": 5,
   "id": "167f331a-f6db-4dcb-bf8b-cb3468264146",
   "metadata": {},
   "outputs": [],
   "source": [
    "#adding clearly neutral stopwords that are specific to this program or activity\n",
    "stopwords = nltk.corpus.stopwords.words('english')\n",
    "\n",
    "# stopwords.append('pharmacy')\n",
    "# stopwords.append('pharmacist')\n",
    "# stopwords.append('pharmacists')\n",
    "# stopwords.append('health')\n",
    "# stopwords.append('healthcare')\n",
    "# stopwords.append('practitioner')\n",
    "# stopwords.append('mental')\n",
    "# stopwords.append('wellness')\n",
    "# stopwords.append('self-care')\n",
    "# stopwords.append('mentor')\n",
    "# stopwords.append('WIP')\n",
    "# stopwords.append('class')\n",
    "# stopwords.append('school')\n",
    "# stopwords.append('peers')\n",
    "# stopwords.append('classmates')\n",
    "# stopwords.append('quarter')\n",
    "# stopwords.append('spring')\n",
    "# stopwords.append('winter')\n",
    "# stopwords.append('fall')\n",
    "\n",
    "stopwords = list(stopwords)"
   ]
  },
  {
   "cell_type": "code",
   "execution_count": 16,
   "id": "70e56b57-d6bc-48b1-a254-470c2d6e7303",
   "metadata": {},
   "outputs": [
    {
     "data": {
      "text/html": [
       "<div>\n",
       "<style scoped>\n",
       "    .dataframe tbody tr th:only-of-type {\n",
       "        vertical-align: middle;\n",
       "    }\n",
       "\n",
       "    .dataframe tbody tr th {\n",
       "        vertical-align: top;\n",
       "    }\n",
       "\n",
       "    .dataframe thead th {\n",
       "        text-align: right;\n",
       "    }\n",
       "</style>\n",
       "<table border=\"1\" class=\"dataframe\">\n",
       "  <thead>\n",
       "    <tr style=\"text-align: right;\">\n",
       "      <th></th>\n",
       "      <th>CPD_Q1</th>\n",
       "    </tr>\n",
       "  </thead>\n",
       "  <tbody>\n",
       "    <tr>\n",
       "      <th>0</th>\n",
       "      <td>the class time devoted to health and wellness ...</td>\n",
       "    </tr>\n",
       "    <tr>\n",
       "      <th>1</th>\n",
       "      <td>the class time devoted to health and wellness ...</td>\n",
       "    </tr>\n",
       "    <tr>\n",
       "      <th>2</th>\n",
       "      <td>the class time has reminded me on the importan...</td>\n",
       "    </tr>\n",
       "    <tr>\n",
       "      <th>3</th>\n",
       "      <td>the class time that was devoted to health and ...</td>\n",
       "    </tr>\n",
       "    <tr>\n",
       "      <th>4</th>\n",
       "      <td>i have learnt to listen to people without inte...</td>\n",
       "    </tr>\n",
       "  </tbody>\n",
       "</table>\n",
       "</div>"
      ],
      "text/plain": [
       "                                              CPD_Q1\n",
       "0  the class time devoted to health and wellness ...\n",
       "1  the class time devoted to health and wellness ...\n",
       "2  the class time has reminded me on the importan...\n",
       "3  the class time that was devoted to health and ...\n",
       "4  i have learnt to listen to people without inte..."
      ]
     },
     "execution_count": 16,
     "metadata": {},
     "output_type": "execute_result"
    }
   ],
   "source": [
    "data_Q1['CPD_Q1'] = data_Q1['CPD_Q1'].map(lambda x: re.sub('[,\\.!?]', '', x))\n",
    "data_Q1['CPD_Q1'] = data_Q1['CPD_Q1'].map(lambda x: x.lower())\n",
    "data_Q1.head()"
   ]
  },
  {
   "cell_type": "code",
   "execution_count": 17,
   "id": "098aa993",
   "metadata": {},
   "outputs": [
    {
     "name": "stdout",
     "output_type": "stream",
     "text": [
      "['the', 'class', 'time', 'devoted', 'to', 'health', 'and', 'wellness', 'and', 'self', 'care', 'has', 'had', 'positive', 'effect', 'on', 'me', 'while', 'am', 'fairly', 'good', 'at', 'finding', 'pockets', 'of', 'time', 'for', 'self', 'care', 'myself']\n"
     ]
    }
   ],
   "source": [
    "from gensim.utils import simple_preprocess\n",
    "\n",
    "def sent_to_words(sentences):\n",
    "    for sentence in sentences:\n",
    "        yield(gensim.utils.simple_preprocess(str(sentence), deacc=True))  # deacc=True removes punctuations\n",
    "\n",
    "data = data_Q1.CPD_Q1.values.tolist()\n",
    "data_words = list(sent_to_words(data))\n",
    "\n",
    "print(data_words[:1][0][:30])"
   ]
  },
  {
   "cell_type": "markdown",
   "id": "0f5e30b6-e126-4529-9eb2-8fd2553a85d8",
   "metadata": {},
   "source": [
    "### Word and Character Count Distribution"
   ]
  },
  {
   "cell_type": "code",
   "execution_count": null,
   "id": "0328d594-9aa4-4863-9328-d9300d7444e1",
   "metadata": {},
   "outputs": [],
   "source": []
  }
 ],
 "metadata": {
  "kernelspec": {
   "display_name": "Python 3 (ipykernel)",
   "language": "python",
   "name": "python3"
  },
  "language_info": {
   "codemirror_mode": {
    "name": "ipython",
    "version": 3
   },
   "file_extension": ".py",
   "mimetype": "text/x-python",
   "name": "python",
   "nbconvert_exporter": "python",
   "pygments_lexer": "ipython3",
   "version": "3.10.9"
  }
 },
 "nbformat": 4,
 "nbformat_minor": 5
}
