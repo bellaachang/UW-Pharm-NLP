{
 "cells": [
  {
   "cell_type": "markdown",
   "id": "04edd596-7b61-41f5-a2ec-5bb2c9f4d2ca",
   "metadata": {},
   "source": [
    "# An Exploration of UW Pharmacy Student Reflections"
   ]
  },
  {
   "cell_type": "markdown",
   "id": "f80a0b2a-3831-477b-af69-5fcaa43028a9",
   "metadata": {},
   "source": [
    "Author: Marlon Fu (marlonfu@berkeley.edu)"
   ]
  },
  {
   "cell_type": "markdown",
   "id": "d7368fbd-ebba-44b8-9b9e-cb48d47d0565",
   "metadata": {},
   "source": [
    "## Libraries and Dependencies"
   ]
  },
  {
   "cell_type": "code",
   "execution_count": 6,
   "id": "12b8799e-caf8-43fb-8533-3d5e9df305eb",
   "metadata": {},
   "outputs": [
    {
     "name": "stderr",
     "output_type": "stream",
     "text": [
      "[nltk_data] Downloading package stopwords to /Users/bing/nltk_data...\n",
      "[nltk_data]   Package stopwords is already up-to-date!\n",
      "[nltk_data] Downloading package punkt to /Users/bing/nltk_data...\n",
      "[nltk_data]   Package punkt is already up-to-date!\n"
     ]
    }
   ],
   "source": [
    "import pandas as pd\n",
    "import numpy as np\n",
    "import seaborn as sns\n",
    "import matplotlib.pyplot as plt \n",
    "%matplotlib inline\n",
    "\n",
    "\n",
    "import nltk\n",
    "from nltk.util import ngrams\n",
    "nltk.download('stopwords')\n",
    "nltk.download('punkt')\n",
    "from nltk.corpus import stopwords\n",
    "from nltk.tokenize import word_tokenize\n",
    "import re\n",
    "from sklearn.feature_extraction.text import TfidfVectorizer\n",
    "\n",
    "from collections import Counter\n",
    "\n",
    "import gensim\n",
    "import gensim.corpora as corpora\n",
    "from gensim.utils import simple_preprocess\n",
    "\n",
    "import pyLDAvis\n",
    "\n",
    "import spacy"
   ]
  },
  {
   "cell_type": "markdown",
   "id": "155edbba-d0c1-484b-afe4-345a590cba17",
   "metadata": {},
   "source": [
    "## Import and Pre-process Data"
   ]
  },
  {
   "cell_type": "code",
   "execution_count": 7,
   "id": "519f271d-7a41-4bda-a1ac-9ee97e6eaaf2",
   "metadata": {},
   "outputs": [
    {
     "data": {
      "text/html": [
       "<div>\n",
       "<style scoped>\n",
       "    .dataframe tbody tr th:only-of-type {\n",
       "        vertical-align: middle;\n",
       "    }\n",
       "\n",
       "    .dataframe tbody tr th {\n",
       "        vertical-align: top;\n",
       "    }\n",
       "\n",
       "    .dataframe thead th {\n",
       "        text-align: right;\n",
       "    }\n",
       "</style>\n",
       "<table border=\"1\" class=\"dataframe\">\n",
       "  <thead>\n",
       "    <tr style=\"text-align: right;\">\n",
       "      <th></th>\n",
       "      <th>CPD_Q1</th>\n",
       "      <th>CPD_Q3</th>\n",
       "    </tr>\n",
       "  </thead>\n",
       "  <tbody>\n",
       "    <tr>\n",
       "      <th>0</th>\n",
       "      <td>The class time devoted to health and wellness ...</td>\n",
       "      <td>I believe self-care to be really important in ...</td>\n",
       "    </tr>\n",
       "    <tr>\n",
       "      <th>1</th>\n",
       "      <td>The class time devoted to health and wellness ...</td>\n",
       "      <td>The time spent on my choice of self-care allow...</td>\n",
       "    </tr>\n",
       "    <tr>\n",
       "      <th>2</th>\n",
       "      <td>The class time has reminded me on the importan...</td>\n",
       "      <td>The time spent on my choice of self care affec...</td>\n",
       "    </tr>\n",
       "    <tr>\n",
       "      <th>3</th>\n",
       "      <td>The class time that was devoted to health and ...</td>\n",
       "      <td>It made me more relaxed and less stressed abou...</td>\n",
       "    </tr>\n",
       "    <tr>\n",
       "      <th>4</th>\n",
       "      <td>I have learnt to listen to people without inte...</td>\n",
       "      <td>This has been a lifeline because I always felt...</td>\n",
       "    </tr>\n",
       "  </tbody>\n",
       "</table>\n",
       "</div>"
      ],
      "text/plain": [
       "                                              CPD_Q1  \\\n",
       "0  The class time devoted to health and wellness ...   \n",
       "1  The class time devoted to health and wellness ...   \n",
       "2  The class time has reminded me on the importan...   \n",
       "3  The class time that was devoted to health and ...   \n",
       "4  I have learnt to listen to people without inte...   \n",
       "\n",
       "                                              CPD_Q3  \n",
       "0  I believe self-care to be really important in ...  \n",
       "1  The time spent on my choice of self-care allow...  \n",
       "2  The time spent on my choice of self care affec...  \n",
       "3  It made me more relaxed and less stressed abou...  \n",
       "4  This has been a lifeline because I always felt...  "
      ]
     },
     "execution_count": 7,
     "metadata": {},
     "output_type": "execute_result"
    }
   ],
   "source": [
    "data = pd.read_csv(\"data/choiceboard_data.csv\")[[\"CPD_Q1\", \"CPD_Q3\"]]\n",
    "data.head()"
   ]
  },
  {
   "cell_type": "code",
   "execution_count": 8,
   "id": "c4515000",
   "metadata": {},
   "outputs": [
    {
     "data": {
      "text/plain": [
       "0      The class time devoted to health and wellness ...\n",
       "1      The class time devoted to health and wellness ...\n",
       "2      The class time has reminded me on the importan...\n",
       "3      The class time that was devoted to health and ...\n",
       "4      I have learnt to listen to people without inte...\n",
       "                             ...                        \n",
       "103    It’s been a wonderful change of pace to have a...\n",
       "104    The mentor team discussions with my team and p...\n",
       "105    The class time devoted to health, wellness, an...\n",
       "106    I personally think it was a nice break, but I ...\n",
       "107    I actively disliked most of the content relate...\n",
       "Name: CPD_Q1, Length: 105, dtype: object"
      ]
     },
     "execution_count": 8,
     "metadata": {},
     "output_type": "execute_result"
    }
   ],
   "source": [
    "corpus_1 = data[\"CPD_Q1\"].dropna()\n",
    "corpus_1 = corpus_1.astype(str)\n",
    "corpus_1"
   ]
  },
  {
   "cell_type": "code",
   "execution_count": 9,
   "id": "f58c623b",
   "metadata": {},
   "outputs": [
    {
     "data": {
      "text/plain": [
       "0      I believe self-care to be really important in ...\n",
       "1      The time spent on my choice of self-care allow...\n",
       "2      The time spent on my choice of self care affec...\n",
       "3      It made me more relaxed and less stressed abou...\n",
       "4      This has been a lifeline because I always felt...\n",
       "                             ...                        \n",
       "102    The way how the time spent on my choices of se...\n",
       "103    For myself, life is a constant balance of bein...\n",
       "104    Time spent on self-care helped me take a menta...\n",
       "106      It gave me a small break to think about myself.\n",
       "107    It was nice, but I don’t think it really affec...\n",
       "Name: CPD_Q3, Length: 104, dtype: object"
      ]
     },
     "execution_count": 9,
     "metadata": {},
     "output_type": "execute_result"
    }
   ],
   "source": [
    "corpus_2 = data[\"CPD_Q3\"].dropna()\n",
    "corpus_2 = corpus_2.astype(str)\n",
    "corpus_2"
   ]
  },
  {
   "cell_type": "code",
   "execution_count": 19,
   "id": "167f331a-f6db-4dcb-bf8b-cb3468264146",
   "metadata": {},
   "outputs": [],
   "source": [
    "#adding clearly neutral stopwords that are specific to this program or activity\n",
    "\n",
    "stopwords = nltk.corpus.stopwords.words('english')\n",
    "\n",
    "stopwords.append('pharmacy')\n",
    "stopwords.append('pharmacist')\n",
    "stopwords.append('pharmacists')\n",
    "stopwords.append('health')\n",
    "stopwords.append('healthcare')\n",
    "stopwords.append('practitioner')\n",
    "stopwords.append('mental')\n",
    "stopwords.append('wellness')\n",
    "stopwords.append('self-care')\n",
    "stopwords.append('mentor')\n",
    "stopwords.append('WIP')\n",
    "stopwords.append('class')\n",
    "stopwords.append('school')\n",
    "stopwords.append('peers')\n",
    "stopwords.append('classmates')\n",
    "stopwords.append('quarter')\n",
    "stopwords.append('spring')\n",
    "stopwords.append('winter')\n",
    "stopwords.append('fall')\n",
    "\n",
    "#Removed words after EDA \n",
    "stopwords.append('also')\n",
    "stopwords.append('really')\n",
    "\n",
    "stopwords = list(stopwords)"
   ]
  },
  {
   "cell_type": "code",
   "execution_count": 20,
   "id": "70e56b57-d6bc-48b1-a254-470c2d6e7303",
   "metadata": {},
   "outputs": [
    {
     "name": "stderr",
     "output_type": "stream",
     "text": [
      "[nltk_data] Downloading package punkt to /Users/bing/nltk_data...\n",
      "[nltk_data]   Package punkt is already up-to-date!\n"
     ]
    },
    {
     "data": {
      "text/html": [
       "<div>\n",
       "<style scoped>\n",
       "    .dataframe tbody tr th:only-of-type {\n",
       "        vertical-align: middle;\n",
       "    }\n",
       "\n",
       "    .dataframe tbody tr th {\n",
       "        vertical-align: top;\n",
       "    }\n",
       "\n",
       "    .dataframe thead th {\n",
       "        text-align: right;\n",
       "    }\n",
       "</style>\n",
       "<table border=\"1\" class=\"dataframe\">\n",
       "  <thead>\n",
       "    <tr style=\"text-align: right;\">\n",
       "      <th></th>\n",
       "      <th>CPD_Q3</th>\n",
       "    </tr>\n",
       "  </thead>\n",
       "  <tbody>\n",
       "    <tr>\n",
       "      <th>0</th>\n",
       "      <td>[i, believe, to, be, really, important, in, li...</td>\n",
       "    </tr>\n",
       "    <tr>\n",
       "      <th>1</th>\n",
       "      <td>[the, time, spent, on, my, choice, of, allowed...</td>\n",
       "    </tr>\n",
       "    <tr>\n",
       "      <th>2</th>\n",
       "      <td>[the, time, spent, on, my, choice, of, self, c...</td>\n",
       "    </tr>\n",
       "    <tr>\n",
       "      <th>3</th>\n",
       "      <td>[it, made, me, more, relaxed, and, less, stres...</td>\n",
       "    </tr>\n",
       "    <tr>\n",
       "      <th>4</th>\n",
       "      <td>[this, has, been, a, lifeline, because, i, alw...</td>\n",
       "    </tr>\n",
       "  </tbody>\n",
       "</table>\n",
       "</div>"
      ],
      "text/plain": [
       "                                              CPD_Q3\n",
       "0  [i, believe, to, be, really, important, in, li...\n",
       "1  [the, time, spent, on, my, choice, of, allowed...\n",
       "2  [the, time, spent, on, my, choice, of, self, c...\n",
       "3  [it, made, me, more, relaxed, and, less, stres...\n",
       "4  [this, has, been, a, lifeline, because, i, alw..."
      ]
     },
     "execution_count": 20,
     "metadata": {},
     "output_type": "execute_result"
    }
   ],
   "source": [
    "#using sample of words from full corpus\n",
    "\n",
    "sample = pd.DataFrame(corpus_1).reset_index()[['CPD_Q1']]\n",
    "sample2 = pd.DataFrame(corpus_2).reset_index()[['CPD_Q3']]\n",
    "\n",
    "nltk.download('punkt')\n",
    "\n",
    "sample['CPD_Q1'] = sample['CPD_Q1'].map(lambda x: x.lower())\n",
    "sample['CPD_Q1'] = sample['CPD_Q1'].apply(lambda x: [token for token in nltk.word_tokenize(x) if token.isalnum()])\n",
    "sample.head()\n",
    "\n",
    "\n",
    "sample2['CPD_Q3'] = sample2['CPD_Q3'].map(lambda x: x.lower())\n",
    "sample2['CPD_Q3'] = sample2['CPD_Q3'].apply(lambda x: [token for token in nltk.word_tokenize(x) if token.isalnum()])\n",
    "sample2.head()"
   ]
  },
  {
   "cell_type": "code",
   "execution_count": 21,
   "id": "9249e7e1",
   "metadata": {},
   "outputs": [
    {
     "data": {
      "text/html": [
       "<div>\n",
       "<style scoped>\n",
       "    .dataframe tbody tr th:only-of-type {\n",
       "        vertical-align: middle;\n",
       "    }\n",
       "\n",
       "    .dataframe tbody tr th {\n",
       "        vertical-align: top;\n",
       "    }\n",
       "\n",
       "    .dataframe thead th {\n",
       "        text-align: right;\n",
       "    }\n",
       "</style>\n",
       "<table border=\"1\" class=\"dataframe\">\n",
       "  <thead>\n",
       "    <tr style=\"text-align: right;\">\n",
       "      <th></th>\n",
       "      <th>CPD_Q1</th>\n",
       "    </tr>\n",
       "  </thead>\n",
       "  <tbody>\n",
       "    <tr>\n",
       "      <th>0</th>\n",
       "      <td>[time, devoted, positive, effect, fairly, good...</td>\n",
       "    </tr>\n",
       "    <tr>\n",
       "      <th>1</th>\n",
       "      <td>[time, devoted, helped, spend, time, enjoy, ti...</td>\n",
       "    </tr>\n",
       "    <tr>\n",
       "      <th>2</th>\n",
       "      <td>[time, reminded, importance, self, care, peopl...</td>\n",
       "    </tr>\n",
       "    <tr>\n",
       "      <th>3</th>\n",
       "      <td>[time, devoted, nice, allowed, time, away, wor...</td>\n",
       "    </tr>\n",
       "    <tr>\n",
       "      <th>4</th>\n",
       "      <td>[learnt, listen, people, without, interrupting...</td>\n",
       "    </tr>\n",
       "    <tr>\n",
       "      <th>...</th>\n",
       "      <td>...</td>\n",
       "    </tr>\n",
       "    <tr>\n",
       "      <th>100</th>\n",
       "      <td>[wonderful, change, pace, little, time, especi...</td>\n",
       "    </tr>\n",
       "    <tr>\n",
       "      <th>101</th>\n",
       "      <td>[team, discussions, team, professor, helped, b...</td>\n",
       "    </tr>\n",
       "    <tr>\n",
       "      <th>102</th>\n",
       "      <td>[time, devoted, helped, throughout, year, ackn...</td>\n",
       "    </tr>\n",
       "    <tr>\n",
       "      <th>103</th>\n",
       "      <td>[personally, think, nice, break, could, used, ...</td>\n",
       "    </tr>\n",
       "    <tr>\n",
       "      <th>104</th>\n",
       "      <td>[actively, disliked, content, related, however...</td>\n",
       "    </tr>\n",
       "  </tbody>\n",
       "</table>\n",
       "<p>105 rows × 1 columns</p>\n",
       "</div>"
      ],
      "text/plain": [
       "                                                CPD_Q1\n",
       "0    [time, devoted, positive, effect, fairly, good...\n",
       "1    [time, devoted, helped, spend, time, enjoy, ti...\n",
       "2    [time, reminded, importance, self, care, peopl...\n",
       "3    [time, devoted, nice, allowed, time, away, wor...\n",
       "4    [learnt, listen, people, without, interrupting...\n",
       "..                                                 ...\n",
       "100  [wonderful, change, pace, little, time, especi...\n",
       "101  [team, discussions, team, professor, helped, b...\n",
       "102  [time, devoted, helped, throughout, year, ackn...\n",
       "103  [personally, think, nice, break, could, used, ...\n",
       "104  [actively, disliked, content, related, however...\n",
       "\n",
       "[105 rows x 1 columns]"
      ]
     },
     "metadata": {},
     "output_type": "display_data"
    },
    {
     "data": {
      "text/html": [
       "<div>\n",
       "<style scoped>\n",
       "    .dataframe tbody tr th:only-of-type {\n",
       "        vertical-align: middle;\n",
       "    }\n",
       "\n",
       "    .dataframe tbody tr th {\n",
       "        vertical-align: top;\n",
       "    }\n",
       "\n",
       "    .dataframe thead th {\n",
       "        text-align: right;\n",
       "    }\n",
       "</style>\n",
       "<table border=\"1\" class=\"dataframe\">\n",
       "  <thead>\n",
       "    <tr style=\"text-align: right;\">\n",
       "      <th></th>\n",
       "      <th>CPD_Q3</th>\n",
       "    </tr>\n",
       "  </thead>\n",
       "  <tbody>\n",
       "    <tr>\n",
       "      <th>0</th>\n",
       "      <td>[believe, important, living, healthy, balanced...</td>\n",
       "    </tr>\n",
       "    <tr>\n",
       "      <th>1</th>\n",
       "      <td>[time, spent, choice, allowed, relax, mind, st...</td>\n",
       "    </tr>\n",
       "    <tr>\n",
       "      <th>2</th>\n",
       "      <td>[time, spent, choice, self, care, affected, po...</td>\n",
       "    </tr>\n",
       "    <tr>\n",
       "      <th>3</th>\n",
       "      <td>[made, relaxed, less, stressed, upcoming, futu...</td>\n",
       "    </tr>\n",
       "    <tr>\n",
       "      <th>4</th>\n",
       "      <td>[lifeline, always, felt, like, wasting, time, ...</td>\n",
       "    </tr>\n",
       "    <tr>\n",
       "      <th>...</th>\n",
       "      <td>...</td>\n",
       "    </tr>\n",
       "    <tr>\n",
       "      <th>99</th>\n",
       "      <td>[way, time, spent, choices, affected, would, a...</td>\n",
       "    </tr>\n",
       "    <tr>\n",
       "      <th>100</th>\n",
       "      <td>[life, constant, balance, happy, busy, always,...</td>\n",
       "    </tr>\n",
       "    <tr>\n",
       "      <th>101</th>\n",
       "      <td>[time, spent, helped, take, break, studying, s...</td>\n",
       "    </tr>\n",
       "    <tr>\n",
       "      <th>102</th>\n",
       "      <td>[gave, small, break, think]</td>\n",
       "    </tr>\n",
       "    <tr>\n",
       "      <th>103</th>\n",
       "      <td>[nice, think, affected, overall]</td>\n",
       "    </tr>\n",
       "  </tbody>\n",
       "</table>\n",
       "<p>104 rows × 1 columns</p>\n",
       "</div>"
      ],
      "text/plain": [
       "                                                CPD_Q3\n",
       "0    [believe, important, living, healthy, balanced...\n",
       "1    [time, spent, choice, allowed, relax, mind, st...\n",
       "2    [time, spent, choice, self, care, affected, po...\n",
       "3    [made, relaxed, less, stressed, upcoming, futu...\n",
       "4    [lifeline, always, felt, like, wasting, time, ...\n",
       "..                                                 ...\n",
       "99   [way, time, spent, choices, affected, would, a...\n",
       "100  [life, constant, balance, happy, busy, always,...\n",
       "101  [time, spent, helped, take, break, studying, s...\n",
       "102                        [gave, small, break, think]\n",
       "103                   [nice, think, affected, overall]\n",
       "\n",
       "[104 rows x 1 columns]"
      ]
     },
     "metadata": {},
     "output_type": "display_data"
    }
   ],
   "source": [
    "def remove_stopwords(word_list):\n",
    "    filtered_tokens = [word for word in word_list if word.lower() not in stopwords]\n",
    "    return filtered_tokens\n",
    "\n",
    "sample['CPD_Q1'] = sample['CPD_Q1'].apply(remove_stopwords)\n",
    "sample2['CPD_Q3'] = sample2['CPD_Q3'].apply(remove_stopwords)\n",
    "\n",
    "display(sample)\n",
    "display(sample2)"
   ]
  },
  {
   "cell_type": "markdown",
   "id": "2557f6c3",
   "metadata": {},
   "source": [
    "# EDA I think #"
   ]
  },
  {
   "cell_type": "code",
   "execution_count": null,
   "id": "6c7c205b",
   "metadata": {},
   "outputs": [],
   "source": []
  },
  {
   "cell_type": "code",
   "execution_count": 22,
   "id": "d6f62d96",
   "metadata": {},
   "outputs": [
    {
     "data": {
      "image/png": "[encoded data removed]",
      "text/plain": [
       "<Figure size 1200x500 with 2 Axes>"
      ]
     },
     "metadata": {},
     "output_type": "display_data"
    }
   ],
   "source": [
    "Q1_word_list = [word for sublist in sample['CPD_Q1'] for word in sublist]\n",
    "Q3_word_list = [word for sublist in sample2['CPD_Q3'] for word in sublist]\n",
    "\n",
    "Q1_word_freq = Counter(Q1_word_list)\n",
    "Q3_word_freq = Counter(Q3_word_list)\n",
    "\n",
    "# Plot the top N most frequent words\n",
    "N = 10  # Change N to display more or fewer words\n",
    "commonQ1_words = Q1_word_freq.most_common(N)\n",
    "commonQ3_words = Q3_word_freq.most_common(N)\n",
    "\n",
    "words1, frequencies1 = zip(*commonQ1_words)\n",
    "words3, frequencies3 = zip(*commonQ3_words)\n",
    "\n",
    "# Create a figure with two subplots (side by side)\n",
    "fig, (ax1, ax2) = plt.subplots(1, 2, figsize=(12, 5))\n",
    "\n",
    "ax1.barh(words1, frequencies1, color='skyblue')\n",
    "ax1.set_xlabel('Frequency')\n",
    "ax1.set_title('Top Words in Category 1')\n",
    "\n",
    "\n",
    "ax2.barh(words3, frequencies3, color='lightcoral')\n",
    "ax2.set_xlabel('Frequency')\n",
    "ax2.set_title('Top Words in Category 2')\n",
    "\n",
    "# Adjust spacing between subplots\n",
    "plt.tight_layout()\n",
    "\n",
    "# Show the plots\n",
    "plt.show()"
   ]
  },
  {
   "cell_type": "markdown",
   "id": "d6922d88",
   "metadata": {},
   "source": [
    "### Stopword Analysis ###"
   ]
  },
  {
   "cell_type": "code",
   "execution_count": 50,
   "id": "5605e1f5",
   "metadata": {},
   "outputs": [
    {
     "name": "stdout",
     "output_type": "stream",
     "text": [
      "Most Common 2-grams:\n",
      "('time', 'spent'): 19\n",
      "('feel', 'like'): 8\n",
      "('spent', 'choice'): 7\n",
      "('take', 'care'): 7\n",
      "('self', 'care'): 6\n",
      "('affected', 'positive'): 6\n",
      "('felt', 'like'): 6\n",
      "('time', 'spend'): 5\n",
      "('positive', 'way'): 5\n",
      "('taking', 'time'): 5\n"
     ]
    },
    {
     "data": {
      "image/png": "[encoded data removed]",
      "text/plain": [
       "<Figure size 640x480 with 1 Axes>"
      ]
     },
     "metadata": {},
     "output_type": "display_data"
    }
   ],
   "source": [
    "# Import the required libraries\n",
    "import pandas as pd\n",
    "import nltk\n",
    "from nltk.util import ngrams\n",
    "from nltk.tokenize import word_tokenize\n",
    "from collections import Counter\n",
    "import matplotlib.pyplot as plt\n",
    "\n",
    "def extract_ngrams(tokens, n):\n",
    "    return list(ngrams(tokens, n))\n",
    "\n",
    "n = 2  # Set 'n' to the desired N-gram size (e.g., 2 for bigrams)\n",
    "\n",
    "# Assuming 'sample2' is a DataFrame and 'CPD_Q3' column contains tokenized words\n",
    "# If 'CPD_Q3' contains strings of comma-separated words, convert them to a list of words (tokens)\n",
    "sample2['CPD_Q3'] = sample2['CPD_Q3'].apply(lambda x: x if isinstance(x, list) else x.split(','))\n",
    "\n",
    "# Extract N-grams from the token lists\n",
    "sample2['Ngrams'] = sample2['CPD_Q3'].apply(lambda x: extract_ngrams(x, n))\n",
    "\n",
    "# Flatten the list of N-grams\n",
    "ngrams_flat = [ngram for sublist in sample2['Ngrams'] for ngram in sublist]\n",
    "\n",
    "# Count the frequency of each N-gram\n",
    "ngram_counts = Counter(ngrams_flat)\n",
    "\n",
    "# Display the most common N-grams and their frequencies\n",
    "most_common_ngrams = ngram_counts.most_common(10)\n",
    "print(\"Most Common {}-grams:\".format(2))\n",
    "for ngram, count in most_common_ngrams:\n",
    "    print(\"{}: {}\".format(ngram, count))\n",
    "\n",
    "# Create a bar plot of the top N-grams\n",
    "top_ngrams = dict(most_common_ngrams)\n",
    "# Convert tuple bigrams into strings for plotting\n",
    "bigram_strings = [' '.join(bigram) for bigram in top_ngrams.keys()]\n",
    "\n",
    "plt.bar(range(len(top_ngrams)), top_ngrams.values())\n",
    "plt.xlabel(\"{}-grams\".format(n))\n",
    "plt.ylabel(\"Frequency\")\n",
    "plt.title(\"Top {}-grams in the Text Data\".format(n))\n",
    "# Set the x-ticks to be the string representation of the bigrams\n",
    "plt.xticks(range(len(top_ngrams)), bigram_strings, rotation=45)\n",
    "plt.show()"
   ]
  },
  {
   "cell_type": "code",
   "execution_count": 52,
   "id": "853e3c87",
   "metadata": {},
   "outputs": [
    {
     "name": "stdout",
     "output_type": "stream",
     "text": [
      "Most Common 2-grams:\n",
      "('time', 'devoted'): 25\n",
      "('team', 'discussions'): 21\n",
      "('take', 'care'): 15\n",
      "('take', 'time'): 8\n",
      "('self', 'care'): 6\n",
      "('past', '3'): 6\n",
      "('devoted', 'helped'): 5\n",
      "('little', 'bit'): 5\n",
      "('allowed', 'time'): 5\n",
      "('quarters', 'time'): 5\n"
     ]
    },
    {
     "data": {
      "image/png": "[encoded data removed]",
      "text/plain": [
       "<Figure size 640x480 with 1 Axes>"
      ]
     },
     "metadata": {},
     "output_type": "display_data"
    }
   ],
   "source": [
    "# Import the required libraries\n",
    "import pandas as pd\n",
    "import nltk\n",
    "from nltk.util import ngrams\n",
    "from nltk.tokenize import word_tokenize\n",
    "from collections import Counter\n",
    "import matplotlib.pyplot as plt\n",
    "\n",
    "def extract_ngrams(tokens, n):\n",
    "    return list(ngrams(tokens, n))\n",
    "\n",
    "n = 2  # Set 'n' to the desired N-gram size (e.g., 2 for bigrams)\n",
    "\n",
    "# Assuming 'sample' is a DataFrame and 'CPD_Q1' column contains tokenized words\n",
    "# If 'CPD_Q1' contains strings of comma-separated words, convert them to a list of words (tokens)\n",
    "sample['CPD_Q1'] = sample['CPD_Q1'].apply(lambda x: x if isinstance(x, list) else x.split(','))\n",
    "\n",
    "# Extract N-grams from the token lists\n",
    "sample['Ngrams'] = sample['CPD_Q1'].apply(lambda x: extract_ngrams(x, n))\n",
    "\n",
    "# Flatten the list of N-grams\n",
    "ngrams_flat = [ngram for sublist in sample['Ngrams'] for ngram in sublist]\n",
    "\n",
    "# Count the frequency of each N-gram\n",
    "ngram_counts = Counter(ngrams_flat)\n",
    "\n",
    "# Display the most common N-grams and their frequencies\n",
    "most_common_ngrams = ngram_counts.most_common(10)\n",
    "print(\"Most Common {}-grams:\".format(2))\n",
    "for ngram, count in most_common_ngrams:\n",
    "    print(\"{}: {}\".format(ngram, count))\n",
    "\n",
    "# Create a bar plot of the top N-grams\n",
    "top_ngrams = dict(most_common_ngrams)\n",
    "# Convert tuple bigrams into strings for plotting\n",
    "bigram_strings = [' '.join(bigram) for bigram in top_ngrams.keys()]\n",
    "\n",
    "plt.bar(range(len(top_ngrams)), top_ngrams.values())\n",
    "plt.xlabel(\"{}-grams\".format(n))\n",
    "plt.ylabel(\"Frequency\")\n",
    "plt.title(\"Top {}-grams in the Text Data\".format(n))\n",
    "# Set the x-ticks to be the string representation of the bigrams\n",
    "plt.xticks(range(len(top_ngrams)), bigram_strings, rotation=45)\n",
    "plt.show()"
   ]
  },
  {
   "cell_type": "code",
   "execution_count": null,
   "id": "9bfc25c4",
   "metadata": {},
   "outputs": [],
   "source": []
  }
 ],
 "metadata": {
  "kernelspec": {
   "display_name": "newenv",
   "language": "python",
   "name": "python3"
  },
  "language_info": {
   "codemirror_mode": {
    "name": "ipython",
    "version": 3
   },
   "file_extension": ".py",
   "mimetype": "text/x-python",
   "name": "python",
   "nbconvert_exporter": "python",
   "pygments_lexer": "ipython3",
   "version": "3.11.7"
  }
 },
 "nbformat": 4,
 "nbformat_minor": 5
}
