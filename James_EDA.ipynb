{
 "cells": [
  {
   "cell_type": "markdown",
   "id": "04edd596-7b61-41f5-a2ec-5bb2c9f4d2ca",
   "metadata": {},
   "source": [
    "# An Exploration of UW Pharmacy Student Reflections"
   ]
  },
  {
   "cell_type": "markdown",
   "id": "f80a0b2a-3831-477b-af69-5fcaa43028a9",
   "metadata": {},
   "source": [
    "Author: James Geronimo (jegeronimo@berkeley.edu)"
   ]
  },
  {
   "cell_type": "markdown",
   "id": "d7368fbd-ebba-44b8-9b9e-cb48d47d0565",
   "metadata": {},
   "source": [
    "## Libraries and Dependencies"
   ]
  },
  {
   "cell_type": "code",
   "execution_count": 131,
   "id": "12b8799e-caf8-43fb-8533-3d5e9df305eb",
   "metadata": {},
   "outputs": [],
   "source": [
    "import pandas as pd\n",
    "import numpy as np\n",
    "import seaborn as sns\n",
    "\n",
    "import nltk\n",
    "from nltk.corpus import stopwords\n",
    "from nltk.tokenize import word_tokenize\n",
    "from nltk.stem import WordNetLemmatizer, PorterStemmer\n",
    "\n",
    "import re\n",
    "\n",
    "from sklearn.feature_extraction.text import TfidfVectorizer\n",
    "\n",
    "from collections import Counter\n",
    "\n",
    "import gensim\n",
    "import gensim.corpora as corpora\n",
    "from gensim.utils import simple_preprocess"
   ]
  },
  {
   "cell_type": "markdown",
   "id": "155edbba-d0c1-484b-afe4-345a590cba17",
   "metadata": {},
   "source": [
    "## Preprocess Data"
   ]
  },
  {
   "cell_type": "code",
   "execution_count": 137,
   "id": "519f271d-7a41-4bda-a1ac-9ee97e6eaaf2",
   "metadata": {},
   "outputs": [
    {
     "name": "stdout",
     "output_type": "stream",
     "text": [
      "There are 108 rows.\n"
     ]
    },
    {
     "data": {
      "text/html": [
       "<div>\n",
       "<style scoped>\n",
       "    .dataframe tbody tr th:only-of-type {\n",
       "        vertical-align: middle;\n",
       "    }\n",
       "\n",
       "    .dataframe tbody tr th {\n",
       "        vertical-align: top;\n",
       "    }\n",
       "\n",
       "    .dataframe thead th {\n",
       "        text-align: right;\n",
       "    }\n",
       "</style>\n",
       "<table border=\"1\" class=\"dataframe\">\n",
       "  <thead>\n",
       "    <tr style=\"text-align: right;\">\n",
       "      <th></th>\n",
       "      <th>CPD_Q1</th>\n",
       "      <th>CPD_Q3</th>\n",
       "    </tr>\n",
       "  </thead>\n",
       "  <tbody>\n",
       "    <tr>\n",
       "      <th>0</th>\n",
       "      <td>The class time devoted to health and wellness ...</td>\n",
       "      <td>I believe self-care to be really important in ...</td>\n",
       "    </tr>\n",
       "    <tr>\n",
       "      <th>1</th>\n",
       "      <td>The class time devoted to health and wellness ...</td>\n",
       "      <td>The time spent on my choice of self-care allow...</td>\n",
       "    </tr>\n",
       "    <tr>\n",
       "      <th>2</th>\n",
       "      <td>The class time has reminded me on the importan...</td>\n",
       "      <td>The time spent on my choice of self care affec...</td>\n",
       "    </tr>\n",
       "    <tr>\n",
       "      <th>3</th>\n",
       "      <td>The class time that was devoted to health and ...</td>\n",
       "      <td>It made me more relaxed and less stressed abou...</td>\n",
       "    </tr>\n",
       "    <tr>\n",
       "      <th>4</th>\n",
       "      <td>I have learnt to listen to people without inte...</td>\n",
       "      <td>This has been a lifeline because I always felt...</td>\n",
       "    </tr>\n",
       "  </tbody>\n",
       "</table>\n",
       "</div>"
      ],
      "text/plain": [
       "                                              CPD_Q1  \\\n",
       "0  The class time devoted to health and wellness ...   \n",
       "1  The class time devoted to health and wellness ...   \n",
       "2  The class time has reminded me on the importan...   \n",
       "3  The class time that was devoted to health and ...   \n",
       "4  I have learnt to listen to people without inte...   \n",
       "\n",
       "                                              CPD_Q3  \n",
       "0  I believe self-care to be really important in ...  \n",
       "1  The time spent on my choice of self-care allow...  \n",
       "2  The time spent on my choice of self care affec...  \n",
       "3  It made me more relaxed and less stressed abou...  \n",
       "4  This has been a lifeline because I always felt...  "
      ]
     },
     "execution_count": 137,
     "metadata": {},
     "output_type": "execute_result"
    }
   ],
   "source": [
    "data = pd.read_csv(\"data/choiceboard_data.csv\")[[\"CPD_Q1\", \"CPD_Q3\"]]\n",
    "data = data.astype(str).dropna()\n",
    "print('There are ' + str(data.shape[0]) + ' rows.')\n",
    "data.head()"
   ]
  },
  {
   "cell_type": "code",
   "execution_count": 139,
   "id": "167f331a-f6db-4dcb-bf8b-cb3468264146",
   "metadata": {},
   "outputs": [
    {
     "data": {
      "text/html": [
       "<div>\n",
       "<style scoped>\n",
       "    .dataframe tbody tr th:only-of-type {\n",
       "        vertical-align: middle;\n",
       "    }\n",
       "\n",
       "    .dataframe tbody tr th {\n",
       "        vertical-align: top;\n",
       "    }\n",
       "\n",
       "    .dataframe thead th {\n",
       "        text-align: right;\n",
       "    }\n",
       "</style>\n",
       "<table border=\"1\" class=\"dataframe\">\n",
       "  <thead>\n",
       "    <tr style=\"text-align: right;\">\n",
       "      <th></th>\n",
       "      <th>CPD_Q1</th>\n",
       "      <th>CPD_Q3</th>\n",
       "      <th>CPD_Q1 Clean</th>\n",
       "      <th>CPD_Q3 Clean</th>\n",
       "      <th>CPD_Q1 Word Count</th>\n",
       "      <th>CPD_Q3 Word Count</th>\n",
       "      <th>CPD_Q1 Clean Word Count</th>\n",
       "      <th>CPD_Q3 Clean Word Count</th>\n",
       "    </tr>\n",
       "  </thead>\n",
       "  <tbody>\n",
       "    <tr>\n",
       "      <th>0</th>\n",
       "      <td>The class time devoted to health and wellness ...</td>\n",
       "      <td>I believe self-care to be really important in ...</td>\n",
       "      <td>[class, time, devot, health, well, self, care,...</td>\n",
       "      <td>[believ, self, care, realli, import, live, hea...</td>\n",
       "      <td>88</td>\n",
       "      <td>37</td>\n",
       "      <td>42</td>\n",
       "      <td>20</td>\n",
       "    </tr>\n",
       "    <tr>\n",
       "      <th>1</th>\n",
       "      <td>The class time devoted to health and wellness ...</td>\n",
       "      <td>The time spent on my choice of self-care allow...</td>\n",
       "      <td>[class, time, devot, health, well, self, care,...</td>\n",
       "      <td>[time, spent, choic, self, care, allow, relax,...</td>\n",
       "      <td>78</td>\n",
       "      <td>26</td>\n",
       "      <td>39</td>\n",
       "      <td>15</td>\n",
       "    </tr>\n",
       "    <tr>\n",
       "      <th>2</th>\n",
       "      <td>The class time has reminded me on the importan...</td>\n",
       "      <td>The time spent on my choice of self care affec...</td>\n",
       "      <td>[class, time, remind, import, self, care, also...</td>\n",
       "      <td>[time, spent, choic, self, care, affect, posit...</td>\n",
       "      <td>91</td>\n",
       "      <td>63</td>\n",
       "      <td>39</td>\n",
       "      <td>30</td>\n",
       "    </tr>\n",
       "    <tr>\n",
       "      <th>3</th>\n",
       "      <td>The class time that was devoted to health and ...</td>\n",
       "      <td>It made me more relaxed and less stressed abou...</td>\n",
       "      <td>[class, time, devot, health, well, self, care,...</td>\n",
       "      <td>[made, relax, le, stress, upcom, futur, exam, ...</td>\n",
       "      <td>38</td>\n",
       "      <td>34</td>\n",
       "      <td>16</td>\n",
       "      <td>13</td>\n",
       "    </tr>\n",
       "    <tr>\n",
       "      <th>4</th>\n",
       "      <td>I have learnt to listen to people without inte...</td>\n",
       "      <td>This has been a lifeline because I always felt...</td>\n",
       "      <td>[learnt, listen, peopl, without, interrupt, le...</td>\n",
       "      <td>[lifelin, alway, felt, like, wast, time, walk,...</td>\n",
       "      <td>58</td>\n",
       "      <td>50</td>\n",
       "      <td>25</td>\n",
       "      <td>23</td>\n",
       "    </tr>\n",
       "  </tbody>\n",
       "</table>\n",
       "</div>"
      ],
      "text/plain": [
       "                                              CPD_Q1  \\\n",
       "0  The class time devoted to health and wellness ...   \n",
       "1  The class time devoted to health and wellness ...   \n",
       "2  The class time has reminded me on the importan...   \n",
       "3  The class time that was devoted to health and ...   \n",
       "4  I have learnt to listen to people without inte...   \n",
       "\n",
       "                                              CPD_Q3  \\\n",
       "0  I believe self-care to be really important in ...   \n",
       "1  The time spent on my choice of self-care allow...   \n",
       "2  The time spent on my choice of self care affec...   \n",
       "3  It made me more relaxed and less stressed abou...   \n",
       "4  This has been a lifeline because I always felt...   \n",
       "\n",
       "                                        CPD_Q1 Clean  \\\n",
       "0  [class, time, devot, health, well, self, care,...   \n",
       "1  [class, time, devot, health, well, self, care,...   \n",
       "2  [class, time, remind, import, self, care, also...   \n",
       "3  [class, time, devot, health, well, self, care,...   \n",
       "4  [learnt, listen, peopl, without, interrupt, le...   \n",
       "\n",
       "                                        CPD_Q3 Clean  CPD_Q1 Word Count  \\\n",
       "0  [believ, self, care, realli, import, live, hea...                 88   \n",
       "1  [time, spent, choic, self, care, allow, relax,...                 78   \n",
       "2  [time, spent, choic, self, care, affect, posit...                 91   \n",
       "3  [made, relax, le, stress, upcom, futur, exam, ...                 38   \n",
       "4  [lifelin, alway, felt, like, wast, time, walk,...                 58   \n",
       "\n",
       "   CPD_Q3 Word Count  CPD_Q1 Clean Word Count  CPD_Q3 Clean Word Count  \n",
       "0                 37                       42                       20  \n",
       "1                 26                       39                       15  \n",
       "2                 63                       39                       30  \n",
       "3                 34                       16                       13  \n",
       "4                 50                       25                       23  "
      ]
     },
     "execution_count": 139,
     "metadata": {},
     "output_type": "execute_result"
    }
   ],
   "source": [
    "stopwords = set(nltk.corpus.stopwords.words('english'))\n",
    "lemmatizer = WordNetLemmatizer()\n",
    "stemmer = PorterStemmer()\n",
    "\n",
    "def preprocess(text):\n",
    "    # Remove punctuation and numbers\n",
    "    text = re.sub('[^a-zA-Z]', ' ', text)\n",
    "\n",
    "    # Lowercase\n",
    "    text = text.lower() \n",
    "\n",
    "    # Tokenize\n",
    "    tokens = word_tokenize(text)  \n",
    "\n",
    "    # Lemmatize and remove stopwords\n",
    "    tokens = [lemmatizer.lemmatize(word) for word in tokens if word not in stopwords]\n",
    "\n",
    "    # Stemming\n",
    "    tokens = [stemmer.stem(word) for word in tokens] \n",
    "    \n",
    "    # Return preprocessed list of tokens\n",
    "    return tokens\n",
    "\n",
    "data['CPD_Q1 Clean'] = data['CPD_Q1'].apply(preprocess)\n",
    "data['CPD_Q3 Clean'] = data['CPD_Q3'].apply(preprocess)\n",
    "\n",
    "data['CPD_Q1 Word Count'] = data['CPD_Q1'].apply(lambda x: len(x.split()))\n",
    "data['CPD_Q3 Word Count'] = data['CPD_Q3'].apply(lambda x: len(x.split()))\n",
    "\n",
    "data['CPD_Q1 Clean Word Count'] = data['CPD_Q1 Clean'].apply(lambda x: len(x))\n",
    "data['CPD_Q3 Clean Word Count'] = data['CPD_Q3 Clean'].apply(lambda x: len(x))\n",
    "data.head()"
   ]
  },
  {
   "cell_type": "markdown",
   "id": "ce360d32",
   "metadata": {},
   "source": [
    "## EDA"
   ]
  },
  {
   "cell_type": "code",
   "execution_count": 136,
   "id": "cc783216",
   "metadata": {},
   "outputs": [
    {
     "name": "stdout",
     "output_type": "stream",
     "text": [
      "CPD_Q1 raw word count:  62.74074074074074\n",
      "CPD_Q3 raw word count:  40.138888888888886\n",
      "CPD_Q1 clean word count:  29.77777777777778\n",
      "CPD_Q3 clean word count:  19.037037037037038\n"
     ]
    }
   ],
   "source": [
    "print(\"CPD_Q1 raw word count: \", np.average(data['CPD_Q1 Word Count']))\n",
    "print(\"CPD_Q3 raw word count: \", np.average(data['CPD_Q3 Word Count']))\n",
    "\n",
    "print(\"CPD_Q1 clean word count: \", np.average(data['CPD_Q1 Clean Word Count']))\n",
    "print(\"CPD_Q3 clean word count: \", np.average(data['CPD_Q3 Clean Word Count']))"
   ]
  },
  {
   "cell_type": "code",
   "execution_count": null,
   "id": "9d667960",
   "metadata": {},
   "outputs": [],
   "source": []
  },
  {
   "cell_type": "markdown",
   "id": "3bcb884a",
   "metadata": {},
   "source": [
    "### Miscellaneous"
   ]
  },
  {
   "cell_type": "code",
   "execution_count": null,
   "id": "a6a1d556",
   "metadata": {},
   "outputs": [
    {
     "data": {
      "text/plain": [
       "'\\nPotential stop words to include considering the context\\nof our project\\n'"
      ]
     },
     "execution_count": 119,
     "metadata": {},
     "output_type": "execute_result"
    }
   ],
   "source": [
    "\"\"\"\n",
    "Potential stop words to include considering the context\n",
    "of our project\n",
    "\"\"\"\n",
    "\n",
    "# stopwords.append('pharmacy')\n",
    "# stopwords.append('pharmacist')\n",
    "# stopwords.append('pharmacists')\n",
    "# stopwords.append('health')\n",
    "# stopwords.append('healthcare')\n",
    "# stopwords.append('practitioner')\n",
    "# stopwords.append('mental')\n",
    "# stopwords.append('wellness')\n",
    "# stopwords.append('self-care')\n",
    "# stopwords.append('mentor')\n",
    "# stopwords.append('WIP')\n",
    "# stopwords.append('class')\n",
    "# stopwords.append('school')\n",
    "# stopwords.append('peers')\n",
    "# stopwords.append('classmates')\n",
    "# stopwords.append('quarter')\n",
    "# stopwords.append('spring')\n",
    "# stopwords.append('winter')\n",
    "# stopwords.append('fall')"
   ]
  },
  {
   "cell_type": "code",
   "execution_count": null,
   "id": "a9a1dfa2",
   "metadata": {},
   "outputs": [
    {
     "data": {
      "text/plain": [
       "'\\ndata_Q1 = data[[\"CPD_Q1\"]]\\ndata_Q1 = data_Q1.astype(str)\\n\\ndata_Q3 = data[[\"CPD_Q3\"]]\\ndata_Q3 = data_Q3.astype(str)\\n'"
      ]
     },
     "execution_count": 120,
     "metadata": {},
     "output_type": "execute_result"
    }
   ],
   "source": [
    "# Split Q1 and Q3 into different dfs\n",
    "\"\"\"\n",
    "data_Q1 = data[[\"CPD_Q1\"]]\n",
    "data_Q1 = data_Q1.astype(str)\n",
    "\n",
    "data_Q3 = data[[\"CPD_Q3\"]]\n",
    "data_Q3 = data_Q3.astype(str)\n",
    "\"\"\""
   ]
  },
  {
   "cell_type": "code",
   "execution_count": null,
   "id": "10f69bf0",
   "metadata": {},
   "outputs": [],
   "source": []
  },
  {
   "cell_type": "code",
   "execution_count": null,
   "id": "f38b9073",
   "metadata": {},
   "outputs": [],
   "source": []
  }
 ],
 "metadata": {
  "kernelspec": {
   "display_name": "Python 3 (ipykernel)",
   "language": "python",
   "name": "python3"
  },
  "language_info": {
   "codemirror_mode": {
    "name": "ipython",
    "version": 3
   },
   "file_extension": ".py",
   "mimetype": "text/x-python",
   "name": "python",
   "nbconvert_exporter": "python",
   "pygments_lexer": "ipython3",
   "version": "3.10.9"
  }
 },
 "nbformat": 4,
 "nbformat_minor": 5
}
