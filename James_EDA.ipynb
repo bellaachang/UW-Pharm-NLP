{
 "cells": [
  {
   "cell_type": "markdown",
   "id": "04edd596-7b61-41f5-a2ec-5bb2c9f4d2ca",
   "metadata": {},
   "source": [
    "# An Exploration of UW Pharmacy Student Reflections"
   ]
  },
  {
   "cell_type": "markdown",
   "id": "f80a0b2a-3831-477b-af69-5fcaa43028a9",
   "metadata": {},
   "source": [
    "Author: James Geronimo (jegeronimo@berkeley.edu)"
   ]
  },
  {
   "cell_type": "markdown",
   "id": "d7368fbd-ebba-44b8-9b9e-cb48d47d0565",
   "metadata": {},
   "source": [
    "## Libraries and Dependencies"
   ]
  },
  {
   "cell_type": "code",
   "execution_count": 1,
   "id": "12b8799e-caf8-43fb-8533-3d5e9df305eb",
   "metadata": {},
   "outputs": [
    {
     "name": "stderr",
     "output_type": "stream",
     "text": [
      "c:\\Users\\jergx\\anaconda3\\lib\\site-packages\\pandas\\core\\arrays\\masked.py:60: UserWarning: Pandas requires version '1.3.6' or newer of 'bottleneck' (version '1.3.5' currently installed).\n",
      "  from pandas.core import (\n",
      "C:\\Users\\jergx\\AppData\\Local\\Temp\\ipykernel_7252\\2301565033.py:1: DeprecationWarning: \n",
      "Pyarrow will become a required dependency of pandas in the next major release of pandas (pandas 3.0),\n",
      "(to allow more performant data types, such as the Arrow string type, and better interoperability with other libraries)\n",
      "but was not found to be installed on your system.\n",
      "If this would cause problems for you,\n",
      "please provide us feedback at https://github.com/pandas-dev/pandas/issues/54466\n",
      "        \n",
      "  import pandas as pd\n"
     ]
    }
   ],
   "source": [
    "import pandas as pd\n",
    "import numpy as np\n",
    "import matplotlib.pyplot as plt\n",
    "import seaborn as sns\n",
    "import tqdm\n",
    "\n",
    "import nltk\n",
    "from nltk.corpus import stopwords\n",
    "from nltk.tokenize import word_tokenize\n",
    "from nltk.stem import WordNetLemmatizer, PorterStemmer\n",
    "\n",
    "import re\n",
    "\n",
    "from sklearn.feature_extraction.text import TfidfVectorizer\n",
    "\n",
    "from collections import Counter\n",
    "\n",
    "from pprint import pprint\n",
    "\n",
    "import gensim\n",
    "import gensim.corpora as corpora\n",
    "from gensim.utils import simple_preprocess\n",
    "from gensim.models import CoherenceModel"
   ]
  },
  {
   "cell_type": "markdown",
   "id": "155edbba-d0c1-484b-afe4-345a590cba17",
   "metadata": {},
   "source": [
    "## Preprocess Data"
   ]
  },
  {
   "cell_type": "code",
   "execution_count": 2,
   "id": "519f271d-7a41-4bda-a1ac-9ee97e6eaaf2",
   "metadata": {},
   "outputs": [
    {
     "name": "stdout",
     "output_type": "stream",
     "text": [
      "There are 104 rows.\n"
     ]
    },
    {
     "data": {
      "text/html": [
       "<div>\n",
       "<style scoped>\n",
       "    .dataframe tbody tr th:only-of-type {\n",
       "        vertical-align: middle;\n",
       "    }\n",
       "\n",
       "    .dataframe tbody tr th {\n",
       "        vertical-align: top;\n",
       "    }\n",
       "\n",
       "    .dataframe thead th {\n",
       "        text-align: right;\n",
       "    }\n",
       "</style>\n",
       "<table border=\"1\" class=\"dataframe\">\n",
       "  <thead>\n",
       "    <tr style=\"text-align: right;\">\n",
       "      <th></th>\n",
       "      <th>CPD_Q1</th>\n",
       "      <th>CPD_Q3</th>\n",
       "    </tr>\n",
       "  </thead>\n",
       "  <tbody>\n",
       "    <tr>\n",
       "      <th>0</th>\n",
       "      <td>The class time devoted to health and wellness ...</td>\n",
       "      <td>I believe self-care to be really important in ...</td>\n",
       "    </tr>\n",
       "    <tr>\n",
       "      <th>1</th>\n",
       "      <td>The class time devoted to health and wellness ...</td>\n",
       "      <td>The time spent on my choice of self-care allow...</td>\n",
       "    </tr>\n",
       "    <tr>\n",
       "      <th>2</th>\n",
       "      <td>The class time has reminded me on the importan...</td>\n",
       "      <td>The time spent on my choice of self care affec...</td>\n",
       "    </tr>\n",
       "    <tr>\n",
       "      <th>3</th>\n",
       "      <td>The class time that was devoted to health and ...</td>\n",
       "      <td>It made me more relaxed and less stressed abou...</td>\n",
       "    </tr>\n",
       "    <tr>\n",
       "      <th>4</th>\n",
       "      <td>I have learnt to listen to people without inte...</td>\n",
       "      <td>This has been a lifeline because I always felt...</td>\n",
       "    </tr>\n",
       "  </tbody>\n",
       "</table>\n",
       "</div>"
      ],
      "text/plain": [
       "                                              CPD_Q1  \\\n",
       "0  The class time devoted to health and wellness ...   \n",
       "1  The class time devoted to health and wellness ...   \n",
       "2  The class time has reminded me on the importan...   \n",
       "3  The class time that was devoted to health and ...   \n",
       "4  I have learnt to listen to people without inte...   \n",
       "\n",
       "                                              CPD_Q3  \n",
       "0  I believe self-care to be really important in ...  \n",
       "1  The time spent on my choice of self-care allow...  \n",
       "2  The time spent on my choice of self care affec...  \n",
       "3  It made me more relaxed and less stressed abou...  \n",
       "4  This has been a lifeline because I always felt...  "
      ]
     },
     "execution_count": 2,
     "metadata": {},
     "output_type": "execute_result"
    }
   ],
   "source": [
    "data = pd.read_csv(\"data/choiceboard_data.csv\")[[\"CPD_Q1\", \"CPD_Q3\"]]\n",
    "data = data.dropna()\n",
    "print('There are ' + str(data.shape[0]) + ' rows.')\n",
    "data.head()"
   ]
  },
  {
   "cell_type": "code",
   "execution_count": 3,
   "id": "167f331a-f6db-4dcb-bf8b-cb3468264146",
   "metadata": {},
   "outputs": [
    {
     "data": {
      "text/html": [
       "<div>\n",
       "<style scoped>\n",
       "    .dataframe tbody tr th:only-of-type {\n",
       "        vertical-align: middle;\n",
       "    }\n",
       "\n",
       "    .dataframe tbody tr th {\n",
       "        vertical-align: top;\n",
       "    }\n",
       "\n",
       "    .dataframe thead th {\n",
       "        text-align: right;\n",
       "    }\n",
       "</style>\n",
       "<table border=\"1\" class=\"dataframe\">\n",
       "  <thead>\n",
       "    <tr style=\"text-align: right;\">\n",
       "      <th></th>\n",
       "      <th>CPD_Q1</th>\n",
       "      <th>CPD_Q3</th>\n",
       "      <th>CPD_Q1 Clean</th>\n",
       "      <th>CPD_Q3 Clean</th>\n",
       "      <th>CPD_Q1 Word Count</th>\n",
       "      <th>CPD_Q3 Word Count</th>\n",
       "      <th>CPD_Q1 Clean Word Count</th>\n",
       "      <th>CPD_Q3 Clean Word Count</th>\n",
       "    </tr>\n",
       "  </thead>\n",
       "  <tbody>\n",
       "    <tr>\n",
       "      <th>0</th>\n",
       "      <td>The class time devoted to health and wellness ...</td>\n",
       "      <td>I believe self-care to be really important in ...</td>\n",
       "      <td>[class, time, devot, health, well, self, care,...</td>\n",
       "      <td>[believ, self, care, realli, import, live, hea...</td>\n",
       "      <td>88</td>\n",
       "      <td>37</td>\n",
       "      <td>42</td>\n",
       "      <td>20</td>\n",
       "    </tr>\n",
       "    <tr>\n",
       "      <th>1</th>\n",
       "      <td>The class time devoted to health and wellness ...</td>\n",
       "      <td>The time spent on my choice of self-care allow...</td>\n",
       "      <td>[class, time, devot, health, well, self, care,...</td>\n",
       "      <td>[time, spent, choic, self, care, allow, relax,...</td>\n",
       "      <td>78</td>\n",
       "      <td>26</td>\n",
       "      <td>39</td>\n",
       "      <td>15</td>\n",
       "    </tr>\n",
       "    <tr>\n",
       "      <th>2</th>\n",
       "      <td>The class time has reminded me on the importan...</td>\n",
       "      <td>The time spent on my choice of self care affec...</td>\n",
       "      <td>[class, time, remind, import, self, care, also...</td>\n",
       "      <td>[time, spent, choic, self, care, affect, posit...</td>\n",
       "      <td>91</td>\n",
       "      <td>63</td>\n",
       "      <td>39</td>\n",
       "      <td>30</td>\n",
       "    </tr>\n",
       "    <tr>\n",
       "      <th>3</th>\n",
       "      <td>The class time that was devoted to health and ...</td>\n",
       "      <td>It made me more relaxed and less stressed abou...</td>\n",
       "      <td>[class, time, devot, health, well, self, care,...</td>\n",
       "      <td>[made, relax, le, stress, upcom, futur, exam, ...</td>\n",
       "      <td>38</td>\n",
       "      <td>34</td>\n",
       "      <td>16</td>\n",
       "      <td>13</td>\n",
       "    </tr>\n",
       "    <tr>\n",
       "      <th>4</th>\n",
       "      <td>I have learnt to listen to people without inte...</td>\n",
       "      <td>This has been a lifeline because I always felt...</td>\n",
       "      <td>[learnt, listen, peopl, without, interrupt, le...</td>\n",
       "      <td>[lifelin, alway, felt, like, wast, time, walk,...</td>\n",
       "      <td>58</td>\n",
       "      <td>50</td>\n",
       "      <td>25</td>\n",
       "      <td>23</td>\n",
       "    </tr>\n",
       "  </tbody>\n",
       "</table>\n",
       "</div>"
      ],
      "text/plain": [
       "                                              CPD_Q1  \\\n",
       "0  The class time devoted to health and wellness ...   \n",
       "1  The class time devoted to health and wellness ...   \n",
       "2  The class time has reminded me on the importan...   \n",
       "3  The class time that was devoted to health and ...   \n",
       "4  I have learnt to listen to people without inte...   \n",
       "\n",
       "                                              CPD_Q3  \\\n",
       "0  I believe self-care to be really important in ...   \n",
       "1  The time spent on my choice of self-care allow...   \n",
       "2  The time spent on my choice of self care affec...   \n",
       "3  It made me more relaxed and less stressed abou...   \n",
       "4  This has been a lifeline because I always felt...   \n",
       "\n",
       "                                        CPD_Q1 Clean  \\\n",
       "0  [class, time, devot, health, well, self, care,...   \n",
       "1  [class, time, devot, health, well, self, care,...   \n",
       "2  [class, time, remind, import, self, care, also...   \n",
       "3  [class, time, devot, health, well, self, care,...   \n",
       "4  [learnt, listen, peopl, without, interrupt, le...   \n",
       "\n",
       "                                        CPD_Q3 Clean  CPD_Q1 Word Count  \\\n",
       "0  [believ, self, care, realli, import, live, hea...                 88   \n",
       "1  [time, spent, choic, self, care, allow, relax,...                 78   \n",
       "2  [time, spent, choic, self, care, affect, posit...                 91   \n",
       "3  [made, relax, le, stress, upcom, futur, exam, ...                 38   \n",
       "4  [lifelin, alway, felt, like, wast, time, walk,...                 58   \n",
       "\n",
       "   CPD_Q3 Word Count  CPD_Q1 Clean Word Count  CPD_Q3 Clean Word Count  \n",
       "0                 37                       42                       20  \n",
       "1                 26                       39                       15  \n",
       "2                 63                       39                       30  \n",
       "3                 34                       16                       13  \n",
       "4                 50                       25                       23  "
      ]
     },
     "execution_count": 3,
     "metadata": {},
     "output_type": "execute_result"
    }
   ],
   "source": [
    "stopwords = set(nltk.corpus.stopwords.words('english'))\n",
    "lemmatizer = WordNetLemmatizer()\n",
    "stemmer = PorterStemmer()\n",
    "\n",
    "def preprocess(text):\n",
    "    # Remove punctuation and numbers\n",
    "    text = re.sub('[^a-zA-Z]', ' ', text)\n",
    "\n",
    "    # Lowercase\n",
    "    text = text.lower() \n",
    "\n",
    "    # Tokenize\n",
    "    tokens = word_tokenize(text)  \n",
    "\n",
    "    # Lemmatize and remove stopwords\n",
    "    tokens = [lemmatizer.lemmatize(word) for word in tokens if word not in stopwords]\n",
    "\n",
    "    # Stemming\n",
    "    tokens = [stemmer.stem(word) for word in tokens] \n",
    "    \n",
    "    # Return preprocessed list of tokens\n",
    "    return tokens\n",
    "\n",
    "data['CPD_Q1 Clean'] = data['CPD_Q1'].apply(preprocess)\n",
    "data['CPD_Q3 Clean'] = data['CPD_Q3'].apply(preprocess)\n",
    "\n",
    "data['CPD_Q1 Word Count'] = data['CPD_Q1'].apply(lambda x: len(x.split()))\n",
    "data['CPD_Q3 Word Count'] = data['CPD_Q3'].apply(lambda x: len(x.split()))\n",
    "\n",
    "data['CPD_Q1 Clean Word Count'] = data['CPD_Q1 Clean'].apply(lambda x: len(x))\n",
    "data['CPD_Q3 Clean Word Count'] = data['CPD_Q3 Clean'].apply(lambda x: len(x))\n",
    "data.head()"
   ]
  },
  {
   "cell_type": "markdown",
   "id": "5e2ef5c4",
   "metadata": {},
   "source": [
    "Note: words like healthier and learnt aren't being lemmatized/stemmed properly, which may be a limitation of WordNetLemmatizer() and PorterStemmer()"
   ]
  },
  {
   "cell_type": "markdown",
   "id": "ce360d32",
   "metadata": {},
   "source": [
    "## EDA"
   ]
  },
  {
   "cell_type": "code",
   "execution_count": 4,
   "id": "cc783216",
   "metadata": {},
   "outputs": [
    {
     "name": "stdout",
     "output_type": "stream",
     "text": [
      "CPD_Q1 raw word count:  64.28846153846153\n",
      "CPD_Q3 raw word count:  41.64423076923077\n",
      "CPD_Q1 clean word count:  30.442307692307693\n",
      "CPD_Q3 clean word count:  19.73076923076923\n"
     ]
    }
   ],
   "source": [
    "print(\"CPD_Q1 raw word count: \", np.average(data['CPD_Q1 Word Count']))\n",
    "print(\"CPD_Q3 raw word count: \", np.average(data['CPD_Q3 Word Count']))\n",
    "\n",
    "print(\"CPD_Q1 clean word count: \", np.average(data['CPD_Q1 Clean Word Count']))\n",
    "print(\"CPD_Q3 clean word count: \", np.average(data['CPD_Q3 Clean Word Count']))"
   ]
  },
  {
   "cell_type": "code",
   "execution_count": 5,
   "id": "9d667960",
   "metadata": {},
   "outputs": [
    {
     "name": "stderr",
     "output_type": "stream",
     "text": [
      "c:\\Users\\jergx\\anaconda3\\lib\\site-packages\\seaborn\\_oldcore.py:1119: FutureWarning: use_inf_as_na option is deprecated and will be removed in a future version. Convert inf values to NaN before operating instead.\n",
      "  with pd.option_context('mode.use_inf_as_na', True):\n",
      "c:\\Users\\jergx\\anaconda3\\lib\\site-packages\\seaborn\\_oldcore.py:1119: FutureWarning: use_inf_as_na option is deprecated and will be removed in a future version. Convert inf values to NaN before operating instead.\n",
      "  with pd.option_context('mode.use_inf_as_na', True):\n"
     ]
    },
    {
     "data": {
      "image/png": "[encoded data removed]",
      "text/plain": [
       "<Figure size 640x480 with 1 Axes>"
      ]
     },
     "metadata": {},
     "output_type": "display_data"
    }
   ],
   "source": [
    "# Plotting word counts\n",
    "\n",
    "custom_bins = list(range(0, 251, 10))\n",
    "\n",
    "sns.histplot(data=data, x='CPD_Q1 Word Count', color='red', label='CPD_Q1 Word Count', bins=custom_bins)\n",
    "sns.histplot(data=data, x='CPD_Q1 Clean Word Count', color='blue', label='CPD_Q1 Clean Word Count', bins=custom_bins)\n",
    "\n",
    "plt.title(\"CPD_Q1 Raw Word Count vs Clean Word Count\")\n",
    "\n",
    "plt.xlabel('Word Count')\n",
    "plt.ylabel('Frequency')\n",
    "plt.legend()\n",
    "\n",
    "plt.show()"
   ]
  },
  {
   "cell_type": "code",
   "execution_count": 6,
   "id": "49c0a78c",
   "metadata": {},
   "outputs": [
    {
     "name": "stderr",
     "output_type": "stream",
     "text": [
      "c:\\Users\\jergx\\anaconda3\\lib\\site-packages\\seaborn\\_oldcore.py:1119: FutureWarning: use_inf_as_na option is deprecated and will be removed in a future version. Convert inf values to NaN before operating instead.\n",
      "  with pd.option_context('mode.use_inf_as_na', True):\n",
      "c:\\Users\\jergx\\anaconda3\\lib\\site-packages\\seaborn\\_oldcore.py:1119: FutureWarning: use_inf_as_na option is deprecated and will be removed in a future version. Convert inf values to NaN before operating instead.\n",
      "  with pd.option_context('mode.use_inf_as_na', True):\n"
     ]
    },
    {
     "data": {
      "image/png": "[encoded data removed]",
      "text/plain": [
       "<Figure size 640x480 with 1 Axes>"
      ]
     },
     "metadata": {},
     "output_type": "display_data"
    }
   ],
   "source": [
    "# Plotting word counts\n",
    "\n",
    "custom_bins = list(range(0, 251, 10))\n",
    "\n",
    "sns.histplot(data=data, x='CPD_Q3 Word Count', color='red', label='CPD_Q3 Word Count', bins=custom_bins)\n",
    "sns.histplot(data=data, x='CPD_Q3 Clean Word Count', color='blue', label='CPD_Q3 Clean Word Count', bins=custom_bins)\n",
    "\n",
    "plt.title(\"CPD_Q3 Raw Word Count vs Clean Word Count\")\n",
    "plt.xlabel('Word Count')\n",
    "plt.ylabel('Frequency')\n",
    "plt.legend()\n",
    "\n",
    "plt.show()"
   ]
  },
  {
   "cell_type": "code",
   "execution_count": 7,
   "id": "24c7216e",
   "metadata": {},
   "outputs": [
    {
     "data": {
      "text/plain": [
       "97          I’ve developed healthier exercising habits. \n",
       "59                 I found that the time was beneficial.\n",
       "35                I felt much relief from school stress.\n",
       "67         They helped me destress from school and life.\n",
       "106      It gave me a small break to think about myself.\n",
       "51     It makes me feel healthier and like a more-rou...\n",
       "22     It helped me relax and get away from school an...\n",
       "107    It was nice, but I don’t think it really affec...\n",
       "79     It made me happier when I returned to continue...\n",
       "93     It affected me positively and influenced me to...\n",
       "42     It has allowed me more time to relax so I feel...\n",
       "100    It allowed me to feel good about myself and be...\n",
       "45     The time I spent helped me relax and concentra...\n",
       "65     It helped clear my mind and maintain balance i...\n",
       "91     I was able to focus on myself for a certain am...\n",
       "Name: CPD_Q3, dtype: object"
      ]
     },
     "execution_count": 7,
     "metadata": {},
     "output_type": "execute_result"
    }
   ],
   "source": [
    "data.sort_values(by=['CPD_Q3 Word Count'], ascending=True)['CPD_Q3'].head(15)"
   ]
  },
  {
   "cell_type": "code",
   "execution_count": 8,
   "id": "62bd7139",
   "metadata": {},
   "outputs": [
    {
     "data": {
      "text/plain": [
       "59                               [found, time, benefici]\n",
       "67                        [help, destress, school, life]\n",
       "106                          [gave, small, break, think]\n",
       "100                      [allow, feel, good, compassion]\n",
       "97                  [develop, healthier, exercis, habit]\n",
       "107                [nice, think, realli, affect, overal]\n",
       "35                  [felt, much, relief, school, stress]\n",
       "51          [make, feel, healthier, like, round, person]\n",
       "45           [time, spent, help, relax, concentr, studi]\n",
       "42                [allow, time, relax, feel, le, stress]\n",
       "79         [made, happier, return, continu, studi, work]\n",
       "22                [help, relax, get, away, school, work]\n",
       "91              [abl, focu, certain, amount, time, nice]\n",
       "36     [gave, excus, someth, want, without, feel, gui...\n",
       "63     [allow, focu, thing, neglect, lot, physic, hea...\n",
       "Name: CPD_Q3 Clean, dtype: object"
      ]
     },
     "execution_count": 8,
     "metadata": {},
     "output_type": "execute_result"
    }
   ],
   "source": [
    "data.sort_values(by=['CPD_Q3 Clean Word Count'], ascending=True)['CPD_Q3 Clean'].head(15)"
   ]
  },
  {
   "cell_type": "markdown",
   "id": "3b8c4c14",
   "metadata": {},
   "source": [
    "## Modelling/Tuning (Mostly done with CPD_Q1)"
   ]
  },
  {
   "cell_type": "code",
   "execution_count": 9,
   "id": "7267823c",
   "metadata": {},
   "outputs": [
    {
     "data": {
      "text/plain": [
       "0      [class, time, devot, health, well, self, care,...\n",
       "1      [class, time, devot, health, well, self, care,...\n",
       "2      [class, time, remind, import, self, care, also...\n",
       "3      [class, time, devot, health, well, self, care,...\n",
       "4      [learnt, listen, peopl, without, interrupt, le...\n",
       "                             ...                        \n",
       "102    [past, three, quarter, class, time, devot, hea...\n",
       "103    [wonder, chang, pace, littl, time, especi, dem...\n",
       "104    [mentor, team, discuss, team, professor, help,...\n",
       "106    [person, think, nice, break, could, use, focu,...\n",
       "107    [activ, dislik, content, relat, health, well, ...\n",
       "Name: CPD_Q1 Clean, Length: 104, dtype: object"
      ]
     },
     "execution_count": 9,
     "metadata": {},
     "output_type": "execute_result"
    }
   ],
   "source": [
    "data.head()\n",
    "modelling_data = data[['CPD_Q1 Clean', 'CPD_Q3 Clean']]\n",
    "modelling_data.iloc[:,0]"
   ]
  },
  {
   "cell_type": "code",
   "execution_count": 10,
   "id": "aadd7f74",
   "metadata": {},
   "outputs": [
    {
     "name": "stdout",
     "output_type": "stream",
     "text": [
      "[(0, 2), (1, 2), (2, 1), (3, 1), (4, 1), (5, 1), (6, 1), (7, 1), (8, 1), (9, 1), (10, 1), (11, 1), (12, 1), (13, 1), (14, 1), (15, 1), (16, 1), (17, 1), (18, 1), (19, 1), (20, 1), (21, 2), (22, 1), (23, 1), (24, 1), (25, 1), (26, 1), (27, 2), (28, 1), (29, 1)]\n"
     ]
    }
   ],
   "source": [
    "# Create Corpus\n",
    "Q1_texts = modelling_data.iloc[:, 0]\n",
    "\n",
    "# Create Dictionary\n",
    "id2word = corpora.Dictionary(Q1_texts)\n",
    "\n",
    "\n",
    "# Term Document Frequency\n",
    "corpus = [id2word.doc2bow(text) for text in Q1_texts]\n",
    "\n",
    "# View\n",
    "print(corpus[:1][0][:30])"
   ]
  },
  {
   "cell_type": "code",
   "execution_count": 11,
   "id": "a49c9429",
   "metadata": {},
   "outputs": [],
   "source": [
    "# Build LDA model\n",
    "lda_model = gensim.models.LdaMulticore(corpus=corpus,\n",
    "                                       id2word=id2word,\n",
    "                                       num_topics=10, \n",
    "                                       random_state=100,\n",
    "                                       chunksize=100,\n",
    "                                       passes=10,\n",
    "                                       per_word_topics=True)"
   ]
  },
  {
   "cell_type": "code",
   "execution_count": 12,
   "id": "413d3b45",
   "metadata": {},
   "outputs": [
    {
     "name": "stdout",
     "output_type": "stream",
     "text": [
      "[(0,\n",
      "  '0.034*\"help\" + 0.034*\"time\" + 0.023*\"class\" + 0.019*\"health\" + '\n",
      "  '0.016*\"discuss\" + 0.015*\"u\" + 0.015*\"remind\" + 0.013*\"talk\" + 0.013*\"also\" '\n",
      "  '+ 0.012*\"take\"'),\n",
      " (1,\n",
      "  '0.064*\"time\" + 0.037*\"class\" + 0.034*\"care\" + 0.027*\"take\" + 0.025*\"well\" + '\n",
      "  '0.024*\"health\" + 0.020*\"self\" + 0.018*\"help\" + 0.015*\"mental\" + '\n",
      "  '0.015*\"import\"'),\n",
      " (2,\n",
      "  '0.030*\"time\" + 0.024*\"think\" + 0.023*\"team\" + 0.023*\"help\" + 0.022*\"feel\" + '\n",
      "  '0.020*\"discuss\" + 0.020*\"mentor\" + 0.020*\"allow\" + 0.019*\"well\" + '\n",
      "  '0.017*\"school\"'),\n",
      " (3,\n",
      "  '0.037*\"time\" + 0.028*\"health\" + 0.022*\"well\" + 0.019*\"care\" + '\n",
      "  '0.018*\"stress\" + 0.018*\"class\" + 0.016*\"school\" + 0.015*\"work\" + '\n",
      "  '0.014*\"mental\" + 0.014*\"devot\"'),\n",
      " (4,\n",
      "  '0.030*\"school\" + 0.018*\"lot\" + 0.018*\"differ\" + 0.018*\"mentor\" + '\n",
      "  '0.012*\"care\" + 0.012*\"self\" + 0.012*\"someth\" + 0.012*\"awar\" + 0.012*\"day\" + '\n",
      "  '0.012*\"activ\"'),\n",
      " (5,\n",
      "  '0.028*\"time\" + 0.022*\"also\" + 0.022*\"realli\" + 0.021*\"care\" + '\n",
      "  '0.018*\"person\" + 0.018*\"help\" + 0.018*\"class\" + 0.015*\"think\" + '\n",
      "  '0.014*\"well\" + 0.011*\"take\"'),\n",
      " (6,\n",
      "  '0.038*\"class\" + 0.034*\"time\" + 0.031*\"well\" + 0.021*\"health\" + '\n",
      "  '0.019*\"realli\" + 0.017*\"need\" + 0.017*\"give\" + 0.014*\"help\" + 0.013*\"found\" '\n",
      "  '+ 0.013*\"feel\"'),\n",
      " (7,\n",
      "  '0.019*\"school\" + 0.019*\"help\" + 0.019*\"mentor\" + 0.019*\"feel\" + '\n",
      "  '0.018*\"relax\" + 0.013*\"team\" + 0.013*\"peer\" + 0.013*\"meet\" + 0.013*\"non\" + '\n",
      "  '0.013*\"chanc\"'),\n",
      " (8,\n",
      "  '0.043*\"time\" + 0.014*\"way\" + 0.013*\"also\" + 0.013*\"stress\" + 0.012*\"thing\" '\n",
      "  '+ 0.012*\"class\" + 0.011*\"well\" + 0.010*\"go\" + 0.010*\"good\" + 0.010*\"feel\"'),\n",
      " (9,\n",
      "  '0.036*\"time\" + 0.033*\"health\" + 0.030*\"well\" + 0.022*\"class\" + 0.019*\"care\" '\n",
      "  '+ 0.017*\"self\" + 0.015*\"mental\" + 0.014*\"quarter\" + 0.012*\"devot\" + '\n",
      "  '0.012*\"realli\"')]\n"
     ]
    }
   ],
   "source": [
    "# Print the Keyword in the 10 topics\n",
    "pprint(lda_model.print_topics())\n",
    "doc_lda = lda_model[corpus]"
   ]
  },
  {
   "cell_type": "code",
   "execution_count": 13,
   "id": "2fc15cd3",
   "metadata": {},
   "outputs": [
    {
     "name": "stdout",
     "output_type": "stream",
     "text": [
      "Coherence Score:  0.4083474458202578\n"
     ]
    }
   ],
   "source": [
    "# Compute Coherence Score\n",
    "coherence_model_lda = CoherenceModel(model=lda_model, texts=Q1_texts, dictionary=id2word, coherence='c_v')\n",
    "coherence_lda = coherence_model_lda.get_coherence()\n",
    "print('Coherence Score: ', coherence_lda)"
   ]
  },
  {
   "cell_type": "code",
   "execution_count": 14,
   "id": "f20f0075",
   "metadata": {},
   "outputs": [],
   "source": [
    "# Supporting function\n",
    "def compute_coherence_values(corpus, dictionary, k, a, b, texts):\n",
    "    \n",
    "    lda_model = gensim.models.LdaMulticore(corpus=corpus,\n",
    "                                           id2word=dictionary,\n",
    "                                           num_topics=k, \n",
    "                                           random_state=100,\n",
    "                                           chunksize=100,\n",
    "                                           passes=10,\n",
    "                                           alpha=a,\n",
    "                                           eta=b)\n",
    "    \n",
    "    coherence_model_lda = CoherenceModel(model=lda_model, texts=texts, dictionary=id2word, coherence='c_v')\n",
    "    \n",
    "    return coherence_model_lda.get_coherence()"
   ]
  },
  {
   "cell_type": "code",
   "execution_count": 15,
   "id": "99a62c53",
   "metadata": {},
   "outputs": [],
   "source": [
    "# Set up for modelling\n",
    "\n",
    "grid = {}\n",
    "grid['Validation_Set'] = {}\n",
    "\n",
    "# Topics range\n",
    "min_topics = 2\n",
    "max_topics = 11\n",
    "step_size = 1\n",
    "topics_range = range(min_topics, max_topics, step_size)\n",
    "\n",
    "# Alpha parameter\n",
    "alpha = list(np.arange(0.01, 1, 0.3))\n",
    "alpha.append('symmetric')\n",
    "alpha.append('asymmetric')\n",
    "\n",
    "# Beta parameter\n",
    "beta = list(np.arange(0.01, 1, 0.3))\n",
    "beta.append('symmetric')\n",
    "\n",
    "# Validation sets\n",
    "num_of_docs = len(corpus)\n",
    "corpus_sets = [gensim.utils.ClippedCorpus(corpus, int(num_of_docs*0.75)), \n",
    "               corpus]\n",
    "\n",
    "corpus_title = ['75% Corpus', '100% Corpus']\n",
    "\n",
    "model_results = {'Validation_Set': [],\n",
    "                 'Topics': [],\n",
    "                 'Alpha': [],\n",
    "                 'Beta': [],\n",
    "                 'Coherence': []\n",
    "                }"
   ]
  },
  {
   "cell_type": "code",
   "execution_count": 21,
   "id": "b13a3029",
   "metadata": {},
   "outputs": [
    {
     "data": {
      "text/plain": [
       "\"\\nif 1 == 1:\\n    pbar = tqdm.tqdm(total=(len(beta)*len(alpha)*len(topics_range)*len(corpus_title)))\\n    \\n    # iterate through validation corpuses\\n    for i in range(len(corpus_sets)):\\n        # iterate through number of topics\\n        for k in topics_range:\\n            # iterate through alpha values\\n            for a in alpha:\\n                # iterare through beta values\\n                for b in beta:\\n                    # get the coherence score for the given parameters\\n                    cv = compute_coherence_values(corpus=corpus_sets[i], dictionary=id2word, \\n                                                  k=k, a=a, b=b, texts=Q1_texts)\\n                    # Save the model results\\n                    model_results['Validation_Set'].append(corpus_title[i])\\n                    model_results['Topics'].append(k)\\n                    model_results['Alpha'].append(a)\\n                    model_results['Beta'].append(b)\\n                    model_results['Coherence'].append(cv)\\n                    \\n                    pbar.update(1)\\n    pd.DataFrame(model_results).to_csv('./lda_tuning_results.csv', index=False)\\n    pbar.close()\\n\""
      ]
     },
     "execution_count": 21,
     "metadata": {},
     "output_type": "execute_result"
    }
   ],
   "source": [
    "# DO NOT RUN THIS CELL UNLESS YOU'RE TUNING LDA MODEL FOR <1 HOUR\n",
    "# Can take a long time to run\n",
    "\"\"\"\n",
    "if 1 == 1:\n",
    "    pbar = tqdm.tqdm(total=(len(beta)*len(alpha)*len(topics_range)*len(corpus_title)))\n",
    "    \n",
    "    # iterate through validation corpuses\n",
    "    for i in range(len(corpus_sets)):\n",
    "        # iterate through number of topics\n",
    "        for k in topics_range:\n",
    "            # iterate through alpha values\n",
    "            for a in alpha:\n",
    "                # iterare through beta values\n",
    "                for b in beta:\n",
    "                    # get the coherence score for the given parameters\n",
    "                    cv = compute_coherence_values(corpus=corpus_sets[i], dictionary=id2word, \n",
    "                                                  k=k, a=a, b=b, texts=Q1_texts)\n",
    "                    # Save the model results\n",
    "                    model_results['Validation_Set'].append(corpus_title[i])\n",
    "                    model_results['Topics'].append(k)\n",
    "                    model_results['Alpha'].append(a)\n",
    "                    model_results['Beta'].append(b)\n",
    "                    model_results['Coherence'].append(cv)\n",
    "                    \n",
    "                    pbar.update(1)\n",
    "    pd.DataFrame(model_results).to_csv('./lda_tuning_results.csv', index=False)\n",
    "    pbar.close()\n",
    "\"\"\""
   ]
  },
  {
   "cell_type": "code",
   "execution_count": 22,
   "id": "8143c2c2",
   "metadata": {},
   "outputs": [],
   "source": [
    "# This was done separately since there was an error in the code above\n",
    "# WILL NOT WORK SINCE MODEL_RESULTS IS UNDEFINED\n",
    "\n",
    "#pd.DataFrame(model_results).to_csv('./lda_tuning_results.csv', index=False)"
   ]
  },
  {
   "cell_type": "code",
   "execution_count": 24,
   "id": "b5381f86",
   "metadata": {},
   "outputs": [
    {
     "name": "stdout",
     "output_type": "stream",
     "text": [
      "0.6837747574533245\n"
     ]
    }
   ],
   "source": [
    "# Computing coherenence values takes ~11 seconds (Locally for James)\n",
    "# Computing coherence value with optimal parameters from tuning\n",
    "cv = compute_coherence_values(corpus=corpus_sets[1], dictionary=id2word, k=8, a=0.61, b=0.91, texts=Q1_texts)\n",
    "print(cv)"
   ]
  },
  {
   "cell_type": "code",
   "execution_count": 19,
   "id": "00edded8",
   "metadata": {},
   "outputs": [
    {
     "ename": "NameError",
     "evalue": "name 'Q3_texts' is not defined",
     "output_type": "error",
     "traceback": [
      "\u001b[1;31m---------------------------------------------------------------------------\u001b[0m",
      "\u001b[1;31mNameError\u001b[0m                                 Traceback (most recent call last)",
      "Cell \u001b[1;32mIn[19], line 3\u001b[0m\n\u001b[0;32m      1\u001b[0m \u001b[38;5;66;03m#Try Q3_texts using the same parameters \u001b[39;00m\n\u001b[0;32m      2\u001b[0m \u001b[38;5;66;03m# MOST OF MODELLING SET UP WAS USED WITH Q1_TEXTS, NEED TO SET UP FOR Q3_TEXTS FIRST!!!\u001b[39;00m\n\u001b[1;32m----> 3\u001b[0m cv \u001b[38;5;241m=\u001b[39m compute_coherence_values(corpus\u001b[38;5;241m=\u001b[39mcorpus_sets[\u001b[38;5;241m1\u001b[39m], dictionary\u001b[38;5;241m=\u001b[39mid2word, k\u001b[38;5;241m=\u001b[39m\u001b[38;5;241m8\u001b[39m, a\u001b[38;5;241m=\u001b[39m\u001b[38;5;241m0.61\u001b[39m, b\u001b[38;5;241m=\u001b[39m\u001b[38;5;241m0.91\u001b[39m, texts\u001b[38;5;241m=\u001b[39m\u001b[43mQ3_texts\u001b[49m)\n\u001b[0;32m      4\u001b[0m \u001b[38;5;28mprint\u001b[39m(cv)\n",
      "\u001b[1;31mNameError\u001b[0m: name 'Q3_texts' is not defined"
     ]
    }
   ],
   "source": [
    "#Try Q3_texts using the same parameters \n",
    "# MOST OF MODELLING SET UP WAS USED WITH Q1_TEXTS, NEED TO SET UP FOR Q3_TEXTS FIRST!!!\n",
    "cv = compute_coherence_values(corpus=corpus_sets[1], dictionary=id2word, k=8, a=0.61, b=0.91, texts=Q3_texts)\n",
    "print(cv)"
   ]
  },
  {
   "cell_type": "code",
   "execution_count": 27,
   "id": "c5da532b",
   "metadata": {},
   "outputs": [
    {
     "data": {
      "text/html": [
       "<div>\n",
       "<style scoped>\n",
       "    .dataframe tbody tr th:only-of-type {\n",
       "        vertical-align: middle;\n",
       "    }\n",
       "\n",
       "    .dataframe tbody tr th {\n",
       "        vertical-align: top;\n",
       "    }\n",
       "\n",
       "    .dataframe thead th {\n",
       "        text-align: right;\n",
       "    }\n",
       "</style>\n",
       "<table border=\"1\" class=\"dataframe\">\n",
       "  <thead>\n",
       "    <tr style=\"text-align: right;\">\n",
       "      <th></th>\n",
       "      <th>Validation_Set</th>\n",
       "      <th>Topics</th>\n",
       "      <th>Alpha</th>\n",
       "      <th>Beta</th>\n",
       "      <th>Coherence</th>\n",
       "    </tr>\n",
       "  </thead>\n",
       "  <tbody>\n",
       "    <tr>\n",
       "      <th>463</th>\n",
       "      <td>100% Corpus</td>\n",
       "      <td>8</td>\n",
       "      <td>0.61</td>\n",
       "      <td>0.9099999999999999</td>\n",
       "      <td>0.683775</td>\n",
       "    </tr>\n",
       "    <tr>\n",
       "      <th>493</th>\n",
       "      <td>100% Corpus</td>\n",
       "      <td>9</td>\n",
       "      <td>0.61</td>\n",
       "      <td>0.9099999999999999</td>\n",
       "      <td>0.677629</td>\n",
       "    </tr>\n",
       "    <tr>\n",
       "      <th>133</th>\n",
       "      <td>75% Corpus</td>\n",
       "      <td>6</td>\n",
       "      <td>0.61</td>\n",
       "      <td>0.9099999999999999</td>\n",
       "      <td>0.669763</td>\n",
       "    </tr>\n",
       "    <tr>\n",
       "      <th>268</th>\n",
       "      <td>75% Corpus</td>\n",
       "      <td>10</td>\n",
       "      <td>asymmetric</td>\n",
       "      <td>0.9099999999999999</td>\n",
       "      <td>0.644418</td>\n",
       "    </tr>\n",
       "    <tr>\n",
       "      <th>238</th>\n",
       "      <td>75% Corpus</td>\n",
       "      <td>9</td>\n",
       "      <td>asymmetric</td>\n",
       "      <td>0.9099999999999999</td>\n",
       "      <td>0.624758</td>\n",
       "    </tr>\n",
       "  </tbody>\n",
       "</table>\n",
       "</div>"
      ],
      "text/plain": [
       "    Validation_Set  Topics       Alpha                Beta  Coherence\n",
       "463    100% Corpus       8        0.61  0.9099999999999999   0.683775\n",
       "493    100% Corpus       9        0.61  0.9099999999999999   0.677629\n",
       "133     75% Corpus       6        0.61  0.9099999999999999   0.669763\n",
       "268     75% Corpus      10  asymmetric  0.9099999999999999   0.644418\n",
       "238     75% Corpus       9  asymmetric  0.9099999999999999   0.624758"
      ]
     },
     "execution_count": 27,
     "metadata": {},
     "output_type": "execute_result"
    }
   ],
   "source": [
    "# Below results were obtained on February 1, 2024, at ~2:05 AM\n",
    "# Note: Alpha and Beta columns are STRING values\n",
    "results = pd.read_csv(\"lda_tuning_results.csv\")\n",
    "results.sort_values(by=['Coherence'], ascending=False).head()"
   ]
  },
  {
   "cell_type": "markdown",
   "id": "08a472c0",
   "metadata": {},
   "source": [
    "After tuning the LDA parameters for ~53 minutes with 540 parameter variations, we found that our maximum Coherence score was about 0.683 given the following optimal parameters:\n",
    "\n",
    "Validation_Set - 100% Corpus <br/>\n",
    "Topics - 8 <br/>\n",
    "Alpha - 0.61 <br/>\n",
    "Beta - 0.91 <br/>"
   ]
  },
  {
   "cell_type": "markdown",
   "id": "71cc2215",
   "metadata": {},
   "source": [
    "## Investigating Results"
   ]
  },
  {
   "cell_type": "code",
   "execution_count": 58,
   "id": "6fce24f1",
   "metadata": {},
   "outputs": [
    {
     "data": {
      "text/plain": [
       "Text(0.5, 1.0, 'Distribution of coherence scores')"
      ]
     },
     "execution_count": 58,
     "metadata": {},
     "output_type": "execute_result"
    },
    {
     "data": {
      "image/png": "[encoded data removed]",
      "text/plain": [
       "<Figure size 640x480 with 1 Axes>"
      ]
     },
     "metadata": {},
     "output_type": "display_data"
    }
   ],
   "source": [
    "sns.histplot(data=results, x=\"Coherence\")\n",
    "plt.title(\"Distribution of coherence scores\")"
   ]
  },
  {
   "cell_type": "code",
   "execution_count": 71,
   "id": "0277ed7b",
   "metadata": {},
   "outputs": [
    {
     "data": {
      "text/plain": [
       "Text(0, 0.5, 'Coherence Score')"
      ]
     },
     "execution_count": 71,
     "metadata": {},
     "output_type": "execute_result"
    },
    {
     "data": {
      "image/png": "[encoded data removed]",
      "text/plain": [
       "<Figure size 640x480 with 1 Axes>"
      ]
     },
     "metadata": {},
     "output_type": "display_data"
    }
   ],
   "source": [
    "coherences_with_optimal_vs_a_b = results[(results[\"Alpha\"] == \"0.61\") & (results[\"Validation_Set\"] == \"100% Corpus\") & (results[\"Beta\"].str.contains(\"0.909\"))]\n",
    "\n",
    "\n",
    "sns.lineplot(data=coherences_with_optimal_vs_a_b, x='Topics', y='Coherence', marker='o')\n",
    "\n",
    "plt.title(\"Coherence scores given optimal parameters (Except # of Topics)\")\n",
    "plt.xlabel(\"Number of Topics\")\n",
    "plt.ylabel(\"Coherence Score\")"
   ]
  },
  {
   "cell_type": "markdown",
   "id": "d71abfe7",
   "metadata": {},
   "source": [
    "## Final Model"
   ]
  },
  {
   "cell_type": "code",
   "execution_count": 102,
   "id": "abfe144d",
   "metadata": {},
   "outputs": [
    {
     "data": {
      "text/plain": [
       "[(0,\n",
       "  '0.004*\"discuss\" + 0.003*\"help\" + 0.003*\"open\" + 0.003*\"util\" + 0.003*\"wednesday\" + 0.003*\"awar\" + 0.003*\"group\" + 0.003*\"often\" + 0.003*\"new\" + 0.003*\"convers\"'),\n",
       " (1,\n",
       "  '0.051*\"time\" + 0.027*\"class\" + 0.025*\"care\" + 0.024*\"health\" + 0.024*\"well\" + 0.017*\"self\" + 0.017*\"take\" + 0.013*\"help\" + 0.013*\"mental\" + 0.011*\"devot\"'),\n",
       " (2,\n",
       "  '0.018*\"time\" + 0.016*\"help\" + 0.015*\"mentor\" + 0.015*\"team\" + 0.014*\"think\" + 0.014*\"discuss\" + 0.014*\"school\" + 0.013*\"feel\" + 0.012*\"well\" + 0.012*\"class\"'),\n",
       " (3,\n",
       "  '0.004*\"week\" + 0.003*\"sometim\" + 0.003*\"togeth\" + 0.003*\"wip\" + 0.003*\"nice\" + 0.003*\"everi\" + 0.003*\"lot\" + 0.003*\"high\" + 0.003*\"extra\" + 0.003*\"thought\"'),\n",
       " (4,\n",
       "  '0.004*\"would\" + 0.004*\"learnt\" + 0.003*\"give\" + 0.003*\"tri\" + 0.003*\"without\" + 0.003*\"listen\" + 0.003*\"like\" + 0.003*\"put\" + 0.003*\"relat\" + 0.003*\"interrupt\"'),\n",
       " (5,\n",
       "  '0.005*\"also\" + 0.004*\"professor\" + 0.004*\"made\" + 0.004*\"awar\" + 0.003*\"appreci\" + 0.003*\"belong\" + 0.003*\"care\" + 0.003*\"abl\" + 0.003*\"definit\" + 0.003*\"behind\"'),\n",
       " (6,\n",
       "  '0.012*\"habit\" + 0.007*\"found\" + 0.007*\"last\" + 0.006*\"one\" + 0.006*\"team\" + 0.006*\"color\" + 0.005*\"well\" + 0.005*\"someth\" + 0.005*\"paracord\" + 0.005*\"mentor\"'),\n",
       " (7,\n",
       "  '0.002*\"time\" + 0.002*\"help\" + 0.002*\"class\" + 0.002*\"well\" + 0.002*\"care\" + 0.002*\"health\" + 0.002*\"feel\" + 0.002*\"take\" + 0.002*\"also\" + 0.002*\"school\"')]"
      ]
     },
     "execution_count": 102,
     "metadata": {},
     "output_type": "execute_result"
    }
   ],
   "source": [
    "final_lda_model = gensim.models.LdaMulticore(corpus=corpus,\n",
    "                                           id2word=id2word,\n",
    "                                           num_topics=8, \n",
    "                                           random_state=100,\n",
    "                                           chunksize=100,\n",
    "                                           passes=10,\n",
    "                                           alpha=0.61,\n",
    "                                           eta=0.91)\n",
    "\n",
    "final_lda_model.print_topics()\n",
    "#coherence_model_lda = CoherenceModel(model=final_lda_model, texts=Q1_texts, dictionary=id2word, coherence='c_v')\n",
    "#print(coherence_model_lda.get_coherence())\n",
    "#doc_lda = final_lda_model[corpus] # I don't know what this is / it's never used                                   "
   ]
  },
  {
   "cell_type": "code",
   "execution_count": 88,
   "id": "c7bfe7af",
   "metadata": {},
   "outputs": [
    {
     "ename": "FileNotFoundError",
     "evalue": "[Errno 2] No such file or directory: './ldavis_tuned_8'",
     "output_type": "error",
     "traceback": [
      "\u001b[1;31m---------------------------------------------------------------------------\u001b[0m",
      "\u001b[1;31mFileNotFoundError\u001b[0m                         Traceback (most recent call last)",
      "Cell \u001b[1;32mIn[88], line 19\u001b[0m\n\u001b[0;32m     16\u001b[0m         pickle\u001b[38;5;241m.\u001b[39mdump(LDAvis_prepared, f)\n\u001b[0;32m     18\u001b[0m \u001b[38;5;66;03m# load the pre-prepared pyLDAvis data from disk\u001b[39;00m\n\u001b[1;32m---> 19\u001b[0m \u001b[38;5;28;01mwith\u001b[39;00m \u001b[38;5;28;43mopen\u001b[39;49m\u001b[43m(\u001b[49m\u001b[43mLDAvis_data_filepath\u001b[49m\u001b[43m,\u001b[49m\u001b[43m \u001b[49m\u001b[38;5;124;43m'\u001b[39;49m\u001b[38;5;124;43mrb\u001b[39;49m\u001b[38;5;124;43m'\u001b[39;49m\u001b[43m)\u001b[49m \u001b[38;5;28;01mas\u001b[39;00m f:\n\u001b[0;32m     20\u001b[0m     LDAvis_prepared \u001b[38;5;241m=\u001b[39m pickle\u001b[38;5;241m.\u001b[39mload(f)\n\u001b[0;32m     22\u001b[0m pyLDAvis\u001b[38;5;241m.\u001b[39msave_html(LDAvis_prepared, \u001b[38;5;124m'\u001b[39m\u001b[38;5;124m./results/ldavis_tuned_\u001b[39m\u001b[38;5;124m'\u001b[39m\u001b[38;5;241m+\u001b[39m \u001b[38;5;28mstr\u001b[39m(\u001b[38;5;241m8\u001b[39m) \u001b[38;5;241m+\u001b[39m\u001b[38;5;124m'\u001b[39m\u001b[38;5;124m.html\u001b[39m\u001b[38;5;124m'\u001b[39m)\n",
      "File \u001b[1;32mc:\\Users\\jergx\\anaconda3\\lib\\site-packages\\IPython\\core\\interactiveshell.py:282\u001b[0m, in \u001b[0;36m_modified_open\u001b[1;34m(file, *args, **kwargs)\u001b[0m\n\u001b[0;32m    275\u001b[0m \u001b[38;5;28;01mif\u001b[39;00m file \u001b[38;5;129;01min\u001b[39;00m {\u001b[38;5;241m0\u001b[39m, \u001b[38;5;241m1\u001b[39m, \u001b[38;5;241m2\u001b[39m}:\n\u001b[0;32m    276\u001b[0m     \u001b[38;5;28;01mraise\u001b[39;00m \u001b[38;5;167;01mValueError\u001b[39;00m(\n\u001b[0;32m    277\u001b[0m         \u001b[38;5;124mf\u001b[39m\u001b[38;5;124m\"\u001b[39m\u001b[38;5;124mIPython won\u001b[39m\u001b[38;5;124m'\u001b[39m\u001b[38;5;124mt let you open fd=\u001b[39m\u001b[38;5;132;01m{\u001b[39;00mfile\u001b[38;5;132;01m}\u001b[39;00m\u001b[38;5;124m by default \u001b[39m\u001b[38;5;124m\"\u001b[39m\n\u001b[0;32m    278\u001b[0m         \u001b[38;5;124m\"\u001b[39m\u001b[38;5;124mas it is likely to crash IPython. If you know what you are doing, \u001b[39m\u001b[38;5;124m\"\u001b[39m\n\u001b[0;32m    279\u001b[0m         \u001b[38;5;124m\"\u001b[39m\u001b[38;5;124myou can use builtins\u001b[39m\u001b[38;5;124m'\u001b[39m\u001b[38;5;124m open.\u001b[39m\u001b[38;5;124m\"\u001b[39m\n\u001b[0;32m    280\u001b[0m     )\n\u001b[1;32m--> 282\u001b[0m \u001b[38;5;28;01mreturn\u001b[39;00m io_open(file, \u001b[38;5;241m*\u001b[39margs, \u001b[38;5;241m*\u001b[39m\u001b[38;5;241m*\u001b[39mkwargs)\n",
      "\u001b[1;31mFileNotFoundError\u001b[0m: [Errno 2] No such file or directory: './ldavis_tuned_8'"
     ]
    }
   ],
   "source": [
    "# STILL BROKEN\n",
    "\n",
    "import pyLDAvis.gensim_models as gensimvis\n",
    "import pickle \n",
    "import pyLDAvis\n",
    "import os\n",
    "\n",
    "# Visualize the topics\n",
    "pyLDAvis.enable_notebook()\n",
    "\n",
    "LDAvis_data_filepath = os.path.join('./ldavis_tuned_'+str(8))\n",
    "\n",
    "# # this is a bit time consuming - make the if statement True\n",
    "# # if you want to execute visualization prep yourself\n",
    "if False:\n",
    "    LDAvis_prepared = gensimvis.prepare(final_lda_model, corpus, id2word)\n",
    "    with open(LDAvis_data_filepath, 'wb') as f:\n",
    "        pickle.dump(LDAvis_prepared, f)\n",
    "\n",
    "# load the pre-prepared pyLDAvis data from disk\n",
    "with open(LDAvis_data_filepath, 'rb') as f:\n",
    "    LDAvis_prepared = pickle.load(f)\n",
    "\n",
    "pyLDAvis.save_html(LDAvis_prepared, './results/ldavis_tuned_'+ str(8) +'.html')\n",
    "\n",
    "LDAvis_prepared"
   ]
  },
  {
   "cell_type": "markdown",
   "id": "3bcb884a",
   "metadata": {},
   "source": [
    "## Miscellaneous"
   ]
  },
  {
   "cell_type": "code",
   "execution_count": 38,
   "id": "a6a1d556",
   "metadata": {},
   "outputs": [],
   "source": [
    "'''\n",
    "Potential stop words to include considering the context\n",
    "of our project\n",
    "'''\n",
    "\n",
    "# stopwords.append('pharmacy')\n",
    "# stopwords.append('pharmacist')\n",
    "# stopwords.append('pharmacists')\n",
    "# stopwords.append('health')\n",
    "# stopwords.append('healthcare')\n",
    "# stopwords.append('practitioner')\n",
    "# stopwords.append('mental')\n",
    "# stopwords.append('wellness')\n",
    "# stopwords.append('self-care')\n",
    "# stopwords.append('mentor')\n",
    "# stopwords.append('WIP')\n",
    "# stopwords.append('class')\n",
    "# stopwords.append('school')\n",
    "# stopwords.append('peers')\n",
    "# stopwords.append('classmates')\n",
    "# stopwords.append('quarter')\n",
    "# stopwords.append('spring')\n",
    "# stopwords.append('winter')\n",
    "# stopwords.append('fall')\n",
    "\n",
    "None"
   ]
  },
  {
   "cell_type": "code",
   "execution_count": 39,
   "id": "a9a1dfa2",
   "metadata": {},
   "outputs": [],
   "source": [
    "# Split Q1 and Q3 into different dfs\n",
    "'''\n",
    "data_Q1 = data[[\"CPD_Q1\"]]\n",
    "data_Q1 = data_Q1.astype(str)\n",
    "\n",
    "data_Q3 = data[[\"CPD_Q3\"]]\n",
    "data_Q3 = data_Q3.astype(str)\n",
    "'''\n",
    "\n",
    "None"
   ]
  },
  {
   "cell_type": "code",
   "execution_count": null,
   "id": "dde6dc6f",
   "metadata": {},
   "outputs": [],
   "source": []
  }
 ],
 "metadata": {
  "kernelspec": {
   "display_name": "Python 3 (ipykernel)",
   "language": "python",
   "name": "python3"
  },
  "language_info": {
   "codemirror_mode": {
    "name": "ipython",
    "version": 3
   },
   "file_extension": ".py",
   "mimetype": "text/x-python",
   "name": "python",
   "nbconvert_exporter": "python",
   "pygments_lexer": "ipython3",
   "version": "3.10.9"
  }
 },
 "nbformat": 4,
 "nbformat_minor": 5
}
